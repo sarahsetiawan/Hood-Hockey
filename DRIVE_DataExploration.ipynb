{
 "cells": [
  {
   "cell_type": "markdown",
   "metadata": {},
   "source": [
    "# DRIVE DATA EXPLORATION"
   ]
  },
  {
   "cell_type": "code",
   "execution_count": null,
   "metadata": {},
   "outputs": [],
   "source": [
    "import os\n",
    "import pandas as pd\n",
    "import json"
   ]
  },
  {
   "cell_type": "code",
   "execution_count": 5,
   "metadata": {},
   "outputs": [],
   "source": [
    "json_file_path = '/Users/sarahsetiawan/Desktop/CSCAPSTONE/HOCKEYDATA/tracking_data/SC700002NCAHOPUN240930SK.json'\n",
    "\n",
    "if os.path.exists(json_file_path):\n",
    "    with open(json_file_path, 'r') as file:\n",
    "        data = json.load(file)\n",
    "        df = pd.DataFrame(data)\n",
    "        df.head()\n",
    "else:\n",
    "    print(f\"File not found: {json_file_path}\")"
   ]
  },
  {
   "cell_type": "code",
   "execution_count": 9,
   "metadata": {},
   "outputs": [
    {
     "data": {
      "text/plain": [
       "tagId                object\n",
       "timestamp             int64\n",
       "x                   float64\n",
       "y                   float64\n",
       "vx                  float64\n",
       "vy                  float64\n",
       "q                     int64\n",
       "superframe            int64\n",
       "speed               float64\n",
       "acceleration        float64\n",
       "ax                  float64\n",
       "ay                  float64\n",
       "totalDistance       float64\n",
       "displacement        float64\n",
       "playerId             object\n",
       "gameStatus           object\n",
       "skatingAngle        float64\n",
       "speedUp                bool\n",
       "zone                 object\n",
       "playingPosition      object\n",
       "speedDown_end          bool\n",
       "speedUp_start          bool\n",
       "team                 object\n",
       "gap                    bool\n",
       "curvature           float64\n",
       "radius_curvature    float64\n",
       "a_tot               float64\n",
       "a_centripetal       float64\n",
       "g_force             float64\n",
       "lean                float64\n",
       "skatingEdge          object\n",
       "g_force_avg         float64\n",
       "g_force_peak           bool\n",
       "deaccel                bool\n",
       "sustained_speed     float64\n",
       "anomaly               int64\n",
       "playerShift          object\n",
       "playerShiftNum        int64\n",
       "toi                 float64\n",
       "dtype: object"
      ]
     },
     "execution_count": 9,
     "metadata": {},
     "output_type": "execute_result"
    }
   ],
   "source": [
    "df.dtypes"
   ]
  },
  {
   "cell_type": "code",
   "execution_count": null,
   "metadata": {},
   "outputs": [
    {
     "name": "stdout",
     "output_type": "stream",
     "text": [
      "File not found: tracking_data/SC700002NCAHOPUN240930SK.json\n",
      "File not found: tracking_data/SC700003NCAHOPUN241002SK.json\n",
      "File not found: tracking_data/SC700005NCAHOPUN241008SK.json\n",
      "File not found: tracking_data/SC700006NCAHOCUN241008SK.json\n"
     ]
    }
   ],
   "source": [
    "# Update the json_files list to include files from the tracking_data folder\n",
    "json_files = ['tracking_data/SC700002NCAHOPUN240930SK.json', \n",
    "              'tracking_data/SC700003NCAHOPUN241002SK.json', \n",
    "              'tracking_data/SC700005NCAHOPUN241008SK.json', \n",
    "              'tracking_data/SC700006NCAHOCUN241008SK.json']\n",
    "\n",
    "# Create a dictionary to store DataFrames\n",
    "dataframes = {}\n",
    "\n",
    "# Read each JSON file and create a DataFrame\n",
    "for json_file in json_files:\n",
    "    if os.path.exists(json_file):\n",
    "        with open(json_file, 'r') as file:\n",
    "            data = json.load(file)\n",
    "            df = pd.DataFrame(data)\n",
    "            dataframes[json_file] = df\n",
    "    else:\n",
    "        print(f\"File not found: {json_file}\")\n",
    "\n",
    "# Print the DataFrames\n",
    "for file_name, df in dataframes.items():\n",
    "    print(f\"DataFrame for {file_name}:\")\n",
    "    print(df)"
   ]
  },
  {
   "cell_type": "code",
   "execution_count": null,
   "metadata": {},
   "outputs": [
    {
     "name": "stdout",
     "output_type": "stream",
     "text": [
      "File not found: data/drive/SC700002NCAHOPUN240930SK.json\n",
      "File not found: data/drive/SC700003NCAHOPUN241002SK.json\n",
      "File not found: data/drive/SC700005NCAHOPUN241008SK.json\n",
      "File not found: data/drive/SC700006NCAHOCUN241008SK.json\n"
     ]
    }
   ],
   "source": [
    "import pandas as pd\n",
    "import json\n",
    "import os\n",
    "\n",
    "\n",
    "# Create a dictionary to store DataFrames\n",
    "dataframes = {}\n",
    "\n",
    "# Read each JSON file and create a DataFrame\n",
    "for json_file in json_files:\n",
    "    if os.path.exists(json_file):\n",
    "        with open(json_file, 'r') as file:\n",
    "            data = json.load(file)\n",
    "            df = pd.DataFrame(data)\n",
    "            dataframes[json_file] = df\n",
    "    else:\n",
    "        print(f\"File not found: {json_file}\")\n",
    "\n",
    "# Print the DataFrames\n",
    "for file_name, df in dataframes.items():\n",
    "    print(f\"DataFrame for {file_name}:\")\n",
    "    print(df)"
   ]
  }
 ],
 "metadata": {
  "kernelspec": {
   "display_name": "working",
   "language": "python",
   "name": "python3"
  },
  "language_info": {
   "codemirror_mode": {
    "name": "ipython",
    "version": 3
   },
   "file_extension": ".py",
   "mimetype": "text/x-python",
   "name": "python",
   "nbconvert_exporter": "python",
   "pygments_lexer": "ipython3",
   "version": "3.11.11"
  }
 },
 "nbformat": 4,
 "nbformat_minor": 2
}
