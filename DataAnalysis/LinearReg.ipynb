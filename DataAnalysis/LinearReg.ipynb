{
 "cells": [
  {
   "cell_type": "code",
   "execution_count": 1,
   "id": "c5eb3e8b",
   "metadata": {},
   "outputs": [],
   "source": [
    "from sklearn.decomposition import PCA\n",
    "from sklearn.preprocessing import StandardScaler"
   ]
  },
  {
   "cell_type": "code",
   "execution_count": 2,
   "id": "bff3fcba",
   "metadata": {},
   "outputs": [],
   "source": [
    "import pandas as pd\n",
    "import numpy as np\n",
    "import joblib\n",
    "import plotly.express as px\n",
    "import os\n",
    "import polars as pl\n",
    "import glob\n",
    "from IPython.display import display, HTML\n",
    "from sklearn.linear_model import LinearRegression\n",
    "from sklearn.model_selection import KFold, cross_val_score\n",
    "from sklearn.metrics import accuracy_score, confusion_matrix"
   ]
  },
  {
   "cell_type": "code",
   "execution_count": 3,
   "id": "3201cbd5",
   "metadata": {},
   "outputs": [],
   "source": [
    "import matplotlib.pyplot as plt"
   ]
  },
  {
   "cell_type": "code",
   "execution_count": 4,
   "id": "3e62564e",
   "metadata": {},
   "outputs": [
    {
     "data": {
      "text/html": [
       "<table border=\"1\" class=\"dataframe\">\n",
       "  <thead>\n",
       "    <tr style=\"text-align: right;\">\n",
       "      <th>Shirt number</th>\n",
       "      <th>Player</th>\n",
       "      <th>Position</th>\n",
       "      <th>Games played</th>\n",
       "      <th>All shifts</th>\n",
       "      <th>Goals</th>\n",
       "      <th>First assist</th>\n",
       "      <th>Second assist</th>\n",
       "      <th>Assists</th>\n",
       "      <th>Points</th>\n",
       "      <th>+/-</th>\n",
       "      <th>Scoring chances</th>\n",
       "      <th>Penalties drawn</th>\n",
       "      <th>Faceoffs</th>\n",
       "      <th>Faceoffs won</th>\n",
       "      <th>Faceoffs won, %</th>\n",
       "      <th>Hits</th>\n",
       "      <th>Shots</th>\n",
       "      <th>Shots on goal</th>\n",
       "      <th>Blocked shots</th>\n",
       "      <th>Power play shots</th>\n",
       "      <th>Short-handed shots</th>\n",
       "      <th>Passes to the slot</th>\n",
       "      <th>Faceoffs in DZ</th>\n",
       "      <th>Faceoffs won in DZ</th>\n",
       "      <th>Faceoffs won in DZ, %</th>\n",
       "      <th>Faceoffs in NZ</th>\n",
       "      <th>Faceoffs won in NZ</th>\n",
       "      <th>Faceoffs won in NZ, %</th>\n",
       "      <th>Faceoffs in OZ</th>\n",
       "      <th>Faceoffs won in OZ</th>\n",
       "      <th>Faceoffs won in OZ, %</th>\n",
       "      <th>Puck touches</th>\n",
       "      <th>Plus</th>\n",
       "      <th>Minus</th>\n",
       "      <th>Penalties</th>\n",
       "      <th>Faceoffs lost</th>\n",
       "      <th>Hits against</th>\n",
       "      <th>Error leading to goal</th>\n",
       "      <th>Dump ins</th>\n",
       "      <th>Dump outs</th>\n",
       "      <th>Team goals when on ice</th>\n",
       "      <th>Opponent's goals when on ice</th>\n",
       "      <th>Power play</th>\n",
       "      <th>Successful power play</th>\n",
       "      <th>Short-handed</th>\n",
       "      <th>Penalty killing</th>\n",
       "      <th>Missed shots</th>\n",
       "      <th>% shots on goal</th>\n",
       "      <th>Slapshot</th>\n",
       "      <th>Wrist shot</th>\n",
       "      <th>Shootouts</th>\n",
       "      <th>Shootouts scored</th>\n",
       "      <th>Shootouts missed</th>\n",
       "      <th>1-on-1 shots</th>\n",
       "      <th>1-on-1 goals</th>\n",
       "      <th>Shots conversion 1 on 1, %</th>\n",
       "      <th>Positional attack shots</th>\n",
       "      <th>Shots 5 v 5</th>\n",
       "      <th>Counter-attack shots</th>\n",
       "      <th>xG per shot</th>\n",
       "      <th>xG (Expected goals)</th>\n",
       "      <th>xG per goal</th>\n",
       "      <th>Net xG (xG player on - opp. team's xG)</th>\n",
       "      <th>Team xG when on ice</th>\n",
       "      <th>Opponent's xG when on ice</th>\n",
       "      <th>xG conversion</th>\n",
       "      <th>CORSI</th>\n",
       "      <th>CORSI-</th>\n",
       "      <th>CORSI+</th>\n",
       "      <th>CORSI for, %</th>\n",
       "      <th>Fenwick for</th>\n",
       "      <th>Fenwick against</th>\n",
       "      <th>Fenwick for, %</th>\n",
       "      <th>Puck battles</th>\n",
       "      <th>Puck battles won</th>\n",
       "      <th>Puck battles won, %</th>\n",
       "      <th>Puck battles in DZ</th>\n",
       "      <th>Puck battles in NZ</th>\n",
       "      <th>Puck battles in OZ</th>\n",
       "      <th>Shots blocking</th>\n",
       "      <th>Dekes</th>\n",
       "      <th>Dekes successful</th>\n",
       "      <th>Dekes unsuccessful</th>\n",
       "      <th>Dekes successful, %</th>\n",
       "      <th>Passes</th>\n",
       "      <th>Accurate passes</th>\n",
       "      <th>Accurate passes, %</th>\n",
       "      <th>Pre-shots passes</th>\n",
       "      <th>Pass receptions</th>\n",
       "      <th>Scoring chances - total</th>\n",
       "      <th>Scoring chances - scored</th>\n",
       "      <th>Scoring chances missed</th>\n",
       "      <th>Scoring chances saved</th>\n",
       "      <th>Scoring Chances, %</th>\n",
       "      <th>Inner slot shots - total</th>\n",
       "      <th>Inner slot shots - scored</th>\n",
       "      <th>Inner slot shots - missed</th>\n",
       "      <th>Inner slot shots - saved</th>\n",
       "      <th>Inner slot shots, %</th>\n",
       "      <th>Outer slot shots - total</th>\n",
       "      <th>Outer slot shots - scored</th>\n",
       "      <th>Outer slot shots - missed</th>\n",
       "      <th>Outer slot shots - saved</th>\n",
       "      <th>Outer slot shots, %</th>\n",
       "      <th>Blocked shots from the slot</th>\n",
       "      <th>Blocked shots outside of the slot</th>\n",
       "      <th>Takeaways</th>\n",
       "      <th>Puck retrievals after shots</th>\n",
       "      <th>Opponent’s dump-in retrievals</th>\n",
       "      <th>Takeaways in DZ</th>\n",
       "      <th>Loose puck recovery</th>\n",
       "      <th>Takeaways in NZ</th>\n",
       "      <th>Takeaways in OZ</th>\n",
       "      <th>EV DZ retrievals</th>\n",
       "      <th>Puck losses</th>\n",
       "      <th>Puck losses in DZ</th>\n",
       "      <th>EV OZ retrievals</th>\n",
       "      <th>Puck losses in NZ</th>\n",
       "      <th>Power play retrievals</th>\n",
       "      <th>Penalty kill retrievals</th>\n",
       "      <th>Puck losses in OZ</th>\n",
       "      <th>Entries</th>\n",
       "      <th>Entries via pass</th>\n",
       "      <th>Entries via dump in</th>\n",
       "      <th>Entries via stickhandling</th>\n",
       "      <th>Breakouts</th>\n",
       "      <th>Breakouts via pass</th>\n",
       "      <th>Breakouts via dump out</th>\n",
       "      <th>Breakouts via stickhandling</th>\n",
       "      <th>National team</th>\n",
       "      <th>Height</th>\n",
       "      <th>Weight</th>\n",
       "      <th>Contract</th>\n",
       "      <th>Active hand</th>\n",
       "      <th>Type</th>\n",
       "      <th>Time on ice_minutes</th>\n",
       "      <th>Time on ice_seconds</th>\n",
       "      <th>Penalty time_minutes</th>\n",
       "      <th>Penalty time_seconds</th>\n",
       "      <th>Puck control time_minutes</th>\n",
       "      <th>Puck control time_seconds</th>\n",
       "      <th>Power play time_minutes</th>\n",
       "      <th>Power play time_seconds</th>\n",
       "      <th>Short-handed time_minutes</th>\n",
       "      <th>Short-handed time_seconds</th>\n",
       "      <th>Playing in attack_minutes</th>\n",
       "      <th>Playing in attack_seconds</th>\n",
       "      <th>Playing in defense_minutes</th>\n",
       "      <th>Playing in defense_seconds</th>\n",
       "      <th>OZ possession_minutes</th>\n",
       "      <th>OZ possession_seconds</th>\n",
       "      <th>NZ possession_minutes</th>\n",
       "      <th>NZ possession_seconds</th>\n",
       "      <th>DZ possession_minutes</th>\n",
       "      <th>DZ possession_seconds</th>\n",
       "    </tr>\n",
       "  </thead>\n",
       "  <tbody>\n",
       "    <tr>\n",
       "      <td>6</td>\n",
       "      <td>Alyssa Wilson</td>\n",
       "      <td>F</td>\n",
       "      <td>23</td>\n",
       "      <td>17.0</td>\n",
       "      <td>0.04</td>\n",
       "      <td>0.04</td>\n",
       "      <td>0.04</td>\n",
       "      <td>0.09</td>\n",
       "      <td>0.13</td>\n",
       "      <td>-1.04</td>\n",
       "      <td>0.04</td>\n",
       "      <td>0.04</td>\n",
       "      <td>0.09</td>\n",
       "      <td>0.04</td>\n",
       "      <td>0.50</td>\n",
       "      <td>0.13</td>\n",
       "      <td>2.00</td>\n",
       "      <td>0.74</td>\n",
       "      <td>0.61</td>\n",
       "      <td>0.00</td>\n",
       "      <td>0.0</td>\n",
       "      <td>0.17</td>\n",
       "      <td>0.04</td>\n",
       "      <td>0.04</td>\n",
       "      <td>1.00</td>\n",
       "      <td>0.04</td>\n",
       "      <td>0.00</td>\n",
       "      <td>0.00</td>\n",
       "      <td>0.0</td>\n",
       "      <td>0.00</td>\n",
       "      <td>0.00</td>\n",
       "      <td>57.0</td>\n",
       "      <td>0.22</td>\n",
       "      <td>1.26</td>\n",
       "      <td>0.17</td>\n",
       "      <td>0.04</td>\n",
       "      <td>0.04</td>\n",
       "      <td>0.96</td>\n",
       "      <td>1.61</td>\n",
       "      <td>1.96</td>\n",
       "      <td>0.22</td>\n",
       "      <td>1.26</td>\n",
       "      <td>0.00</td>\n",
       "      <td>0.00</td>\n",
       "      <td>0.00</td>\n",
       "      <td>0.00</td>\n",
       "      <td>0.65</td>\n",
       "      <td>0.37</td>\n",
       "      <td>0.74</td>\n",
       "      <td>0.87</td>\n",
       "      <td>0.0</td>\n",
       "      <td>0.0</td>\n",
       "      <td>0.0</td>\n",
       "      <td>0.00</td>\n",
       "      <td>0.0</td>\n",
       "      <td>0.0</td>\n",
       "      <td>1.17</td>\n",
       "      <td>2.00</td>\n",
       "      <td>0.04</td>\n",
       "      <td>0.31</td>\n",
       "      <td>0.05</td>\n",
       "      <td>0.29</td>\n",
       "      <td>-0.75</td>\n",
       "      <td>0.46</td>\n",
       "      <td>1.22</td>\n",
       "      <td>0.0091</td>\n",
       "      <td>-8.0</td>\n",
       "      <td>18</td>\n",
       "      <td>10.0</td>\n",
       "      <td>0.35</td>\n",
       "      <td>7.0</td>\n",
       "      <td>14.0</td>\n",
       "      <td>0.35</td>\n",
       "      <td>10.0</td>\n",
       "      <td>5.2</td>\n",
       "      <td>0.54</td>\n",
       "      <td>7.0</td>\n",
       "      <td>1.61</td>\n",
       "      <td>1.39</td>\n",
       "      <td>0.78</td>\n",
       "      <td>0.26</td>\n",
       "      <td>0.22</td>\n",
       "      <td>0.04</td>\n",
       "      <td>0.83</td>\n",
       "      <td>12.0</td>\n",
       "      <td>10.0</td>\n",
       "      <td>0.83</td>\n",
       "      <td>0.22</td>\n",
       "      <td>6.0</td>\n",
       "      <td>0.26</td>\n",
       "      <td>0.04</td>\n",
       "      <td>0.04</td>\n",
       "      <td>0.17</td>\n",
       "      <td>0.17</td>\n",
       "      <td>0.04</td>\n",
       "      <td>0.04</td>\n",
       "      <td>0.00</td>\n",
       "      <td>0.00</td>\n",
       "      <td>1.0</td>\n",
       "      <td>0.22</td>\n",
       "      <td>0.0</td>\n",
       "      <td>0.04</td>\n",
       "      <td>0.17</td>\n",
       "      <td>0.0</td>\n",
       "      <td>0.00</td>\n",
       "      <td>0.61</td>\n",
       "      <td>7.0</td>\n",
       "      <td>1.87</td>\n",
       "      <td>1.09</td>\n",
       "      <td>5.20</td>\n",
       "      <td>1.48</td>\n",
       "      <td>1.61</td>\n",
       "      <td>0.39</td>\n",
       "      <td>1.39</td>\n",
       "      <td>4.20</td>\n",
       "      <td>1.30</td>\n",
       "      <td>0.48</td>\n",
       "      <td>1.04</td>\n",
       "      <td>0.00</td>\n",
       "      <td>0.00</td>\n",
       "      <td>1.87</td>\n",
       "      <td>1.48</td>\n",
       "      <td>0.52</td>\n",
       "      <td>0.22</td>\n",
       "      <td>0.74</td>\n",
       "      <td>2.30</td>\n",
       "      <td>1.48</td>\n",
       "      <td>0.13</td>\n",
       "      <td>0.70</td>\n",
       "      <td>0</td>\n",
       "      <td>0</td>\n",
       "      <td>0.0</td>\n",
       "      <td>0</td>\n",
       "      <td>Right</td>\n",
       "      <td>Even Strength</td>\n",
       "      <td>15</td>\n",
       "      <td>20</td>\n",
       "      <td>0</td>\n",
       "      <td>26</td>\n",
       "      <td>0</td>\n",
       "      <td>16</td>\n",
       "      <td>0</td>\n",
       "      <td>0</td>\n",
       "      <td>0</td>\n",
       "      <td>0</td>\n",
       "      <td>6</td>\n",
       "      <td>15</td>\n",
       "      <td>7</td>\n",
       "      <td>7</td>\n",
       "      <td>4</td>\n",
       "      <td>56</td>\n",
       "      <td>3</td>\n",
       "      <td>8</td>\n",
       "      <td>7</td>\n",
       "      <td>16</td>\n",
       "    </tr>\n",
       "    <tr>\n",
       "      <td>12</td>\n",
       "      <td>Ella Bynan</td>\n",
       "      <td>F</td>\n",
       "      <td>24</td>\n",
       "      <td>16.0</td>\n",
       "      <td>0.00</td>\n",
       "      <td>0.08</td>\n",
       "      <td>0.13</td>\n",
       "      <td>0.21</td>\n",
       "      <td>0.21</td>\n",
       "      <td>-0.58</td>\n",
       "      <td>0.38</td>\n",
       "      <td>0.13</td>\n",
       "      <td>9.00</td>\n",
       "      <td>4.30</td>\n",
       "      <td>0.48</td>\n",
       "      <td>0.00</td>\n",
       "      <td>1.54</td>\n",
       "      <td>1.17</td>\n",
       "      <td>0.21</td>\n",
       "      <td>0.00</td>\n",
       "      <td>0.0</td>\n",
       "      <td>0.25</td>\n",
       "      <td>3.80</td>\n",
       "      <td>1.79</td>\n",
       "      <td>0.47</td>\n",
       "      <td>2.80</td>\n",
       "      <td>1.38</td>\n",
       "      <td>0.49</td>\n",
       "      <td>2.4</td>\n",
       "      <td>1.17</td>\n",
       "      <td>0.48</td>\n",
       "      <td>55.0</td>\n",
       "      <td>0.21</td>\n",
       "      <td>0.79</td>\n",
       "      <td>0.04</td>\n",
       "      <td>4.70</td>\n",
       "      <td>0.04</td>\n",
       "      <td>0.08</td>\n",
       "      <td>1.79</td>\n",
       "      <td>0.50</td>\n",
       "      <td>0.21</td>\n",
       "      <td>0.79</td>\n",
       "      <td>0.00</td>\n",
       "      <td>0.00</td>\n",
       "      <td>0.00</td>\n",
       "      <td>0.00</td>\n",
       "      <td>0.17</td>\n",
       "      <td>0.76</td>\n",
       "      <td>0.54</td>\n",
       "      <td>0.38</td>\n",
       "      <td>0.0</td>\n",
       "      <td>0.0</td>\n",
       "      <td>0.0</td>\n",
       "      <td>0.00</td>\n",
       "      <td>0.0</td>\n",
       "      <td>0.0</td>\n",
       "      <td>0.50</td>\n",
       "      <td>1.54</td>\n",
       "      <td>0.08</td>\n",
       "      <td>1.33</td>\n",
       "      <td>0.12</td>\n",
       "      <td>0.00</td>\n",
       "      <td>-0.60</td>\n",
       "      <td>0.43</td>\n",
       "      <td>1.03</td>\n",
       "      <td>0.0000</td>\n",
       "      <td>-7.0</td>\n",
       "      <td>17</td>\n",
       "      <td>9.0</td>\n",
       "      <td>0.36</td>\n",
       "      <td>7.0</td>\n",
       "      <td>13.0</td>\n",
       "      <td>0.35</td>\n",
       "      <td>14.0</td>\n",
       "      <td>5.9</td>\n",
       "      <td>0.42</td>\n",
       "      <td>6.0</td>\n",
       "      <td>2.00</td>\n",
       "      <td>5.70</td>\n",
       "      <td>0.92</td>\n",
       "      <td>0.63</td>\n",
       "      <td>0.42</td>\n",
       "      <td>0.21</td>\n",
       "      <td>0.67</td>\n",
       "      <td>9.0</td>\n",
       "      <td>7.0</td>\n",
       "      <td>0.71</td>\n",
       "      <td>0.29</td>\n",
       "      <td>8.0</td>\n",
       "      <td>0.71</td>\n",
       "      <td>0.00</td>\n",
       "      <td>0.08</td>\n",
       "      <td>0.63</td>\n",
       "      <td>0.00</td>\n",
       "      <td>0.38</td>\n",
       "      <td>0.00</td>\n",
       "      <td>0.04</td>\n",
       "      <td>0.33</td>\n",
       "      <td>0.0</td>\n",
       "      <td>0.33</td>\n",
       "      <td>0.0</td>\n",
       "      <td>0.04</td>\n",
       "      <td>0.29</td>\n",
       "      <td>0.0</td>\n",
       "      <td>0.00</td>\n",
       "      <td>0.21</td>\n",
       "      <td>3.4</td>\n",
       "      <td>1.04</td>\n",
       "      <td>0.04</td>\n",
       "      <td>2.50</td>\n",
       "      <td>0.21</td>\n",
       "      <td>0.67</td>\n",
       "      <td>0.29</td>\n",
       "      <td>0.54</td>\n",
       "      <td>5.30</td>\n",
       "      <td>0.54</td>\n",
       "      <td>0.50</td>\n",
       "      <td>1.63</td>\n",
       "      <td>0.00</td>\n",
       "      <td>0.00</td>\n",
       "      <td>3.10</td>\n",
       "      <td>2.00</td>\n",
       "      <td>0.33</td>\n",
       "      <td>0.25</td>\n",
       "      <td>1.46</td>\n",
       "      <td>2.70</td>\n",
       "      <td>1.04</td>\n",
       "      <td>0.04</td>\n",
       "      <td>1.58</td>\n",
       "      <td>0</td>\n",
       "      <td>0</td>\n",
       "      <td>0.0</td>\n",
       "      <td>0</td>\n",
       "      <td>Right</td>\n",
       "      <td>Even Strength</td>\n",
       "      <td>13</td>\n",
       "      <td>58</td>\n",
       "      <td>0</td>\n",
       "      <td>10</td>\n",
       "      <td>0</td>\n",
       "      <td>14</td>\n",
       "      <td>0</td>\n",
       "      <td>0</td>\n",
       "      <td>0</td>\n",
       "      <td>0</td>\n",
       "      <td>5</td>\n",
       "      <td>49</td>\n",
       "      <td>6</td>\n",
       "      <td>18</td>\n",
       "      <td>4</td>\n",
       "      <td>28</td>\n",
       "      <td>2</td>\n",
       "      <td>49</td>\n",
       "      <td>6</td>\n",
       "      <td>40</td>\n",
       "    </tr>\n",
       "    <tr>\n",
       "      <td>...</td>\n",
       "      <td>...</td>\n",
       "      <td>...</td>\n",
       "      <td>...</td>\n",
       "      <td>...</td>\n",
       "      <td>...</td>\n",
       "      <td>...</td>\n",
       "      <td>...</td>\n",
       "      <td>...</td>\n",
       "      <td>...</td>\n",
       "      <td>...</td>\n",
       "      <td>...</td>\n",
       "      <td>...</td>\n",
       "      <td>...</td>\n",
       "      <td>...</td>\n",
       "      <td>...</td>\n",
       "      <td>...</td>\n",
       "      <td>...</td>\n",
       "      <td>...</td>\n",
       "      <td>...</td>\n",
       "      <td>...</td>\n",
       "      <td>...</td>\n",
       "      <td>...</td>\n",
       "      <td>...</td>\n",
       "      <td>...</td>\n",
       "      <td>...</td>\n",
       "      <td>...</td>\n",
       "      <td>...</td>\n",
       "      <td>...</td>\n",
       "      <td>...</td>\n",
       "      <td>...</td>\n",
       "      <td>...</td>\n",
       "      <td>...</td>\n",
       "      <td>...</td>\n",
       "      <td>...</td>\n",
       "      <td>...</td>\n",
       "      <td>...</td>\n",
       "      <td>...</td>\n",
       "      <td>...</td>\n",
       "      <td>...</td>\n",
       "      <td>...</td>\n",
       "      <td>...</td>\n",
       "      <td>...</td>\n",
       "      <td>...</td>\n",
       "      <td>...</td>\n",
       "      <td>...</td>\n",
       "      <td>...</td>\n",
       "      <td>...</td>\n",
       "      <td>...</td>\n",
       "      <td>...</td>\n",
       "      <td>...</td>\n",
       "      <td>...</td>\n",
       "      <td>...</td>\n",
       "      <td>...</td>\n",
       "      <td>...</td>\n",
       "      <td>...</td>\n",
       "      <td>...</td>\n",
       "      <td>...</td>\n",
       "      <td>...</td>\n",
       "      <td>...</td>\n",
       "      <td>...</td>\n",
       "      <td>...</td>\n",
       "      <td>...</td>\n",
       "      <td>...</td>\n",
       "      <td>...</td>\n",
       "      <td>...</td>\n",
       "      <td>...</td>\n",
       "      <td>...</td>\n",
       "      <td>...</td>\n",
       "      <td>...</td>\n",
       "      <td>...</td>\n",
       "      <td>...</td>\n",
       "      <td>...</td>\n",
       "      <td>...</td>\n",
       "      <td>...</td>\n",
       "      <td>...</td>\n",
       "      <td>...</td>\n",
       "      <td>...</td>\n",
       "      <td>...</td>\n",
       "      <td>...</td>\n",
       "      <td>...</td>\n",
       "      <td>...</td>\n",
       "      <td>...</td>\n",
       "      <td>...</td>\n",
       "      <td>...</td>\n",
       "      <td>...</td>\n",
       "      <td>...</td>\n",
       "      <td>...</td>\n",
       "      <td>...</td>\n",
       "      <td>...</td>\n",
       "      <td>...</td>\n",
       "      <td>...</td>\n",
       "      <td>...</td>\n",
       "      <td>...</td>\n",
       "      <td>...</td>\n",
       "      <td>...</td>\n",
       "      <td>...</td>\n",
       "      <td>...</td>\n",
       "      <td>...</td>\n",
       "      <td>...</td>\n",
       "      <td>...</td>\n",
       "      <td>...</td>\n",
       "      <td>...</td>\n",
       "      <td>...</td>\n",
       "      <td>...</td>\n",
       "      <td>...</td>\n",
       "      <td>...</td>\n",
       "      <td>...</td>\n",
       "      <td>...</td>\n",
       "      <td>...</td>\n",
       "      <td>...</td>\n",
       "      <td>...</td>\n",
       "      <td>...</td>\n",
       "      <td>...</td>\n",
       "      <td>...</td>\n",
       "      <td>...</td>\n",
       "      <td>...</td>\n",
       "      <td>...</td>\n",
       "      <td>...</td>\n",
       "      <td>...</td>\n",
       "      <td>...</td>\n",
       "      <td>...</td>\n",
       "      <td>...</td>\n",
       "      <td>...</td>\n",
       "      <td>...</td>\n",
       "      <td>...</td>\n",
       "      <td>...</td>\n",
       "      <td>...</td>\n",
       "      <td>...</td>\n",
       "      <td>...</td>\n",
       "      <td>...</td>\n",
       "      <td>...</td>\n",
       "      <td>...</td>\n",
       "      <td>...</td>\n",
       "      <td>...</td>\n",
       "      <td>...</td>\n",
       "      <td>...</td>\n",
       "      <td>...</td>\n",
       "      <td>...</td>\n",
       "      <td>...</td>\n",
       "      <td>...</td>\n",
       "      <td>...</td>\n",
       "      <td>...</td>\n",
       "      <td>...</td>\n",
       "      <td>...</td>\n",
       "      <td>...</td>\n",
       "      <td>...</td>\n",
       "      <td>...</td>\n",
       "      <td>...</td>\n",
       "      <td>...</td>\n",
       "      <td>...</td>\n",
       "      <td>...</td>\n",
       "      <td>...</td>\n",
       "      <td>...</td>\n",
       "      <td>...</td>\n",
       "      <td>...</td>\n",
       "    </tr>\n",
       "    <tr>\n",
       "      <td>16</td>\n",
       "      <td>Lillian Scardicchio</td>\n",
       "      <td>D</td>\n",
       "      <td>24</td>\n",
       "      <td>13.0</td>\n",
       "      <td>0.00</td>\n",
       "      <td>0.08</td>\n",
       "      <td>0.08</td>\n",
       "      <td>0.17</td>\n",
       "      <td>0.17</td>\n",
       "      <td>-0.21</td>\n",
       "      <td>0.13</td>\n",
       "      <td>0.08</td>\n",
       "      <td>0.04</td>\n",
       "      <td>0.00</td>\n",
       "      <td>0.00</td>\n",
       "      <td>0.00</td>\n",
       "      <td>1.29</td>\n",
       "      <td>0.71</td>\n",
       "      <td>0.25</td>\n",
       "      <td>0.08</td>\n",
       "      <td>0.0</td>\n",
       "      <td>0.25</td>\n",
       "      <td>0.04</td>\n",
       "      <td>0.00</td>\n",
       "      <td>0.00</td>\n",
       "      <td>0.00</td>\n",
       "      <td>0.00</td>\n",
       "      <td>0.00</td>\n",
       "      <td>0.0</td>\n",
       "      <td>0.00</td>\n",
       "      <td>0.00</td>\n",
       "      <td>36.0</td>\n",
       "      <td>0.25</td>\n",
       "      <td>0.46</td>\n",
       "      <td>0.25</td>\n",
       "      <td>0.04</td>\n",
       "      <td>0.04</td>\n",
       "      <td>0.04</td>\n",
       "      <td>0.92</td>\n",
       "      <td>0.75</td>\n",
       "      <td>0.29</td>\n",
       "      <td>0.46</td>\n",
       "      <td>1.42</td>\n",
       "      <td>0.04</td>\n",
       "      <td>0.04</td>\n",
       "      <td>0.04</td>\n",
       "      <td>0.33</td>\n",
       "      <td>0.55</td>\n",
       "      <td>0.46</td>\n",
       "      <td>0.38</td>\n",
       "      <td>0.0</td>\n",
       "      <td>0.0</td>\n",
       "      <td>0.0</td>\n",
       "      <td>0.04</td>\n",
       "      <td>0.0</td>\n",
       "      <td>0.0</td>\n",
       "      <td>0.54</td>\n",
       "      <td>1.21</td>\n",
       "      <td>0.08</td>\n",
       "      <td>1.07</td>\n",
       "      <td>0.08</td>\n",
       "      <td>0.00</td>\n",
       "      <td>-0.23</td>\n",
       "      <td>0.38</td>\n",
       "      <td>0.64</td>\n",
       "      <td>0.0000</td>\n",
       "      <td>-2.7</td>\n",
       "      <td>11</td>\n",
       "      <td>8.0</td>\n",
       "      <td>0.42</td>\n",
       "      <td>5.3</td>\n",
       "      <td>8.0</td>\n",
       "      <td>0.40</td>\n",
       "      <td>9.0</td>\n",
       "      <td>4.2</td>\n",
       "      <td>0.46</td>\n",
       "      <td>3.5</td>\n",
       "      <td>1.92</td>\n",
       "      <td>3.80</td>\n",
       "      <td>0.33</td>\n",
       "      <td>0.25</td>\n",
       "      <td>0.21</td>\n",
       "      <td>0.04</td>\n",
       "      <td>0.83</td>\n",
       "      <td>7.0</td>\n",
       "      <td>5.0</td>\n",
       "      <td>0.72</td>\n",
       "      <td>0.29</td>\n",
       "      <td>6.0</td>\n",
       "      <td>0.50</td>\n",
       "      <td>0.00</td>\n",
       "      <td>0.17</td>\n",
       "      <td>0.21</td>\n",
       "      <td>0.00</td>\n",
       "      <td>0.13</td>\n",
       "      <td>0.00</td>\n",
       "      <td>0.04</td>\n",
       "      <td>0.08</td>\n",
       "      <td>0.0</td>\n",
       "      <td>0.38</td>\n",
       "      <td>0.0</td>\n",
       "      <td>0.13</td>\n",
       "      <td>0.13</td>\n",
       "      <td>0.0</td>\n",
       "      <td>0.13</td>\n",
       "      <td>0.13</td>\n",
       "      <td>2.2</td>\n",
       "      <td>1.17</td>\n",
       "      <td>0.08</td>\n",
       "      <td>1.21</td>\n",
       "      <td>1.13</td>\n",
       "      <td>0.71</td>\n",
       "      <td>0.25</td>\n",
       "      <td>0.46</td>\n",
       "      <td>3.90</td>\n",
       "      <td>0.63</td>\n",
       "      <td>0.67</td>\n",
       "      <td>1.25</td>\n",
       "      <td>0.04</td>\n",
       "      <td>0.00</td>\n",
       "      <td>2.00</td>\n",
       "      <td>1.83</td>\n",
       "      <td>0.33</td>\n",
       "      <td>0.17</td>\n",
       "      <td>1.33</td>\n",
       "      <td>1.38</td>\n",
       "      <td>0.63</td>\n",
       "      <td>0.04</td>\n",
       "      <td>0.71</td>\n",
       "      <td>0</td>\n",
       "      <td>0</td>\n",
       "      <td>0.0</td>\n",
       "      <td>0</td>\n",
       "      <td>Right</td>\n",
       "      <td>Total</td>\n",
       "      <td>10</td>\n",
       "      <td>45</td>\n",
       "      <td>0</td>\n",
       "      <td>30</td>\n",
       "      <td>0</td>\n",
       "      <td>9</td>\n",
       "      <td>0</td>\n",
       "      <td>47</td>\n",
       "      <td>0</td>\n",
       "      <td>0</td>\n",
       "      <td>4</td>\n",
       "      <td>33</td>\n",
       "      <td>4</td>\n",
       "      <td>40</td>\n",
       "      <td>4</td>\n",
       "      <td>4</td>\n",
       "      <td>2</td>\n",
       "      <td>9</td>\n",
       "      <td>4</td>\n",
       "      <td>32</td>\n",
       "    </tr>\n",
       "    <tr>\n",
       "      <td>19</td>\n",
       "      <td>Lucianna Szczubiala</td>\n",
       "      <td>D</td>\n",
       "      <td>24</td>\n",
       "      <td>10.0</td>\n",
       "      <td>0.00</td>\n",
       "      <td>0.04</td>\n",
       "      <td>0.04</td>\n",
       "      <td>0.08</td>\n",
       "      <td>0.08</td>\n",
       "      <td>-0.29</td>\n",
       "      <td>0.00</td>\n",
       "      <td>0.04</td>\n",
       "      <td>0.00</td>\n",
       "      <td>0.00</td>\n",
       "      <td>0.00</td>\n",
       "      <td>0.04</td>\n",
       "      <td>1.13</td>\n",
       "      <td>0.25</td>\n",
       "      <td>0.50</td>\n",
       "      <td>0.21</td>\n",
       "      <td>0.0</td>\n",
       "      <td>0.08</td>\n",
       "      <td>0.00</td>\n",
       "      <td>0.00</td>\n",
       "      <td>0.00</td>\n",
       "      <td>0.00</td>\n",
       "      <td>0.00</td>\n",
       "      <td>0.00</td>\n",
       "      <td>0.0</td>\n",
       "      <td>0.00</td>\n",
       "      <td>0.00</td>\n",
       "      <td>24.0</td>\n",
       "      <td>0.21</td>\n",
       "      <td>0.50</td>\n",
       "      <td>0.25</td>\n",
       "      <td>0.00</td>\n",
       "      <td>0.00</td>\n",
       "      <td>0.25</td>\n",
       "      <td>0.29</td>\n",
       "      <td>0.42</td>\n",
       "      <td>0.21</td>\n",
       "      <td>0.50</td>\n",
       "      <td>0.67</td>\n",
       "      <td>0.00</td>\n",
       "      <td>0.67</td>\n",
       "      <td>0.67</td>\n",
       "      <td>0.38</td>\n",
       "      <td>0.22</td>\n",
       "      <td>0.71</td>\n",
       "      <td>0.38</td>\n",
       "      <td>0.0</td>\n",
       "      <td>0.0</td>\n",
       "      <td>0.0</td>\n",
       "      <td>0.00</td>\n",
       "      <td>0.0</td>\n",
       "      <td>0.0</td>\n",
       "      <td>0.58</td>\n",
       "      <td>0.92</td>\n",
       "      <td>0.00</td>\n",
       "      <td>0.22</td>\n",
       "      <td>0.02</td>\n",
       "      <td>0.00</td>\n",
       "      <td>-0.38</td>\n",
       "      <td>0.23</td>\n",
       "      <td>0.62</td>\n",
       "      <td>0.0000</td>\n",
       "      <td>-4.8</td>\n",
       "      <td>9</td>\n",
       "      <td>4.2</td>\n",
       "      <td>0.32</td>\n",
       "      <td>3.1</td>\n",
       "      <td>7.0</td>\n",
       "      <td>0.32</td>\n",
       "      <td>4.2</td>\n",
       "      <td>2.9</td>\n",
       "      <td>0.69</td>\n",
       "      <td>3.2</td>\n",
       "      <td>0.58</td>\n",
       "      <td>0.42</td>\n",
       "      <td>0.58</td>\n",
       "      <td>0.04</td>\n",
       "      <td>0.04</td>\n",
       "      <td>0.00</td>\n",
       "      <td>1.00</td>\n",
       "      <td>5.8</td>\n",
       "      <td>4.2</td>\n",
       "      <td>0.72</td>\n",
       "      <td>0.08</td>\n",
       "      <td>2.4</td>\n",
       "      <td>0.00</td>\n",
       "      <td>0.00</td>\n",
       "      <td>0.00</td>\n",
       "      <td>0.00</td>\n",
       "      <td>0.00</td>\n",
       "      <td>0.00</td>\n",
       "      <td>0.00</td>\n",
       "      <td>0.00</td>\n",
       "      <td>0.00</td>\n",
       "      <td>0.0</td>\n",
       "      <td>0.00</td>\n",
       "      <td>0.0</td>\n",
       "      <td>0.00</td>\n",
       "      <td>0.00</td>\n",
       "      <td>0.0</td>\n",
       "      <td>0.00</td>\n",
       "      <td>0.50</td>\n",
       "      <td>3.8</td>\n",
       "      <td>0.83</td>\n",
       "      <td>0.71</td>\n",
       "      <td>3.20</td>\n",
       "      <td>1.25</td>\n",
       "      <td>0.38</td>\n",
       "      <td>0.17</td>\n",
       "      <td>0.63</td>\n",
       "      <td>1.75</td>\n",
       "      <td>0.63</td>\n",
       "      <td>0.00</td>\n",
       "      <td>0.71</td>\n",
       "      <td>0.04</td>\n",
       "      <td>0.17</td>\n",
       "      <td>0.42</td>\n",
       "      <td>0.42</td>\n",
       "      <td>0.21</td>\n",
       "      <td>0.08</td>\n",
       "      <td>0.13</td>\n",
       "      <td>0.79</td>\n",
       "      <td>0.50</td>\n",
       "      <td>0.00</td>\n",
       "      <td>0.29</td>\n",
       "      <td>0</td>\n",
       "      <td>7</td>\n",
       "      <td>2.6</td>\n",
       "      <td>0</td>\n",
       "      <td>Right</td>\n",
       "      <td>Total</td>\n",
       "      <td>8</td>\n",
       "      <td>11</td>\n",
       "      <td>0</td>\n",
       "      <td>30</td>\n",
       "      <td>0</td>\n",
       "      <td>4</td>\n",
       "      <td>0</td>\n",
       "      <td>20</td>\n",
       "      <td>0</td>\n",
       "      <td>16</td>\n",
       "      <td>3</td>\n",
       "      <td>12</td>\n",
       "      <td>3</td>\n",
       "      <td>55</td>\n",
       "      <td>2</td>\n",
       "      <td>25</td>\n",
       "      <td>1</td>\n",
       "      <td>43</td>\n",
       "      <td>4</td>\n",
       "      <td>2</td>\n",
       "    </tr>\n",
       "  </tbody>\n",
       "</table>"
      ],
      "text/plain": [
       "<IPython.core.display.HTML object>"
      ]
     },
     "metadata": {},
     "output_type": "display_data"
    }
   ],
   "source": [
    "# Load the skaters dataset\n",
    "skaters_df = pd.read_excel(\"../DataCleaning/Instat_DataCleaning/SkatersCleaned.xlsx\")\n",
    "\n",
    "# Display the DataFrame as a scrollable HTML table\n",
    "display(HTML(skaters_df.to_html(index=False, max_rows=5, max_cols=None)))"
   ]
  },
  {
   "cell_type": "code",
   "execution_count": 5,
   "id": "d92ad609",
   "metadata": {},
   "outputs": [
    {
     "data": {
      "text/html": [
       "<table border=\"1\" class=\"dataframe\">\n",
       "  <thead>\n",
       "    <tr style=\"text-align: right;\">\n",
       "      <th>Shirt number</th>\n",
       "      <th>Games played</th>\n",
       "      <th>All shifts</th>\n",
       "      <th>Goals</th>\n",
       "      <th>First assist</th>\n",
       "      <th>Second assist</th>\n",
       "      <th>Assists</th>\n",
       "      <th>Points</th>\n",
       "      <th>+/-</th>\n",
       "      <th>Scoring chances</th>\n",
       "      <th>Penalties drawn</th>\n",
       "      <th>Faceoffs</th>\n",
       "      <th>Faceoffs won</th>\n",
       "      <th>Faceoffs won, %</th>\n",
       "      <th>Hits</th>\n",
       "      <th>Shots</th>\n",
       "      <th>Shots on goal</th>\n",
       "      <th>Blocked shots</th>\n",
       "      <th>Power play shots</th>\n",
       "      <th>Short-handed shots</th>\n",
       "      <th>Passes to the slot</th>\n",
       "      <th>Faceoffs in DZ</th>\n",
       "      <th>Faceoffs won in DZ</th>\n",
       "      <th>Faceoffs won in DZ, %</th>\n",
       "      <th>Faceoffs in NZ</th>\n",
       "      <th>Faceoffs won in NZ</th>\n",
       "      <th>Faceoffs won in NZ, %</th>\n",
       "      <th>Faceoffs in OZ</th>\n",
       "      <th>Faceoffs won in OZ</th>\n",
       "      <th>Faceoffs won in OZ, %</th>\n",
       "      <th>Puck touches</th>\n",
       "      <th>Plus</th>\n",
       "      <th>Minus</th>\n",
       "      <th>Penalties</th>\n",
       "      <th>Faceoffs lost</th>\n",
       "      <th>Hits against</th>\n",
       "      <th>Error leading to goal</th>\n",
       "      <th>Dump ins</th>\n",
       "      <th>Dump outs</th>\n",
       "      <th>Team goals when on ice</th>\n",
       "      <th>Opponent's goals when on ice</th>\n",
       "      <th>Power play</th>\n",
       "      <th>Successful power play</th>\n",
       "      <th>Short-handed</th>\n",
       "      <th>Penalty killing</th>\n",
       "      <th>Missed shots</th>\n",
       "      <th>% shots on goal</th>\n",
       "      <th>Slapshot</th>\n",
       "      <th>Wrist shot</th>\n",
       "      <th>Shootouts</th>\n",
       "      <th>Shootouts scored</th>\n",
       "      <th>Shootouts missed</th>\n",
       "      <th>1-on-1 shots</th>\n",
       "      <th>1-on-1 goals</th>\n",
       "      <th>Shots conversion 1 on 1, %</th>\n",
       "      <th>Positional attack shots</th>\n",
       "      <th>Shots 5 v 5</th>\n",
       "      <th>Counter-attack shots</th>\n",
       "      <th>xG per shot</th>\n",
       "      <th>xG (Expected goals)</th>\n",
       "      <th>xG per goal</th>\n",
       "      <th>Net xG (xG player on - opp. team's xG)</th>\n",
       "      <th>Team xG when on ice</th>\n",
       "      <th>Opponent's xG when on ice</th>\n",
       "      <th>xG conversion</th>\n",
       "      <th>CORSI</th>\n",
       "      <th>CORSI-</th>\n",
       "      <th>CORSI+</th>\n",
       "      <th>CORSI for, %</th>\n",
       "      <th>Fenwick for</th>\n",
       "      <th>Fenwick against</th>\n",
       "      <th>Fenwick for, %</th>\n",
       "      <th>Puck battles</th>\n",
       "      <th>Puck battles won</th>\n",
       "      <th>Puck battles won, %</th>\n",
       "      <th>Puck battles in DZ</th>\n",
       "      <th>Puck battles in NZ</th>\n",
       "      <th>Puck battles in OZ</th>\n",
       "      <th>Shots blocking</th>\n",
       "      <th>Dekes</th>\n",
       "      <th>Dekes successful</th>\n",
       "      <th>Dekes unsuccessful</th>\n",
       "      <th>Dekes successful, %</th>\n",
       "      <th>Passes</th>\n",
       "      <th>Accurate passes</th>\n",
       "      <th>Accurate passes, %</th>\n",
       "      <th>Pre-shots passes</th>\n",
       "      <th>Pass receptions</th>\n",
       "      <th>Scoring chances - total</th>\n",
       "      <th>Scoring chances - scored</th>\n",
       "      <th>Scoring chances missed</th>\n",
       "      <th>Scoring chances saved</th>\n",
       "      <th>Scoring Chances, %</th>\n",
       "      <th>Inner slot shots - total</th>\n",
       "      <th>Inner slot shots - scored</th>\n",
       "      <th>Inner slot shots - missed</th>\n",
       "      <th>Inner slot shots - saved</th>\n",
       "      <th>Inner slot shots, %</th>\n",
       "      <th>Outer slot shots - total</th>\n",
       "      <th>Outer slot shots - scored</th>\n",
       "      <th>Outer slot shots - missed</th>\n",
       "      <th>Outer slot shots - saved</th>\n",
       "      <th>Outer slot shots, %</th>\n",
       "      <th>Blocked shots from the slot</th>\n",
       "      <th>Blocked shots outside of the slot</th>\n",
       "      <th>Takeaways</th>\n",
       "      <th>Puck retrievals after shots</th>\n",
       "      <th>Opponent’s dump-in retrievals</th>\n",
       "      <th>Takeaways in DZ</th>\n",
       "      <th>Loose puck recovery</th>\n",
       "      <th>Takeaways in NZ</th>\n",
       "      <th>Takeaways in OZ</th>\n",
       "      <th>EV DZ retrievals</th>\n",
       "      <th>Puck losses</th>\n",
       "      <th>Puck losses in DZ</th>\n",
       "      <th>EV OZ retrievals</th>\n",
       "      <th>Puck losses in NZ</th>\n",
       "      <th>Power play retrievals</th>\n",
       "      <th>Penalty kill retrievals</th>\n",
       "      <th>Puck losses in OZ</th>\n",
       "      <th>Entries</th>\n",
       "      <th>Entries via pass</th>\n",
       "      <th>Entries via dump in</th>\n",
       "      <th>Entries via stickhandling</th>\n",
       "      <th>Breakouts</th>\n",
       "      <th>Breakouts via pass</th>\n",
       "      <th>Breakouts via dump out</th>\n",
       "      <th>Breakouts via stickhandling</th>\n",
       "      <th>National team</th>\n",
       "      <th>Height</th>\n",
       "      <th>Weight</th>\n",
       "      <th>Time on ice_minutes</th>\n",
       "      <th>Time on ice_seconds</th>\n",
       "      <th>Penalty time_minutes</th>\n",
       "      <th>Penalty time_seconds</th>\n",
       "      <th>Puck control time_minutes</th>\n",
       "      <th>Puck control time_seconds</th>\n",
       "      <th>Power play time_minutes</th>\n",
       "      <th>Power play time_seconds</th>\n",
       "      <th>Short-handed time_minutes</th>\n",
       "      <th>Short-handed time_seconds</th>\n",
       "      <th>Playing in attack_minutes</th>\n",
       "      <th>Playing in attack_seconds</th>\n",
       "      <th>Playing in defense_minutes</th>\n",
       "      <th>Playing in defense_seconds</th>\n",
       "      <th>OZ possession_minutes</th>\n",
       "      <th>OZ possession_seconds</th>\n",
       "      <th>NZ possession_minutes</th>\n",
       "      <th>NZ possession_seconds</th>\n",
       "      <th>DZ possession_minutes</th>\n",
       "      <th>DZ possession_seconds</th>\n",
       "      <th>Position_D</th>\n",
       "      <th>Position_F</th>\n",
       "      <th>Active hand_Left</th>\n",
       "      <th>Active hand_Right</th>\n",
       "      <th>Type_Even Strength</th>\n",
       "      <th>Type_Penalty Kill</th>\n",
       "      <th>Type_Power Play</th>\n",
       "      <th>Type_Total</th>\n",
       "    </tr>\n",
       "  </thead>\n",
       "  <tbody>\n",
       "    <tr>\n",
       "      <td>6</td>\n",
       "      <td>23</td>\n",
       "      <td>17.0</td>\n",
       "      <td>0.04</td>\n",
       "      <td>0.04</td>\n",
       "      <td>0.04</td>\n",
       "      <td>0.09</td>\n",
       "      <td>0.13</td>\n",
       "      <td>-1.04</td>\n",
       "      <td>0.04</td>\n",
       "      <td>0.04</td>\n",
       "      <td>0.09</td>\n",
       "      <td>0.04</td>\n",
       "      <td>0.50</td>\n",
       "      <td>0.13</td>\n",
       "      <td>2.00</td>\n",
       "      <td>0.74</td>\n",
       "      <td>0.61</td>\n",
       "      <td>0.00</td>\n",
       "      <td>0.0</td>\n",
       "      <td>0.17</td>\n",
       "      <td>0.04</td>\n",
       "      <td>0.04</td>\n",
       "      <td>1.00</td>\n",
       "      <td>0.04</td>\n",
       "      <td>0.00</td>\n",
       "      <td>0.00</td>\n",
       "      <td>0.0</td>\n",
       "      <td>0.00</td>\n",
       "      <td>0.00</td>\n",
       "      <td>57.0</td>\n",
       "      <td>0.22</td>\n",
       "      <td>1.26</td>\n",
       "      <td>0.17</td>\n",
       "      <td>0.04</td>\n",
       "      <td>0.04</td>\n",
       "      <td>0.96</td>\n",
       "      <td>1.61</td>\n",
       "      <td>1.96</td>\n",
       "      <td>0.22</td>\n",
       "      <td>1.26</td>\n",
       "      <td>0.00</td>\n",
       "      <td>0.00</td>\n",
       "      <td>0.00</td>\n",
       "      <td>0.00</td>\n",
       "      <td>0.65</td>\n",
       "      <td>0.37</td>\n",
       "      <td>0.74</td>\n",
       "      <td>0.87</td>\n",
       "      <td>0.0</td>\n",
       "      <td>0.0</td>\n",
       "      <td>0.0</td>\n",
       "      <td>0.00</td>\n",
       "      <td>0.0</td>\n",
       "      <td>0.0</td>\n",
       "      <td>1.17</td>\n",
       "      <td>2.00</td>\n",
       "      <td>0.04</td>\n",
       "      <td>0.31</td>\n",
       "      <td>0.05</td>\n",
       "      <td>0.29</td>\n",
       "      <td>-0.75</td>\n",
       "      <td>0.46</td>\n",
       "      <td>1.22</td>\n",
       "      <td>0.0091</td>\n",
       "      <td>-8.0</td>\n",
       "      <td>18</td>\n",
       "      <td>10.0</td>\n",
       "      <td>0.35</td>\n",
       "      <td>7.0</td>\n",
       "      <td>14.0</td>\n",
       "      <td>0.35</td>\n",
       "      <td>10.0</td>\n",
       "      <td>5.2</td>\n",
       "      <td>0.54</td>\n",
       "      <td>7.0</td>\n",
       "      <td>1.61</td>\n",
       "      <td>1.39</td>\n",
       "      <td>0.78</td>\n",
       "      <td>0.26</td>\n",
       "      <td>0.22</td>\n",
       "      <td>0.04</td>\n",
       "      <td>0.83</td>\n",
       "      <td>12.0</td>\n",
       "      <td>10.0</td>\n",
       "      <td>0.83</td>\n",
       "      <td>0.22</td>\n",
       "      <td>6.0</td>\n",
       "      <td>0.26</td>\n",
       "      <td>0.04</td>\n",
       "      <td>0.04</td>\n",
       "      <td>0.17</td>\n",
       "      <td>0.17</td>\n",
       "      <td>0.04</td>\n",
       "      <td>0.04</td>\n",
       "      <td>0.00</td>\n",
       "      <td>0.00</td>\n",
       "      <td>1.0</td>\n",
       "      <td>0.22</td>\n",
       "      <td>0.0</td>\n",
       "      <td>0.04</td>\n",
       "      <td>0.17</td>\n",
       "      <td>0.0</td>\n",
       "      <td>0.00</td>\n",
       "      <td>0.61</td>\n",
       "      <td>7.0</td>\n",
       "      <td>1.87</td>\n",
       "      <td>1.09</td>\n",
       "      <td>5.20</td>\n",
       "      <td>1.48</td>\n",
       "      <td>1.61</td>\n",
       "      <td>0.39</td>\n",
       "      <td>1.39</td>\n",
       "      <td>4.20</td>\n",
       "      <td>1.30</td>\n",
       "      <td>0.48</td>\n",
       "      <td>1.04</td>\n",
       "      <td>0.00</td>\n",
       "      <td>0.00</td>\n",
       "      <td>1.87</td>\n",
       "      <td>1.48</td>\n",
       "      <td>0.52</td>\n",
       "      <td>0.22</td>\n",
       "      <td>0.74</td>\n",
       "      <td>2.30</td>\n",
       "      <td>1.48</td>\n",
       "      <td>0.13</td>\n",
       "      <td>0.70</td>\n",
       "      <td>0</td>\n",
       "      <td>0</td>\n",
       "      <td>0.0</td>\n",
       "      <td>15</td>\n",
       "      <td>20</td>\n",
       "      <td>0</td>\n",
       "      <td>26</td>\n",
       "      <td>0</td>\n",
       "      <td>16</td>\n",
       "      <td>0</td>\n",
       "      <td>0</td>\n",
       "      <td>0</td>\n",
       "      <td>0</td>\n",
       "      <td>6</td>\n",
       "      <td>15</td>\n",
       "      <td>7</td>\n",
       "      <td>7</td>\n",
       "      <td>4</td>\n",
       "      <td>56</td>\n",
       "      <td>3</td>\n",
       "      <td>8</td>\n",
       "      <td>7</td>\n",
       "      <td>16</td>\n",
       "      <td>False</td>\n",
       "      <td>True</td>\n",
       "      <td>False</td>\n",
       "      <td>True</td>\n",
       "      <td>True</td>\n",
       "      <td>False</td>\n",
       "      <td>False</td>\n",
       "      <td>False</td>\n",
       "    </tr>\n",
       "    <tr>\n",
       "      <td>12</td>\n",
       "      <td>24</td>\n",
       "      <td>16.0</td>\n",
       "      <td>0.00</td>\n",
       "      <td>0.08</td>\n",
       "      <td>0.13</td>\n",
       "      <td>0.21</td>\n",
       "      <td>0.21</td>\n",
       "      <td>-0.58</td>\n",
       "      <td>0.38</td>\n",
       "      <td>0.13</td>\n",
       "      <td>9.00</td>\n",
       "      <td>4.30</td>\n",
       "      <td>0.48</td>\n",
       "      <td>0.00</td>\n",
       "      <td>1.54</td>\n",
       "      <td>1.17</td>\n",
       "      <td>0.21</td>\n",
       "      <td>0.00</td>\n",
       "      <td>0.0</td>\n",
       "      <td>0.25</td>\n",
       "      <td>3.80</td>\n",
       "      <td>1.79</td>\n",
       "      <td>0.47</td>\n",
       "      <td>2.80</td>\n",
       "      <td>1.38</td>\n",
       "      <td>0.49</td>\n",
       "      <td>2.4</td>\n",
       "      <td>1.17</td>\n",
       "      <td>0.48</td>\n",
       "      <td>55.0</td>\n",
       "      <td>0.21</td>\n",
       "      <td>0.79</td>\n",
       "      <td>0.04</td>\n",
       "      <td>4.70</td>\n",
       "      <td>0.04</td>\n",
       "      <td>0.08</td>\n",
       "      <td>1.79</td>\n",
       "      <td>0.50</td>\n",
       "      <td>0.21</td>\n",
       "      <td>0.79</td>\n",
       "      <td>0.00</td>\n",
       "      <td>0.00</td>\n",
       "      <td>0.00</td>\n",
       "      <td>0.00</td>\n",
       "      <td>0.17</td>\n",
       "      <td>0.76</td>\n",
       "      <td>0.54</td>\n",
       "      <td>0.38</td>\n",
       "      <td>0.0</td>\n",
       "      <td>0.0</td>\n",
       "      <td>0.0</td>\n",
       "      <td>0.00</td>\n",
       "      <td>0.0</td>\n",
       "      <td>0.0</td>\n",
       "      <td>0.50</td>\n",
       "      <td>1.54</td>\n",
       "      <td>0.08</td>\n",
       "      <td>1.33</td>\n",
       "      <td>0.12</td>\n",
       "      <td>0.00</td>\n",
       "      <td>-0.60</td>\n",
       "      <td>0.43</td>\n",
       "      <td>1.03</td>\n",
       "      <td>0.0000</td>\n",
       "      <td>-7.0</td>\n",
       "      <td>17</td>\n",
       "      <td>9.0</td>\n",
       "      <td>0.36</td>\n",
       "      <td>7.0</td>\n",
       "      <td>13.0</td>\n",
       "      <td>0.35</td>\n",
       "      <td>14.0</td>\n",
       "      <td>5.9</td>\n",
       "      <td>0.42</td>\n",
       "      <td>6.0</td>\n",
       "      <td>2.00</td>\n",
       "      <td>5.70</td>\n",
       "      <td>0.92</td>\n",
       "      <td>0.63</td>\n",
       "      <td>0.42</td>\n",
       "      <td>0.21</td>\n",
       "      <td>0.67</td>\n",
       "      <td>9.0</td>\n",
       "      <td>7.0</td>\n",
       "      <td>0.71</td>\n",
       "      <td>0.29</td>\n",
       "      <td>8.0</td>\n",
       "      <td>0.71</td>\n",
       "      <td>0.00</td>\n",
       "      <td>0.08</td>\n",
       "      <td>0.63</td>\n",
       "      <td>0.00</td>\n",
       "      <td>0.38</td>\n",
       "      <td>0.00</td>\n",
       "      <td>0.04</td>\n",
       "      <td>0.33</td>\n",
       "      <td>0.0</td>\n",
       "      <td>0.33</td>\n",
       "      <td>0.0</td>\n",
       "      <td>0.04</td>\n",
       "      <td>0.29</td>\n",
       "      <td>0.0</td>\n",
       "      <td>0.00</td>\n",
       "      <td>0.21</td>\n",
       "      <td>3.4</td>\n",
       "      <td>1.04</td>\n",
       "      <td>0.04</td>\n",
       "      <td>2.50</td>\n",
       "      <td>0.21</td>\n",
       "      <td>0.67</td>\n",
       "      <td>0.29</td>\n",
       "      <td>0.54</td>\n",
       "      <td>5.30</td>\n",
       "      <td>0.54</td>\n",
       "      <td>0.50</td>\n",
       "      <td>1.63</td>\n",
       "      <td>0.00</td>\n",
       "      <td>0.00</td>\n",
       "      <td>3.10</td>\n",
       "      <td>2.00</td>\n",
       "      <td>0.33</td>\n",
       "      <td>0.25</td>\n",
       "      <td>1.46</td>\n",
       "      <td>2.70</td>\n",
       "      <td>1.04</td>\n",
       "      <td>0.04</td>\n",
       "      <td>1.58</td>\n",
       "      <td>0</td>\n",
       "      <td>0</td>\n",
       "      <td>0.0</td>\n",
       "      <td>13</td>\n",
       "      <td>58</td>\n",
       "      <td>0</td>\n",
       "      <td>10</td>\n",
       "      <td>0</td>\n",
       "      <td>14</td>\n",
       "      <td>0</td>\n",
       "      <td>0</td>\n",
       "      <td>0</td>\n",
       "      <td>0</td>\n",
       "      <td>5</td>\n",
       "      <td>49</td>\n",
       "      <td>6</td>\n",
       "      <td>18</td>\n",
       "      <td>4</td>\n",
       "      <td>28</td>\n",
       "      <td>2</td>\n",
       "      <td>49</td>\n",
       "      <td>6</td>\n",
       "      <td>40</td>\n",
       "      <td>False</td>\n",
       "      <td>True</td>\n",
       "      <td>False</td>\n",
       "      <td>True</td>\n",
       "      <td>True</td>\n",
       "      <td>False</td>\n",
       "      <td>False</td>\n",
       "      <td>False</td>\n",
       "    </tr>\n",
       "    <tr>\n",
       "      <td>...</td>\n",
       "      <td>...</td>\n",
       "      <td>...</td>\n",
       "      <td>...</td>\n",
       "      <td>...</td>\n",
       "      <td>...</td>\n",
       "      <td>...</td>\n",
       "      <td>...</td>\n",
       "      <td>...</td>\n",
       "      <td>...</td>\n",
       "      <td>...</td>\n",
       "      <td>...</td>\n",
       "      <td>...</td>\n",
       "      <td>...</td>\n",
       "      <td>...</td>\n",
       "      <td>...</td>\n",
       "      <td>...</td>\n",
       "      <td>...</td>\n",
       "      <td>...</td>\n",
       "      <td>...</td>\n",
       "      <td>...</td>\n",
       "      <td>...</td>\n",
       "      <td>...</td>\n",
       "      <td>...</td>\n",
       "      <td>...</td>\n",
       "      <td>...</td>\n",
       "      <td>...</td>\n",
       "      <td>...</td>\n",
       "      <td>...</td>\n",
       "      <td>...</td>\n",
       "      <td>...</td>\n",
       "      <td>...</td>\n",
       "      <td>...</td>\n",
       "      <td>...</td>\n",
       "      <td>...</td>\n",
       "      <td>...</td>\n",
       "      <td>...</td>\n",
       "      <td>...</td>\n",
       "      <td>...</td>\n",
       "      <td>...</td>\n",
       "      <td>...</td>\n",
       "      <td>...</td>\n",
       "      <td>...</td>\n",
       "      <td>...</td>\n",
       "      <td>...</td>\n",
       "      <td>...</td>\n",
       "      <td>...</td>\n",
       "      <td>...</td>\n",
       "      <td>...</td>\n",
       "      <td>...</td>\n",
       "      <td>...</td>\n",
       "      <td>...</td>\n",
       "      <td>...</td>\n",
       "      <td>...</td>\n",
       "      <td>...</td>\n",
       "      <td>...</td>\n",
       "      <td>...</td>\n",
       "      <td>...</td>\n",
       "      <td>...</td>\n",
       "      <td>...</td>\n",
       "      <td>...</td>\n",
       "      <td>...</td>\n",
       "      <td>...</td>\n",
       "      <td>...</td>\n",
       "      <td>...</td>\n",
       "      <td>...</td>\n",
       "      <td>...</td>\n",
       "      <td>...</td>\n",
       "      <td>...</td>\n",
       "      <td>...</td>\n",
       "      <td>...</td>\n",
       "      <td>...</td>\n",
       "      <td>...</td>\n",
       "      <td>...</td>\n",
       "      <td>...</td>\n",
       "      <td>...</td>\n",
       "      <td>...</td>\n",
       "      <td>...</td>\n",
       "      <td>...</td>\n",
       "      <td>...</td>\n",
       "      <td>...</td>\n",
       "      <td>...</td>\n",
       "      <td>...</td>\n",
       "      <td>...</td>\n",
       "      <td>...</td>\n",
       "      <td>...</td>\n",
       "      <td>...</td>\n",
       "      <td>...</td>\n",
       "      <td>...</td>\n",
       "      <td>...</td>\n",
       "      <td>...</td>\n",
       "      <td>...</td>\n",
       "      <td>...</td>\n",
       "      <td>...</td>\n",
       "      <td>...</td>\n",
       "      <td>...</td>\n",
       "      <td>...</td>\n",
       "      <td>...</td>\n",
       "      <td>...</td>\n",
       "      <td>...</td>\n",
       "      <td>...</td>\n",
       "      <td>...</td>\n",
       "      <td>...</td>\n",
       "      <td>...</td>\n",
       "      <td>...</td>\n",
       "      <td>...</td>\n",
       "      <td>...</td>\n",
       "      <td>...</td>\n",
       "      <td>...</td>\n",
       "      <td>...</td>\n",
       "      <td>...</td>\n",
       "      <td>...</td>\n",
       "      <td>...</td>\n",
       "      <td>...</td>\n",
       "      <td>...</td>\n",
       "      <td>...</td>\n",
       "      <td>...</td>\n",
       "      <td>...</td>\n",
       "      <td>...</td>\n",
       "      <td>...</td>\n",
       "      <td>...</td>\n",
       "      <td>...</td>\n",
       "      <td>...</td>\n",
       "      <td>...</td>\n",
       "      <td>...</td>\n",
       "      <td>...</td>\n",
       "      <td>...</td>\n",
       "      <td>...</td>\n",
       "      <td>...</td>\n",
       "      <td>...</td>\n",
       "      <td>...</td>\n",
       "      <td>...</td>\n",
       "      <td>...</td>\n",
       "      <td>...</td>\n",
       "      <td>...</td>\n",
       "      <td>...</td>\n",
       "      <td>...</td>\n",
       "      <td>...</td>\n",
       "      <td>...</td>\n",
       "      <td>...</td>\n",
       "      <td>...</td>\n",
       "      <td>...</td>\n",
       "      <td>...</td>\n",
       "      <td>...</td>\n",
       "      <td>...</td>\n",
       "      <td>...</td>\n",
       "      <td>...</td>\n",
       "      <td>...</td>\n",
       "      <td>...</td>\n",
       "      <td>...</td>\n",
       "      <td>...</td>\n",
       "      <td>...</td>\n",
       "      <td>...</td>\n",
       "      <td>...</td>\n",
       "      <td>...</td>\n",
       "      <td>...</td>\n",
       "      <td>...</td>\n",
       "      <td>...</td>\n",
       "      <td>...</td>\n",
       "    </tr>\n",
       "    <tr>\n",
       "      <td>16</td>\n",
       "      <td>24</td>\n",
       "      <td>13.0</td>\n",
       "      <td>0.00</td>\n",
       "      <td>0.08</td>\n",
       "      <td>0.08</td>\n",
       "      <td>0.17</td>\n",
       "      <td>0.17</td>\n",
       "      <td>-0.21</td>\n",
       "      <td>0.13</td>\n",
       "      <td>0.08</td>\n",
       "      <td>0.04</td>\n",
       "      <td>0.00</td>\n",
       "      <td>0.00</td>\n",
       "      <td>0.00</td>\n",
       "      <td>1.29</td>\n",
       "      <td>0.71</td>\n",
       "      <td>0.25</td>\n",
       "      <td>0.08</td>\n",
       "      <td>0.0</td>\n",
       "      <td>0.25</td>\n",
       "      <td>0.04</td>\n",
       "      <td>0.00</td>\n",
       "      <td>0.00</td>\n",
       "      <td>0.00</td>\n",
       "      <td>0.00</td>\n",
       "      <td>0.00</td>\n",
       "      <td>0.0</td>\n",
       "      <td>0.00</td>\n",
       "      <td>0.00</td>\n",
       "      <td>36.0</td>\n",
       "      <td>0.25</td>\n",
       "      <td>0.46</td>\n",
       "      <td>0.25</td>\n",
       "      <td>0.04</td>\n",
       "      <td>0.04</td>\n",
       "      <td>0.04</td>\n",
       "      <td>0.92</td>\n",
       "      <td>0.75</td>\n",
       "      <td>0.29</td>\n",
       "      <td>0.46</td>\n",
       "      <td>1.42</td>\n",
       "      <td>0.04</td>\n",
       "      <td>0.04</td>\n",
       "      <td>0.04</td>\n",
       "      <td>0.33</td>\n",
       "      <td>0.55</td>\n",
       "      <td>0.46</td>\n",
       "      <td>0.38</td>\n",
       "      <td>0.0</td>\n",
       "      <td>0.0</td>\n",
       "      <td>0.0</td>\n",
       "      <td>0.04</td>\n",
       "      <td>0.0</td>\n",
       "      <td>0.0</td>\n",
       "      <td>0.54</td>\n",
       "      <td>1.21</td>\n",
       "      <td>0.08</td>\n",
       "      <td>1.07</td>\n",
       "      <td>0.08</td>\n",
       "      <td>0.00</td>\n",
       "      <td>-0.23</td>\n",
       "      <td>0.38</td>\n",
       "      <td>0.64</td>\n",
       "      <td>0.0000</td>\n",
       "      <td>-2.7</td>\n",
       "      <td>11</td>\n",
       "      <td>8.0</td>\n",
       "      <td>0.42</td>\n",
       "      <td>5.3</td>\n",
       "      <td>8.0</td>\n",
       "      <td>0.40</td>\n",
       "      <td>9.0</td>\n",
       "      <td>4.2</td>\n",
       "      <td>0.46</td>\n",
       "      <td>3.5</td>\n",
       "      <td>1.92</td>\n",
       "      <td>3.80</td>\n",
       "      <td>0.33</td>\n",
       "      <td>0.25</td>\n",
       "      <td>0.21</td>\n",
       "      <td>0.04</td>\n",
       "      <td>0.83</td>\n",
       "      <td>7.0</td>\n",
       "      <td>5.0</td>\n",
       "      <td>0.72</td>\n",
       "      <td>0.29</td>\n",
       "      <td>6.0</td>\n",
       "      <td>0.50</td>\n",
       "      <td>0.00</td>\n",
       "      <td>0.17</td>\n",
       "      <td>0.21</td>\n",
       "      <td>0.00</td>\n",
       "      <td>0.13</td>\n",
       "      <td>0.00</td>\n",
       "      <td>0.04</td>\n",
       "      <td>0.08</td>\n",
       "      <td>0.0</td>\n",
       "      <td>0.38</td>\n",
       "      <td>0.0</td>\n",
       "      <td>0.13</td>\n",
       "      <td>0.13</td>\n",
       "      <td>0.0</td>\n",
       "      <td>0.13</td>\n",
       "      <td>0.13</td>\n",
       "      <td>2.2</td>\n",
       "      <td>1.17</td>\n",
       "      <td>0.08</td>\n",
       "      <td>1.21</td>\n",
       "      <td>1.13</td>\n",
       "      <td>0.71</td>\n",
       "      <td>0.25</td>\n",
       "      <td>0.46</td>\n",
       "      <td>3.90</td>\n",
       "      <td>0.63</td>\n",
       "      <td>0.67</td>\n",
       "      <td>1.25</td>\n",
       "      <td>0.04</td>\n",
       "      <td>0.00</td>\n",
       "      <td>2.00</td>\n",
       "      <td>1.83</td>\n",
       "      <td>0.33</td>\n",
       "      <td>0.17</td>\n",
       "      <td>1.33</td>\n",
       "      <td>1.38</td>\n",
       "      <td>0.63</td>\n",
       "      <td>0.04</td>\n",
       "      <td>0.71</td>\n",
       "      <td>0</td>\n",
       "      <td>0</td>\n",
       "      <td>0.0</td>\n",
       "      <td>10</td>\n",
       "      <td>45</td>\n",
       "      <td>0</td>\n",
       "      <td>30</td>\n",
       "      <td>0</td>\n",
       "      <td>9</td>\n",
       "      <td>0</td>\n",
       "      <td>47</td>\n",
       "      <td>0</td>\n",
       "      <td>0</td>\n",
       "      <td>4</td>\n",
       "      <td>33</td>\n",
       "      <td>4</td>\n",
       "      <td>40</td>\n",
       "      <td>4</td>\n",
       "      <td>4</td>\n",
       "      <td>2</td>\n",
       "      <td>9</td>\n",
       "      <td>4</td>\n",
       "      <td>32</td>\n",
       "      <td>True</td>\n",
       "      <td>False</td>\n",
       "      <td>False</td>\n",
       "      <td>True</td>\n",
       "      <td>False</td>\n",
       "      <td>False</td>\n",
       "      <td>False</td>\n",
       "      <td>True</td>\n",
       "    </tr>\n",
       "    <tr>\n",
       "      <td>19</td>\n",
       "      <td>24</td>\n",
       "      <td>10.0</td>\n",
       "      <td>0.00</td>\n",
       "      <td>0.04</td>\n",
       "      <td>0.04</td>\n",
       "      <td>0.08</td>\n",
       "      <td>0.08</td>\n",
       "      <td>-0.29</td>\n",
       "      <td>0.00</td>\n",
       "      <td>0.04</td>\n",
       "      <td>0.00</td>\n",
       "      <td>0.00</td>\n",
       "      <td>0.00</td>\n",
       "      <td>0.04</td>\n",
       "      <td>1.13</td>\n",
       "      <td>0.25</td>\n",
       "      <td>0.50</td>\n",
       "      <td>0.21</td>\n",
       "      <td>0.0</td>\n",
       "      <td>0.08</td>\n",
       "      <td>0.00</td>\n",
       "      <td>0.00</td>\n",
       "      <td>0.00</td>\n",
       "      <td>0.00</td>\n",
       "      <td>0.00</td>\n",
       "      <td>0.00</td>\n",
       "      <td>0.0</td>\n",
       "      <td>0.00</td>\n",
       "      <td>0.00</td>\n",
       "      <td>24.0</td>\n",
       "      <td>0.21</td>\n",
       "      <td>0.50</td>\n",
       "      <td>0.25</td>\n",
       "      <td>0.00</td>\n",
       "      <td>0.00</td>\n",
       "      <td>0.25</td>\n",
       "      <td>0.29</td>\n",
       "      <td>0.42</td>\n",
       "      <td>0.21</td>\n",
       "      <td>0.50</td>\n",
       "      <td>0.67</td>\n",
       "      <td>0.00</td>\n",
       "      <td>0.67</td>\n",
       "      <td>0.67</td>\n",
       "      <td>0.38</td>\n",
       "      <td>0.22</td>\n",
       "      <td>0.71</td>\n",
       "      <td>0.38</td>\n",
       "      <td>0.0</td>\n",
       "      <td>0.0</td>\n",
       "      <td>0.0</td>\n",
       "      <td>0.00</td>\n",
       "      <td>0.0</td>\n",
       "      <td>0.0</td>\n",
       "      <td>0.58</td>\n",
       "      <td>0.92</td>\n",
       "      <td>0.00</td>\n",
       "      <td>0.22</td>\n",
       "      <td>0.02</td>\n",
       "      <td>0.00</td>\n",
       "      <td>-0.38</td>\n",
       "      <td>0.23</td>\n",
       "      <td>0.62</td>\n",
       "      <td>0.0000</td>\n",
       "      <td>-4.8</td>\n",
       "      <td>9</td>\n",
       "      <td>4.2</td>\n",
       "      <td>0.32</td>\n",
       "      <td>3.1</td>\n",
       "      <td>7.0</td>\n",
       "      <td>0.32</td>\n",
       "      <td>4.2</td>\n",
       "      <td>2.9</td>\n",
       "      <td>0.69</td>\n",
       "      <td>3.2</td>\n",
       "      <td>0.58</td>\n",
       "      <td>0.42</td>\n",
       "      <td>0.58</td>\n",
       "      <td>0.04</td>\n",
       "      <td>0.04</td>\n",
       "      <td>0.00</td>\n",
       "      <td>1.00</td>\n",
       "      <td>5.8</td>\n",
       "      <td>4.2</td>\n",
       "      <td>0.72</td>\n",
       "      <td>0.08</td>\n",
       "      <td>2.4</td>\n",
       "      <td>0.00</td>\n",
       "      <td>0.00</td>\n",
       "      <td>0.00</td>\n",
       "      <td>0.00</td>\n",
       "      <td>0.00</td>\n",
       "      <td>0.00</td>\n",
       "      <td>0.00</td>\n",
       "      <td>0.00</td>\n",
       "      <td>0.00</td>\n",
       "      <td>0.0</td>\n",
       "      <td>0.00</td>\n",
       "      <td>0.0</td>\n",
       "      <td>0.00</td>\n",
       "      <td>0.00</td>\n",
       "      <td>0.0</td>\n",
       "      <td>0.00</td>\n",
       "      <td>0.50</td>\n",
       "      <td>3.8</td>\n",
       "      <td>0.83</td>\n",
       "      <td>0.71</td>\n",
       "      <td>3.20</td>\n",
       "      <td>1.25</td>\n",
       "      <td>0.38</td>\n",
       "      <td>0.17</td>\n",
       "      <td>0.63</td>\n",
       "      <td>1.75</td>\n",
       "      <td>0.63</td>\n",
       "      <td>0.00</td>\n",
       "      <td>0.71</td>\n",
       "      <td>0.04</td>\n",
       "      <td>0.17</td>\n",
       "      <td>0.42</td>\n",
       "      <td>0.42</td>\n",
       "      <td>0.21</td>\n",
       "      <td>0.08</td>\n",
       "      <td>0.13</td>\n",
       "      <td>0.79</td>\n",
       "      <td>0.50</td>\n",
       "      <td>0.00</td>\n",
       "      <td>0.29</td>\n",
       "      <td>0</td>\n",
       "      <td>7</td>\n",
       "      <td>2.6</td>\n",
       "      <td>8</td>\n",
       "      <td>11</td>\n",
       "      <td>0</td>\n",
       "      <td>30</td>\n",
       "      <td>0</td>\n",
       "      <td>4</td>\n",
       "      <td>0</td>\n",
       "      <td>20</td>\n",
       "      <td>0</td>\n",
       "      <td>16</td>\n",
       "      <td>3</td>\n",
       "      <td>12</td>\n",
       "      <td>3</td>\n",
       "      <td>55</td>\n",
       "      <td>2</td>\n",
       "      <td>25</td>\n",
       "      <td>1</td>\n",
       "      <td>43</td>\n",
       "      <td>4</td>\n",
       "      <td>2</td>\n",
       "      <td>True</td>\n",
       "      <td>False</td>\n",
       "      <td>False</td>\n",
       "      <td>True</td>\n",
       "      <td>False</td>\n",
       "      <td>False</td>\n",
       "      <td>False</td>\n",
       "      <td>True</td>\n",
       "    </tr>\n",
       "  </tbody>\n",
       "</table>"
      ],
      "text/plain": [
       "<IPython.core.display.HTML object>"
      ]
     },
     "metadata": {},
     "output_type": "display_data"
    }
   ],
   "source": [
    "# Drop unneeded columns\n",
    "skaters_df.drop(['Player', 'Contract'], axis=1, inplace=True)\n",
    "\n",
    "# Find remaining categorical columns and one‐hot encode them\n",
    "cat_cols = skaters_df.select_dtypes(include=['object']).columns.tolist()\n",
    "skaters_df = pd.get_dummies(skaters_df, columns=cat_cols)\n",
    "\n",
    "display(HTML(skaters_df.to_html(index=False, max_rows=5, max_cols=None)))"
   ]
  },
  {
   "cell_type": "code",
   "execution_count": 6,
   "id": "bec53049",
   "metadata": {},
   "outputs": [
    {
     "name": "stdout",
     "output_type": "stream",
     "text": [
      "CV mean MSE: 0.0027\n",
      "Coefficients: {'Shirt number': -4.299678667516404e-05, 'Games played': 0.00020235130246993552, 'All shifts': 0.007778322952397882, 'First assist': -0.016411643379565452, 'Second assist': -0.01757881771464436, 'Assists': -0.033712950334950254, 'Penalties drawn': -0.03755367288261262, 'Faceoffs': -0.03888655887912685, 'Faceoffs won': 0.032847550518935065, 'Faceoffs won, %': -0.02426023486775193, 'Hits': -0.023912096677767763, 'Shots': 0.007577774533389753, 'Shots on goal': 0.004098395584250467, 'Blocked shots': -0.005827858314688418, 'Power play shots': 0.01201824784896841, 'Short-handed shots': -0.02569159622666382, 'Passes to the slot': -0.02907962273530717, 'Faceoffs in DZ': 0.026011542068651392, 'Faceoffs won in DZ': 0.02911267994933968, 'Faceoffs won in DZ, %': 0.012918870596930664, 'Faceoffs in NZ': 0.01064243241880269, 'Faceoffs won in NZ': 0.004078574024437381, 'Faceoffs won in NZ, %': -0.008996381241230422, 'Faceoffs in OZ': -0.0019199652795825698, 'Faceoffs won in OZ': -0.003168076255773755, 'Faceoffs won in OZ, %': 0.027595016053942923, 'Puck touches': -0.0017305633098418753, 'Minus': -0.008916768184360775, 'Penalties': 0.042105198275264266, 'Faceoffs lost': 0.009604687004827715, 'Hits against': 0.025373734829445244, 'Error leading to goal': -0.04223785048412083, 'Dump ins': -0.015318984785681403, 'Dump outs': -0.023252581473483143, \"Opponent's goals when on ice\": 0.048390540530504775, 'Power play': 0.02643071924365912, 'Successful power play': -0.017123278658809703, 'Short-handed': 0.00276080452122778, 'Penalty killing': -0.0005475705469285396, 'Missed shots': 0.012797282263176179, '% shots on goal': -0.0005026070491551543, 'Slapshot': 0.01612166513067603, 'Wrist shot': 0.05085571389276421, 'Shootouts': 0.001955657164017964, 'Shootouts scored': 0.0013881208308513333, 'Shootouts missed': 0.0005675363331668369, '1-on-1 shots': -0.007865400264338684, '1-on-1 goals': 0.0027762416617025964, 'Positional attack shots': -0.08370239492288375, 'Shots 5 v 5': 0.01253254995427921, 'Counter-attack shots': 0.006452409242810998, 'xG per shot': -0.011190644194745499, 'xG (Expected goals)': 0.005490735552253836, \"Net xG (xG player on - opp. team's xG)\": 0.008500272954279381, 'Team xG when on ice': -0.024592733144961357, \"Opponent's xG when on ice\": 0.013323833799894675, 'xG conversion': 0.02890470334943172, 'CORSI': -0.0316362219617925, 'CORSI-': -0.03595266187302713, 'CORSI+': 0.028181883380760234, 'CORSI for, %': -0.00693850464575315, 'Fenwick for': 0.0032285732313697734, 'Fenwick against': -0.011213750088772147, 'Fenwick for, %': -0.004000600258163832, 'Puck battles': -0.01034657668127159, 'Puck battles won': -0.009840827136036784, 'Puck battles won, %': 0.001787332565256915, 'Puck battles in DZ': 0.011164363438248743, 'Puck battles in NZ': -0.031775815255072795, 'Puck battles in OZ': 0.024134831348763364, 'Shots blocking': -0.02694753035528854, 'Dekes': -0.003325061846741686, 'Dekes successful': -0.008762310697873265, 'Dekes unsuccessful': 0.009669050145311922, 'Dekes successful, %': -1.271429683255814e-05, 'Passes': 0.005327952598219049, 'Accurate passes': 0.01095069471870584, 'Accurate passes, %': -0.008538688471033035, 'Pre-shots passes': -0.004519595278767059, 'Pass receptions': -0.008864697617103803, 'Scoring chances - total': 0.049697453905974354, 'Scoring chances - scored': 0.06081261497923019, 'Scoring chances missed': 0.0006492929685381148, 'Scoring chances saved': 0.006986966358981484, 'Scoring Chances, %': 0.011800267952087634, 'Inner slot shots - total': 0.04543890390074416, 'Inner slot shots - missed': -0.0014707080496587088, 'Inner slot shots - saved': 0.011666435144290752, 'Inner slot shots, %': 0.017852175896117577, 'Outer slot shots - total': 0.01560259350301691, 'Outer slot shots - missed': 0.004419842770816169, 'Outer slot shots - saved': -0.003591540362865223, 'Outer slot shots, %': 0.027165448392846868, 'Blocked shots from the slot': -0.00776807110636579, 'Blocked shots outside of the slot': -0.0023453961431352524, 'Takeaways': -0.02079866175482855, 'Puck retrievals after shots': 0.02272614394848445, 'Opponent’s dump-in retrievals': 0.023162439445436556, 'Takeaways in DZ': 0.010975033728260468, 'Loose puck recovery': -0.00023415654777798455, 'Takeaways in NZ': 0.017912958128092682, 'Takeaways in OZ': 0.0727803112184096, 'EV DZ retrievals': 0.0003527574606209576, 'Puck losses': -0.0011674071168050453, 'Puck losses in DZ': 0.022855132636971153, 'EV OZ retrievals': 0.01029866548546632, 'Puck losses in NZ': -0.04849565490862751, 'Power play retrievals': 0.020222954117826923, 'Penalty kill retrievals': -0.008180420355100134, 'Puck losses in OZ': -0.008969321332357137, 'Entries': 0.042869010323926156, 'Entries via pass': 0.0035656611761760507, 'Entries via dump in': -0.02271752483201331, 'Entries via stickhandling': 0.01952199952645251, 'Breakouts': 0.04715671123921178, 'Breakouts via pass': 0.010596455311195758, 'Breakouts via dump out': -0.0013949387370007804, 'Breakouts via stickhandling': -0.008276015602810745, 'National team ': 0.0, 'Height': -0.0006481929968053211, 'Weight': 0.0014958166556410827, 'Time on ice_minutes': 0.007890388172233585, 'Time on ice_seconds': 0.00017638566132514855, 'Penalty time_minutes': 0.0025741000275226952, 'Penalty time_seconds': 0.0001175526895219707, 'Puck control time_minutes': 0.0, 'Puck control time_seconds': -0.009979296269071097, 'Power play time_minutes': -0.06563644612985392, 'Power play time_seconds': -0.001685103062577832, 'Short-handed time_minutes': -0.008513844405827113, 'Short-handed time_seconds': -0.00017107053012164683, 'Playing in attack_minutes': 0.02142265747728565, 'Playing in attack_seconds': 0.00034501008159165333, 'Playing in defense_minutes': 0.0017984076310440262, 'Playing in defense_seconds': 2.4575845416471842e-05, 'OZ possession_minutes': -0.017148845107810763, 'OZ possession_seconds': -0.00011062993935461764, 'NZ possession_minutes': 0.0341279924732634, 'NZ possession_seconds': 0.00020898911808793497, 'DZ possession_minutes': -0.0051600143687442444, 'DZ possession_seconds': -0.0003129241686982767, 'Position_D': -0.0019961428342333797, 'Position_F': 0.0019961428342333797, 'Active hand_Left': 0.006918267652602773, 'Active hand_Right': -0.006918267652602619, 'Type_Even Strength': -0.003934650911188602, 'Type_Penalty Kill': 0.005757547480501505, 'Type_Power Play': 0.005713127562659549, 'Type_Total': -0.007536024131972078}\n"
     ]
    }
   ],
   "source": [
    "# Prepare data for linear regression\n",
    "# Define target and columns to drop\n",
    "target = \"Goals\"\n",
    "drop_cols = [\n",
    "    target,\n",
    "    \"Points\",\n",
    "    \"Scoring chances\",\n",
    "    \"Shots conversion 1 on 1, %\",\n",
    "    \"Inner slot shots - scored\",\n",
    "    \"Outer slot shots - scored\",\n",
    "    \"xG per goal\",\n",
    "    \"+/-\",\n",
    "    \"Team goals when on ice\",\n",
    "    \"Plus\"\n",
    "]\n",
    "\n",
    "# Features and target\n",
    "X = skaters_df.drop(columns=drop_cols, errors=\"ignore\")\n",
    "y = skaters_df[target]\n",
    "\n",
    "# Set up cross‐validation and model\n",
    "kf = KFold(n_splits=5, shuffle=True, random_state=42)\n",
    "model = LinearRegression()\n",
    "\n",
    "# Evaluate with MSE\n",
    "mse_scores = -cross_val_score(model, X, y, cv=kf, scoring=\"neg_mean_squared_error\")\n",
    "print(f\"CV mean MSE: {mse_scores.mean():.4f}\")\n",
    "\n",
    "# Train final model on all data\n",
    "model.fit(X, y)\n",
    "print(\"Coefficients:\", dict(zip(X.columns, model.coef_)))"
   ]
  },
  {
   "cell_type": "code",
   "execution_count": 20,
   "id": "417ded15",
   "metadata": {},
   "outputs": [
    {
     "name": "stdout",
     "output_type": "stream",
     "text": [
      "                          Feature  Coefficient  Absolute Coefficient\n",
      "48        Positional attack shots    -0.083702              0.083702\n",
      "101               Takeaways in OZ     0.072780              0.072780\n",
      "127       Power play time_minutes    -0.065636              0.065636\n",
      "81       Scoring chances - scored     0.060813              0.060813\n",
      "42                     Wrist shot     0.050856              0.050856\n",
      "80        Scoring chances - total     0.049697              0.049697\n",
      "106             Puck losses in NZ    -0.048496              0.048496\n",
      "34   Opponent's goals when on ice     0.048391              0.048391\n",
      "114                     Breakouts     0.047157              0.047157\n",
      "85       Inner slot shots - total     0.045439              0.045439\n"
     ]
    }
   ],
   "source": [
    "# Create a DataFrame to display coefficients\n",
    "coef_df = pd.DataFrame({'Feature': X.columns, 'Coefficient': model.coef_})\n",
    "\n",
    "# Sort the DataFrame by absolute coefficient value\n",
    "coef_df['Absolute Coefficient'] = abs(coef_df['Coefficient'])\n",
    "coef_df = coef_df.sort_values(by='Absolute Coefficient', ascending=False)\n",
    "\n",
    "# Get the top N coefficients\n",
    "top_coef_df = coef_df.head(10).copy()\n",
    "\n",
    "print(top_coef_df)"
   ]
  },
  {
   "cell_type": "code",
   "execution_count": 7,
   "id": "7a3b6b35",
   "metadata": {},
   "outputs": [
    {
     "name": "stdout",
     "output_type": "stream",
     "text": [
      "Top 10 coefficients:\n",
      "                          Feature  Coefficient\n",
      "48        Positional attack shots    -0.083702\n",
      "101               Takeaways in OZ     0.072780\n",
      "127       Power play time_minutes    -0.065636\n",
      "81       Scoring chances - scored     0.060813\n",
      "42                     Wrist shot     0.050856\n",
      "80        Scoring chances - total     0.049697\n",
      "106             Puck losses in NZ    -0.048496\n",
      "34   Opponent's goals when on ice     0.048391\n",
      "114                     Breakouts     0.047157\n",
      "85       Inner slot shots - total     0.045439\n"
     ]
    }
   ],
   "source": [
    "# Get coefficients and their corresponding column names\n",
    "coefficients = model.coef_\n",
    "column_names = X.columns\n",
    "\n",
    "# Create a DataFrame to display coefficients\n",
    "coef_df = pd.DataFrame({'Feature': column_names, 'Coefficient': coefficients})\n",
    "\n",
    "# Sort the DataFrame by absolute coefficient value\n",
    "coef_df['Absolute Coefficient'] = abs(coef_df['Coefficient'])\n",
    "coef_df = coef_df.sort_values(by='Absolute Coefficient', ascending=False)\n",
    "\n",
    "# Print the top N coefficients\n",
    "N = 10  # Number of top coefficients to display\n",
    "print(f\"Top {N} coefficients:\")\n",
    "print(coef_df[['Feature', 'Coefficient']].head(N))"
   ]
  },
  {
   "cell_type": "code",
   "execution_count": 28,
   "id": "ddd7673d",
   "metadata": {},
   "outputs": [
    {
     "name": "stdout",
     "output_type": "stream",
     "text": [
      "                            OLS Regression Results                            \n",
      "==============================================================================\n",
      "Dep. Variable:                  Goals   R-squared:                       1.000\n",
      "Model:                            OLS   Adj. R-squared:                  0.999\n",
      "Method:                 Least Squares   F-statistic:                     1958.\n",
      "Date:                Tue, 29 Apr 2025   Prob (F-statistic):           7.99e-20\n",
      "Time:                        13:25:46   Log-Likelihood:                 343.59\n",
      "No. Observations:                  64   AIC:                            -585.2\n",
      "Df Residuals:                      13   BIC:                            -475.1\n",
      "Df Model:                          50                                         \n",
      "Covariance Type:            nonrobust                                         \n",
      "=================================================================================================\n",
      "                                    coef    std err          t      P>|t|      [0.025      0.975]\n",
      "-------------------------------------------------------------------------------------------------\n",
      "const                         -8.181e-05      0.001     -0.075      0.941      -0.002       0.002\n",
      "Positional attack shots           0.0286      0.014      2.096      0.056      -0.001       0.058\n",
      "Takeaways in OZ                   0.0055      0.018      0.310      0.762      -0.033       0.044\n",
      "Power play time_minutes           0.0054      0.005      1.130      0.279      -0.005       0.016\n",
      "Scoring chances - scored          0.8578      0.132      6.497      0.000       0.573       1.143\n",
      "Wrist shot                        0.0183      0.012      1.587      0.136      -0.007       0.043\n",
      "Scoring chances - total          -0.0450      0.026     -1.707      0.112      -0.102       0.012\n",
      "Puck losses in NZ                -0.0141      0.015     -0.912      0.378      -0.047       0.019\n",
      "Opponent's goals when on ice      0.0018      0.016      0.114      0.911      -0.033       0.036\n",
      "Breakouts                         0.0048      0.008      0.623      0.544      -0.012       0.021\n",
      "Inner slot shots - total          0.1435      0.074      1.938      0.075      -0.016       0.304\n",
      "Entries                           0.0061      0.013      0.468      0.648      -0.022       0.034\n",
      "Error leading to goal            -0.0701      0.032     -2.224      0.044      -0.138      -0.002\n",
      "Penalties                        -0.0137      0.024     -0.574      0.576      -0.065       0.038\n",
      "Faceoffs                         -0.0177      0.010     -1.693      0.114      -0.040       0.005\n",
      "Penalties drawn                   0.0509      0.037      1.380      0.191      -0.029       0.131\n",
      "CORSI-                            0.0097      0.016      0.601      0.558      -0.025       0.044\n",
      "NZ possession_minutes             0.0070      0.008      0.892      0.389      -0.010       0.024\n",
      "Assists                          -0.0401      0.055     -0.732      0.477      -0.158       0.078\n",
      "Faceoffs won                      0.0233      0.016      1.431      0.176      -0.012       0.058\n",
      "Puck battles in NZ                0.0087      0.010      0.885      0.392      -0.012       0.030\n",
      "CORSI                             0.0102      0.015      0.692      0.501      -0.022       0.042\n",
      "Faceoffs won in DZ               -0.0055      0.026     -0.209      0.837      -0.063       0.052\n",
      "Passes to the slot               -0.0397      0.030     -1.306      0.214      -0.105       0.026\n",
      "xG conversion                     0.0266      0.004      5.935      0.000       0.017       0.036\n",
      "CORSI+                           -0.0105      0.013     -0.823      0.425      -0.038       0.017\n",
      "Faceoffs won in OZ, %             0.0042      0.005      0.898      0.385      -0.006       0.014\n",
      "Outer slot shots, %               0.0124      0.059      0.211      0.836      -0.115       0.140\n",
      "Shots blocking                    0.0028      0.007      0.386      0.705      -0.013       0.019\n",
      "Power play                        0.0038      0.003      1.449      0.171      -0.002       0.009\n",
      "Faceoffs in DZ                    0.0167      0.014      1.183      0.258      -0.014       0.047\n",
      "Short-handed shots               -0.1006      0.035     -2.888      0.013      -0.176      -0.025\n",
      "Hits against                     -0.0726      0.063     -1.148      0.272      -0.209       0.064\n",
      "Team xG when on ice              -0.0060      0.013     -0.464      0.651      -0.034       0.022\n",
      "Faceoffs won, %                  -0.0055      0.004     -1.484      0.162      -0.013       0.003\n",
      "Puck battles in OZ               -0.0025      0.005     -0.496      0.628      -0.013       0.008\n",
      "Hits                             -0.1187      0.036     -3.270      0.006      -0.197      -0.040\n",
      "Dump outs                         0.0116      0.013      0.893      0.388      -0.016       0.040\n",
      "Opponent’s dump-in retrievals     0.0011      0.015      0.077      0.940      -0.031       0.033\n",
      "Puck losses in DZ                 0.0619      0.016      3.851      0.002       0.027       0.097\n",
      "Puck retrievals after shots       0.0038      0.008      0.493      0.630      -0.013       0.020\n",
      "Entries via dump in               0.0074      0.019      0.400      0.696      -0.033       0.047\n",
      "Playing in attack_minutes        -0.0068      0.002     -2.852      0.014      -0.012      -0.002\n",
      "Takeaways                        -0.0017      0.006     -0.286      0.779      -0.014       0.011\n",
      "Power play retrievals            -0.0711      0.030     -2.378      0.033      -0.136      -0.007\n",
      "Entries via stickhandling         0.0010      0.010      0.097      0.924      -0.021       0.023\n",
      "Takeaways in NZ                  -0.0074      0.015     -0.508      0.620      -0.039       0.024\n",
      "Inner slot shots, %               0.0044      0.006      0.792      0.443      -0.008       0.016\n",
      "Second assist                    -0.1642      0.109     -1.510      0.155      -0.399       0.071\n",
      "OZ possession_minutes            -0.0049      0.008     -0.640      0.533      -0.021       0.012\n",
      "Successful power play            -0.0489      0.066     -0.744      0.470      -0.191       0.093\n",
      "==============================================================================\n",
      "Omnibus:                        1.831   Durbin-Watson:                   1.855\n",
      "Prob(Omnibus):                  0.400   Jarque-Bera (JB):                1.151\n",
      "Skew:                           0.067   Prob(JB):                        0.562\n",
      "Kurtosis:                       3.643   Cond. No.                     9.41e+03\n",
      "==============================================================================\n",
      "\n",
      "Notes:\n",
      "[1] Standard Errors assume that the covariance matrix of the errors is correctly specified.\n",
      "[2] The condition number is large, 9.41e+03. This might indicate that there are\n",
      "strong multicollinearity or other numerical problems.\n"
     ]
    },
    {
     "data": {
      "image/png": "[encoded data removed]",
      "text/plain": [
       "<Figure size 1000x600 with 1 Axes>"
      ]
     },
     "metadata": {},
     "output_type": "display_data"
    }
   ],
   "source": [
    "from sklearn.model_selection import train_test_split\n",
    "\n",
    "import statsmodels.api as sm\n",
    "\n",
    "# Select the top N features based on absolute coefficient values\n",
    "N = 50  # You can adjust the number of top features to use\n",
    "top_features = coef_df.head(N)['Feature'].tolist()\n",
    "\n",
    "# Prepare the data using only the top features\n",
    "X_top = X[top_features]\n",
    "\n",
    "# Add a constant to the independent variables\n",
    "X_top = sm.add_constant(X_top)\n",
    "\n",
    "# Split the data into training and testing sets\n",
    "X_train, X_test, y_train, y_test = train_test_split(X_top, y, test_size=0.2, random_state=42)\n",
    "\n",
    "# Train the multiple linear regression model\n",
    "model = sm.OLS(y_train, X_train).fit()\n",
    "\n",
    "# Print the model summary\n",
    "print(model.summary())\n",
    "\n",
    "# Make predictions on the test set\n",
    "y_pred = model.predict(X_test)\n",
    "\n",
    "# Create a DataFrame for actual vs predicted values\n",
    "predictions_df = pd.DataFrame({'Actual': y_test, 'Predicted': y_pred})\n",
    "\n",
    "# Plotting actual vs predicted values\n",
    "plt.figure(figsize=(10, 6))\n",
    "plt.scatter(y_test, y_pred, alpha=0.7)\n",
    "plt.plot(\n",
    "    [y_test.min(), y_test.max()],\n",
    "    [y_test.min(), y_test.max()],\n",
    "    'k--',\n",
    "    lw=2\n",
    ")  # Diagonal line\n",
    "plt.xlabel('Actual')\n",
    "plt.ylabel('Predicted')\n",
    "plt.title('Actual vs Predicted Goals')\n",
    "plt.show()"
   ]
  },
  {
   "cell_type": "code",
   "execution_count": 23,
   "id": "339d2fe1",
   "metadata": {},
   "outputs": [
    {
     "name": "stdout",
     "output_type": "stream",
     "text": [
      "Mean Squared Error on the test set: 0.0001\n",
      "    Actual  Predicted\n",
      "30    0.00  -0.002676\n",
      "0     0.04   0.055112\n",
      "22    0.08   0.072335\n",
      "31    0.00  -0.002285\n",
      "18    0.00   0.004031\n",
      "28    0.00  -0.002322\n",
      "10    0.00   0.001997\n",
      "70    0.00   0.006878\n",
      "4     0.13   0.124003\n",
      "12    0.00   0.000935\n",
      "49    0.00   0.002896\n",
      "33    0.00  -0.002285\n",
      "67    0.09   0.099754\n",
      "35    0.00  -0.001064\n",
      "68    0.08   0.090845\n",
      "45    0.04   0.009301\n"
     ]
    }
   ],
   "source": [
    "from sklearn.model_selection import train_test_split\n",
    "from sklearn.linear_model import LinearRegression\n",
    "from sklearn.metrics import mean_squared_error\n",
    "\n",
    "# Select the top N features based on absolute coefficient values\n",
    "N = 5  # You can adjust the number of top features to use\n",
    "top_features = coef_df.head(N)['Feature'].tolist()\n",
    "\n",
    "# Prepare the data using only the top features\n",
    "X_top = X[top_features]\n",
    "\n",
    "# Split the data into training and testing sets\n",
    "X_train, X_test, y_train, y_test = train_test_split(X_top, y, test_size=0.2, random_state=42)\n",
    "\n",
    "# Train a linear regression model\n",
    "model_top = LinearRegression()\n",
    "model_top.fit(X_train, y_train)\n",
    "\n",
    "# Make predictions on the test set\n",
    "y_pred = model_top.predict(X_test)\n",
    "\n",
    "# Evaluate the model\n",
    "mse = mean_squared_error(y_test, y_pred)\n",
    "print(f\"Mean Squared Error on the test set: {mse:.4f}\")\n",
    "\n",
    "# Display the predictions vs actual values\n",
    "predictions_df = pd.DataFrame({'Actual': y_test, 'Predicted': y_pred})\n",
    "print(predictions_df)"
   ]
  },
  {
   "cell_type": "code",
   "execution_count": 21,
   "id": "a024e236",
   "metadata": {},
   "outputs": [
    {
     "data": {
      "application/vnd.plotly.v1+json": {
       "config": {
        "plotlyServerURL": "https://plot.ly"
       },
       "data": [
        {
         "customdata": {
          "bdata": "1mjKKIVttT8jzHkAu6GyP9yqjdWMzbA/0UEKwdQirz8u4/eXwgmqPxD2cNbxcak/4UupJ2zUqD/GTwcapcaoP4hgHqnsJKg/ZodwnMRDpz8=",
          "dtype": "f8",
          "shape": "10, 1"
         },
         "hovertemplate": "Coefficient Value=%{marker.color}<br>Feature=%{y}<br>Magnitude=%{customdata[0]}<extra></extra>",
         "legendgroup": "",
         "marker": {
          "color": {
           "bdata": "1mjKKIVttb8jzHkAu6GyP9yqjdWMzbC/0UEKwdQirz8u4/eXwgmqPxD2cNbxcak/4UupJ2zUqL/GTwcapcaoP4hgHqnsJKg/ZodwnMRDpz8=",
           "dtype": "f8"
          },
          "coloraxis": "coloraxis",
          "size": {
           "bdata": "1mjKKIVttT8jzHkAu6GyP9yqjdWMzbA/0UEKwdQirz8u4/eXwgmqPxD2cNbxcak/4UupJ2zUqD/GTwcapcaoP4hgHqnsJKg/ZodwnMRDpz8=",
           "dtype": "f8"
          },
          "sizemode": "area",
          "sizeref": 0.0002092559873072094,
          "symbol": "circle"
         },
         "mode": "markers",
         "name": "",
         "orientation": "h",
         "showlegend": false,
         "type": "scatter",
         "x": {
          "bdata": "1mjKKIVttb8jzHkAu6GyP9yqjdWMzbC/0UEKwdQirz8u4/eXwgmqPxD2cNbxcak/4UupJ2zUqL/GTwcapcaoP4hgHqnsJKg/ZodwnMRDpz8=",
          "dtype": "f8"
         },
         "xaxis": "x",
         "y": [
          "Positional attack shots",
          "Takeaways in OZ",
          "Power play time_minutes",
          "Scoring chances - scored",
          "Wrist shot",
          "Scoring chances - total",
          "Puck losses in NZ",
          "Opponent's goals when on ice",
          "Breakouts",
          "Inner slot shots - total"
         ],
         "yaxis": "y"
        }
       ],
       "layout": {
        "coloraxis": {
         "colorbar": {
          "title": {
           "text": "Coefficient Value"
          }
         },
         "colorscale": [
          [
           0,
           "rgb(103,0,31)"
          ],
          [
           0.1,
           "rgb(178,24,43)"
          ],
          [
           0.2,
           "rgb(214,96,77)"
          ],
          [
           0.3,
           "rgb(244,165,130)"
          ],
          [
           0.4,
           "rgb(253,219,199)"
          ],
          [
           0.5,
           "rgb(247,247,247)"
          ],
          [
           0.6,
           "rgb(209,229,240)"
          ],
          [
           0.7,
           "rgb(146,197,222)"
          ],
          [
           0.8,
           "rgb(67,147,195)"
          ],
          [
           0.9,
           "rgb(33,102,172)"
          ],
          [
           1,
           "rgb(5,48,97)"
          ]
         ]
        },
        "height": 600,
        "legend": {
         "itemsizing": "constant",
         "tracegroupgap": 0
        },
        "template": {
         "data": {
          "bar": [
           {
            "error_x": {
             "color": "#2a3f5f"
            },
            "error_y": {
             "color": "#2a3f5f"
            },
            "marker": {
             "line": {
              "color": "#E5ECF6",
              "width": 0.5
             },
             "pattern": {
              "fillmode": "overlay",
              "size": 10,
              "solidity": 0.2
             }
            },
            "type": "bar"
           }
          ],
          "barpolar": [
           {
            "marker": {
             "line": {
              "color": "#E5ECF6",
              "width": 0.5
             },
             "pattern": {
              "fillmode": "overlay",
              "size": 10,
              "solidity": 0.2
             }
            },
            "type": "barpolar"
           }
          ],
          "carpet": [
           {
            "aaxis": {
             "endlinecolor": "#2a3f5f",
             "gridcolor": "white",
             "linecolor": "white",
             "minorgridcolor": "white",
             "startlinecolor": "#2a3f5f"
            },
            "baxis": {
             "endlinecolor": "#2a3f5f",
             "gridcolor": "white",
             "linecolor": "white",
             "minorgridcolor": "white",
             "startlinecolor": "#2a3f5f"
            },
            "type": "carpet"
           }
          ],
          "choropleth": [
           {
            "colorbar": {
             "outlinewidth": 0,
             "ticks": ""
            },
            "type": "choropleth"
           }
          ],
          "contour": [
           {
            "colorbar": {
             "outlinewidth": 0,
             "ticks": ""
            },
            "colorscale": [
             [
              0,
              "#0d0887"
             ],
             [
              0.1111111111111111,
              "#46039f"
             ],
             [
              0.2222222222222222,
              "#7201a8"
             ],
             [
              0.3333333333333333,
              "#9c179e"
             ],
             [
              0.4444444444444444,
              "#bd3786"
             ],
             [
              0.5555555555555556,
              "#d8576b"
             ],
             [
              0.6666666666666666,
              "#ed7953"
             ],
             [
              0.7777777777777778,
              "#fb9f3a"
             ],
             [
              0.8888888888888888,
              "#fdca26"
             ],
             [
              1,
              "#f0f921"
             ]
            ],
            "type": "contour"
           }
          ],
          "contourcarpet": [
           {
            "colorbar": {
             "outlinewidth": 0,
             "ticks": ""
            },
            "type": "contourcarpet"
           }
          ],
          "heatmap": [
           {
            "colorbar": {
             "outlinewidth": 0,
             "ticks": ""
            },
            "colorscale": [
             [
              0,
              "#0d0887"
             ],
             [
              0.1111111111111111,
              "#46039f"
             ],
             [
              0.2222222222222222,
              "#7201a8"
             ],
             [
              0.3333333333333333,
              "#9c179e"
             ],
             [
              0.4444444444444444,
              "#bd3786"
             ],
             [
              0.5555555555555556,
              "#d8576b"
             ],
             [
              0.6666666666666666,
              "#ed7953"
             ],
             [
              0.7777777777777778,
              "#fb9f3a"
             ],
             [
              0.8888888888888888,
              "#fdca26"
             ],
             [
              1,
              "#f0f921"
             ]
            ],
            "type": "heatmap"
           }
          ],
          "histogram": [
           {
            "marker": {
             "pattern": {
              "fillmode": "overlay",
              "size": 10,
              "solidity": 0.2
             }
            },
            "type": "histogram"
           }
          ],
          "histogram2d": [
           {
            "colorbar": {
             "outlinewidth": 0,
             "ticks": ""
            },
            "colorscale": [
             [
              0,
              "#0d0887"
             ],
             [
              0.1111111111111111,
              "#46039f"
             ],
             [
              0.2222222222222222,
              "#7201a8"
             ],
             [
              0.3333333333333333,
              "#9c179e"
             ],
             [
              0.4444444444444444,
              "#bd3786"
             ],
             [
              0.5555555555555556,
              "#d8576b"
             ],
             [
              0.6666666666666666,
              "#ed7953"
             ],
             [
              0.7777777777777778,
              "#fb9f3a"
             ],
             [
              0.8888888888888888,
              "#fdca26"
             ],
             [
              1,
              "#f0f921"
             ]
            ],
            "type": "histogram2d"
           }
          ],
          "histogram2dcontour": [
           {
            "colorbar": {
             "outlinewidth": 0,
             "ticks": ""
            },
            "colorscale": [
             [
              0,
              "#0d0887"
             ],
             [
              0.1111111111111111,
              "#46039f"
             ],
             [
              0.2222222222222222,
              "#7201a8"
             ],
             [
              0.3333333333333333,
              "#9c179e"
             ],
             [
              0.4444444444444444,
              "#bd3786"
             ],
             [
              0.5555555555555556,
              "#d8576b"
             ],
             [
              0.6666666666666666,
              "#ed7953"
             ],
             [
              0.7777777777777778,
              "#fb9f3a"
             ],
             [
              0.8888888888888888,
              "#fdca26"
             ],
             [
              1,
              "#f0f921"
             ]
            ],
            "type": "histogram2dcontour"
           }
          ],
          "mesh3d": [
           {
            "colorbar": {
             "outlinewidth": 0,
             "ticks": ""
            },
            "type": "mesh3d"
           }
          ],
          "parcoords": [
           {
            "line": {
             "colorbar": {
              "outlinewidth": 0,
              "ticks": ""
             }
            },
            "type": "parcoords"
           }
          ],
          "pie": [
           {
            "automargin": true,
            "type": "pie"
           }
          ],
          "scatter": [
           {
            "fillpattern": {
             "fillmode": "overlay",
             "size": 10,
             "solidity": 0.2
            },
            "type": "scatter"
           }
          ],
          "scatter3d": [
           {
            "line": {
             "colorbar": {
              "outlinewidth": 0,
              "ticks": ""
             }
            },
            "marker": {
             "colorbar": {
              "outlinewidth": 0,
              "ticks": ""
             }
            },
            "type": "scatter3d"
           }
          ],
          "scattercarpet": [
           {
            "marker": {
             "colorbar": {
              "outlinewidth": 0,
              "ticks": ""
             }
            },
            "type": "scattercarpet"
           }
          ],
          "scattergeo": [
           {
            "marker": {
             "colorbar": {
              "outlinewidth": 0,
              "ticks": ""
             }
            },
            "type": "scattergeo"
           }
          ],
          "scattergl": [
           {
            "marker": {
             "colorbar": {
              "outlinewidth": 0,
              "ticks": ""
             }
            },
            "type": "scattergl"
           }
          ],
          "scattermap": [
           {
            "marker": {
             "colorbar": {
              "outlinewidth": 0,
              "ticks": ""
             }
            },
            "type": "scattermap"
           }
          ],
          "scattermapbox": [
           {
            "marker": {
             "colorbar": {
              "outlinewidth": 0,
              "ticks": ""
             }
            },
            "type": "scattermapbox"
           }
          ],
          "scatterpolar": [
           {
            "marker": {
             "colorbar": {
              "outlinewidth": 0,
              "ticks": ""
             }
            },
            "type": "scatterpolar"
           }
          ],
          "scatterpolargl": [
           {
            "marker": {
             "colorbar": {
              "outlinewidth": 0,
              "ticks": ""
             }
            },
            "type": "scatterpolargl"
           }
          ],
          "scatterternary": [
           {
            "marker": {
             "colorbar": {
              "outlinewidth": 0,
              "ticks": ""
             }
            },
            "type": "scatterternary"
           }
          ],
          "surface": [
           {
            "colorbar": {
             "outlinewidth": 0,
             "ticks": ""
            },
            "colorscale": [
             [
              0,
              "#0d0887"
             ],
             [
              0.1111111111111111,
              "#46039f"
             ],
             [
              0.2222222222222222,
              "#7201a8"
             ],
             [
              0.3333333333333333,
              "#9c179e"
             ],
             [
              0.4444444444444444,
              "#bd3786"
             ],
             [
              0.5555555555555556,
              "#d8576b"
             ],
             [
              0.6666666666666666,
              "#ed7953"
             ],
             [
              0.7777777777777778,
              "#fb9f3a"
             ],
             [
              0.8888888888888888,
              "#fdca26"
             ],
             [
              1,
              "#f0f921"
             ]
            ],
            "type": "surface"
           }
          ],
          "table": [
           {
            "cells": {
             "fill": {
              "color": "#EBF0F8"
             },
             "line": {
              "color": "white"
             }
            },
            "header": {
             "fill": {
              "color": "#C8D4E3"
             },
             "line": {
              "color": "white"
             }
            },
            "type": "table"
           }
          ]
         },
         "layout": {
          "annotationdefaults": {
           "arrowcolor": "#2a3f5f",
           "arrowhead": 0,
           "arrowwidth": 1
          },
          "autotypenumbers": "strict",
          "coloraxis": {
           "colorbar": {
            "outlinewidth": 0,
            "ticks": ""
           }
          },
          "colorscale": {
           "diverging": [
            [
             0,
             "#8e0152"
            ],
            [
             0.1,
             "#c51b7d"
            ],
            [
             0.2,
             "#de77ae"
            ],
            [
             0.3,
             "#f1b6da"
            ],
            [
             0.4,
             "#fde0ef"
            ],
            [
             0.5,
             "#f7f7f7"
            ],
            [
             0.6,
             "#e6f5d0"
            ],
            [
             0.7,
             "#b8e186"
            ],
            [
             0.8,
             "#7fbc41"
            ],
            [
             0.9,
             "#4d9221"
            ],
            [
             1,
             "#276419"
            ]
           ],
           "sequential": [
            [
             0,
             "#0d0887"
            ],
            [
             0.1111111111111111,
             "#46039f"
            ],
            [
             0.2222222222222222,
             "#7201a8"
            ],
            [
             0.3333333333333333,
             "#9c179e"
            ],
            [
             0.4444444444444444,
             "#bd3786"
            ],
            [
             0.5555555555555556,
             "#d8576b"
            ],
            [
             0.6666666666666666,
             "#ed7953"
            ],
            [
             0.7777777777777778,
             "#fb9f3a"
            ],
            [
             0.8888888888888888,
             "#fdca26"
            ],
            [
             1,
             "#f0f921"
            ]
           ],
           "sequentialminus": [
            [
             0,
             "#0d0887"
            ],
            [
             0.1111111111111111,
             "#46039f"
            ],
            [
             0.2222222222222222,
             "#7201a8"
            ],
            [
             0.3333333333333333,
             "#9c179e"
            ],
            [
             0.4444444444444444,
             "#bd3786"
            ],
            [
             0.5555555555555556,
             "#d8576b"
            ],
            [
             0.6666666666666666,
             "#ed7953"
            ],
            [
             0.7777777777777778,
             "#fb9f3a"
            ],
            [
             0.8888888888888888,
             "#fdca26"
            ],
            [
             1,
             "#f0f921"
            ]
           ]
          },
          "colorway": [
           "#636efa",
           "#EF553B",
           "#00cc96",
           "#ab63fa",
           "#FFA15A",
           "#19d3f3",
           "#FF6692",
           "#B6E880",
           "#FF97FF",
           "#FECB52"
          ],
          "font": {
           "color": "#2a3f5f"
          },
          "geo": {
           "bgcolor": "white",
           "lakecolor": "white",
           "landcolor": "#E5ECF6",
           "showlakes": true,
           "showland": true,
           "subunitcolor": "white"
          },
          "hoverlabel": {
           "align": "left"
          },
          "hovermode": "closest",
          "mapbox": {
           "style": "light"
          },
          "paper_bgcolor": "white",
          "plot_bgcolor": "#E5ECF6",
          "polar": {
           "angularaxis": {
            "gridcolor": "white",
            "linecolor": "white",
            "ticks": ""
           },
           "bgcolor": "#E5ECF6",
           "radialaxis": {
            "gridcolor": "white",
            "linecolor": "white",
            "ticks": ""
           }
          },
          "scene": {
           "xaxis": {
            "backgroundcolor": "#E5ECF6",
            "gridcolor": "white",
            "gridwidth": 2,
            "linecolor": "white",
            "showbackground": true,
            "ticks": "",
            "zerolinecolor": "white"
           },
           "yaxis": {
            "backgroundcolor": "#E5ECF6",
            "gridcolor": "white",
            "gridwidth": 2,
            "linecolor": "white",
            "showbackground": true,
            "ticks": "",
            "zerolinecolor": "white"
           },
           "zaxis": {
            "backgroundcolor": "#E5ECF6",
            "gridcolor": "white",
            "gridwidth": 2,
            "linecolor": "white",
            "showbackground": true,
            "ticks": "",
            "zerolinecolor": "white"
           }
          },
          "shapedefaults": {
           "line": {
            "color": "#2a3f5f"
           }
          },
          "ternary": {
           "aaxis": {
            "gridcolor": "white",
            "linecolor": "white",
            "ticks": ""
           },
           "baxis": {
            "gridcolor": "white",
            "linecolor": "white",
            "ticks": ""
           },
           "bgcolor": "#E5ECF6",
           "caxis": {
            "gridcolor": "white",
            "linecolor": "white",
            "ticks": ""
           }
          },
          "title": {
           "x": 0.05
          },
          "xaxis": {
           "automargin": true,
           "gridcolor": "white",
           "linecolor": "white",
           "ticks": "",
           "title": {
            "standoff": 15
           },
           "zerolinecolor": "white",
           "zerolinewidth": 2
          },
          "yaxis": {
           "automargin": true,
           "gridcolor": "white",
           "linecolor": "white",
           "ticks": "",
           "title": {
            "standoff": 15
           },
           "zerolinecolor": "white",
           "zerolinewidth": 2
          }
         }
        },
        "title": {
         "text": "Coefficient Magnitude Plot",
         "x": 0.5
        },
        "width": 800,
        "xaxis": {
         "anchor": "y",
         "domain": [
          0,
          1
         ],
         "title": {
          "text": "Coefficient Value"
         }
        },
        "yaxis": {
         "anchor": "x",
         "domain": [
          0,
          1
         ],
         "title": {
          "text": "Feature"
         }
        }
       }
      }
     },
     "metadata": {},
     "output_type": "display_data"
    }
   ],
   "source": [
    "# Create a Coefficient Magnitude Plot\n",
    "top_coef_df['Magnitude'] = top_coef_df['Coefficient'].abs()\n",
    "\n",
    "fig = px.scatter(\n",
    "    top_coef_df,\n",
    "    x='Coefficient',\n",
    "    y='Feature',\n",
    "    size='Magnitude',\n",
    "    color='Coefficient',\n",
    "    hover_data=['Coefficient', 'Magnitude'],\n",
    "    title='Coefficient Magnitude Plot',\n",
    "    labels={'Coefficient': 'Coefficient Value', 'Feature': 'Feature'},\n",
    "    color_continuous_scale=px.colors.diverging.RdBu\n",
    ")\n",
    "\n",
    "fig.update_layout(\n",
    "    xaxis_title=\"Coefficient Value\",\n",
    "    yaxis_title=\"Feature\",\n",
    "    title_x=0.5,\n",
    "    height=600,\n",
    "    width=800\n",
    ")\n",
    "\n",
    "fig.show()"
   ]
  },
  {
   "cell_type": "code",
   "execution_count": 22,
   "id": "fe0c2aee",
   "metadata": {},
   "outputs": [
    {
     "data": {
      "application/vnd.plotly.v1+json": {
       "config": {
        "plotlyServerURL": "https://plot.ly"
       },
       "data": [
        {
         "hovertemplate": "Feature=%{x}<br>Coefficient Value=%{y}<extra></extra>",
         "legendgroup": "",
         "marker": {
          "color": "#636efa",
          "pattern": {
           "shape": ""
          }
         },
         "name": "",
         "orientation": "v",
         "showlegend": false,
         "textposition": "auto",
         "type": "bar",
         "x": [
          "Positional attack shots",
          "Takeaways in OZ",
          "Power play time_minutes",
          "Scoring chances - scored",
          "Wrist shot",
          "Scoring chances - total",
          "Puck losses in NZ",
          "Opponent's goals when on ice",
          "Breakouts",
          "Inner slot shots - total"
         ],
         "xaxis": "x",
         "y": {
          "bdata": "1mjKKIVttb8jzHkAu6GyP9yqjdWMzbC/0UEKwdQirz8u4/eXwgmqPxD2cNbxcak/4UupJ2zUqL/GTwcapcaoP4hgHqnsJKg/ZodwnMRDpz8=",
          "dtype": "f8"
         },
         "yaxis": "y"
        }
       ],
       "layout": {
        "barmode": "relative",
        "legend": {
         "tracegroupgap": 0
        },
        "template": {
         "data": {
          "bar": [
           {
            "error_x": {
             "color": "#2a3f5f"
            },
            "error_y": {
             "color": "#2a3f5f"
            },
            "marker": {
             "line": {
              "color": "#E5ECF6",
              "width": 0.5
             },
             "pattern": {
              "fillmode": "overlay",
              "size": 10,
              "solidity": 0.2
             }
            },
            "type": "bar"
           }
          ],
          "barpolar": [
           {
            "marker": {
             "line": {
              "color": "#E5ECF6",
              "width": 0.5
             },
             "pattern": {
              "fillmode": "overlay",
              "size": 10,
              "solidity": 0.2
             }
            },
            "type": "barpolar"
           }
          ],
          "carpet": [
           {
            "aaxis": {
             "endlinecolor": "#2a3f5f",
             "gridcolor": "white",
             "linecolor": "white",
             "minorgridcolor": "white",
             "startlinecolor": "#2a3f5f"
            },
            "baxis": {
             "endlinecolor": "#2a3f5f",
             "gridcolor": "white",
             "linecolor": "white",
             "minorgridcolor": "white",
             "startlinecolor": "#2a3f5f"
            },
            "type": "carpet"
           }
          ],
          "choropleth": [
           {
            "colorbar": {
             "outlinewidth": 0,
             "ticks": ""
            },
            "type": "choropleth"
           }
          ],
          "contour": [
           {
            "colorbar": {
             "outlinewidth": 0,
             "ticks": ""
            },
            "colorscale": [
             [
              0,
              "#0d0887"
             ],
             [
              0.1111111111111111,
              "#46039f"
             ],
             [
              0.2222222222222222,
              "#7201a8"
             ],
             [
              0.3333333333333333,
              "#9c179e"
             ],
             [
              0.4444444444444444,
              "#bd3786"
             ],
             [
              0.5555555555555556,
              "#d8576b"
             ],
             [
              0.6666666666666666,
              "#ed7953"
             ],
             [
              0.7777777777777778,
              "#fb9f3a"
             ],
             [
              0.8888888888888888,
              "#fdca26"
             ],
             [
              1,
              "#f0f921"
             ]
            ],
            "type": "contour"
           }
          ],
          "contourcarpet": [
           {
            "colorbar": {
             "outlinewidth": 0,
             "ticks": ""
            },
            "type": "contourcarpet"
           }
          ],
          "heatmap": [
           {
            "colorbar": {
             "outlinewidth": 0,
             "ticks": ""
            },
            "colorscale": [
             [
              0,
              "#0d0887"
             ],
             [
              0.1111111111111111,
              "#46039f"
             ],
             [
              0.2222222222222222,
              "#7201a8"
             ],
             [
              0.3333333333333333,
              "#9c179e"
             ],
             [
              0.4444444444444444,
              "#bd3786"
             ],
             [
              0.5555555555555556,
              "#d8576b"
             ],
             [
              0.6666666666666666,
              "#ed7953"
             ],
             [
              0.7777777777777778,
              "#fb9f3a"
             ],
             [
              0.8888888888888888,
              "#fdca26"
             ],
             [
              1,
              "#f0f921"
             ]
            ],
            "type": "heatmap"
           }
          ],
          "histogram": [
           {
            "marker": {
             "pattern": {
              "fillmode": "overlay",
              "size": 10,
              "solidity": 0.2
             }
            },
            "type": "histogram"
           }
          ],
          "histogram2d": [
           {
            "colorbar": {
             "outlinewidth": 0,
             "ticks": ""
            },
            "colorscale": [
             [
              0,
              "#0d0887"
             ],
             [
              0.1111111111111111,
              "#46039f"
             ],
             [
              0.2222222222222222,
              "#7201a8"
             ],
             [
              0.3333333333333333,
              "#9c179e"
             ],
             [
              0.4444444444444444,
              "#bd3786"
             ],
             [
              0.5555555555555556,
              "#d8576b"
             ],
             [
              0.6666666666666666,
              "#ed7953"
             ],
             [
              0.7777777777777778,
              "#fb9f3a"
             ],
             [
              0.8888888888888888,
              "#fdca26"
             ],
             [
              1,
              "#f0f921"
             ]
            ],
            "type": "histogram2d"
           }
          ],
          "histogram2dcontour": [
           {
            "colorbar": {
             "outlinewidth": 0,
             "ticks": ""
            },
            "colorscale": [
             [
              0,
              "#0d0887"
             ],
             [
              0.1111111111111111,
              "#46039f"
             ],
             [
              0.2222222222222222,
              "#7201a8"
             ],
             [
              0.3333333333333333,
              "#9c179e"
             ],
             [
              0.4444444444444444,
              "#bd3786"
             ],
             [
              0.5555555555555556,
              "#d8576b"
             ],
             [
              0.6666666666666666,
              "#ed7953"
             ],
             [
              0.7777777777777778,
              "#fb9f3a"
             ],
             [
              0.8888888888888888,
              "#fdca26"
             ],
             [
              1,
              "#f0f921"
             ]
            ],
            "type": "histogram2dcontour"
           }
          ],
          "mesh3d": [
           {
            "colorbar": {
             "outlinewidth": 0,
             "ticks": ""
            },
            "type": "mesh3d"
           }
          ],
          "parcoords": [
           {
            "line": {
             "colorbar": {
              "outlinewidth": 0,
              "ticks": ""
             }
            },
            "type": "parcoords"
           }
          ],
          "pie": [
           {
            "automargin": true,
            "type": "pie"
           }
          ],
          "scatter": [
           {
            "fillpattern": {
             "fillmode": "overlay",
             "size": 10,
             "solidity": 0.2
            },
            "type": "scatter"
           }
          ],
          "scatter3d": [
           {
            "line": {
             "colorbar": {
              "outlinewidth": 0,
              "ticks": ""
             }
            },
            "marker": {
             "colorbar": {
              "outlinewidth": 0,
              "ticks": ""
             }
            },
            "type": "scatter3d"
           }
          ],
          "scattercarpet": [
           {
            "marker": {
             "colorbar": {
              "outlinewidth": 0,
              "ticks": ""
             }
            },
            "type": "scattercarpet"
           }
          ],
          "scattergeo": [
           {
            "marker": {
             "colorbar": {
              "outlinewidth": 0,
              "ticks": ""
             }
            },
            "type": "scattergeo"
           }
          ],
          "scattergl": [
           {
            "marker": {
             "colorbar": {
              "outlinewidth": 0,
              "ticks": ""
             }
            },
            "type": "scattergl"
           }
          ],
          "scattermap": [
           {
            "marker": {
             "colorbar": {
              "outlinewidth": 0,
              "ticks": ""
             }
            },
            "type": "scattermap"
           }
          ],
          "scattermapbox": [
           {
            "marker": {
             "colorbar": {
              "outlinewidth": 0,
              "ticks": ""
             }
            },
            "type": "scattermapbox"
           }
          ],
          "scatterpolar": [
           {
            "marker": {
             "colorbar": {
              "outlinewidth": 0,
              "ticks": ""
             }
            },
            "type": "scatterpolar"
           }
          ],
          "scatterpolargl": [
           {
            "marker": {
             "colorbar": {
              "outlinewidth": 0,
              "ticks": ""
             }
            },
            "type": "scatterpolargl"
           }
          ],
          "scatterternary": [
           {
            "marker": {
             "colorbar": {
              "outlinewidth": 0,
              "ticks": ""
             }
            },
            "type": "scatterternary"
           }
          ],
          "surface": [
           {
            "colorbar": {
             "outlinewidth": 0,
             "ticks": ""
            },
            "colorscale": [
             [
              0,
              "#0d0887"
             ],
             [
              0.1111111111111111,
              "#46039f"
             ],
             [
              0.2222222222222222,
              "#7201a8"
             ],
             [
              0.3333333333333333,
              "#9c179e"
             ],
             [
              0.4444444444444444,
              "#bd3786"
             ],
             [
              0.5555555555555556,
              "#d8576b"
             ],
             [
              0.6666666666666666,
              "#ed7953"
             ],
             [
              0.7777777777777778,
              "#fb9f3a"
             ],
             [
              0.8888888888888888,
              "#fdca26"
             ],
             [
              1,
              "#f0f921"
             ]
            ],
            "type": "surface"
           }
          ],
          "table": [
           {
            "cells": {
             "fill": {
              "color": "#EBF0F8"
             },
             "line": {
              "color": "white"
             }
            },
            "header": {
             "fill": {
              "color": "#C8D4E3"
             },
             "line": {
              "color": "white"
             }
            },
            "type": "table"
           }
          ]
         },
         "layout": {
          "annotationdefaults": {
           "arrowcolor": "#2a3f5f",
           "arrowhead": 0,
           "arrowwidth": 1
          },
          "autotypenumbers": "strict",
          "coloraxis": {
           "colorbar": {
            "outlinewidth": 0,
            "ticks": ""
           }
          },
          "colorscale": {
           "diverging": [
            [
             0,
             "#8e0152"
            ],
            [
             0.1,
             "#c51b7d"
            ],
            [
             0.2,
             "#de77ae"
            ],
            [
             0.3,
             "#f1b6da"
            ],
            [
             0.4,
             "#fde0ef"
            ],
            [
             0.5,
             "#f7f7f7"
            ],
            [
             0.6,
             "#e6f5d0"
            ],
            [
             0.7,
             "#b8e186"
            ],
            [
             0.8,
             "#7fbc41"
            ],
            [
             0.9,
             "#4d9221"
            ],
            [
             1,
             "#276419"
            ]
           ],
           "sequential": [
            [
             0,
             "#0d0887"
            ],
            [
             0.1111111111111111,
             "#46039f"
            ],
            [
             0.2222222222222222,
             "#7201a8"
            ],
            [
             0.3333333333333333,
             "#9c179e"
            ],
            [
             0.4444444444444444,
             "#bd3786"
            ],
            [
             0.5555555555555556,
             "#d8576b"
            ],
            [
             0.6666666666666666,
             "#ed7953"
            ],
            [
             0.7777777777777778,
             "#fb9f3a"
            ],
            [
             0.8888888888888888,
             "#fdca26"
            ],
            [
             1,
             "#f0f921"
            ]
           ],
           "sequentialminus": [
            [
             0,
             "#0d0887"
            ],
            [
             0.1111111111111111,
             "#46039f"
            ],
            [
             0.2222222222222222,
             "#7201a8"
            ],
            [
             0.3333333333333333,
             "#9c179e"
            ],
            [
             0.4444444444444444,
             "#bd3786"
            ],
            [
             0.5555555555555556,
             "#d8576b"
            ],
            [
             0.6666666666666666,
             "#ed7953"
            ],
            [
             0.7777777777777778,
             "#fb9f3a"
            ],
            [
             0.8888888888888888,
             "#fdca26"
            ],
            [
             1,
             "#f0f921"
            ]
           ]
          },
          "colorway": [
           "#636efa",
           "#EF553B",
           "#00cc96",
           "#ab63fa",
           "#FFA15A",
           "#19d3f3",
           "#FF6692",
           "#B6E880",
           "#FF97FF",
           "#FECB52"
          ],
          "font": {
           "color": "#2a3f5f"
          },
          "geo": {
           "bgcolor": "white",
           "lakecolor": "white",
           "landcolor": "#E5ECF6",
           "showlakes": true,
           "showland": true,
           "subunitcolor": "white"
          },
          "hoverlabel": {
           "align": "left"
          },
          "hovermode": "closest",
          "mapbox": {
           "style": "light"
          },
          "paper_bgcolor": "white",
          "plot_bgcolor": "#E5ECF6",
          "polar": {
           "angularaxis": {
            "gridcolor": "white",
            "linecolor": "white",
            "ticks": ""
           },
           "bgcolor": "#E5ECF6",
           "radialaxis": {
            "gridcolor": "white",
            "linecolor": "white",
            "ticks": ""
           }
          },
          "scene": {
           "xaxis": {
            "backgroundcolor": "#E5ECF6",
            "gridcolor": "white",
            "gridwidth": 2,
            "linecolor": "white",
            "showbackground": true,
            "ticks": "",
            "zerolinecolor": "white"
           },
           "yaxis": {
            "backgroundcolor": "#E5ECF6",
            "gridcolor": "white",
            "gridwidth": 2,
            "linecolor": "white",
            "showbackground": true,
            "ticks": "",
            "zerolinecolor": "white"
           },
           "zaxis": {
            "backgroundcolor": "#E5ECF6",
            "gridcolor": "white",
            "gridwidth": 2,
            "linecolor": "white",
            "showbackground": true,
            "ticks": "",
            "zerolinecolor": "white"
           }
          },
          "shapedefaults": {
           "line": {
            "color": "#2a3f5f"
           }
          },
          "ternary": {
           "aaxis": {
            "gridcolor": "white",
            "linecolor": "white",
            "ticks": ""
           },
           "baxis": {
            "gridcolor": "white",
            "linecolor": "white",
            "ticks": ""
           },
           "bgcolor": "#E5ECF6",
           "caxis": {
            "gridcolor": "white",
            "linecolor": "white",
            "ticks": ""
           }
          },
          "title": {
           "x": 0.05
          },
          "xaxis": {
           "automargin": true,
           "gridcolor": "white",
           "linecolor": "white",
           "ticks": "",
           "title": {
            "standoff": 15
           },
           "zerolinecolor": "white",
           "zerolinewidth": 2
          },
          "yaxis": {
           "automargin": true,
           "gridcolor": "white",
           "linecolor": "white",
           "ticks": "",
           "title": {
            "standoff": 15
           },
           "zerolinecolor": "white",
           "zerolinewidth": 2
          }
         }
        },
        "title": {
         "text": "Top 10 Coefficients Influencing Goals"
        },
        "xaxis": {
         "anchor": "y",
         "domain": [
          0,
          1
         ],
         "title": {
          "text": "Feature"
         }
        },
        "yaxis": {
         "anchor": "x",
         "domain": [
          0,
          1
         ],
         "title": {
          "text": "Coefficient Value"
         }
        }
       }
      }
     },
     "metadata": {},
     "output_type": "display_data"
    }
   ],
   "source": [
    "# Create a bar graph of the top coefficients\n",
    "top_coef_df = coef_df.head(N)\n",
    "\n",
    "fig = px.bar(\n",
    "    top_coef_df,\n",
    "    x='Feature',\n",
    "    y='Coefficient',\n",
    "    title=f'Top {N} Coefficients Influencing Goals',\n",
    "    labels={'Coefficient': 'Coefficient Value', 'Feature': 'Feature'}\n",
    ")\n",
    "\n",
    "fig.show()"
   ]
  },
  {
   "cell_type": "code",
   "execution_count": 10,
   "id": "a1535a54",
   "metadata": {},
   "outputs": [
    {
     "name": "stdout",
     "output_type": "stream",
     "text": [
      "NaN value counts per column:\n",
      "Series([], dtype: int64)\n"
     ]
    }
   ],
   "source": [
    "# Find and print NaN values\n",
    "nan_counts = skaters_df.isna().sum()\n",
    "print(\"NaN value counts per column:\")\n",
    "print(nan_counts[nan_counts > 0])"
   ]
  }
 ],
 "metadata": {
  "kernelspec": {
   "display_name": "working",
   "language": "python",
   "name": "python3"
  },
  "language_info": {
   "codemirror_mode": {
    "name": "ipython",
    "version": 3
   },
   "file_extension": ".py",
   "mimetype": "text/x-python",
   "name": "python",
   "nbconvert_exporter": "python",
   "pygments_lexer": "ipython3",
   "version": "3.11.11"
  }
 },
 "nbformat": 4,
 "nbformat_minor": 5
}
