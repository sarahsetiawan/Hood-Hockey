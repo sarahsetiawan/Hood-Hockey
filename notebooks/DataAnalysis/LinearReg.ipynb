{
 "cells": [
  {
   "cell_type": "markdown",
   "id": "d60d080d",
   "metadata": {},
   "source": [
    "# Linear Regression"
   ]
  },
  {
   "cell_type": "code",
   "execution_count": 1,
   "id": "c5eb3e8b",
   "metadata": {},
   "outputs": [],
   "source": [
    "from sklearn.decomposition import PCA\n",
    "from sklearn.preprocessing import StandardScaler"
   ]
  },
  {
   "cell_type": "code",
   "execution_count": 2,
   "id": "bff3fcba",
   "metadata": {},
   "outputs": [],
   "source": [
    "import pandas as pd\n",
    "import numpy as np\n",
    "import plotly.express as px\n",
    "import os\n",
    "import polars as pl\n",
    "from IPython.display import display, HTML\n",
    "from sklearn.linear_model import LinearRegression\n",
    "from sklearn.model_selection import KFold, cross_val_score\n",
    "from sklearn.metrics import accuracy_score, confusion_matrix"
   ]
  },
  {
   "cell_type": "code",
   "execution_count": 3,
   "id": "3201cbd5",
   "metadata": {},
   "outputs": [],
   "source": [
    "import matplotlib.pyplot as plt\n",
    "import plotly.express as px\n"
   ]
  },
  {
   "cell_type": "code",
   "execution_count": 4,
   "id": "3e62564e",
   "metadata": {},
   "outputs": [
    {
     "data": {
      "text/html": [
       "<table border=\"1\" class=\"dataframe\">\n",
       "  <thead>\n",
       "    <tr style=\"text-align: right;\">\n",
       "      <th>Shirt number</th>\n",
       "      <th>Player</th>\n",
       "      <th>Position</th>\n",
       "      <th>Games played</th>\n",
       "      <th>All shifts</th>\n",
       "      <th>Goals</th>\n",
       "      <th>First assist</th>\n",
       "      <th>Second assist</th>\n",
       "      <th>Assists</th>\n",
       "      <th>Points</th>\n",
       "      <th>+/-</th>\n",
       "      <th>Scoring chances</th>\n",
       "      <th>Penalties drawn</th>\n",
       "      <th>Faceoffs</th>\n",
       "      <th>Faceoffs won</th>\n",
       "      <th>Faceoffs won, %</th>\n",
       "      <th>Hits</th>\n",
       "      <th>Shots</th>\n",
       "      <th>Shots on goal</th>\n",
       "      <th>Blocked shots</th>\n",
       "      <th>Power play shots</th>\n",
       "      <th>Short-handed shots</th>\n",
       "      <th>Passes to the slot</th>\n",
       "      <th>Faceoffs in DZ</th>\n",
       "      <th>Faceoffs won in DZ</th>\n",
       "      <th>Faceoffs won in DZ, %</th>\n",
       "      <th>Faceoffs in NZ</th>\n",
       "      <th>Faceoffs won in NZ</th>\n",
       "      <th>Faceoffs won in NZ, %</th>\n",
       "      <th>Faceoffs in OZ</th>\n",
       "      <th>Faceoffs won in OZ</th>\n",
       "      <th>Faceoffs won in OZ, %</th>\n",
       "      <th>Puck touches</th>\n",
       "      <th>Plus</th>\n",
       "      <th>Minus</th>\n",
       "      <th>Penalties</th>\n",
       "      <th>Faceoffs lost</th>\n",
       "      <th>Hits against</th>\n",
       "      <th>Error leading to goal</th>\n",
       "      <th>Dump ins</th>\n",
       "      <th>Dump outs</th>\n",
       "      <th>Team goals when on ice</th>\n",
       "      <th>Opponent's goals when on ice</th>\n",
       "      <th>Power play</th>\n",
       "      <th>Successful power play</th>\n",
       "      <th>Short-handed</th>\n",
       "      <th>Penalty killing</th>\n",
       "      <th>Missed shots</th>\n",
       "      <th>% shots on goal</th>\n",
       "      <th>Slapshot</th>\n",
       "      <th>Wrist shot</th>\n",
       "      <th>Shootouts</th>\n",
       "      <th>Shootouts scored</th>\n",
       "      <th>Shootouts missed</th>\n",
       "      <th>1-on-1 shots</th>\n",
       "      <th>1-on-1 goals</th>\n",
       "      <th>Shots conversion 1 on 1, %</th>\n",
       "      <th>Positional attack shots</th>\n",
       "      <th>Shots 5 v 5</th>\n",
       "      <th>Counter-attack shots</th>\n",
       "      <th>xG per shot</th>\n",
       "      <th>xG (Expected goals)</th>\n",
       "      <th>xG per goal</th>\n",
       "      <th>Net xG (xG player on - opp. team's xG)</th>\n",
       "      <th>Team xG when on ice</th>\n",
       "      <th>Opponent's xG when on ice</th>\n",
       "      <th>xG conversion</th>\n",
       "      <th>CORSI</th>\n",
       "      <th>CORSI-</th>\n",
       "      <th>CORSI+</th>\n",
       "      <th>CORSI for, %</th>\n",
       "      <th>Fenwick for</th>\n",
       "      <th>Fenwick against</th>\n",
       "      <th>Fenwick for, %</th>\n",
       "      <th>Puck battles</th>\n",
       "      <th>Puck battles won</th>\n",
       "      <th>Puck battles won, %</th>\n",
       "      <th>Puck battles in DZ</th>\n",
       "      <th>Puck battles in NZ</th>\n",
       "      <th>Puck battles in OZ</th>\n",
       "      <th>Shots blocking</th>\n",
       "      <th>Dekes</th>\n",
       "      <th>Dekes successful</th>\n",
       "      <th>Dekes unsuccessful</th>\n",
       "      <th>Dekes successful, %</th>\n",
       "      <th>Passes</th>\n",
       "      <th>Accurate passes</th>\n",
       "      <th>Accurate passes, %</th>\n",
       "      <th>Pre-shots passes</th>\n",
       "      <th>Pass receptions</th>\n",
       "      <th>Scoring chances - total</th>\n",
       "      <th>Scoring chances - scored</th>\n",
       "      <th>Scoring chances missed</th>\n",
       "      <th>Scoring chances saved</th>\n",
       "      <th>Scoring Chances, %</th>\n",
       "      <th>Inner slot shots - total</th>\n",
       "      <th>Inner slot shots - scored</th>\n",
       "      <th>Inner slot shots - missed</th>\n",
       "      <th>Inner slot shots - saved</th>\n",
       "      <th>Inner slot shots, %</th>\n",
       "      <th>Outer slot shots - total</th>\n",
       "      <th>Outer slot shots - scored</th>\n",
       "      <th>Outer slot shots - missed</th>\n",
       "      <th>Outer slot shots - saved</th>\n",
       "      <th>Outer slot shots, %</th>\n",
       "      <th>Blocked shots from the slot</th>\n",
       "      <th>Blocked shots outside of the slot</th>\n",
       "      <th>Takeaways</th>\n",
       "      <th>Puck retrievals after shots</th>\n",
       "      <th>Opponent’s dump-in retrievals</th>\n",
       "      <th>Takeaways in DZ</th>\n",
       "      <th>Loose puck recovery</th>\n",
       "      <th>Takeaways in NZ</th>\n",
       "      <th>Takeaways in OZ</th>\n",
       "      <th>EV DZ retrievals</th>\n",
       "      <th>Puck losses</th>\n",
       "      <th>Puck losses in DZ</th>\n",
       "      <th>EV OZ retrievals</th>\n",
       "      <th>Puck losses in NZ</th>\n",
       "      <th>Power play retrievals</th>\n",
       "      <th>Penalty kill retrievals</th>\n",
       "      <th>Puck losses in OZ</th>\n",
       "      <th>Entries</th>\n",
       "      <th>Entries via pass</th>\n",
       "      <th>Entries via dump in</th>\n",
       "      <th>Entries via stickhandling</th>\n",
       "      <th>Breakouts</th>\n",
       "      <th>Breakouts via pass</th>\n",
       "      <th>Breakouts via dump out</th>\n",
       "      <th>Breakouts via stickhandling</th>\n",
       "      <th>National team</th>\n",
       "      <th>Height</th>\n",
       "      <th>Weight</th>\n",
       "      <th>Contract</th>\n",
       "      <th>Active hand</th>\n",
       "      <th>Type</th>\n",
       "      <th>Time on ice (Minutes)</th>\n",
       "      <th>Time on ice (Seconds)</th>\n",
       "      <th>Penalty time (Minutes)</th>\n",
       "      <th>Penalty time (Seconds)</th>\n",
       "      <th>Puck control time (Minutes)</th>\n",
       "      <th>Puck control time (Seconds)</th>\n",
       "      <th>Power play time (Minutes)</th>\n",
       "      <th>Power play time (Seconds)</th>\n",
       "      <th>Short-handed time (Minutes)</th>\n",
       "      <th>Short-handed time (Seconds)</th>\n",
       "      <th>Playing in attack (Minutes)</th>\n",
       "      <th>Playing in attack (Seconds)</th>\n",
       "      <th>Playing in defense (Minutes)</th>\n",
       "      <th>Playing in defense (Seconds)</th>\n",
       "      <th>OZ possession (Minutes)</th>\n",
       "      <th>OZ possession (Seconds)</th>\n",
       "      <th>NZ possession (Minutes)</th>\n",
       "      <th>NZ possession (Seconds)</th>\n",
       "      <th>DZ possession (Minutes)</th>\n",
       "      <th>DZ possession (Seconds)</th>\n",
       "    </tr>\n",
       "  </thead>\n",
       "  <tbody>\n",
       "    <tr>\n",
       "      <td>6</td>\n",
       "      <td>Alyssa Wilson</td>\n",
       "      <td>F</td>\n",
       "      <td>23</td>\n",
       "      <td>17.0</td>\n",
       "      <td>0.04</td>\n",
       "      <td>0.04</td>\n",
       "      <td>0.04</td>\n",
       "      <td>0.09</td>\n",
       "      <td>0.13</td>\n",
       "      <td>-1.04</td>\n",
       "      <td>0.04</td>\n",
       "      <td>0.04</td>\n",
       "      <td>0.09</td>\n",
       "      <td>0.04</td>\n",
       "      <td>0.50</td>\n",
       "      <td>0.13</td>\n",
       "      <td>2.00</td>\n",
       "      <td>0.74</td>\n",
       "      <td>0.61</td>\n",
       "      <td>0.00</td>\n",
       "      <td>0.0</td>\n",
       "      <td>0.17</td>\n",
       "      <td>0.04</td>\n",
       "      <td>0.04</td>\n",
       "      <td>1.00</td>\n",
       "      <td>0.04</td>\n",
       "      <td>0.00</td>\n",
       "      <td>0.00</td>\n",
       "      <td>0.0</td>\n",
       "      <td>0.00</td>\n",
       "      <td>0.00</td>\n",
       "      <td>57.0</td>\n",
       "      <td>0.22</td>\n",
       "      <td>1.26</td>\n",
       "      <td>0.17</td>\n",
       "      <td>0.04</td>\n",
       "      <td>0.04</td>\n",
       "      <td>0.96</td>\n",
       "      <td>1.61</td>\n",
       "      <td>1.96</td>\n",
       "      <td>0.22</td>\n",
       "      <td>1.26</td>\n",
       "      <td>0.00</td>\n",
       "      <td>0.00</td>\n",
       "      <td>0.00</td>\n",
       "      <td>0.00</td>\n",
       "      <td>0.65</td>\n",
       "      <td>0.37</td>\n",
       "      <td>0.74</td>\n",
       "      <td>0.87</td>\n",
       "      <td>0.0</td>\n",
       "      <td>0.0</td>\n",
       "      <td>0.0</td>\n",
       "      <td>0.00</td>\n",
       "      <td>0.0</td>\n",
       "      <td>0.0</td>\n",
       "      <td>1.17</td>\n",
       "      <td>2.00</td>\n",
       "      <td>0.04</td>\n",
       "      <td>0.31</td>\n",
       "      <td>0.05</td>\n",
       "      <td>0.29</td>\n",
       "      <td>-0.75</td>\n",
       "      <td>0.46</td>\n",
       "      <td>1.22</td>\n",
       "      <td>0.0091</td>\n",
       "      <td>-8.0</td>\n",
       "      <td>18</td>\n",
       "      <td>10.0</td>\n",
       "      <td>0.35</td>\n",
       "      <td>7.0</td>\n",
       "      <td>14.0</td>\n",
       "      <td>0.35</td>\n",
       "      <td>10.0</td>\n",
       "      <td>5.2</td>\n",
       "      <td>0.54</td>\n",
       "      <td>7.0</td>\n",
       "      <td>1.61</td>\n",
       "      <td>1.39</td>\n",
       "      <td>0.78</td>\n",
       "      <td>0.26</td>\n",
       "      <td>0.22</td>\n",
       "      <td>0.04</td>\n",
       "      <td>0.83</td>\n",
       "      <td>12.0</td>\n",
       "      <td>10.0</td>\n",
       "      <td>0.83</td>\n",
       "      <td>0.22</td>\n",
       "      <td>6.0</td>\n",
       "      <td>0.26</td>\n",
       "      <td>0.04</td>\n",
       "      <td>0.04</td>\n",
       "      <td>0.17</td>\n",
       "      <td>0.17</td>\n",
       "      <td>0.04</td>\n",
       "      <td>0.04</td>\n",
       "      <td>0.00</td>\n",
       "      <td>0.00</td>\n",
       "      <td>1.0</td>\n",
       "      <td>0.22</td>\n",
       "      <td>0.0</td>\n",
       "      <td>0.04</td>\n",
       "      <td>0.17</td>\n",
       "      <td>0.0</td>\n",
       "      <td>0.00</td>\n",
       "      <td>0.61</td>\n",
       "      <td>7.0</td>\n",
       "      <td>1.87</td>\n",
       "      <td>1.09</td>\n",
       "      <td>5.20</td>\n",
       "      <td>1.48</td>\n",
       "      <td>1.61</td>\n",
       "      <td>0.39</td>\n",
       "      <td>1.39</td>\n",
       "      <td>4.20</td>\n",
       "      <td>1.30</td>\n",
       "      <td>0.48</td>\n",
       "      <td>1.04</td>\n",
       "      <td>0.00</td>\n",
       "      <td>0.00</td>\n",
       "      <td>1.87</td>\n",
       "      <td>1.48</td>\n",
       "      <td>0.52</td>\n",
       "      <td>0.22</td>\n",
       "      <td>0.74</td>\n",
       "      <td>2.30</td>\n",
       "      <td>1.48</td>\n",
       "      <td>0.13</td>\n",
       "      <td>0.70</td>\n",
       "      <td>0</td>\n",
       "      <td>0</td>\n",
       "      <td>0.0</td>\n",
       "      <td>0</td>\n",
       "      <td>Right</td>\n",
       "      <td>Even Strength</td>\n",
       "      <td>15</td>\n",
       "      <td>20</td>\n",
       "      <td>0</td>\n",
       "      <td>26</td>\n",
       "      <td>0</td>\n",
       "      <td>16</td>\n",
       "      <td>0</td>\n",
       "      <td>0</td>\n",
       "      <td>0</td>\n",
       "      <td>0</td>\n",
       "      <td>6</td>\n",
       "      <td>15</td>\n",
       "      <td>7</td>\n",
       "      <td>7</td>\n",
       "      <td>4</td>\n",
       "      <td>56</td>\n",
       "      <td>3</td>\n",
       "      <td>8</td>\n",
       "      <td>7</td>\n",
       "      <td>16</td>\n",
       "    </tr>\n",
       "    <tr>\n",
       "      <td>12</td>\n",
       "      <td>Ella Bynan</td>\n",
       "      <td>F</td>\n",
       "      <td>24</td>\n",
       "      <td>16.0</td>\n",
       "      <td>0.00</td>\n",
       "      <td>0.08</td>\n",
       "      <td>0.13</td>\n",
       "      <td>0.21</td>\n",
       "      <td>0.21</td>\n",
       "      <td>-0.58</td>\n",
       "      <td>0.38</td>\n",
       "      <td>0.13</td>\n",
       "      <td>9.00</td>\n",
       "      <td>4.30</td>\n",
       "      <td>0.48</td>\n",
       "      <td>0.00</td>\n",
       "      <td>1.54</td>\n",
       "      <td>1.17</td>\n",
       "      <td>0.21</td>\n",
       "      <td>0.00</td>\n",
       "      <td>0.0</td>\n",
       "      <td>0.25</td>\n",
       "      <td>3.80</td>\n",
       "      <td>1.79</td>\n",
       "      <td>0.47</td>\n",
       "      <td>2.80</td>\n",
       "      <td>1.38</td>\n",
       "      <td>0.49</td>\n",
       "      <td>2.4</td>\n",
       "      <td>1.17</td>\n",
       "      <td>0.48</td>\n",
       "      <td>55.0</td>\n",
       "      <td>0.21</td>\n",
       "      <td>0.79</td>\n",
       "      <td>0.04</td>\n",
       "      <td>4.70</td>\n",
       "      <td>0.04</td>\n",
       "      <td>0.08</td>\n",
       "      <td>1.79</td>\n",
       "      <td>0.50</td>\n",
       "      <td>0.21</td>\n",
       "      <td>0.79</td>\n",
       "      <td>0.00</td>\n",
       "      <td>0.00</td>\n",
       "      <td>0.00</td>\n",
       "      <td>0.00</td>\n",
       "      <td>0.17</td>\n",
       "      <td>0.76</td>\n",
       "      <td>0.54</td>\n",
       "      <td>0.38</td>\n",
       "      <td>0.0</td>\n",
       "      <td>0.0</td>\n",
       "      <td>0.0</td>\n",
       "      <td>0.00</td>\n",
       "      <td>0.0</td>\n",
       "      <td>0.0</td>\n",
       "      <td>0.50</td>\n",
       "      <td>1.54</td>\n",
       "      <td>0.08</td>\n",
       "      <td>1.33</td>\n",
       "      <td>0.12</td>\n",
       "      <td>0.00</td>\n",
       "      <td>-0.60</td>\n",
       "      <td>0.43</td>\n",
       "      <td>1.03</td>\n",
       "      <td>0.0000</td>\n",
       "      <td>-7.0</td>\n",
       "      <td>17</td>\n",
       "      <td>9.0</td>\n",
       "      <td>0.36</td>\n",
       "      <td>7.0</td>\n",
       "      <td>13.0</td>\n",
       "      <td>0.35</td>\n",
       "      <td>14.0</td>\n",
       "      <td>5.9</td>\n",
       "      <td>0.42</td>\n",
       "      <td>6.0</td>\n",
       "      <td>2.00</td>\n",
       "      <td>5.70</td>\n",
       "      <td>0.92</td>\n",
       "      <td>0.63</td>\n",
       "      <td>0.42</td>\n",
       "      <td>0.21</td>\n",
       "      <td>0.67</td>\n",
       "      <td>9.0</td>\n",
       "      <td>7.0</td>\n",
       "      <td>0.71</td>\n",
       "      <td>0.29</td>\n",
       "      <td>8.0</td>\n",
       "      <td>0.71</td>\n",
       "      <td>0.00</td>\n",
       "      <td>0.08</td>\n",
       "      <td>0.63</td>\n",
       "      <td>0.00</td>\n",
       "      <td>0.38</td>\n",
       "      <td>0.00</td>\n",
       "      <td>0.04</td>\n",
       "      <td>0.33</td>\n",
       "      <td>0.0</td>\n",
       "      <td>0.33</td>\n",
       "      <td>0.0</td>\n",
       "      <td>0.04</td>\n",
       "      <td>0.29</td>\n",
       "      <td>0.0</td>\n",
       "      <td>0.00</td>\n",
       "      <td>0.21</td>\n",
       "      <td>3.4</td>\n",
       "      <td>1.04</td>\n",
       "      <td>0.04</td>\n",
       "      <td>2.50</td>\n",
       "      <td>0.21</td>\n",
       "      <td>0.67</td>\n",
       "      <td>0.29</td>\n",
       "      <td>0.54</td>\n",
       "      <td>5.30</td>\n",
       "      <td>0.54</td>\n",
       "      <td>0.50</td>\n",
       "      <td>1.63</td>\n",
       "      <td>0.00</td>\n",
       "      <td>0.00</td>\n",
       "      <td>3.10</td>\n",
       "      <td>2.00</td>\n",
       "      <td>0.33</td>\n",
       "      <td>0.25</td>\n",
       "      <td>1.46</td>\n",
       "      <td>2.70</td>\n",
       "      <td>1.04</td>\n",
       "      <td>0.04</td>\n",
       "      <td>1.58</td>\n",
       "      <td>0</td>\n",
       "      <td>0</td>\n",
       "      <td>0.0</td>\n",
       "      <td>0</td>\n",
       "      <td>Right</td>\n",
       "      <td>Even Strength</td>\n",
       "      <td>13</td>\n",
       "      <td>58</td>\n",
       "      <td>0</td>\n",
       "      <td>10</td>\n",
       "      <td>0</td>\n",
       "      <td>14</td>\n",
       "      <td>0</td>\n",
       "      <td>0</td>\n",
       "      <td>0</td>\n",
       "      <td>0</td>\n",
       "      <td>5</td>\n",
       "      <td>49</td>\n",
       "      <td>6</td>\n",
       "      <td>18</td>\n",
       "      <td>4</td>\n",
       "      <td>28</td>\n",
       "      <td>2</td>\n",
       "      <td>49</td>\n",
       "      <td>6</td>\n",
       "      <td>40</td>\n",
       "    </tr>\n",
       "    <tr>\n",
       "      <td>...</td>\n",
       "      <td>...</td>\n",
       "      <td>...</td>\n",
       "      <td>...</td>\n",
       "      <td>...</td>\n",
       "      <td>...</td>\n",
       "      <td>...</td>\n",
       "      <td>...</td>\n",
       "      <td>...</td>\n",
       "      <td>...</td>\n",
       "      <td>...</td>\n",
       "      <td>...</td>\n",
       "      <td>...</td>\n",
       "      <td>...</td>\n",
       "      <td>...</td>\n",
       "      <td>...</td>\n",
       "      <td>...</td>\n",
       "      <td>...</td>\n",
       "      <td>...</td>\n",
       "      <td>...</td>\n",
       "      <td>...</td>\n",
       "      <td>...</td>\n",
       "      <td>...</td>\n",
       "      <td>...</td>\n",
       "      <td>...</td>\n",
       "      <td>...</td>\n",
       "      <td>...</td>\n",
       "      <td>...</td>\n",
       "      <td>...</td>\n",
       "      <td>...</td>\n",
       "      <td>...</td>\n",
       "      <td>...</td>\n",
       "      <td>...</td>\n",
       "      <td>...</td>\n",
       "      <td>...</td>\n",
       "      <td>...</td>\n",
       "      <td>...</td>\n",
       "      <td>...</td>\n",
       "      <td>...</td>\n",
       "      <td>...</td>\n",
       "      <td>...</td>\n",
       "      <td>...</td>\n",
       "      <td>...</td>\n",
       "      <td>...</td>\n",
       "      <td>...</td>\n",
       "      <td>...</td>\n",
       "      <td>...</td>\n",
       "      <td>...</td>\n",
       "      <td>...</td>\n",
       "      <td>...</td>\n",
       "      <td>...</td>\n",
       "      <td>...</td>\n",
       "      <td>...</td>\n",
       "      <td>...</td>\n",
       "      <td>...</td>\n",
       "      <td>...</td>\n",
       "      <td>...</td>\n",
       "      <td>...</td>\n",
       "      <td>...</td>\n",
       "      <td>...</td>\n",
       "      <td>...</td>\n",
       "      <td>...</td>\n",
       "      <td>...</td>\n",
       "      <td>...</td>\n",
       "      <td>...</td>\n",
       "      <td>...</td>\n",
       "      <td>...</td>\n",
       "      <td>...</td>\n",
       "      <td>...</td>\n",
       "      <td>...</td>\n",
       "      <td>...</td>\n",
       "      <td>...</td>\n",
       "      <td>...</td>\n",
       "      <td>...</td>\n",
       "      <td>...</td>\n",
       "      <td>...</td>\n",
       "      <td>...</td>\n",
       "      <td>...</td>\n",
       "      <td>...</td>\n",
       "      <td>...</td>\n",
       "      <td>...</td>\n",
       "      <td>...</td>\n",
       "      <td>...</td>\n",
       "      <td>...</td>\n",
       "      <td>...</td>\n",
       "      <td>...</td>\n",
       "      <td>...</td>\n",
       "      <td>...</td>\n",
       "      <td>...</td>\n",
       "      <td>...</td>\n",
       "      <td>...</td>\n",
       "      <td>...</td>\n",
       "      <td>...</td>\n",
       "      <td>...</td>\n",
       "      <td>...</td>\n",
       "      <td>...</td>\n",
       "      <td>...</td>\n",
       "      <td>...</td>\n",
       "      <td>...</td>\n",
       "      <td>...</td>\n",
       "      <td>...</td>\n",
       "      <td>...</td>\n",
       "      <td>...</td>\n",
       "      <td>...</td>\n",
       "      <td>...</td>\n",
       "      <td>...</td>\n",
       "      <td>...</td>\n",
       "      <td>...</td>\n",
       "      <td>...</td>\n",
       "      <td>...</td>\n",
       "      <td>...</td>\n",
       "      <td>...</td>\n",
       "      <td>...</td>\n",
       "      <td>...</td>\n",
       "      <td>...</td>\n",
       "      <td>...</td>\n",
       "      <td>...</td>\n",
       "      <td>...</td>\n",
       "      <td>...</td>\n",
       "      <td>...</td>\n",
       "      <td>...</td>\n",
       "      <td>...</td>\n",
       "      <td>...</td>\n",
       "      <td>...</td>\n",
       "      <td>...</td>\n",
       "      <td>...</td>\n",
       "      <td>...</td>\n",
       "      <td>...</td>\n",
       "      <td>...</td>\n",
       "      <td>...</td>\n",
       "      <td>...</td>\n",
       "      <td>...</td>\n",
       "      <td>...</td>\n",
       "      <td>...</td>\n",
       "      <td>...</td>\n",
       "      <td>...</td>\n",
       "      <td>...</td>\n",
       "      <td>...</td>\n",
       "      <td>...</td>\n",
       "      <td>...</td>\n",
       "      <td>...</td>\n",
       "      <td>...</td>\n",
       "      <td>...</td>\n",
       "      <td>...</td>\n",
       "      <td>...</td>\n",
       "      <td>...</td>\n",
       "      <td>...</td>\n",
       "      <td>...</td>\n",
       "      <td>...</td>\n",
       "      <td>...</td>\n",
       "      <td>...</td>\n",
       "      <td>...</td>\n",
       "      <td>...</td>\n",
       "      <td>...</td>\n",
       "      <td>...</td>\n",
       "      <td>...</td>\n",
       "    </tr>\n",
       "    <tr>\n",
       "      <td>16</td>\n",
       "      <td>Lillian Scardicchio</td>\n",
       "      <td>D</td>\n",
       "      <td>24</td>\n",
       "      <td>13.0</td>\n",
       "      <td>0.00</td>\n",
       "      <td>0.08</td>\n",
       "      <td>0.08</td>\n",
       "      <td>0.17</td>\n",
       "      <td>0.17</td>\n",
       "      <td>-0.21</td>\n",
       "      <td>0.13</td>\n",
       "      <td>0.08</td>\n",
       "      <td>0.04</td>\n",
       "      <td>0.00</td>\n",
       "      <td>0.00</td>\n",
       "      <td>0.00</td>\n",
       "      <td>1.29</td>\n",
       "      <td>0.71</td>\n",
       "      <td>0.25</td>\n",
       "      <td>0.08</td>\n",
       "      <td>0.0</td>\n",
       "      <td>0.25</td>\n",
       "      <td>0.04</td>\n",
       "      <td>0.00</td>\n",
       "      <td>0.00</td>\n",
       "      <td>0.00</td>\n",
       "      <td>0.00</td>\n",
       "      <td>0.00</td>\n",
       "      <td>0.0</td>\n",
       "      <td>0.00</td>\n",
       "      <td>0.00</td>\n",
       "      <td>36.0</td>\n",
       "      <td>0.25</td>\n",
       "      <td>0.46</td>\n",
       "      <td>0.25</td>\n",
       "      <td>0.04</td>\n",
       "      <td>0.04</td>\n",
       "      <td>0.04</td>\n",
       "      <td>0.92</td>\n",
       "      <td>0.75</td>\n",
       "      <td>0.29</td>\n",
       "      <td>0.46</td>\n",
       "      <td>1.42</td>\n",
       "      <td>0.04</td>\n",
       "      <td>0.04</td>\n",
       "      <td>0.04</td>\n",
       "      <td>0.33</td>\n",
       "      <td>0.55</td>\n",
       "      <td>0.46</td>\n",
       "      <td>0.38</td>\n",
       "      <td>0.0</td>\n",
       "      <td>0.0</td>\n",
       "      <td>0.0</td>\n",
       "      <td>0.04</td>\n",
       "      <td>0.0</td>\n",
       "      <td>0.0</td>\n",
       "      <td>0.54</td>\n",
       "      <td>1.21</td>\n",
       "      <td>0.08</td>\n",
       "      <td>1.07</td>\n",
       "      <td>0.08</td>\n",
       "      <td>0.00</td>\n",
       "      <td>-0.23</td>\n",
       "      <td>0.38</td>\n",
       "      <td>0.64</td>\n",
       "      <td>0.0000</td>\n",
       "      <td>-2.7</td>\n",
       "      <td>11</td>\n",
       "      <td>8.0</td>\n",
       "      <td>0.42</td>\n",
       "      <td>5.3</td>\n",
       "      <td>8.0</td>\n",
       "      <td>0.40</td>\n",
       "      <td>9.0</td>\n",
       "      <td>4.2</td>\n",
       "      <td>0.46</td>\n",
       "      <td>3.5</td>\n",
       "      <td>1.92</td>\n",
       "      <td>3.80</td>\n",
       "      <td>0.33</td>\n",
       "      <td>0.25</td>\n",
       "      <td>0.21</td>\n",
       "      <td>0.04</td>\n",
       "      <td>0.83</td>\n",
       "      <td>7.0</td>\n",
       "      <td>5.0</td>\n",
       "      <td>0.72</td>\n",
       "      <td>0.29</td>\n",
       "      <td>6.0</td>\n",
       "      <td>0.50</td>\n",
       "      <td>0.00</td>\n",
       "      <td>0.17</td>\n",
       "      <td>0.21</td>\n",
       "      <td>0.00</td>\n",
       "      <td>0.13</td>\n",
       "      <td>0.00</td>\n",
       "      <td>0.04</td>\n",
       "      <td>0.08</td>\n",
       "      <td>0.0</td>\n",
       "      <td>0.38</td>\n",
       "      <td>0.0</td>\n",
       "      <td>0.13</td>\n",
       "      <td>0.13</td>\n",
       "      <td>0.0</td>\n",
       "      <td>0.13</td>\n",
       "      <td>0.13</td>\n",
       "      <td>2.2</td>\n",
       "      <td>1.17</td>\n",
       "      <td>0.08</td>\n",
       "      <td>1.21</td>\n",
       "      <td>1.13</td>\n",
       "      <td>0.71</td>\n",
       "      <td>0.25</td>\n",
       "      <td>0.46</td>\n",
       "      <td>3.90</td>\n",
       "      <td>0.63</td>\n",
       "      <td>0.67</td>\n",
       "      <td>1.25</td>\n",
       "      <td>0.04</td>\n",
       "      <td>0.00</td>\n",
       "      <td>2.00</td>\n",
       "      <td>1.83</td>\n",
       "      <td>0.33</td>\n",
       "      <td>0.17</td>\n",
       "      <td>1.33</td>\n",
       "      <td>1.38</td>\n",
       "      <td>0.63</td>\n",
       "      <td>0.04</td>\n",
       "      <td>0.71</td>\n",
       "      <td>0</td>\n",
       "      <td>0</td>\n",
       "      <td>0.0</td>\n",
       "      <td>0</td>\n",
       "      <td>Right</td>\n",
       "      <td>Total</td>\n",
       "      <td>10</td>\n",
       "      <td>45</td>\n",
       "      <td>0</td>\n",
       "      <td>30</td>\n",
       "      <td>0</td>\n",
       "      <td>9</td>\n",
       "      <td>0</td>\n",
       "      <td>47</td>\n",
       "      <td>0</td>\n",
       "      <td>0</td>\n",
       "      <td>4</td>\n",
       "      <td>33</td>\n",
       "      <td>4</td>\n",
       "      <td>40</td>\n",
       "      <td>4</td>\n",
       "      <td>4</td>\n",
       "      <td>2</td>\n",
       "      <td>9</td>\n",
       "      <td>4</td>\n",
       "      <td>32</td>\n",
       "    </tr>\n",
       "    <tr>\n",
       "      <td>19</td>\n",
       "      <td>Lucianna Szczubiala</td>\n",
       "      <td>D</td>\n",
       "      <td>24</td>\n",
       "      <td>10.0</td>\n",
       "      <td>0.00</td>\n",
       "      <td>0.04</td>\n",
       "      <td>0.04</td>\n",
       "      <td>0.08</td>\n",
       "      <td>0.08</td>\n",
       "      <td>-0.29</td>\n",
       "      <td>0.00</td>\n",
       "      <td>0.04</td>\n",
       "      <td>0.00</td>\n",
       "      <td>0.00</td>\n",
       "      <td>0.00</td>\n",
       "      <td>0.04</td>\n",
       "      <td>1.13</td>\n",
       "      <td>0.25</td>\n",
       "      <td>0.50</td>\n",
       "      <td>0.21</td>\n",
       "      <td>0.0</td>\n",
       "      <td>0.08</td>\n",
       "      <td>0.00</td>\n",
       "      <td>0.00</td>\n",
       "      <td>0.00</td>\n",
       "      <td>0.00</td>\n",
       "      <td>0.00</td>\n",
       "      <td>0.00</td>\n",
       "      <td>0.0</td>\n",
       "      <td>0.00</td>\n",
       "      <td>0.00</td>\n",
       "      <td>24.0</td>\n",
       "      <td>0.21</td>\n",
       "      <td>0.50</td>\n",
       "      <td>0.25</td>\n",
       "      <td>0.00</td>\n",
       "      <td>0.00</td>\n",
       "      <td>0.25</td>\n",
       "      <td>0.29</td>\n",
       "      <td>0.42</td>\n",
       "      <td>0.21</td>\n",
       "      <td>0.50</td>\n",
       "      <td>0.67</td>\n",
       "      <td>0.00</td>\n",
       "      <td>0.67</td>\n",
       "      <td>0.67</td>\n",
       "      <td>0.38</td>\n",
       "      <td>0.22</td>\n",
       "      <td>0.71</td>\n",
       "      <td>0.38</td>\n",
       "      <td>0.0</td>\n",
       "      <td>0.0</td>\n",
       "      <td>0.0</td>\n",
       "      <td>0.00</td>\n",
       "      <td>0.0</td>\n",
       "      <td>0.0</td>\n",
       "      <td>0.58</td>\n",
       "      <td>0.92</td>\n",
       "      <td>0.00</td>\n",
       "      <td>0.22</td>\n",
       "      <td>0.02</td>\n",
       "      <td>0.00</td>\n",
       "      <td>-0.38</td>\n",
       "      <td>0.23</td>\n",
       "      <td>0.62</td>\n",
       "      <td>0.0000</td>\n",
       "      <td>-4.8</td>\n",
       "      <td>9</td>\n",
       "      <td>4.2</td>\n",
       "      <td>0.32</td>\n",
       "      <td>3.1</td>\n",
       "      <td>7.0</td>\n",
       "      <td>0.32</td>\n",
       "      <td>4.2</td>\n",
       "      <td>2.9</td>\n",
       "      <td>0.69</td>\n",
       "      <td>3.2</td>\n",
       "      <td>0.58</td>\n",
       "      <td>0.42</td>\n",
       "      <td>0.58</td>\n",
       "      <td>0.04</td>\n",
       "      <td>0.04</td>\n",
       "      <td>0.00</td>\n",
       "      <td>1.00</td>\n",
       "      <td>5.8</td>\n",
       "      <td>4.2</td>\n",
       "      <td>0.72</td>\n",
       "      <td>0.08</td>\n",
       "      <td>2.4</td>\n",
       "      <td>0.00</td>\n",
       "      <td>0.00</td>\n",
       "      <td>0.00</td>\n",
       "      <td>0.00</td>\n",
       "      <td>0.00</td>\n",
       "      <td>0.00</td>\n",
       "      <td>0.00</td>\n",
       "      <td>0.00</td>\n",
       "      <td>0.00</td>\n",
       "      <td>0.0</td>\n",
       "      <td>0.00</td>\n",
       "      <td>0.0</td>\n",
       "      <td>0.00</td>\n",
       "      <td>0.00</td>\n",
       "      <td>0.0</td>\n",
       "      <td>0.00</td>\n",
       "      <td>0.50</td>\n",
       "      <td>3.8</td>\n",
       "      <td>0.83</td>\n",
       "      <td>0.71</td>\n",
       "      <td>3.20</td>\n",
       "      <td>1.25</td>\n",
       "      <td>0.38</td>\n",
       "      <td>0.17</td>\n",
       "      <td>0.63</td>\n",
       "      <td>1.75</td>\n",
       "      <td>0.63</td>\n",
       "      <td>0.00</td>\n",
       "      <td>0.71</td>\n",
       "      <td>0.04</td>\n",
       "      <td>0.17</td>\n",
       "      <td>0.42</td>\n",
       "      <td>0.42</td>\n",
       "      <td>0.21</td>\n",
       "      <td>0.08</td>\n",
       "      <td>0.13</td>\n",
       "      <td>0.79</td>\n",
       "      <td>0.50</td>\n",
       "      <td>0.00</td>\n",
       "      <td>0.29</td>\n",
       "      <td>0</td>\n",
       "      <td>7</td>\n",
       "      <td>2.6</td>\n",
       "      <td>0</td>\n",
       "      <td>Right</td>\n",
       "      <td>Total</td>\n",
       "      <td>8</td>\n",
       "      <td>11</td>\n",
       "      <td>0</td>\n",
       "      <td>30</td>\n",
       "      <td>0</td>\n",
       "      <td>4</td>\n",
       "      <td>0</td>\n",
       "      <td>20</td>\n",
       "      <td>0</td>\n",
       "      <td>16</td>\n",
       "      <td>3</td>\n",
       "      <td>12</td>\n",
       "      <td>3</td>\n",
       "      <td>55</td>\n",
       "      <td>2</td>\n",
       "      <td>25</td>\n",
       "      <td>1</td>\n",
       "      <td>43</td>\n",
       "      <td>4</td>\n",
       "      <td>2</td>\n",
       "    </tr>\n",
       "  </tbody>\n",
       "</table>"
      ],
      "text/plain": [
       "<IPython.core.display.HTML object>"
      ]
     },
     "metadata": {},
     "output_type": "display_data"
    }
   ],
   "source": [
    "# Load the skaters dataset\n",
    "skaters_df = pd.read_excel(\"../../data/instat/SkatersCleaned.xlsx\")\n",
    "\n",
    "# Display the DataFrame as a scrollable HTML table\n",
    "display(HTML(skaters_df.to_html(index=False, max_rows=5, max_cols=None)))"
   ]
  },
  {
   "cell_type": "code",
   "execution_count": 5,
   "id": "d92ad609",
   "metadata": {},
   "outputs": [
    {
     "data": {
      "text/html": [
       "<table border=\"1\" class=\"dataframe\">\n",
       "  <thead>\n",
       "    <tr style=\"text-align: right;\">\n",
       "      <th>Shirt number</th>\n",
       "      <th>Games played</th>\n",
       "      <th>All shifts</th>\n",
       "      <th>Goals</th>\n",
       "      <th>First assist</th>\n",
       "      <th>Second assist</th>\n",
       "      <th>Assists</th>\n",
       "      <th>Points</th>\n",
       "      <th>+/-</th>\n",
       "      <th>Scoring chances</th>\n",
       "      <th>Penalties drawn</th>\n",
       "      <th>Faceoffs</th>\n",
       "      <th>Faceoffs won</th>\n",
       "      <th>Faceoffs won, %</th>\n",
       "      <th>Hits</th>\n",
       "      <th>Shots</th>\n",
       "      <th>Shots on goal</th>\n",
       "      <th>Blocked shots</th>\n",
       "      <th>Power play shots</th>\n",
       "      <th>Short-handed shots</th>\n",
       "      <th>Passes to the slot</th>\n",
       "      <th>Faceoffs in DZ</th>\n",
       "      <th>Faceoffs won in DZ</th>\n",
       "      <th>Faceoffs won in DZ, %</th>\n",
       "      <th>Faceoffs in NZ</th>\n",
       "      <th>Faceoffs won in NZ</th>\n",
       "      <th>Faceoffs won in NZ, %</th>\n",
       "      <th>Faceoffs in OZ</th>\n",
       "      <th>Faceoffs won in OZ</th>\n",
       "      <th>Faceoffs won in OZ, %</th>\n",
       "      <th>Puck touches</th>\n",
       "      <th>Plus</th>\n",
       "      <th>Minus</th>\n",
       "      <th>Penalties</th>\n",
       "      <th>Faceoffs lost</th>\n",
       "      <th>Hits against</th>\n",
       "      <th>Error leading to goal</th>\n",
       "      <th>Dump ins</th>\n",
       "      <th>Dump outs</th>\n",
       "      <th>Team goals when on ice</th>\n",
       "      <th>Opponent's goals when on ice</th>\n",
       "      <th>Power play</th>\n",
       "      <th>Successful power play</th>\n",
       "      <th>Short-handed</th>\n",
       "      <th>Penalty killing</th>\n",
       "      <th>Missed shots</th>\n",
       "      <th>% shots on goal</th>\n",
       "      <th>Slapshot</th>\n",
       "      <th>Wrist shot</th>\n",
       "      <th>Shootouts</th>\n",
       "      <th>Shootouts scored</th>\n",
       "      <th>Shootouts missed</th>\n",
       "      <th>1-on-1 shots</th>\n",
       "      <th>1-on-1 goals</th>\n",
       "      <th>Shots conversion 1 on 1, %</th>\n",
       "      <th>Positional attack shots</th>\n",
       "      <th>Shots 5 v 5</th>\n",
       "      <th>Counter-attack shots</th>\n",
       "      <th>xG per shot</th>\n",
       "      <th>xG (Expected goals)</th>\n",
       "      <th>xG per goal</th>\n",
       "      <th>Net xG (xG player on - opp. team's xG)</th>\n",
       "      <th>Team xG when on ice</th>\n",
       "      <th>Opponent's xG when on ice</th>\n",
       "      <th>xG conversion</th>\n",
       "      <th>CORSI</th>\n",
       "      <th>CORSI-</th>\n",
       "      <th>CORSI+</th>\n",
       "      <th>CORSI for, %</th>\n",
       "      <th>Fenwick for</th>\n",
       "      <th>Fenwick against</th>\n",
       "      <th>Fenwick for, %</th>\n",
       "      <th>Puck battles</th>\n",
       "      <th>Puck battles won</th>\n",
       "      <th>Puck battles won, %</th>\n",
       "      <th>Puck battles in DZ</th>\n",
       "      <th>Puck battles in NZ</th>\n",
       "      <th>Puck battles in OZ</th>\n",
       "      <th>Shots blocking</th>\n",
       "      <th>Dekes</th>\n",
       "      <th>Dekes successful</th>\n",
       "      <th>Dekes unsuccessful</th>\n",
       "      <th>Dekes successful, %</th>\n",
       "      <th>Passes</th>\n",
       "      <th>Accurate passes</th>\n",
       "      <th>Accurate passes, %</th>\n",
       "      <th>Pre-shots passes</th>\n",
       "      <th>Pass receptions</th>\n",
       "      <th>Scoring chances - total</th>\n",
       "      <th>Scoring chances - scored</th>\n",
       "      <th>Scoring chances missed</th>\n",
       "      <th>Scoring chances saved</th>\n",
       "      <th>Scoring Chances, %</th>\n",
       "      <th>Inner slot shots - total</th>\n",
       "      <th>Inner slot shots - scored</th>\n",
       "      <th>Inner slot shots - missed</th>\n",
       "      <th>Inner slot shots - saved</th>\n",
       "      <th>Inner slot shots, %</th>\n",
       "      <th>Outer slot shots - total</th>\n",
       "      <th>Outer slot shots - scored</th>\n",
       "      <th>Outer slot shots - missed</th>\n",
       "      <th>Outer slot shots - saved</th>\n",
       "      <th>Outer slot shots, %</th>\n",
       "      <th>Blocked shots from the slot</th>\n",
       "      <th>Blocked shots outside of the slot</th>\n",
       "      <th>Takeaways</th>\n",
       "      <th>Puck retrievals after shots</th>\n",
       "      <th>Opponent’s dump-in retrievals</th>\n",
       "      <th>Takeaways in DZ</th>\n",
       "      <th>Loose puck recovery</th>\n",
       "      <th>Takeaways in NZ</th>\n",
       "      <th>Takeaways in OZ</th>\n",
       "      <th>EV DZ retrievals</th>\n",
       "      <th>Puck losses</th>\n",
       "      <th>Puck losses in DZ</th>\n",
       "      <th>EV OZ retrievals</th>\n",
       "      <th>Puck losses in NZ</th>\n",
       "      <th>Power play retrievals</th>\n",
       "      <th>Penalty kill retrievals</th>\n",
       "      <th>Puck losses in OZ</th>\n",
       "      <th>Entries</th>\n",
       "      <th>Entries via pass</th>\n",
       "      <th>Entries via dump in</th>\n",
       "      <th>Entries via stickhandling</th>\n",
       "      <th>Breakouts</th>\n",
       "      <th>Breakouts via pass</th>\n",
       "      <th>Breakouts via dump out</th>\n",
       "      <th>Breakouts via stickhandling</th>\n",
       "      <th>National team</th>\n",
       "      <th>Height</th>\n",
       "      <th>Weight</th>\n",
       "      <th>Time on ice (Minutes)</th>\n",
       "      <th>Time on ice (Seconds)</th>\n",
       "      <th>Penalty time (Minutes)</th>\n",
       "      <th>Penalty time (Seconds)</th>\n",
       "      <th>Puck control time (Minutes)</th>\n",
       "      <th>Puck control time (Seconds)</th>\n",
       "      <th>Power play time (Minutes)</th>\n",
       "      <th>Power play time (Seconds)</th>\n",
       "      <th>Short-handed time (Minutes)</th>\n",
       "      <th>Short-handed time (Seconds)</th>\n",
       "      <th>Playing in attack (Minutes)</th>\n",
       "      <th>Playing in attack (Seconds)</th>\n",
       "      <th>Playing in defense (Minutes)</th>\n",
       "      <th>Playing in defense (Seconds)</th>\n",
       "      <th>OZ possession (Minutes)</th>\n",
       "      <th>OZ possession (Seconds)</th>\n",
       "      <th>NZ possession (Minutes)</th>\n",
       "      <th>NZ possession (Seconds)</th>\n",
       "      <th>DZ possession (Minutes)</th>\n",
       "      <th>DZ possession (Seconds)</th>\n",
       "      <th>Position_D</th>\n",
       "      <th>Position_F</th>\n",
       "      <th>Active hand_Left</th>\n",
       "      <th>Active hand_Right</th>\n",
       "      <th>Type_Even Strength</th>\n",
       "      <th>Type_Penalty Kill</th>\n",
       "      <th>Type_Power Play</th>\n",
       "      <th>Type_Total</th>\n",
       "    </tr>\n",
       "  </thead>\n",
       "  <tbody>\n",
       "    <tr>\n",
       "      <td>6</td>\n",
       "      <td>23</td>\n",
       "      <td>17.0</td>\n",
       "      <td>0.04</td>\n",
       "      <td>0.04</td>\n",
       "      <td>0.04</td>\n",
       "      <td>0.09</td>\n",
       "      <td>0.13</td>\n",
       "      <td>-1.04</td>\n",
       "      <td>0.04</td>\n",
       "      <td>0.04</td>\n",
       "      <td>0.09</td>\n",
       "      <td>0.04</td>\n",
       "      <td>0.50</td>\n",
       "      <td>0.13</td>\n",
       "      <td>2.00</td>\n",
       "      <td>0.74</td>\n",
       "      <td>0.61</td>\n",
       "      <td>0.00</td>\n",
       "      <td>0.0</td>\n",
       "      <td>0.17</td>\n",
       "      <td>0.04</td>\n",
       "      <td>0.04</td>\n",
       "      <td>1.00</td>\n",
       "      <td>0.04</td>\n",
       "      <td>0.00</td>\n",
       "      <td>0.00</td>\n",
       "      <td>0.0</td>\n",
       "      <td>0.00</td>\n",
       "      <td>0.00</td>\n",
       "      <td>57.0</td>\n",
       "      <td>0.22</td>\n",
       "      <td>1.26</td>\n",
       "      <td>0.17</td>\n",
       "      <td>0.04</td>\n",
       "      <td>0.04</td>\n",
       "      <td>0.96</td>\n",
       "      <td>1.61</td>\n",
       "      <td>1.96</td>\n",
       "      <td>0.22</td>\n",
       "      <td>1.26</td>\n",
       "      <td>0.00</td>\n",
       "      <td>0.00</td>\n",
       "      <td>0.00</td>\n",
       "      <td>0.00</td>\n",
       "      <td>0.65</td>\n",
       "      <td>0.37</td>\n",
       "      <td>0.74</td>\n",
       "      <td>0.87</td>\n",
       "      <td>0.0</td>\n",
       "      <td>0.0</td>\n",
       "      <td>0.0</td>\n",
       "      <td>0.00</td>\n",
       "      <td>0.0</td>\n",
       "      <td>0.0</td>\n",
       "      <td>1.17</td>\n",
       "      <td>2.00</td>\n",
       "      <td>0.04</td>\n",
       "      <td>0.31</td>\n",
       "      <td>0.05</td>\n",
       "      <td>0.29</td>\n",
       "      <td>-0.75</td>\n",
       "      <td>0.46</td>\n",
       "      <td>1.22</td>\n",
       "      <td>0.0091</td>\n",
       "      <td>-8.0</td>\n",
       "      <td>18</td>\n",
       "      <td>10.0</td>\n",
       "      <td>0.35</td>\n",
       "      <td>7.0</td>\n",
       "      <td>14.0</td>\n",
       "      <td>0.35</td>\n",
       "      <td>10.0</td>\n",
       "      <td>5.2</td>\n",
       "      <td>0.54</td>\n",
       "      <td>7.0</td>\n",
       "      <td>1.61</td>\n",
       "      <td>1.39</td>\n",
       "      <td>0.78</td>\n",
       "      <td>0.26</td>\n",
       "      <td>0.22</td>\n",
       "      <td>0.04</td>\n",
       "      <td>0.83</td>\n",
       "      <td>12.0</td>\n",
       "      <td>10.0</td>\n",
       "      <td>0.83</td>\n",
       "      <td>0.22</td>\n",
       "      <td>6.0</td>\n",
       "      <td>0.26</td>\n",
       "      <td>0.04</td>\n",
       "      <td>0.04</td>\n",
       "      <td>0.17</td>\n",
       "      <td>0.17</td>\n",
       "      <td>0.04</td>\n",
       "      <td>0.04</td>\n",
       "      <td>0.00</td>\n",
       "      <td>0.00</td>\n",
       "      <td>1.0</td>\n",
       "      <td>0.22</td>\n",
       "      <td>0.0</td>\n",
       "      <td>0.04</td>\n",
       "      <td>0.17</td>\n",
       "      <td>0.0</td>\n",
       "      <td>0.00</td>\n",
       "      <td>0.61</td>\n",
       "      <td>7.0</td>\n",
       "      <td>1.87</td>\n",
       "      <td>1.09</td>\n",
       "      <td>5.20</td>\n",
       "      <td>1.48</td>\n",
       "      <td>1.61</td>\n",
       "      <td>0.39</td>\n",
       "      <td>1.39</td>\n",
       "      <td>4.20</td>\n",
       "      <td>1.30</td>\n",
       "      <td>0.48</td>\n",
       "      <td>1.04</td>\n",
       "      <td>0.00</td>\n",
       "      <td>0.00</td>\n",
       "      <td>1.87</td>\n",
       "      <td>1.48</td>\n",
       "      <td>0.52</td>\n",
       "      <td>0.22</td>\n",
       "      <td>0.74</td>\n",
       "      <td>2.30</td>\n",
       "      <td>1.48</td>\n",
       "      <td>0.13</td>\n",
       "      <td>0.70</td>\n",
       "      <td>0</td>\n",
       "      <td>0</td>\n",
       "      <td>0.0</td>\n",
       "      <td>15</td>\n",
       "      <td>20</td>\n",
       "      <td>0</td>\n",
       "      <td>26</td>\n",
       "      <td>0</td>\n",
       "      <td>16</td>\n",
       "      <td>0</td>\n",
       "      <td>0</td>\n",
       "      <td>0</td>\n",
       "      <td>0</td>\n",
       "      <td>6</td>\n",
       "      <td>15</td>\n",
       "      <td>7</td>\n",
       "      <td>7</td>\n",
       "      <td>4</td>\n",
       "      <td>56</td>\n",
       "      <td>3</td>\n",
       "      <td>8</td>\n",
       "      <td>7</td>\n",
       "      <td>16</td>\n",
       "      <td>False</td>\n",
       "      <td>True</td>\n",
       "      <td>False</td>\n",
       "      <td>True</td>\n",
       "      <td>True</td>\n",
       "      <td>False</td>\n",
       "      <td>False</td>\n",
       "      <td>False</td>\n",
       "    </tr>\n",
       "    <tr>\n",
       "      <td>12</td>\n",
       "      <td>24</td>\n",
       "      <td>16.0</td>\n",
       "      <td>0.00</td>\n",
       "      <td>0.08</td>\n",
       "      <td>0.13</td>\n",
       "      <td>0.21</td>\n",
       "      <td>0.21</td>\n",
       "      <td>-0.58</td>\n",
       "      <td>0.38</td>\n",
       "      <td>0.13</td>\n",
       "      <td>9.00</td>\n",
       "      <td>4.30</td>\n",
       "      <td>0.48</td>\n",
       "      <td>0.00</td>\n",
       "      <td>1.54</td>\n",
       "      <td>1.17</td>\n",
       "      <td>0.21</td>\n",
       "      <td>0.00</td>\n",
       "      <td>0.0</td>\n",
       "      <td>0.25</td>\n",
       "      <td>3.80</td>\n",
       "      <td>1.79</td>\n",
       "      <td>0.47</td>\n",
       "      <td>2.80</td>\n",
       "      <td>1.38</td>\n",
       "      <td>0.49</td>\n",
       "      <td>2.4</td>\n",
       "      <td>1.17</td>\n",
       "      <td>0.48</td>\n",
       "      <td>55.0</td>\n",
       "      <td>0.21</td>\n",
       "      <td>0.79</td>\n",
       "      <td>0.04</td>\n",
       "      <td>4.70</td>\n",
       "      <td>0.04</td>\n",
       "      <td>0.08</td>\n",
       "      <td>1.79</td>\n",
       "      <td>0.50</td>\n",
       "      <td>0.21</td>\n",
       "      <td>0.79</td>\n",
       "      <td>0.00</td>\n",
       "      <td>0.00</td>\n",
       "      <td>0.00</td>\n",
       "      <td>0.00</td>\n",
       "      <td>0.17</td>\n",
       "      <td>0.76</td>\n",
       "      <td>0.54</td>\n",
       "      <td>0.38</td>\n",
       "      <td>0.0</td>\n",
       "      <td>0.0</td>\n",
       "      <td>0.0</td>\n",
       "      <td>0.00</td>\n",
       "      <td>0.0</td>\n",
       "      <td>0.0</td>\n",
       "      <td>0.50</td>\n",
       "      <td>1.54</td>\n",
       "      <td>0.08</td>\n",
       "      <td>1.33</td>\n",
       "      <td>0.12</td>\n",
       "      <td>0.00</td>\n",
       "      <td>-0.60</td>\n",
       "      <td>0.43</td>\n",
       "      <td>1.03</td>\n",
       "      <td>0.0000</td>\n",
       "      <td>-7.0</td>\n",
       "      <td>17</td>\n",
       "      <td>9.0</td>\n",
       "      <td>0.36</td>\n",
       "      <td>7.0</td>\n",
       "      <td>13.0</td>\n",
       "      <td>0.35</td>\n",
       "      <td>14.0</td>\n",
       "      <td>5.9</td>\n",
       "      <td>0.42</td>\n",
       "      <td>6.0</td>\n",
       "      <td>2.00</td>\n",
       "      <td>5.70</td>\n",
       "      <td>0.92</td>\n",
       "      <td>0.63</td>\n",
       "      <td>0.42</td>\n",
       "      <td>0.21</td>\n",
       "      <td>0.67</td>\n",
       "      <td>9.0</td>\n",
       "      <td>7.0</td>\n",
       "      <td>0.71</td>\n",
       "      <td>0.29</td>\n",
       "      <td>8.0</td>\n",
       "      <td>0.71</td>\n",
       "      <td>0.00</td>\n",
       "      <td>0.08</td>\n",
       "      <td>0.63</td>\n",
       "      <td>0.00</td>\n",
       "      <td>0.38</td>\n",
       "      <td>0.00</td>\n",
       "      <td>0.04</td>\n",
       "      <td>0.33</td>\n",
       "      <td>0.0</td>\n",
       "      <td>0.33</td>\n",
       "      <td>0.0</td>\n",
       "      <td>0.04</td>\n",
       "      <td>0.29</td>\n",
       "      <td>0.0</td>\n",
       "      <td>0.00</td>\n",
       "      <td>0.21</td>\n",
       "      <td>3.4</td>\n",
       "      <td>1.04</td>\n",
       "      <td>0.04</td>\n",
       "      <td>2.50</td>\n",
       "      <td>0.21</td>\n",
       "      <td>0.67</td>\n",
       "      <td>0.29</td>\n",
       "      <td>0.54</td>\n",
       "      <td>5.30</td>\n",
       "      <td>0.54</td>\n",
       "      <td>0.50</td>\n",
       "      <td>1.63</td>\n",
       "      <td>0.00</td>\n",
       "      <td>0.00</td>\n",
       "      <td>3.10</td>\n",
       "      <td>2.00</td>\n",
       "      <td>0.33</td>\n",
       "      <td>0.25</td>\n",
       "      <td>1.46</td>\n",
       "      <td>2.70</td>\n",
       "      <td>1.04</td>\n",
       "      <td>0.04</td>\n",
       "      <td>1.58</td>\n",
       "      <td>0</td>\n",
       "      <td>0</td>\n",
       "      <td>0.0</td>\n",
       "      <td>13</td>\n",
       "      <td>58</td>\n",
       "      <td>0</td>\n",
       "      <td>10</td>\n",
       "      <td>0</td>\n",
       "      <td>14</td>\n",
       "      <td>0</td>\n",
       "      <td>0</td>\n",
       "      <td>0</td>\n",
       "      <td>0</td>\n",
       "      <td>5</td>\n",
       "      <td>49</td>\n",
       "      <td>6</td>\n",
       "      <td>18</td>\n",
       "      <td>4</td>\n",
       "      <td>28</td>\n",
       "      <td>2</td>\n",
       "      <td>49</td>\n",
       "      <td>6</td>\n",
       "      <td>40</td>\n",
       "      <td>False</td>\n",
       "      <td>True</td>\n",
       "      <td>False</td>\n",
       "      <td>True</td>\n",
       "      <td>True</td>\n",
       "      <td>False</td>\n",
       "      <td>False</td>\n",
       "      <td>False</td>\n",
       "    </tr>\n",
       "    <tr>\n",
       "      <td>...</td>\n",
       "      <td>...</td>\n",
       "      <td>...</td>\n",
       "      <td>...</td>\n",
       "      <td>...</td>\n",
       "      <td>...</td>\n",
       "      <td>...</td>\n",
       "      <td>...</td>\n",
       "      <td>...</td>\n",
       "      <td>...</td>\n",
       "      <td>...</td>\n",
       "      <td>...</td>\n",
       "      <td>...</td>\n",
       "      <td>...</td>\n",
       "      <td>...</td>\n",
       "      <td>...</td>\n",
       "      <td>...</td>\n",
       "      <td>...</td>\n",
       "      <td>...</td>\n",
       "      <td>...</td>\n",
       "      <td>...</td>\n",
       "      <td>...</td>\n",
       "      <td>...</td>\n",
       "      <td>...</td>\n",
       "      <td>...</td>\n",
       "      <td>...</td>\n",
       "      <td>...</td>\n",
       "      <td>...</td>\n",
       "      <td>...</td>\n",
       "      <td>...</td>\n",
       "      <td>...</td>\n",
       "      <td>...</td>\n",
       "      <td>...</td>\n",
       "      <td>...</td>\n",
       "      <td>...</td>\n",
       "      <td>...</td>\n",
       "      <td>...</td>\n",
       "      <td>...</td>\n",
       "      <td>...</td>\n",
       "      <td>...</td>\n",
       "      <td>...</td>\n",
       "      <td>...</td>\n",
       "      <td>...</td>\n",
       "      <td>...</td>\n",
       "      <td>...</td>\n",
       "      <td>...</td>\n",
       "      <td>...</td>\n",
       "      <td>...</td>\n",
       "      <td>...</td>\n",
       "      <td>...</td>\n",
       "      <td>...</td>\n",
       "      <td>...</td>\n",
       "      <td>...</td>\n",
       "      <td>...</td>\n",
       "      <td>...</td>\n",
       "      <td>...</td>\n",
       "      <td>...</td>\n",
       "      <td>...</td>\n",
       "      <td>...</td>\n",
       "      <td>...</td>\n",
       "      <td>...</td>\n",
       "      <td>...</td>\n",
       "      <td>...</td>\n",
       "      <td>...</td>\n",
       "      <td>...</td>\n",
       "      <td>...</td>\n",
       "      <td>...</td>\n",
       "      <td>...</td>\n",
       "      <td>...</td>\n",
       "      <td>...</td>\n",
       "      <td>...</td>\n",
       "      <td>...</td>\n",
       "      <td>...</td>\n",
       "      <td>...</td>\n",
       "      <td>...</td>\n",
       "      <td>...</td>\n",
       "      <td>...</td>\n",
       "      <td>...</td>\n",
       "      <td>...</td>\n",
       "      <td>...</td>\n",
       "      <td>...</td>\n",
       "      <td>...</td>\n",
       "      <td>...</td>\n",
       "      <td>...</td>\n",
       "      <td>...</td>\n",
       "      <td>...</td>\n",
       "      <td>...</td>\n",
       "      <td>...</td>\n",
       "      <td>...</td>\n",
       "      <td>...</td>\n",
       "      <td>...</td>\n",
       "      <td>...</td>\n",
       "      <td>...</td>\n",
       "      <td>...</td>\n",
       "      <td>...</td>\n",
       "      <td>...</td>\n",
       "      <td>...</td>\n",
       "      <td>...</td>\n",
       "      <td>...</td>\n",
       "      <td>...</td>\n",
       "      <td>...</td>\n",
       "      <td>...</td>\n",
       "      <td>...</td>\n",
       "      <td>...</td>\n",
       "      <td>...</td>\n",
       "      <td>...</td>\n",
       "      <td>...</td>\n",
       "      <td>...</td>\n",
       "      <td>...</td>\n",
       "      <td>...</td>\n",
       "      <td>...</td>\n",
       "      <td>...</td>\n",
       "      <td>...</td>\n",
       "      <td>...</td>\n",
       "      <td>...</td>\n",
       "      <td>...</td>\n",
       "      <td>...</td>\n",
       "      <td>...</td>\n",
       "      <td>...</td>\n",
       "      <td>...</td>\n",
       "      <td>...</td>\n",
       "      <td>...</td>\n",
       "      <td>...</td>\n",
       "      <td>...</td>\n",
       "      <td>...</td>\n",
       "      <td>...</td>\n",
       "      <td>...</td>\n",
       "      <td>...</td>\n",
       "      <td>...</td>\n",
       "      <td>...</td>\n",
       "      <td>...</td>\n",
       "      <td>...</td>\n",
       "      <td>...</td>\n",
       "      <td>...</td>\n",
       "      <td>...</td>\n",
       "      <td>...</td>\n",
       "      <td>...</td>\n",
       "      <td>...</td>\n",
       "      <td>...</td>\n",
       "      <td>...</td>\n",
       "      <td>...</td>\n",
       "      <td>...</td>\n",
       "      <td>...</td>\n",
       "      <td>...</td>\n",
       "      <td>...</td>\n",
       "      <td>...</td>\n",
       "      <td>...</td>\n",
       "      <td>...</td>\n",
       "      <td>...</td>\n",
       "      <td>...</td>\n",
       "      <td>...</td>\n",
       "      <td>...</td>\n",
       "      <td>...</td>\n",
       "      <td>...</td>\n",
       "      <td>...</td>\n",
       "      <td>...</td>\n",
       "      <td>...</td>\n",
       "      <td>...</td>\n",
       "      <td>...</td>\n",
       "    </tr>\n",
       "    <tr>\n",
       "      <td>16</td>\n",
       "      <td>24</td>\n",
       "      <td>13.0</td>\n",
       "      <td>0.00</td>\n",
       "      <td>0.08</td>\n",
       "      <td>0.08</td>\n",
       "      <td>0.17</td>\n",
       "      <td>0.17</td>\n",
       "      <td>-0.21</td>\n",
       "      <td>0.13</td>\n",
       "      <td>0.08</td>\n",
       "      <td>0.04</td>\n",
       "      <td>0.00</td>\n",
       "      <td>0.00</td>\n",
       "      <td>0.00</td>\n",
       "      <td>1.29</td>\n",
       "      <td>0.71</td>\n",
       "      <td>0.25</td>\n",
       "      <td>0.08</td>\n",
       "      <td>0.0</td>\n",
       "      <td>0.25</td>\n",
       "      <td>0.04</td>\n",
       "      <td>0.00</td>\n",
       "      <td>0.00</td>\n",
       "      <td>0.00</td>\n",
       "      <td>0.00</td>\n",
       "      <td>0.00</td>\n",
       "      <td>0.0</td>\n",
       "      <td>0.00</td>\n",
       "      <td>0.00</td>\n",
       "      <td>36.0</td>\n",
       "      <td>0.25</td>\n",
       "      <td>0.46</td>\n",
       "      <td>0.25</td>\n",
       "      <td>0.04</td>\n",
       "      <td>0.04</td>\n",
       "      <td>0.04</td>\n",
       "      <td>0.92</td>\n",
       "      <td>0.75</td>\n",
       "      <td>0.29</td>\n",
       "      <td>0.46</td>\n",
       "      <td>1.42</td>\n",
       "      <td>0.04</td>\n",
       "      <td>0.04</td>\n",
       "      <td>0.04</td>\n",
       "      <td>0.33</td>\n",
       "      <td>0.55</td>\n",
       "      <td>0.46</td>\n",
       "      <td>0.38</td>\n",
       "      <td>0.0</td>\n",
       "      <td>0.0</td>\n",
       "      <td>0.0</td>\n",
       "      <td>0.04</td>\n",
       "      <td>0.0</td>\n",
       "      <td>0.0</td>\n",
       "      <td>0.54</td>\n",
       "      <td>1.21</td>\n",
       "      <td>0.08</td>\n",
       "      <td>1.07</td>\n",
       "      <td>0.08</td>\n",
       "      <td>0.00</td>\n",
       "      <td>-0.23</td>\n",
       "      <td>0.38</td>\n",
       "      <td>0.64</td>\n",
       "      <td>0.0000</td>\n",
       "      <td>-2.7</td>\n",
       "      <td>11</td>\n",
       "      <td>8.0</td>\n",
       "      <td>0.42</td>\n",
       "      <td>5.3</td>\n",
       "      <td>8.0</td>\n",
       "      <td>0.40</td>\n",
       "      <td>9.0</td>\n",
       "      <td>4.2</td>\n",
       "      <td>0.46</td>\n",
       "      <td>3.5</td>\n",
       "      <td>1.92</td>\n",
       "      <td>3.80</td>\n",
       "      <td>0.33</td>\n",
       "      <td>0.25</td>\n",
       "      <td>0.21</td>\n",
       "      <td>0.04</td>\n",
       "      <td>0.83</td>\n",
       "      <td>7.0</td>\n",
       "      <td>5.0</td>\n",
       "      <td>0.72</td>\n",
       "      <td>0.29</td>\n",
       "      <td>6.0</td>\n",
       "      <td>0.50</td>\n",
       "      <td>0.00</td>\n",
       "      <td>0.17</td>\n",
       "      <td>0.21</td>\n",
       "      <td>0.00</td>\n",
       "      <td>0.13</td>\n",
       "      <td>0.00</td>\n",
       "      <td>0.04</td>\n",
       "      <td>0.08</td>\n",
       "      <td>0.0</td>\n",
       "      <td>0.38</td>\n",
       "      <td>0.0</td>\n",
       "      <td>0.13</td>\n",
       "      <td>0.13</td>\n",
       "      <td>0.0</td>\n",
       "      <td>0.13</td>\n",
       "      <td>0.13</td>\n",
       "      <td>2.2</td>\n",
       "      <td>1.17</td>\n",
       "      <td>0.08</td>\n",
       "      <td>1.21</td>\n",
       "      <td>1.13</td>\n",
       "      <td>0.71</td>\n",
       "      <td>0.25</td>\n",
       "      <td>0.46</td>\n",
       "      <td>3.90</td>\n",
       "      <td>0.63</td>\n",
       "      <td>0.67</td>\n",
       "      <td>1.25</td>\n",
       "      <td>0.04</td>\n",
       "      <td>0.00</td>\n",
       "      <td>2.00</td>\n",
       "      <td>1.83</td>\n",
       "      <td>0.33</td>\n",
       "      <td>0.17</td>\n",
       "      <td>1.33</td>\n",
       "      <td>1.38</td>\n",
       "      <td>0.63</td>\n",
       "      <td>0.04</td>\n",
       "      <td>0.71</td>\n",
       "      <td>0</td>\n",
       "      <td>0</td>\n",
       "      <td>0.0</td>\n",
       "      <td>10</td>\n",
       "      <td>45</td>\n",
       "      <td>0</td>\n",
       "      <td>30</td>\n",
       "      <td>0</td>\n",
       "      <td>9</td>\n",
       "      <td>0</td>\n",
       "      <td>47</td>\n",
       "      <td>0</td>\n",
       "      <td>0</td>\n",
       "      <td>4</td>\n",
       "      <td>33</td>\n",
       "      <td>4</td>\n",
       "      <td>40</td>\n",
       "      <td>4</td>\n",
       "      <td>4</td>\n",
       "      <td>2</td>\n",
       "      <td>9</td>\n",
       "      <td>4</td>\n",
       "      <td>32</td>\n",
       "      <td>True</td>\n",
       "      <td>False</td>\n",
       "      <td>False</td>\n",
       "      <td>True</td>\n",
       "      <td>False</td>\n",
       "      <td>False</td>\n",
       "      <td>False</td>\n",
       "      <td>True</td>\n",
       "    </tr>\n",
       "    <tr>\n",
       "      <td>19</td>\n",
       "      <td>24</td>\n",
       "      <td>10.0</td>\n",
       "      <td>0.00</td>\n",
       "      <td>0.04</td>\n",
       "      <td>0.04</td>\n",
       "      <td>0.08</td>\n",
       "      <td>0.08</td>\n",
       "      <td>-0.29</td>\n",
       "      <td>0.00</td>\n",
       "      <td>0.04</td>\n",
       "      <td>0.00</td>\n",
       "      <td>0.00</td>\n",
       "      <td>0.00</td>\n",
       "      <td>0.04</td>\n",
       "      <td>1.13</td>\n",
       "      <td>0.25</td>\n",
       "      <td>0.50</td>\n",
       "      <td>0.21</td>\n",
       "      <td>0.0</td>\n",
       "      <td>0.08</td>\n",
       "      <td>0.00</td>\n",
       "      <td>0.00</td>\n",
       "      <td>0.00</td>\n",
       "      <td>0.00</td>\n",
       "      <td>0.00</td>\n",
       "      <td>0.00</td>\n",
       "      <td>0.0</td>\n",
       "      <td>0.00</td>\n",
       "      <td>0.00</td>\n",
       "      <td>24.0</td>\n",
       "      <td>0.21</td>\n",
       "      <td>0.50</td>\n",
       "      <td>0.25</td>\n",
       "      <td>0.00</td>\n",
       "      <td>0.00</td>\n",
       "      <td>0.25</td>\n",
       "      <td>0.29</td>\n",
       "      <td>0.42</td>\n",
       "      <td>0.21</td>\n",
       "      <td>0.50</td>\n",
       "      <td>0.67</td>\n",
       "      <td>0.00</td>\n",
       "      <td>0.67</td>\n",
       "      <td>0.67</td>\n",
       "      <td>0.38</td>\n",
       "      <td>0.22</td>\n",
       "      <td>0.71</td>\n",
       "      <td>0.38</td>\n",
       "      <td>0.0</td>\n",
       "      <td>0.0</td>\n",
       "      <td>0.0</td>\n",
       "      <td>0.00</td>\n",
       "      <td>0.0</td>\n",
       "      <td>0.0</td>\n",
       "      <td>0.58</td>\n",
       "      <td>0.92</td>\n",
       "      <td>0.00</td>\n",
       "      <td>0.22</td>\n",
       "      <td>0.02</td>\n",
       "      <td>0.00</td>\n",
       "      <td>-0.38</td>\n",
       "      <td>0.23</td>\n",
       "      <td>0.62</td>\n",
       "      <td>0.0000</td>\n",
       "      <td>-4.8</td>\n",
       "      <td>9</td>\n",
       "      <td>4.2</td>\n",
       "      <td>0.32</td>\n",
       "      <td>3.1</td>\n",
       "      <td>7.0</td>\n",
       "      <td>0.32</td>\n",
       "      <td>4.2</td>\n",
       "      <td>2.9</td>\n",
       "      <td>0.69</td>\n",
       "      <td>3.2</td>\n",
       "      <td>0.58</td>\n",
       "      <td>0.42</td>\n",
       "      <td>0.58</td>\n",
       "      <td>0.04</td>\n",
       "      <td>0.04</td>\n",
       "      <td>0.00</td>\n",
       "      <td>1.00</td>\n",
       "      <td>5.8</td>\n",
       "      <td>4.2</td>\n",
       "      <td>0.72</td>\n",
       "      <td>0.08</td>\n",
       "      <td>2.4</td>\n",
       "      <td>0.00</td>\n",
       "      <td>0.00</td>\n",
       "      <td>0.00</td>\n",
       "      <td>0.00</td>\n",
       "      <td>0.00</td>\n",
       "      <td>0.00</td>\n",
       "      <td>0.00</td>\n",
       "      <td>0.00</td>\n",
       "      <td>0.00</td>\n",
       "      <td>0.0</td>\n",
       "      <td>0.00</td>\n",
       "      <td>0.0</td>\n",
       "      <td>0.00</td>\n",
       "      <td>0.00</td>\n",
       "      <td>0.0</td>\n",
       "      <td>0.00</td>\n",
       "      <td>0.50</td>\n",
       "      <td>3.8</td>\n",
       "      <td>0.83</td>\n",
       "      <td>0.71</td>\n",
       "      <td>3.20</td>\n",
       "      <td>1.25</td>\n",
       "      <td>0.38</td>\n",
       "      <td>0.17</td>\n",
       "      <td>0.63</td>\n",
       "      <td>1.75</td>\n",
       "      <td>0.63</td>\n",
       "      <td>0.00</td>\n",
       "      <td>0.71</td>\n",
       "      <td>0.04</td>\n",
       "      <td>0.17</td>\n",
       "      <td>0.42</td>\n",
       "      <td>0.42</td>\n",
       "      <td>0.21</td>\n",
       "      <td>0.08</td>\n",
       "      <td>0.13</td>\n",
       "      <td>0.79</td>\n",
       "      <td>0.50</td>\n",
       "      <td>0.00</td>\n",
       "      <td>0.29</td>\n",
       "      <td>0</td>\n",
       "      <td>7</td>\n",
       "      <td>2.6</td>\n",
       "      <td>8</td>\n",
       "      <td>11</td>\n",
       "      <td>0</td>\n",
       "      <td>30</td>\n",
       "      <td>0</td>\n",
       "      <td>4</td>\n",
       "      <td>0</td>\n",
       "      <td>20</td>\n",
       "      <td>0</td>\n",
       "      <td>16</td>\n",
       "      <td>3</td>\n",
       "      <td>12</td>\n",
       "      <td>3</td>\n",
       "      <td>55</td>\n",
       "      <td>2</td>\n",
       "      <td>25</td>\n",
       "      <td>1</td>\n",
       "      <td>43</td>\n",
       "      <td>4</td>\n",
       "      <td>2</td>\n",
       "      <td>True</td>\n",
       "      <td>False</td>\n",
       "      <td>False</td>\n",
       "      <td>True</td>\n",
       "      <td>False</td>\n",
       "      <td>False</td>\n",
       "      <td>False</td>\n",
       "      <td>True</td>\n",
       "    </tr>\n",
       "  </tbody>\n",
       "</table>"
      ],
      "text/plain": [
       "<IPython.core.display.HTML object>"
      ]
     },
     "metadata": {},
     "output_type": "display_data"
    }
   ],
   "source": [
    "# Drop unneeded columns\n",
    "skaters_df.drop(['Player', 'Contract'], axis=1, inplace=True)\n",
    "\n",
    "# Find remaining categorical columns and one‐hot encode them\n",
    "cat_cols = skaters_df.select_dtypes(include=['object']).columns.tolist()\n",
    "skaters_df = pd.get_dummies(skaters_df, columns=cat_cols)\n",
    "\n",
    "display(HTML(skaters_df.to_html(index=False, max_rows=5, max_cols=None)))"
   ]
  },
  {
   "cell_type": "code",
   "execution_count": 6,
   "id": "7158bb4d",
   "metadata": {},
   "outputs": [
    {
     "data": {
      "text/html": [
       "<div>\n",
       "<style scoped>\n",
       "    .dataframe tbody tr th:only-of-type {\n",
       "        vertical-align: middle;\n",
       "    }\n",
       "\n",
       "    .dataframe tbody tr th {\n",
       "        vertical-align: top;\n",
       "    }\n",
       "\n",
       "    .dataframe thead th {\n",
       "        text-align: right;\n",
       "    }\n",
       "</style>\n",
       "<table border=\"1\" class=\"dataframe\">\n",
       "  <thead>\n",
       "    <tr style=\"text-align: right;\">\n",
       "      <th></th>\n",
       "      <th>Games played</th>\n",
       "      <th>All shifts</th>\n",
       "      <th>Goals</th>\n",
       "      <th>First assist</th>\n",
       "      <th>Second assist</th>\n",
       "      <th>Assists</th>\n",
       "      <th>Points</th>\n",
       "      <th>+/-</th>\n",
       "      <th>Scoring chances</th>\n",
       "      <th>Penalties drawn</th>\n",
       "      <th>...</th>\n",
       "      <th>DZ possession (Minutes)</th>\n",
       "      <th>DZ possession (Seconds)</th>\n",
       "      <th>Position_D</th>\n",
       "      <th>Position_F</th>\n",
       "      <th>Active hand_Left</th>\n",
       "      <th>Active hand_Right</th>\n",
       "      <th>Type_Even Strength</th>\n",
       "      <th>Type_Penalty Kill</th>\n",
       "      <th>Type_Power Play</th>\n",
       "      <th>Type_Total</th>\n",
       "    </tr>\n",
       "  </thead>\n",
       "  <tbody>\n",
       "    <tr>\n",
       "      <th>0</th>\n",
       "      <td>23</td>\n",
       "      <td>17.0</td>\n",
       "      <td>0.04</td>\n",
       "      <td>0.04</td>\n",
       "      <td>0.04</td>\n",
       "      <td>0.09</td>\n",
       "      <td>0.13</td>\n",
       "      <td>-1.04</td>\n",
       "      <td>0.04</td>\n",
       "      <td>0.04</td>\n",
       "      <td>...</td>\n",
       "      <td>7</td>\n",
       "      <td>16</td>\n",
       "      <td>False</td>\n",
       "      <td>True</td>\n",
       "      <td>False</td>\n",
       "      <td>True</td>\n",
       "      <td>True</td>\n",
       "      <td>False</td>\n",
       "      <td>False</td>\n",
       "      <td>False</td>\n",
       "    </tr>\n",
       "    <tr>\n",
       "      <th>1</th>\n",
       "      <td>24</td>\n",
       "      <td>16.0</td>\n",
       "      <td>0.00</td>\n",
       "      <td>0.08</td>\n",
       "      <td>0.13</td>\n",
       "      <td>0.21</td>\n",
       "      <td>0.21</td>\n",
       "      <td>-0.58</td>\n",
       "      <td>0.38</td>\n",
       "      <td>0.13</td>\n",
       "      <td>...</td>\n",
       "      <td>6</td>\n",
       "      <td>40</td>\n",
       "      <td>False</td>\n",
       "      <td>True</td>\n",
       "      <td>False</td>\n",
       "      <td>True</td>\n",
       "      <td>True</td>\n",
       "      <td>False</td>\n",
       "      <td>False</td>\n",
       "      <td>False</td>\n",
       "    </tr>\n",
       "    <tr>\n",
       "      <th>2</th>\n",
       "      <td>24</td>\n",
       "      <td>12.0</td>\n",
       "      <td>0.08</td>\n",
       "      <td>0.00</td>\n",
       "      <td>0.00</td>\n",
       "      <td>0.00</td>\n",
       "      <td>0.08</td>\n",
       "      <td>-0.29</td>\n",
       "      <td>0.21</td>\n",
       "      <td>0.33</td>\n",
       "      <td>...</td>\n",
       "      <td>5</td>\n",
       "      <td>20</td>\n",
       "      <td>False</td>\n",
       "      <td>True</td>\n",
       "      <td>False</td>\n",
       "      <td>True</td>\n",
       "      <td>True</td>\n",
       "      <td>False</td>\n",
       "      <td>False</td>\n",
       "      <td>False</td>\n",
       "    </tr>\n",
       "    <tr>\n",
       "      <th>3</th>\n",
       "      <td>23</td>\n",
       "      <td>7.0</td>\n",
       "      <td>0.04</td>\n",
       "      <td>0.00</td>\n",
       "      <td>0.00</td>\n",
       "      <td>0.00</td>\n",
       "      <td>0.04</td>\n",
       "      <td>-0.13</td>\n",
       "      <td>0.04</td>\n",
       "      <td>0.04</td>\n",
       "      <td>...</td>\n",
       "      <td>2</td>\n",
       "      <td>54</td>\n",
       "      <td>False</td>\n",
       "      <td>True</td>\n",
       "      <td>False</td>\n",
       "      <td>True</td>\n",
       "      <td>True</td>\n",
       "      <td>False</td>\n",
       "      <td>False</td>\n",
       "      <td>False</td>\n",
       "    </tr>\n",
       "    <tr>\n",
       "      <th>4</th>\n",
       "      <td>24</td>\n",
       "      <td>15.0</td>\n",
       "      <td>0.13</td>\n",
       "      <td>0.04</td>\n",
       "      <td>0.00</td>\n",
       "      <td>0.04</td>\n",
       "      <td>0.17</td>\n",
       "      <td>-0.21</td>\n",
       "      <td>0.17</td>\n",
       "      <td>0.08</td>\n",
       "      <td>...</td>\n",
       "      <td>5</td>\n",
       "      <td>18</td>\n",
       "      <td>False</td>\n",
       "      <td>True</td>\n",
       "      <td>False</td>\n",
       "      <td>True</td>\n",
       "      <td>True</td>\n",
       "      <td>False</td>\n",
       "      <td>False</td>\n",
       "      <td>False</td>\n",
       "    </tr>\n",
       "  </tbody>\n",
       "</table>\n",
       "<p>5 rows × 158 columns</p>\n",
       "</div>"
      ],
      "text/plain": [
       "   Games played  All shifts  Goals  First assist  Second assist  Assists  \\\n",
       "0            23        17.0   0.04          0.04           0.04     0.09   \n",
       "1            24        16.0   0.00          0.08           0.13     0.21   \n",
       "2            24        12.0   0.08          0.00           0.00     0.00   \n",
       "3            23         7.0   0.04          0.00           0.00     0.00   \n",
       "4            24        15.0   0.13          0.04           0.00     0.04   \n",
       "\n",
       "   Points   +/-  Scoring chances  Penalties drawn  ...  \\\n",
       "0    0.13 -1.04             0.04             0.04  ...   \n",
       "1    0.21 -0.58             0.38             0.13  ...   \n",
       "2    0.08 -0.29             0.21             0.33  ...   \n",
       "3    0.04 -0.13             0.04             0.04  ...   \n",
       "4    0.17 -0.21             0.17             0.08  ...   \n",
       "\n",
       "   DZ possession (Minutes)  DZ possession (Seconds)  Position_D  Position_F  \\\n",
       "0                        7                       16       False        True   \n",
       "1                        6                       40       False        True   \n",
       "2                        5                       20       False        True   \n",
       "3                        2                       54       False        True   \n",
       "4                        5                       18       False        True   \n",
       "\n",
       "   Active hand_Left  Active hand_Right  Type_Even Strength  Type_Penalty Kill  \\\n",
       "0             False               True                True              False   \n",
       "1             False               True                True              False   \n",
       "2             False               True                True              False   \n",
       "3             False               True                True              False   \n",
       "4             False               True                True              False   \n",
       "\n",
       "   Type_Power Play  Type_Total  \n",
       "0            False       False  \n",
       "1            False       False  \n",
       "2            False       False  \n",
       "3            False       False  \n",
       "4            False       False  \n",
       "\n",
       "[5 rows x 158 columns]"
      ]
     },
     "execution_count": 6,
     "metadata": {},
     "output_type": "execute_result"
    }
   ],
   "source": [
    "# Drop identifier columns\n",
    "skaters_df.drop(['Shirt number'], axis=1, inplace=True)\n",
    "\n",
    "# Define the categorical columns that should be encoded (only include those present)\n",
    "cat_to_encode = ['Position', 'National team', 'Contract', 'Active hand', 'Type']\n",
    "cat_to_encode = [col for col in cat_to_encode if col in skaters_df.columns]\n",
    "\n",
    "# One-hot encode the selected categorical columns\n",
    "skaters_df = pd.get_dummies(skaters_df, columns=cat_to_encode)\n",
    "\n",
    "# Display a preview\n",
    "skaters_df.head()"
   ]
  },
  {
   "cell_type": "markdown",
   "id": "52bf9a85",
   "metadata": {},
   "source": [
    "## Linear Regression based on Goals"
   ]
  },
  {
   "cell_type": "code",
   "execution_count": 7,
   "id": "bec53049",
   "metadata": {},
   "outputs": [
    {
     "name": "stdout",
     "output_type": "stream",
     "text": [
      "CV mean MSE: 0.0027\n",
      "Coefficients: {'Games played': 7.069580470361684e-05, 'All shifts': 0.005867295574171709, 'First assist': -0.01588138776865823, 'Second assist': -0.015157294941819083, 'Assists': -0.030867748698149414, 'Penalties drawn': -0.03958873811525597, 'Faceoffs': -0.0361909209624713, 'Faceoffs won': 0.03402733051074924, 'Faceoffs won, %': -0.03040309293654694, 'Hits': -0.02464933104013614, 'Shots': 0.010550270699011929, 'Shots on goal': 0.004901329496251517, 'Blocked shots': -0.007633388004332612, 'Power play shots': 0.014631897244066154, 'Short-handed shots': -0.024507128135442285, 'Passes to the slot': -0.03456955807779314, 'Faceoffs in DZ': 0.021855460525521973, 'Faceoffs won in DZ': 0.0287112565592068, 'Faceoffs won in DZ, %': 0.013359985855443776, 'Faceoffs in NZ': 0.009973171999984622, 'Faceoffs won in NZ': 0.0017814504365000882, 'Faceoffs won in NZ, %': -0.004404747604558352, 'Faceoffs in OZ': -0.003925021096413668, 'Faceoffs won in OZ': -0.00015235906386890097, 'Faceoffs won in OZ, %': 0.02705950942021229, 'Puck touches': -0.0022613492784170353, 'Minus': -0.008675730560221293, 'Penalties': 0.038908246176816284, 'Faceoffs lost': 0.008579194426442324, 'Hits against': 0.025648827912164558, 'Error leading to goal': -0.04999682267766314, 'Dump ins': -0.01261090865709661, 'Dump outs': -0.024033250604703765, \"Opponent's goals when on ice\": 0.04964921172178793, 'Power play': 0.023741122996018542, 'Successful power play': -0.01777702904704227, 'Short-handed': 0.005359099455733235, 'Penalty killing': -0.0008718724927575484, 'Missed shots': 0.01786456399479461, '% shots on goal': -0.0027684599854230305, 'Slapshot': 0.023460323293054582, 'Wrist shot': 0.05396962982761422, 'Shootouts': 0.0022245004729398474, 'Shootouts scored': 0.0013929230323060718, 'Shootouts missed': 0.0008315774406335138, '1-on-1 shots': -0.008223822440379069, '1-on-1 goals': 0.002785846064612303, 'Positional attack shots': -0.08154501865702539, 'Shots 5 v 5': 0.012353880974356544, 'Counter-attack shots': 0.005982318587735449, 'xG per shot': -0.009494021516123193, 'xG (Expected goals)': 0.007174026235827811, \"Net xG (xG player on - opp. team's xG)\": 0.001231959591818023, 'Team xG when on ice': -0.02626986364004091, \"Opponent's xG when on ice\": 0.011705349350720418, 'xG conversion': 0.028253628660738536, 'CORSI': -0.030752207167689748, 'CORSI-': -0.03636140554658916, 'CORSI+': 0.026272570619436553, 'CORSI for, %': -0.005065995625476229, 'Fenwick for': 0.0027058842685453383, 'Fenwick against': -0.009407339247054568, 'Fenwick for, %': -0.0024476234708977326, 'Puck battles': -0.010672782714060747, 'Puck battles won': -0.009308934062398959, 'Puck battles won, %': 0.0027387305379469144, 'Puck battles in DZ': 0.013068116678981162, 'Puck battles in NZ': -0.03052843471613931, 'Puck battles in OZ': 0.024229436889439574, 'Shots blocking': -0.03636436412227035, 'Dekes': -0.007658781130613695, 'Dekes successful': -0.010456120868508018, 'Dekes unsuccessful': 0.007655961395281066, 'Dekes successful, %': 0.00015175627276240843, 'Passes': 0.003450974250838806, 'Accurate passes': 0.013605684522381683, 'Accurate passes, %': -0.008194035975259814, 'Pre-shots passes': -0.0008737670471241346, 'Pass receptions': -0.010999706523154474, 'Scoring chances - total': 0.04490204670763684, 'Scoring chances - scored': 0.061707838152044794, 'Scoring chances missed': -0.001823569096973226, 'Scoring chances saved': 0.006193314523575683, 'Scoring Chances, %': 0.013362767927664984, 'Inner slot shots - total': 0.045436486243199056, 'Inner slot shots - missed': -0.000748812523243347, 'Inner slot shots - saved': 0.010258771325675133, 'Inner slot shots, %': 0.01623622367555541, 'Outer slot shots - total': 0.012148083723870816, 'Outer slot shots - missed': 0.001517333266486765, 'Outer slot shots - saved': -0.003353255829098744, 'Outer slot shots, %': 0.02829181786869579, 'Blocked shots from the slot': -0.00908287156754004, 'Blocked shots outside of the slot': -0.0022346014214254554, 'Takeaways': -0.021365778496863833, 'Puck retrievals after shots': 0.01905189547035023, 'Opponent’s dump-in retrievals': 0.017086069969102564, 'Takeaways in DZ': 0.009266988963106008, 'Loose puck recovery': 0.0008518538877619487, 'Takeaways in NZ': 0.015114951045974007, 'Takeaways in OZ': 0.06907352390769651, 'EV DZ retrievals': 0.0037504195500131683, 'Puck losses': 0.0014574658767705865, 'Puck losses in DZ': 0.024819395205894563, 'EV OZ retrievals': 0.007299236935050233, 'Puck losses in NZ': -0.05552928779637581, 'Power play retrievals': 0.014490454309017149, 'Penalty kill retrievals': -0.005278265569715763, 'Puck losses in OZ': -0.0074795139440813965, 'Entries': 0.05084294435052705, 'Entries via pass': 0.010676436539515447, 'Entries via dump in': -0.027488570156192424, 'Entries via stickhandling': 0.015571633000311808, 'Breakouts': 0.040773151610833655, 'Breakouts via pass': 0.023170336859375047, 'Breakouts via dump out': -0.0017452108003975521, 'Breakouts via stickhandling': -0.006838253361439388, 'National team ': 0.0, 'Height': -0.0006090419921010379, 'Weight': 0.0004740407598789395, 'Time on ice (Minutes)': 0.006379444278317985, 'Time on ice (Seconds)': 0.00017003493698137, 'Penalty time (Minutes)': 0.002562566819940427, 'Penalty time (Seconds)': 0.0001439132561690329, 'Puck control time (Minutes)': 0.0, 'Puck control time (Seconds)': -0.007967233511223634, 'Power play time (Minutes)': -0.06153370197440098, 'Power play time (Seconds)': -0.001565638558462928, 'Short-handed time (Minutes)': -0.013338863864990797, 'Short-handed time (Seconds)': -0.00015384385771026812, 'Playing in attack (Minutes)': 0.020794645794515346, 'Playing in attack (Seconds)': 0.0003480313093612991, 'Playing in defense (Minutes)': 0.003501107007357066, 'Playing in defense (Seconds)': 3.96396075906906e-05, 'OZ possession (Minutes)': -0.018401444839579624, 'OZ possession (Seconds)': -0.00017903259593468612, 'NZ possession (Minutes)': 0.041809388812642304, 'NZ possession (Seconds)': 0.0003774519190195627, 'DZ possession (Minutes)': -0.0012575702517327592, 'DZ possession (Seconds)': -0.0001789603482687547, 'Position_D': -0.0011909556607253083, 'Position_F': 0.0011909556607253083, 'Active hand_Left': 0.007018687647133426, 'Active hand_Right': -0.007018687647133346, 'Type_Even Strength': -0.0019130184218543057, 'Type_Penalty Kill': 0.002900848266242829, 'Type_Power Play': 0.004089970036255023, 'Type_Total': -0.005077799880643112}\n"
     ]
    }
   ],
   "source": [
    "# Prepare data for linear regression\n",
    "# Define target and columns to drop\n",
    "goal_target = \"Goals\"\n",
    "drop_cols = [\n",
    "    goal_target,\n",
    "    \"Points\",\n",
    "    \"Scoring chances\",\n",
    "    \"Shots conversion 1 on 1, %\",\n",
    "    \"Inner slot shots - scored\",\n",
    "    \"Outer slot shots - scored\",\n",
    "    \"xG per goal\",\n",
    "    \"+/-\",\n",
    "    \"Team goals when on ice\",\n",
    "    \"Plus\"\n",
    "]\n",
    "\n",
    "# Features and target\n",
    "X = skaters_df.drop(columns=drop_cols, errors=\"ignore\")\n",
    "y = skaters_df[goal_target]\n",
    "\n",
    "# Set up cross‐validation and model\n",
    "kf = KFold(n_splits=5, shuffle=True, random_state=42)\n",
    "model = LinearRegression()\n",
    "\n",
    "# Evaluate with MSE\n",
    "mse_scores = -cross_val_score(model, X, y, cv=kf, scoring=\"neg_mean_squared_error\")\n",
    "print(f\"CV mean MSE: {mse_scores.mean():.4f}\")\n",
    "\n",
    "# Train final model on all data\n",
    "model.fit(X, y)\n",
    "print(\"Coefficients:\", dict(zip(X.columns, model.coef_)))"
   ]
  },
  {
   "cell_type": "code",
   "execution_count": 8,
   "id": "417ded15",
   "metadata": {},
   "outputs": [
    {
     "name": "stdout",
     "output_type": "stream",
     "text": [
      "                          Feature  Coefficient  Absolute Coefficient\n",
      "47        Positional attack shots    -0.081545              0.081545\n",
      "100               Takeaways in OZ     0.069074              0.069074\n",
      "80       Scoring chances - scored     0.061708              0.061708\n",
      "126     Power play time (Minutes)    -0.061534              0.061534\n",
      "105             Puck losses in NZ    -0.055529              0.055529\n",
      "41                     Wrist shot     0.053970              0.053970\n",
      "109                       Entries     0.050843              0.050843\n",
      "30          Error leading to goal    -0.049997              0.049997\n",
      "33   Opponent's goals when on ice     0.049649              0.049649\n",
      "84       Inner slot shots - total     0.045436              0.045436\n"
     ]
    }
   ],
   "source": [
    "# Create a DataFrame to display coefficients\n",
    "coef_df = pd.DataFrame({'Feature': X.columns, 'Coefficient': model.coef_})\n",
    "\n",
    "# Sort the DataFrame by absolute coefficient value\n",
    "coef_df['Absolute Coefficient'] = abs(coef_df['Coefficient'])\n",
    "coef_df = coef_df.sort_values(by='Absolute Coefficient', ascending=False)\n",
    "\n",
    "# Get the top N coefficients\n",
    "top_coef_df = coef_df.head(10).copy()\n",
    "\n",
    "print(top_coef_df)"
   ]
  },
  {
   "cell_type": "code",
   "execution_count": 9,
   "id": "7a3b6b35",
   "metadata": {},
   "outputs": [
    {
     "name": "stdout",
     "output_type": "stream",
     "text": [
      "Top 10 coefficients:\n",
      "                          Feature  Coefficient\n",
      "47        Positional attack shots    -0.081545\n",
      "100               Takeaways in OZ     0.069074\n",
      "80       Scoring chances - scored     0.061708\n",
      "126     Power play time (Minutes)    -0.061534\n",
      "105             Puck losses in NZ    -0.055529\n",
      "41                     Wrist shot     0.053970\n",
      "109                       Entries     0.050843\n",
      "30          Error leading to goal    -0.049997\n",
      "33   Opponent's goals when on ice     0.049649\n",
      "84       Inner slot shots - total     0.045436\n"
     ]
    }
   ],
   "source": [
    "# Get coefficients and their corresponding column names\n",
    "coefficients = model.coef_\n",
    "column_names = X.columns\n",
    "\n",
    "# Create a DataFrame to display coefficients\n",
    "coef_df = pd.DataFrame({'Feature': column_names, 'Coefficient': coefficients})\n",
    "\n",
    "# Sort the DataFrame by absolute coefficient value\n",
    "coef_df['Absolute Coefficient'] = abs(coef_df['Coefficient'])\n",
    "coef_df = coef_df.sort_values(by='Absolute Coefficient', ascending=False)\n",
    "\n",
    "# Print the top N coefficients\n",
    "N = 10  # Number of top coefficients to display\n",
    "print(f\"Top {N} coefficients:\")\n",
    "print(coef_df[['Feature', 'Coefficient']].head(N))"
   ]
  },
  {
   "cell_type": "code",
   "execution_count": 10,
   "id": "ddd7673d",
   "metadata": {},
   "outputs": [
    {
     "name": "stdout",
     "output_type": "stream",
     "text": [
      "                            OLS Regression Results                            \n",
      "==============================================================================\n",
      "Dep. Variable:                  Goals   R-squared:                       0.990\n",
      "Model:                            OLS   Adj. R-squared:                  0.989\n",
      "Method:                 Least Squares   F-statistic:                     546.9\n",
      "Date:                Wed, 07 May 2025   Prob (F-statistic):           9.55e-50\n",
      "Time:                        14:59:27   Log-Likelihood:                 206.62\n",
      "No. Observations:                  64   AIC:                            -391.2\n",
      "Df Residuals:                      53   BIC:                            -367.5\n",
      "Df Model:                          10                                         \n",
      "Covariance Type:            nonrobust                                         \n",
      "================================================================================================\n",
      "                                   coef    std err          t      P>|t|      [0.025      0.975]\n",
      "------------------------------------------------------------------------------------------------\n",
      "const                           -0.0026      0.002     -1.294      0.201      -0.007       0.001\n",
      "Positional attack shots         -0.0022      0.009     -0.230      0.819      -0.021       0.017\n",
      "Takeaways in OZ                 -0.0030      0.016     -0.185      0.854      -0.036       0.030\n",
      "Scoring chances - scored         0.9196      0.040     23.138      0.000       0.840       0.999\n",
      "Power play time (Minutes)        0.0028      0.002      1.334      0.188      -0.001       0.007\n",
      "Puck losses in NZ                0.0028      0.005      0.544      0.589      -0.007       0.013\n",
      "Wrist shot                       0.0360      0.010      3.631      0.001       0.016       0.056\n",
      "Entries                          0.0040      0.005      0.789      0.434      -0.006       0.014\n",
      "Error leading to goal           -0.0542      0.019     -2.792      0.007      -0.093      -0.015\n",
      "Opponent's goals when on ice     0.0175      0.013      1.388      0.171      -0.008       0.043\n",
      "Inner slot shots - total        -0.0712      0.023     -3.086      0.003      -0.117      -0.025\n",
      "==============================================================================\n",
      "Omnibus:                        9.902   Durbin-Watson:                   1.764\n",
      "Prob(Omnibus):                  0.007   Jarque-Bera (JB):               10.595\n",
      "Skew:                           0.717   Prob(JB):                      0.00501\n",
      "Kurtosis:                       4.385   Cond. No.                         72.3\n",
      "==============================================================================\n",
      "\n",
      "Notes:\n",
      "[1] Standard Errors assume that the covariance matrix of the errors is correctly specified.\n"
     ]
    },
    {
     "data": {
      "application/vnd.plotly.v1+json": {
       "config": {
        "plotlyServerURL": "https://plot.ly"
       },
       "data": [
        {
         "hovertemplate": "Actual=%{x}<br>Predicted=%{y}<extra></extra>",
         "legendgroup": "",
         "marker": {
          "color": "#636efa",
          "symbol": "circle"
         },
         "mode": "markers",
         "name": "",
         "orientation": "v",
         "showlegend": false,
         "type": "scatter",
         "x": {
          "bdata": "AAAAAAAAAAB7FK5H4XqkP3sUrkfherQ/AAAAAAAAAAAAAAAAAAAAAAAAAAAAAAAAAAAAAAAAAAAAAAAAAAAAAKRwPQrXo8A/AAAAAAAAAAAAAAAAAAAAAAAAAAAAAAAACtejcD0Ktz8AAAAAAAAAAHsUrkfherQ/exSuR+F6pD8=",
          "dtype": "f8"
         },
         "xaxis": "x",
         "y": {
          "bdata": "NyVDRGDuZr+vW8YSW1ijPy02h18DQ7M/C/FcRmo0Ub9nBbcdROaIP0hxTSWCV26/G050LJB8gz+My1DsnuCTP6nZdIWXcsA/5ASf2d0PeT89GiH05zc2P0KgW/qKgGW/ctGDaK93uz8lGWg/4np6vyE1uWzEDrg/HxslwfIlgj8=",
          "dtype": "f8"
         },
         "yaxis": "y"
        },
        {
         "hovertemplate": "x=%{x}<br>y=%{y}<extra></extra>",
         "legendgroup": "",
         "line": {
          "color": "#636efa",
          "dash": "solid"
         },
         "marker": {
          "symbol": "circle"
         },
         "mode": "lines",
         "name": "",
         "orientation": "v",
         "showlegend": false,
         "type": "scatter",
         "x": {
          "bdata": "AAAAAAAAAACkcD0K16PAPw==",
          "dtype": "f8"
         },
         "xaxis": "x",
         "y": {
          "bdata": "AAAAAAAAAACkcD0K16PAPw==",
          "dtype": "f8"
         },
         "yaxis": "y"
        }
       ],
       "layout": {
        "legend": {
         "tracegroupgap": 0
        },
        "template": {
         "data": {
          "bar": [
           {
            "error_x": {
             "color": "#2a3f5f"
            },
            "error_y": {
             "color": "#2a3f5f"
            },
            "marker": {
             "line": {
              "color": "#E5ECF6",
              "width": 0.5
             },
             "pattern": {
              "fillmode": "overlay",
              "size": 10,
              "solidity": 0.2
             }
            },
            "type": "bar"
           }
          ],
          "barpolar": [
           {
            "marker": {
             "line": {
              "color": "#E5ECF6",
              "width": 0.5
             },
             "pattern": {
              "fillmode": "overlay",
              "size": 10,
              "solidity": 0.2
             }
            },
            "type": "barpolar"
           }
          ],
          "carpet": [
           {
            "aaxis": {
             "endlinecolor": "#2a3f5f",
             "gridcolor": "white",
             "linecolor": "white",
             "minorgridcolor": "white",
             "startlinecolor": "#2a3f5f"
            },
            "baxis": {
             "endlinecolor": "#2a3f5f",
             "gridcolor": "white",
             "linecolor": "white",
             "minorgridcolor": "white",
             "startlinecolor": "#2a3f5f"
            },
            "type": "carpet"
           }
          ],
          "choropleth": [
           {
            "colorbar": {
             "outlinewidth": 0,
             "ticks": ""
            },
            "type": "choropleth"
           }
          ],
          "contour": [
           {
            "colorbar": {
             "outlinewidth": 0,
             "ticks": ""
            },
            "colorscale": [
             [
              0,
              "#0d0887"
             ],
             [
              0.1111111111111111,
              "#46039f"
             ],
             [
              0.2222222222222222,
              "#7201a8"
             ],
             [
              0.3333333333333333,
              "#9c179e"
             ],
             [
              0.4444444444444444,
              "#bd3786"
             ],
             [
              0.5555555555555556,
              "#d8576b"
             ],
             [
              0.6666666666666666,
              "#ed7953"
             ],
             [
              0.7777777777777778,
              "#fb9f3a"
             ],
             [
              0.8888888888888888,
              "#fdca26"
             ],
             [
              1,
              "#f0f921"
             ]
            ],
            "type": "contour"
           }
          ],
          "contourcarpet": [
           {
            "colorbar": {
             "outlinewidth": 0,
             "ticks": ""
            },
            "type": "contourcarpet"
           }
          ],
          "heatmap": [
           {
            "colorbar": {
             "outlinewidth": 0,
             "ticks": ""
            },
            "colorscale": [
             [
              0,
              "#0d0887"
             ],
             [
              0.1111111111111111,
              "#46039f"
             ],
             [
              0.2222222222222222,
              "#7201a8"
             ],
             [
              0.3333333333333333,
              "#9c179e"
             ],
             [
              0.4444444444444444,
              "#bd3786"
             ],
             [
              0.5555555555555556,
              "#d8576b"
             ],
             [
              0.6666666666666666,
              "#ed7953"
             ],
             [
              0.7777777777777778,
              "#fb9f3a"
             ],
             [
              0.8888888888888888,
              "#fdca26"
             ],
             [
              1,
              "#f0f921"
             ]
            ],
            "type": "heatmap"
           }
          ],
          "histogram": [
           {
            "marker": {
             "pattern": {
              "fillmode": "overlay",
              "size": 10,
              "solidity": 0.2
             }
            },
            "type": "histogram"
           }
          ],
          "histogram2d": [
           {
            "colorbar": {
             "outlinewidth": 0,
             "ticks": ""
            },
            "colorscale": [
             [
              0,
              "#0d0887"
             ],
             [
              0.1111111111111111,
              "#46039f"
             ],
             [
              0.2222222222222222,
              "#7201a8"
             ],
             [
              0.3333333333333333,
              "#9c179e"
             ],
             [
              0.4444444444444444,
              "#bd3786"
             ],
             [
              0.5555555555555556,
              "#d8576b"
             ],
             [
              0.6666666666666666,
              "#ed7953"
             ],
             [
              0.7777777777777778,
              "#fb9f3a"
             ],
             [
              0.8888888888888888,
              "#fdca26"
             ],
             [
              1,
              "#f0f921"
             ]
            ],
            "type": "histogram2d"
           }
          ],
          "histogram2dcontour": [
           {
            "colorbar": {
             "outlinewidth": 0,
             "ticks": ""
            },
            "colorscale": [
             [
              0,
              "#0d0887"
             ],
             [
              0.1111111111111111,
              "#46039f"
             ],
             [
              0.2222222222222222,
              "#7201a8"
             ],
             [
              0.3333333333333333,
              "#9c179e"
             ],
             [
              0.4444444444444444,
              "#bd3786"
             ],
             [
              0.5555555555555556,
              "#d8576b"
             ],
             [
              0.6666666666666666,
              "#ed7953"
             ],
             [
              0.7777777777777778,
              "#fb9f3a"
             ],
             [
              0.8888888888888888,
              "#fdca26"
             ],
             [
              1,
              "#f0f921"
             ]
            ],
            "type": "histogram2dcontour"
           }
          ],
          "mesh3d": [
           {
            "colorbar": {
             "outlinewidth": 0,
             "ticks": ""
            },
            "type": "mesh3d"
           }
          ],
          "parcoords": [
           {
            "line": {
             "colorbar": {
              "outlinewidth": 0,
              "ticks": ""
             }
            },
            "type": "parcoords"
           }
          ],
          "pie": [
           {
            "automargin": true,
            "type": "pie"
           }
          ],
          "scatter": [
           {
            "fillpattern": {
             "fillmode": "overlay",
             "size": 10,
             "solidity": 0.2
            },
            "type": "scatter"
           }
          ],
          "scatter3d": [
           {
            "line": {
             "colorbar": {
              "outlinewidth": 0,
              "ticks": ""
             }
            },
            "marker": {
             "colorbar": {
              "outlinewidth": 0,
              "ticks": ""
             }
            },
            "type": "scatter3d"
           }
          ],
          "scattercarpet": [
           {
            "marker": {
             "colorbar": {
              "outlinewidth": 0,
              "ticks": ""
             }
            },
            "type": "scattercarpet"
           }
          ],
          "scattergeo": [
           {
            "marker": {
             "colorbar": {
              "outlinewidth": 0,
              "ticks": ""
             }
            },
            "type": "scattergeo"
           }
          ],
          "scattergl": [
           {
            "marker": {
             "colorbar": {
              "outlinewidth": 0,
              "ticks": ""
             }
            },
            "type": "scattergl"
           }
          ],
          "scattermap": [
           {
            "marker": {
             "colorbar": {
              "outlinewidth": 0,
              "ticks": ""
             }
            },
            "type": "scattermap"
           }
          ],
          "scattermapbox": [
           {
            "marker": {
             "colorbar": {
              "outlinewidth": 0,
              "ticks": ""
             }
            },
            "type": "scattermapbox"
           }
          ],
          "scatterpolar": [
           {
            "marker": {
             "colorbar": {
              "outlinewidth": 0,
              "ticks": ""
             }
            },
            "type": "scatterpolar"
           }
          ],
          "scatterpolargl": [
           {
            "marker": {
             "colorbar": {
              "outlinewidth": 0,
              "ticks": ""
             }
            },
            "type": "scatterpolargl"
           }
          ],
          "scatterternary": [
           {
            "marker": {
             "colorbar": {
              "outlinewidth": 0,
              "ticks": ""
             }
            },
            "type": "scatterternary"
           }
          ],
          "surface": [
           {
            "colorbar": {
             "outlinewidth": 0,
             "ticks": ""
            },
            "colorscale": [
             [
              0,
              "#0d0887"
             ],
             [
              0.1111111111111111,
              "#46039f"
             ],
             [
              0.2222222222222222,
              "#7201a8"
             ],
             [
              0.3333333333333333,
              "#9c179e"
             ],
             [
              0.4444444444444444,
              "#bd3786"
             ],
             [
              0.5555555555555556,
              "#d8576b"
             ],
             [
              0.6666666666666666,
              "#ed7953"
             ],
             [
              0.7777777777777778,
              "#fb9f3a"
             ],
             [
              0.8888888888888888,
              "#fdca26"
             ],
             [
              1,
              "#f0f921"
             ]
            ],
            "type": "surface"
           }
          ],
          "table": [
           {
            "cells": {
             "fill": {
              "color": "#EBF0F8"
             },
             "line": {
              "color": "white"
             }
            },
            "header": {
             "fill": {
              "color": "#C8D4E3"
             },
             "line": {
              "color": "white"
             }
            },
            "type": "table"
           }
          ]
         },
         "layout": {
          "annotationdefaults": {
           "arrowcolor": "#2a3f5f",
           "arrowhead": 0,
           "arrowwidth": 1
          },
          "autotypenumbers": "strict",
          "coloraxis": {
           "colorbar": {
            "outlinewidth": 0,
            "ticks": ""
           }
          },
          "colorscale": {
           "diverging": [
            [
             0,
             "#8e0152"
            ],
            [
             0.1,
             "#c51b7d"
            ],
            [
             0.2,
             "#de77ae"
            ],
            [
             0.3,
             "#f1b6da"
            ],
            [
             0.4,
             "#fde0ef"
            ],
            [
             0.5,
             "#f7f7f7"
            ],
            [
             0.6,
             "#e6f5d0"
            ],
            [
             0.7,
             "#b8e186"
            ],
            [
             0.8,
             "#7fbc41"
            ],
            [
             0.9,
             "#4d9221"
            ],
            [
             1,
             "#276419"
            ]
           ],
           "sequential": [
            [
             0,
             "#0d0887"
            ],
            [
             0.1111111111111111,
             "#46039f"
            ],
            [
             0.2222222222222222,
             "#7201a8"
            ],
            [
             0.3333333333333333,
             "#9c179e"
            ],
            [
             0.4444444444444444,
             "#bd3786"
            ],
            [
             0.5555555555555556,
             "#d8576b"
            ],
            [
             0.6666666666666666,
             "#ed7953"
            ],
            [
             0.7777777777777778,
             "#fb9f3a"
            ],
            [
             0.8888888888888888,
             "#fdca26"
            ],
            [
             1,
             "#f0f921"
            ]
           ],
           "sequentialminus": [
            [
             0,
             "#0d0887"
            ],
            [
             0.1111111111111111,
             "#46039f"
            ],
            [
             0.2222222222222222,
             "#7201a8"
            ],
            [
             0.3333333333333333,
             "#9c179e"
            ],
            [
             0.4444444444444444,
             "#bd3786"
            ],
            [
             0.5555555555555556,
             "#d8576b"
            ],
            [
             0.6666666666666666,
             "#ed7953"
            ],
            [
             0.7777777777777778,
             "#fb9f3a"
            ],
            [
             0.8888888888888888,
             "#fdca26"
            ],
            [
             1,
             "#f0f921"
            ]
           ]
          },
          "colorway": [
           "#636efa",
           "#EF553B",
           "#00cc96",
           "#ab63fa",
           "#FFA15A",
           "#19d3f3",
           "#FF6692",
           "#B6E880",
           "#FF97FF",
           "#FECB52"
          ],
          "font": {
           "color": "#2a3f5f"
          },
          "geo": {
           "bgcolor": "white",
           "lakecolor": "white",
           "landcolor": "#E5ECF6",
           "showlakes": true,
           "showland": true,
           "subunitcolor": "white"
          },
          "hoverlabel": {
           "align": "left"
          },
          "hovermode": "closest",
          "mapbox": {
           "style": "light"
          },
          "paper_bgcolor": "white",
          "plot_bgcolor": "#E5ECF6",
          "polar": {
           "angularaxis": {
            "gridcolor": "white",
            "linecolor": "white",
            "ticks": ""
           },
           "bgcolor": "#E5ECF6",
           "radialaxis": {
            "gridcolor": "white",
            "linecolor": "white",
            "ticks": ""
           }
          },
          "scene": {
           "xaxis": {
            "backgroundcolor": "#E5ECF6",
            "gridcolor": "white",
            "gridwidth": 2,
            "linecolor": "white",
            "showbackground": true,
            "ticks": "",
            "zerolinecolor": "white"
           },
           "yaxis": {
            "backgroundcolor": "#E5ECF6",
            "gridcolor": "white",
            "gridwidth": 2,
            "linecolor": "white",
            "showbackground": true,
            "ticks": "",
            "zerolinecolor": "white"
           },
           "zaxis": {
            "backgroundcolor": "#E5ECF6",
            "gridcolor": "white",
            "gridwidth": 2,
            "linecolor": "white",
            "showbackground": true,
            "ticks": "",
            "zerolinecolor": "white"
           }
          },
          "shapedefaults": {
           "line": {
            "color": "#2a3f5f"
           }
          },
          "ternary": {
           "aaxis": {
            "gridcolor": "white",
            "linecolor": "white",
            "ticks": ""
           },
           "baxis": {
            "gridcolor": "white",
            "linecolor": "white",
            "ticks": ""
           },
           "bgcolor": "#E5ECF6",
           "caxis": {
            "gridcolor": "white",
            "linecolor": "white",
            "ticks": ""
           }
          },
          "title": {
           "x": 0.05
          },
          "xaxis": {
           "automargin": true,
           "gridcolor": "white",
           "linecolor": "white",
           "ticks": "",
           "title": {
            "standoff": 15
           },
           "zerolinecolor": "white",
           "zerolinewidth": 2
          },
          "yaxis": {
           "automargin": true,
           "gridcolor": "white",
           "linecolor": "white",
           "ticks": "",
           "title": {
            "standoff": 15
           },
           "zerolinecolor": "white",
           "zerolinewidth": 2
          }
         }
        },
        "title": {
         "text": "Actual vs Predicted Goals Per Game"
        },
        "xaxis": {
         "anchor": "y",
         "domain": [
          0,
          1
         ],
         "title": {
          "text": "Actual"
         }
        },
        "yaxis": {
         "anchor": "x",
         "domain": [
          0,
          1
         ],
         "title": {
          "text": "Predicted"
         }
        }
       }
      }
     },
     "metadata": {},
     "output_type": "display_data"
    }
   ],
   "source": [
    "from sklearn.model_selection import train_test_split\n",
    "import statsmodels.api as sm\n",
    "import plotly.express as px\n",
    "import pandas as pd\n",
    "\n",
    "# Select the top N features based on absolute coefficient values\n",
    "N = 10  # You can adjust the number of top features to use\n",
    "top_features = coef_df.head(N)['Feature'].tolist()\n",
    "\n",
    "# Prepare the data using only the top features\n",
    "X_top = X[top_features]\n",
    "\n",
    "# Add a constant to the independent variables\n",
    "X_top = sm.add_constant(X_top)\n",
    "\n",
    "# Split the data into training and testing sets\n",
    "X_train, X_test, y_train, y_test = train_test_split(X_top, y, test_size=0.2, random_state=42)\n",
    "\n",
    "# Train the multiple linear regression model\n",
    "model = sm.OLS(y_train, X_train).fit()\n",
    "\n",
    "# Print the model summary\n",
    "print(model.summary())\n",
    "\n",
    "# Make predictions on the test set\n",
    "y_pred = model.predict(X_test)\n",
    "\n",
    "# Create a DataFrame for actual vs predicted values\n",
    "predictions_df = pd.DataFrame({'Actual': y_test, 'Predicted': y_pred})\n",
    "\n",
    "# Plotting actual vs predicted values using Plotly\n",
    "fig = px.scatter(\n",
    "    predictions_df,\n",
    "    x='Actual',\n",
    "    y='Predicted',\n",
    "    title='Actual vs Predicted Goals Per Game',\n",
    "    labels={'Actual': 'Actual', 'Predicted': 'Predicted'}\n",
    ")\n",
    "\n",
    "# Add a diagonal line representing perfect predictions\n",
    "fig.add_trace(\n",
    "    px.line(\n",
    "        x=[predictions_df['Actual'].min(), predictions_df['Actual'].max()],\n",
    "        y=[predictions_df['Actual'].min(), predictions_df['Actual'].max()]\n",
    "    ).data[0]\n",
    ")\n",
    "\n",
    "fig.show()"
   ]
  },
  {
   "cell_type": "code",
   "execution_count": 13,
   "id": "a024e236",
   "metadata": {},
   "outputs": [
    {
     "name": "stderr",
     "output_type": "stream",
     "text": [
      "/var/folders/fn/1h19dxrs6m105yhjv2k86ryr0000gn/T/ipykernel_2748/1590220741.py:2: SettingWithCopyWarning:\n",
      "\n",
      "\n",
      "A value is trying to be set on a copy of a slice from a DataFrame.\n",
      "Try using .loc[row_indexer,col_indexer] = value instead\n",
      "\n",
      "See the caveats in the documentation: https://pandas.pydata.org/pandas-docs/stable/user_guide/indexing.html#returning-a-view-versus-a-copy\n",
      "\n"
     ]
    },
    {
     "data": {
      "application/vnd.plotly.v1+json": {
       "config": {
        "plotlyServerURL": "https://plot.ly"
       },
       "data": [
        {
         "customdata": {
          "bdata": "O5xIZCLgtD/R+TNuza6xP3ovinUrmK8/7ekpa1iBrz9keBy2VW6sP+B0LEbooas/kItvHhYIqj8P5Jv8LpmpP18JPBmfa6k//lzrfHNDpz8=",
          "dtype": "f8",
          "shape": "10, 1"
         },
         "hovertemplate": "Coefficient Value=%{marker.color}<br>Feature=%{y}<br>Magnitude=%{customdata[0]}<extra></extra>",
         "legendgroup": "",
         "marker": {
          "color": {
           "bdata": "O5xIZCLgtL/R+TNuza6xP3ovinUrmK8/7ekpa1iBr79keBy2VW6sv+B0LEbooas/kItvHhYIqj8P5Jv8Lpmpv18JPBmfa6k//lzrfHNDpz8=",
           "dtype": "f8"
          },
          "coloraxis": "coloraxis",
          "size": {
           "bdata": "O5xIZCLgtD/R+TNuza6xP3ovinUrmK8/7ekpa1iBrz9keBy2VW6sP+B0LEbooas/kItvHhYIqj8P5Jv8LpmpP18JPBmfa6k//lzrfHNDpz8=",
           "dtype": "f8"
          },
          "sizemode": "area",
          "sizeref": 0.00020386254664256348,
          "symbol": "circle"
         },
         "mode": "markers",
         "name": "",
         "orientation": "h",
         "showlegend": false,
         "type": "scatter",
         "x": {
          "bdata": "O5xIZCLgtL/R+TNuza6xP3ovinUrmK8/7ekpa1iBr79keBy2VW6sv+B0LEbooas/kItvHhYIqj8P5Jv8Lpmpv18JPBmfa6k//lzrfHNDpz8=",
          "dtype": "f8"
         },
         "xaxis": "x",
         "y": [
          "Positional attack shots",
          "Takeaways in OZ",
          "Scoring chances - scored",
          "Power play time (Minutes)",
          "Puck losses in NZ",
          "Wrist shot",
          "Entries",
          "Error leading to goal",
          "Opponent's goals when on ice",
          "Inner slot shots - total"
         ],
         "yaxis": "y"
        }
       ],
       "layout": {
        "coloraxis": {
         "colorbar": {
          "title": {
           "text": "Coefficient Value"
          }
         },
         "colorscale": [
          [
           0,
           "rgb(103,0,31)"
          ],
          [
           0.1,
           "rgb(178,24,43)"
          ],
          [
           0.2,
           "rgb(214,96,77)"
          ],
          [
           0.3,
           "rgb(244,165,130)"
          ],
          [
           0.4,
           "rgb(253,219,199)"
          ],
          [
           0.5,
           "rgb(247,247,247)"
          ],
          [
           0.6,
           "rgb(209,229,240)"
          ],
          [
           0.7,
           "rgb(146,197,222)"
          ],
          [
           0.8,
           "rgb(67,147,195)"
          ],
          [
           0.9,
           "rgb(33,102,172)"
          ],
          [
           1,
           "rgb(5,48,97)"
          ]
         ]
        },
        "height": 600,
        "legend": {
         "itemsizing": "constant",
         "tracegroupgap": 0
        },
        "template": {
         "data": {
          "bar": [
           {
            "error_x": {
             "color": "#2a3f5f"
            },
            "error_y": {
             "color": "#2a3f5f"
            },
            "marker": {
             "line": {
              "color": "#E5ECF6",
              "width": 0.5
             },
             "pattern": {
              "fillmode": "overlay",
              "size": 10,
              "solidity": 0.2
             }
            },
            "type": "bar"
           }
          ],
          "barpolar": [
           {
            "marker": {
             "line": {
              "color": "#E5ECF6",
              "width": 0.5
             },
             "pattern": {
              "fillmode": "overlay",
              "size": 10,
              "solidity": 0.2
             }
            },
            "type": "barpolar"
           }
          ],
          "carpet": [
           {
            "aaxis": {
             "endlinecolor": "#2a3f5f",
             "gridcolor": "white",
             "linecolor": "white",
             "minorgridcolor": "white",
             "startlinecolor": "#2a3f5f"
            },
            "baxis": {
             "endlinecolor": "#2a3f5f",
             "gridcolor": "white",
             "linecolor": "white",
             "minorgridcolor": "white",
             "startlinecolor": "#2a3f5f"
            },
            "type": "carpet"
           }
          ],
          "choropleth": [
           {
            "colorbar": {
             "outlinewidth": 0,
             "ticks": ""
            },
            "type": "choropleth"
           }
          ],
          "contour": [
           {
            "colorbar": {
             "outlinewidth": 0,
             "ticks": ""
            },
            "colorscale": [
             [
              0,
              "#0d0887"
             ],
             [
              0.1111111111111111,
              "#46039f"
             ],
             [
              0.2222222222222222,
              "#7201a8"
             ],
             [
              0.3333333333333333,
              "#9c179e"
             ],
             [
              0.4444444444444444,
              "#bd3786"
             ],
             [
              0.5555555555555556,
              "#d8576b"
             ],
             [
              0.6666666666666666,
              "#ed7953"
             ],
             [
              0.7777777777777778,
              "#fb9f3a"
             ],
             [
              0.8888888888888888,
              "#fdca26"
             ],
             [
              1,
              "#f0f921"
             ]
            ],
            "type": "contour"
           }
          ],
          "contourcarpet": [
           {
            "colorbar": {
             "outlinewidth": 0,
             "ticks": ""
            },
            "type": "contourcarpet"
           }
          ],
          "heatmap": [
           {
            "colorbar": {
             "outlinewidth": 0,
             "ticks": ""
            },
            "colorscale": [
             [
              0,
              "#0d0887"
             ],
             [
              0.1111111111111111,
              "#46039f"
             ],
             [
              0.2222222222222222,
              "#7201a8"
             ],
             [
              0.3333333333333333,
              "#9c179e"
             ],
             [
              0.4444444444444444,
              "#bd3786"
             ],
             [
              0.5555555555555556,
              "#d8576b"
             ],
             [
              0.6666666666666666,
              "#ed7953"
             ],
             [
              0.7777777777777778,
              "#fb9f3a"
             ],
             [
              0.8888888888888888,
              "#fdca26"
             ],
             [
              1,
              "#f0f921"
             ]
            ],
            "type": "heatmap"
           }
          ],
          "histogram": [
           {
            "marker": {
             "pattern": {
              "fillmode": "overlay",
              "size": 10,
              "solidity": 0.2
             }
            },
            "type": "histogram"
           }
          ],
          "histogram2d": [
           {
            "colorbar": {
             "outlinewidth": 0,
             "ticks": ""
            },
            "colorscale": [
             [
              0,
              "#0d0887"
             ],
             [
              0.1111111111111111,
              "#46039f"
             ],
             [
              0.2222222222222222,
              "#7201a8"
             ],
             [
              0.3333333333333333,
              "#9c179e"
             ],
             [
              0.4444444444444444,
              "#bd3786"
             ],
             [
              0.5555555555555556,
              "#d8576b"
             ],
             [
              0.6666666666666666,
              "#ed7953"
             ],
             [
              0.7777777777777778,
              "#fb9f3a"
             ],
             [
              0.8888888888888888,
              "#fdca26"
             ],
             [
              1,
              "#f0f921"
             ]
            ],
            "type": "histogram2d"
           }
          ],
          "histogram2dcontour": [
           {
            "colorbar": {
             "outlinewidth": 0,
             "ticks": ""
            },
            "colorscale": [
             [
              0,
              "#0d0887"
             ],
             [
              0.1111111111111111,
              "#46039f"
             ],
             [
              0.2222222222222222,
              "#7201a8"
             ],
             [
              0.3333333333333333,
              "#9c179e"
             ],
             [
              0.4444444444444444,
              "#bd3786"
             ],
             [
              0.5555555555555556,
              "#d8576b"
             ],
             [
              0.6666666666666666,
              "#ed7953"
             ],
             [
              0.7777777777777778,
              "#fb9f3a"
             ],
             [
              0.8888888888888888,
              "#fdca26"
             ],
             [
              1,
              "#f0f921"
             ]
            ],
            "type": "histogram2dcontour"
           }
          ],
          "mesh3d": [
           {
            "colorbar": {
             "outlinewidth": 0,
             "ticks": ""
            },
            "type": "mesh3d"
           }
          ],
          "parcoords": [
           {
            "line": {
             "colorbar": {
              "outlinewidth": 0,
              "ticks": ""
             }
            },
            "type": "parcoords"
           }
          ],
          "pie": [
           {
            "automargin": true,
            "type": "pie"
           }
          ],
          "scatter": [
           {
            "fillpattern": {
             "fillmode": "overlay",
             "size": 10,
             "solidity": 0.2
            },
            "type": "scatter"
           }
          ],
          "scatter3d": [
           {
            "line": {
             "colorbar": {
              "outlinewidth": 0,
              "ticks": ""
             }
            },
            "marker": {
             "colorbar": {
              "outlinewidth": 0,
              "ticks": ""
             }
            },
            "type": "scatter3d"
           }
          ],
          "scattercarpet": [
           {
            "marker": {
             "colorbar": {
              "outlinewidth": 0,
              "ticks": ""
             }
            },
            "type": "scattercarpet"
           }
          ],
          "scattergeo": [
           {
            "marker": {
             "colorbar": {
              "outlinewidth": 0,
              "ticks": ""
             }
            },
            "type": "scattergeo"
           }
          ],
          "scattergl": [
           {
            "marker": {
             "colorbar": {
              "outlinewidth": 0,
              "ticks": ""
             }
            },
            "type": "scattergl"
           }
          ],
          "scattermap": [
           {
            "marker": {
             "colorbar": {
              "outlinewidth": 0,
              "ticks": ""
             }
            },
            "type": "scattermap"
           }
          ],
          "scattermapbox": [
           {
            "marker": {
             "colorbar": {
              "outlinewidth": 0,
              "ticks": ""
             }
            },
            "type": "scattermapbox"
           }
          ],
          "scatterpolar": [
           {
            "marker": {
             "colorbar": {
              "outlinewidth": 0,
              "ticks": ""
             }
            },
            "type": "scatterpolar"
           }
          ],
          "scatterpolargl": [
           {
            "marker": {
             "colorbar": {
              "outlinewidth": 0,
              "ticks": ""
             }
            },
            "type": "scatterpolargl"
           }
          ],
          "scatterternary": [
           {
            "marker": {
             "colorbar": {
              "outlinewidth": 0,
              "ticks": ""
             }
            },
            "type": "scatterternary"
           }
          ],
          "surface": [
           {
            "colorbar": {
             "outlinewidth": 0,
             "ticks": ""
            },
            "colorscale": [
             [
              0,
              "#0d0887"
             ],
             [
              0.1111111111111111,
              "#46039f"
             ],
             [
              0.2222222222222222,
              "#7201a8"
             ],
             [
              0.3333333333333333,
              "#9c179e"
             ],
             [
              0.4444444444444444,
              "#bd3786"
             ],
             [
              0.5555555555555556,
              "#d8576b"
             ],
             [
              0.6666666666666666,
              "#ed7953"
             ],
             [
              0.7777777777777778,
              "#fb9f3a"
             ],
             [
              0.8888888888888888,
              "#fdca26"
             ],
             [
              1,
              "#f0f921"
             ]
            ],
            "type": "surface"
           }
          ],
          "table": [
           {
            "cells": {
             "fill": {
              "color": "#EBF0F8"
             },
             "line": {
              "color": "white"
             }
            },
            "header": {
             "fill": {
              "color": "#C8D4E3"
             },
             "line": {
              "color": "white"
             }
            },
            "type": "table"
           }
          ]
         },
         "layout": {
          "annotationdefaults": {
           "arrowcolor": "#2a3f5f",
           "arrowhead": 0,
           "arrowwidth": 1
          },
          "autotypenumbers": "strict",
          "coloraxis": {
           "colorbar": {
            "outlinewidth": 0,
            "ticks": ""
           }
          },
          "colorscale": {
           "diverging": [
            [
             0,
             "#8e0152"
            ],
            [
             0.1,
             "#c51b7d"
            ],
            [
             0.2,
             "#de77ae"
            ],
            [
             0.3,
             "#f1b6da"
            ],
            [
             0.4,
             "#fde0ef"
            ],
            [
             0.5,
             "#f7f7f7"
            ],
            [
             0.6,
             "#e6f5d0"
            ],
            [
             0.7,
             "#b8e186"
            ],
            [
             0.8,
             "#7fbc41"
            ],
            [
             0.9,
             "#4d9221"
            ],
            [
             1,
             "#276419"
            ]
           ],
           "sequential": [
            [
             0,
             "#0d0887"
            ],
            [
             0.1111111111111111,
             "#46039f"
            ],
            [
             0.2222222222222222,
             "#7201a8"
            ],
            [
             0.3333333333333333,
             "#9c179e"
            ],
            [
             0.4444444444444444,
             "#bd3786"
            ],
            [
             0.5555555555555556,
             "#d8576b"
            ],
            [
             0.6666666666666666,
             "#ed7953"
            ],
            [
             0.7777777777777778,
             "#fb9f3a"
            ],
            [
             0.8888888888888888,
             "#fdca26"
            ],
            [
             1,
             "#f0f921"
            ]
           ],
           "sequentialminus": [
            [
             0,
             "#0d0887"
            ],
            [
             0.1111111111111111,
             "#46039f"
            ],
            [
             0.2222222222222222,
             "#7201a8"
            ],
            [
             0.3333333333333333,
             "#9c179e"
            ],
            [
             0.4444444444444444,
             "#bd3786"
            ],
            [
             0.5555555555555556,
             "#d8576b"
            ],
            [
             0.6666666666666666,
             "#ed7953"
            ],
            [
             0.7777777777777778,
             "#fb9f3a"
            ],
            [
             0.8888888888888888,
             "#fdca26"
            ],
            [
             1,
             "#f0f921"
            ]
           ]
          },
          "colorway": [
           "#636efa",
           "#EF553B",
           "#00cc96",
           "#ab63fa",
           "#FFA15A",
           "#19d3f3",
           "#FF6692",
           "#B6E880",
           "#FF97FF",
           "#FECB52"
          ],
          "font": {
           "color": "#2a3f5f"
          },
          "geo": {
           "bgcolor": "white",
           "lakecolor": "white",
           "landcolor": "#E5ECF6",
           "showlakes": true,
           "showland": true,
           "subunitcolor": "white"
          },
          "hoverlabel": {
           "align": "left"
          },
          "hovermode": "closest",
          "mapbox": {
           "style": "light"
          },
          "paper_bgcolor": "white",
          "plot_bgcolor": "#E5ECF6",
          "polar": {
           "angularaxis": {
            "gridcolor": "white",
            "linecolor": "white",
            "ticks": ""
           },
           "bgcolor": "#E5ECF6",
           "radialaxis": {
            "gridcolor": "white",
            "linecolor": "white",
            "ticks": ""
           }
          },
          "scene": {
           "xaxis": {
            "backgroundcolor": "#E5ECF6",
            "gridcolor": "white",
            "gridwidth": 2,
            "linecolor": "white",
            "showbackground": true,
            "ticks": "",
            "zerolinecolor": "white"
           },
           "yaxis": {
            "backgroundcolor": "#E5ECF6",
            "gridcolor": "white",
            "gridwidth": 2,
            "linecolor": "white",
            "showbackground": true,
            "ticks": "",
            "zerolinecolor": "white"
           },
           "zaxis": {
            "backgroundcolor": "#E5ECF6",
            "gridcolor": "white",
            "gridwidth": 2,
            "linecolor": "white",
            "showbackground": true,
            "ticks": "",
            "zerolinecolor": "white"
           }
          },
          "shapedefaults": {
           "line": {
            "color": "#2a3f5f"
           }
          },
          "ternary": {
           "aaxis": {
            "gridcolor": "white",
            "linecolor": "white",
            "ticks": ""
           },
           "baxis": {
            "gridcolor": "white",
            "linecolor": "white",
            "ticks": ""
           },
           "bgcolor": "#E5ECF6",
           "caxis": {
            "gridcolor": "white",
            "linecolor": "white",
            "ticks": ""
           }
          },
          "title": {
           "x": 0.05
          },
          "xaxis": {
           "automargin": true,
           "gridcolor": "white",
           "linecolor": "white",
           "ticks": "",
           "title": {
            "standoff": 15
           },
           "zerolinecolor": "white",
           "zerolinewidth": 2
          },
          "yaxis": {
           "automargin": true,
           "gridcolor": "white",
           "linecolor": "white",
           "ticks": "",
           "title": {
            "standoff": 15
           },
           "zerolinecolor": "white",
           "zerolinewidth": 2
          }
         }
        },
        "title": {
         "text": "Coefficient Magnitude Plot for Goals",
         "x": 0.5
        },
        "width": 800,
        "xaxis": {
         "anchor": "y",
         "domain": [
          0,
          1
         ],
         "title": {
          "text": "Coefficient Value"
         }
        },
        "yaxis": {
         "anchor": "x",
         "domain": [
          0,
          1
         ],
         "title": {
          "text": "Feature"
         }
        }
       }
      }
     },
     "metadata": {},
     "output_type": "display_data"
    }
   ],
   "source": [
    "# Create a Coefficient Magnitude Plot\n",
    "top_coef_df['Magnitude'] = top_coef_df['Coefficient'].abs()\n",
    "\n",
    "fig = px.scatter(\n",
    "    top_coef_df,\n",
    "    x='Coefficient',\n",
    "    y='Feature',\n",
    "    size='Magnitude',\n",
    "    color='Coefficient',\n",
    "    hover_data=['Coefficient', 'Magnitude'],\n",
    "    title='Coefficient Magnitude Plot for Goals',\n",
    "    labels={'Coefficient': 'Coefficient Value', 'Feature': 'Feature'},\n",
    "    color_continuous_scale=px.colors.diverging.RdBu\n",
    ")\n",
    "\n",
    "fig.update_layout(\n",
    "    xaxis_title=\"Coefficient Value\",\n",
    "    yaxis_title=\"Feature\",\n",
    "    title_x=0.5,\n",
    "    height=600,\n",
    "    width=800\n",
    ")\n",
    "\n",
    "fig.show()"
   ]
  },
  {
   "cell_type": "code",
   "execution_count": 12,
   "id": "fe0c2aee",
   "metadata": {},
   "outputs": [
    {
     "data": {
      "application/vnd.plotly.v1+json": {
       "config": {
        "plotlyServerURL": "https://plot.ly"
       },
       "data": [
        {
         "hovertemplate": "Feature=%{x}<br>Coefficient Value=%{y}<extra></extra>",
         "legendgroup": "",
         "marker": {
          "color": "#636efa",
          "pattern": {
           "shape": ""
          }
         },
         "name": "",
         "orientation": "v",
         "showlegend": false,
         "textposition": "auto",
         "type": "bar",
         "x": [
          "Positional attack shots",
          "Takeaways in OZ",
          "Scoring chances - scored",
          "Power play time (Minutes)",
          "Puck losses in NZ",
          "Wrist shot",
          "Entries",
          "Error leading to goal",
          "Opponent's goals when on ice",
          "Inner slot shots - total"
         ],
         "xaxis": "x",
         "y": {
          "bdata": "O5xIZCLgtL/R+TNuza6xP3ovinUrmK8/7ekpa1iBr79keBy2VW6sv+B0LEbooas/kItvHhYIqj8P5Jv8Lpmpv18JPBmfa6k//lzrfHNDpz8=",
          "dtype": "f8"
         },
         "yaxis": "y"
        }
       ],
       "layout": {
        "barmode": "relative",
        "legend": {
         "tracegroupgap": 0
        },
        "template": {
         "data": {
          "bar": [
           {
            "error_x": {
             "color": "#2a3f5f"
            },
            "error_y": {
             "color": "#2a3f5f"
            },
            "marker": {
             "line": {
              "color": "#E5ECF6",
              "width": 0.5
             },
             "pattern": {
              "fillmode": "overlay",
              "size": 10,
              "solidity": 0.2
             }
            },
            "type": "bar"
           }
          ],
          "barpolar": [
           {
            "marker": {
             "line": {
              "color": "#E5ECF6",
              "width": 0.5
             },
             "pattern": {
              "fillmode": "overlay",
              "size": 10,
              "solidity": 0.2
             }
            },
            "type": "barpolar"
           }
          ],
          "carpet": [
           {
            "aaxis": {
             "endlinecolor": "#2a3f5f",
             "gridcolor": "white",
             "linecolor": "white",
             "minorgridcolor": "white",
             "startlinecolor": "#2a3f5f"
            },
            "baxis": {
             "endlinecolor": "#2a3f5f",
             "gridcolor": "white",
             "linecolor": "white",
             "minorgridcolor": "white",
             "startlinecolor": "#2a3f5f"
            },
            "type": "carpet"
           }
          ],
          "choropleth": [
           {
            "colorbar": {
             "outlinewidth": 0,
             "ticks": ""
            },
            "type": "choropleth"
           }
          ],
          "contour": [
           {
            "colorbar": {
             "outlinewidth": 0,
             "ticks": ""
            },
            "colorscale": [
             [
              0,
              "#0d0887"
             ],
             [
              0.1111111111111111,
              "#46039f"
             ],
             [
              0.2222222222222222,
              "#7201a8"
             ],
             [
              0.3333333333333333,
              "#9c179e"
             ],
             [
              0.4444444444444444,
              "#bd3786"
             ],
             [
              0.5555555555555556,
              "#d8576b"
             ],
             [
              0.6666666666666666,
              "#ed7953"
             ],
             [
              0.7777777777777778,
              "#fb9f3a"
             ],
             [
              0.8888888888888888,
              "#fdca26"
             ],
             [
              1,
              "#f0f921"
             ]
            ],
            "type": "contour"
           }
          ],
          "contourcarpet": [
           {
            "colorbar": {
             "outlinewidth": 0,
             "ticks": ""
            },
            "type": "contourcarpet"
           }
          ],
          "heatmap": [
           {
            "colorbar": {
             "outlinewidth": 0,
             "ticks": ""
            },
            "colorscale": [
             [
              0,
              "#0d0887"
             ],
             [
              0.1111111111111111,
              "#46039f"
             ],
             [
              0.2222222222222222,
              "#7201a8"
             ],
             [
              0.3333333333333333,
              "#9c179e"
             ],
             [
              0.4444444444444444,
              "#bd3786"
             ],
             [
              0.5555555555555556,
              "#d8576b"
             ],
             [
              0.6666666666666666,
              "#ed7953"
             ],
             [
              0.7777777777777778,
              "#fb9f3a"
             ],
             [
              0.8888888888888888,
              "#fdca26"
             ],
             [
              1,
              "#f0f921"
             ]
            ],
            "type": "heatmap"
           }
          ],
          "histogram": [
           {
            "marker": {
             "pattern": {
              "fillmode": "overlay",
              "size": 10,
              "solidity": 0.2
             }
            },
            "type": "histogram"
           }
          ],
          "histogram2d": [
           {
            "colorbar": {
             "outlinewidth": 0,
             "ticks": ""
            },
            "colorscale": [
             [
              0,
              "#0d0887"
             ],
             [
              0.1111111111111111,
              "#46039f"
             ],
             [
              0.2222222222222222,
              "#7201a8"
             ],
             [
              0.3333333333333333,
              "#9c179e"
             ],
             [
              0.4444444444444444,
              "#bd3786"
             ],
             [
              0.5555555555555556,
              "#d8576b"
             ],
             [
              0.6666666666666666,
              "#ed7953"
             ],
             [
              0.7777777777777778,
              "#fb9f3a"
             ],
             [
              0.8888888888888888,
              "#fdca26"
             ],
             [
              1,
              "#f0f921"
             ]
            ],
            "type": "histogram2d"
           }
          ],
          "histogram2dcontour": [
           {
            "colorbar": {
             "outlinewidth": 0,
             "ticks": ""
            },
            "colorscale": [
             [
              0,
              "#0d0887"
             ],
             [
              0.1111111111111111,
              "#46039f"
             ],
             [
              0.2222222222222222,
              "#7201a8"
             ],
             [
              0.3333333333333333,
              "#9c179e"
             ],
             [
              0.4444444444444444,
              "#bd3786"
             ],
             [
              0.5555555555555556,
              "#d8576b"
             ],
             [
              0.6666666666666666,
              "#ed7953"
             ],
             [
              0.7777777777777778,
              "#fb9f3a"
             ],
             [
              0.8888888888888888,
              "#fdca26"
             ],
             [
              1,
              "#f0f921"
             ]
            ],
            "type": "histogram2dcontour"
           }
          ],
          "mesh3d": [
           {
            "colorbar": {
             "outlinewidth": 0,
             "ticks": ""
            },
            "type": "mesh3d"
           }
          ],
          "parcoords": [
           {
            "line": {
             "colorbar": {
              "outlinewidth": 0,
              "ticks": ""
             }
            },
            "type": "parcoords"
           }
          ],
          "pie": [
           {
            "automargin": true,
            "type": "pie"
           }
          ],
          "scatter": [
           {
            "fillpattern": {
             "fillmode": "overlay",
             "size": 10,
             "solidity": 0.2
            },
            "type": "scatter"
           }
          ],
          "scatter3d": [
           {
            "line": {
             "colorbar": {
              "outlinewidth": 0,
              "ticks": ""
             }
            },
            "marker": {
             "colorbar": {
              "outlinewidth": 0,
              "ticks": ""
             }
            },
            "type": "scatter3d"
           }
          ],
          "scattercarpet": [
           {
            "marker": {
             "colorbar": {
              "outlinewidth": 0,
              "ticks": ""
             }
            },
            "type": "scattercarpet"
           }
          ],
          "scattergeo": [
           {
            "marker": {
             "colorbar": {
              "outlinewidth": 0,
              "ticks": ""
             }
            },
            "type": "scattergeo"
           }
          ],
          "scattergl": [
           {
            "marker": {
             "colorbar": {
              "outlinewidth": 0,
              "ticks": ""
             }
            },
            "type": "scattergl"
           }
          ],
          "scattermap": [
           {
            "marker": {
             "colorbar": {
              "outlinewidth": 0,
              "ticks": ""
             }
            },
            "type": "scattermap"
           }
          ],
          "scattermapbox": [
           {
            "marker": {
             "colorbar": {
              "outlinewidth": 0,
              "ticks": ""
             }
            },
            "type": "scattermapbox"
           }
          ],
          "scatterpolar": [
           {
            "marker": {
             "colorbar": {
              "outlinewidth": 0,
              "ticks": ""
             }
            },
            "type": "scatterpolar"
           }
          ],
          "scatterpolargl": [
           {
            "marker": {
             "colorbar": {
              "outlinewidth": 0,
              "ticks": ""
             }
            },
            "type": "scatterpolargl"
           }
          ],
          "scatterternary": [
           {
            "marker": {
             "colorbar": {
              "outlinewidth": 0,
              "ticks": ""
             }
            },
            "type": "scatterternary"
           }
          ],
          "surface": [
           {
            "colorbar": {
             "outlinewidth": 0,
             "ticks": ""
            },
            "colorscale": [
             [
              0,
              "#0d0887"
             ],
             [
              0.1111111111111111,
              "#46039f"
             ],
             [
              0.2222222222222222,
              "#7201a8"
             ],
             [
              0.3333333333333333,
              "#9c179e"
             ],
             [
              0.4444444444444444,
              "#bd3786"
             ],
             [
              0.5555555555555556,
              "#d8576b"
             ],
             [
              0.6666666666666666,
              "#ed7953"
             ],
             [
              0.7777777777777778,
              "#fb9f3a"
             ],
             [
              0.8888888888888888,
              "#fdca26"
             ],
             [
              1,
              "#f0f921"
             ]
            ],
            "type": "surface"
           }
          ],
          "table": [
           {
            "cells": {
             "fill": {
              "color": "#EBF0F8"
             },
             "line": {
              "color": "white"
             }
            },
            "header": {
             "fill": {
              "color": "#C8D4E3"
             },
             "line": {
              "color": "white"
             }
            },
            "type": "table"
           }
          ]
         },
         "layout": {
          "annotationdefaults": {
           "arrowcolor": "#2a3f5f",
           "arrowhead": 0,
           "arrowwidth": 1
          },
          "autotypenumbers": "strict",
          "coloraxis": {
           "colorbar": {
            "outlinewidth": 0,
            "ticks": ""
           }
          },
          "colorscale": {
           "diverging": [
            [
             0,
             "#8e0152"
            ],
            [
             0.1,
             "#c51b7d"
            ],
            [
             0.2,
             "#de77ae"
            ],
            [
             0.3,
             "#f1b6da"
            ],
            [
             0.4,
             "#fde0ef"
            ],
            [
             0.5,
             "#f7f7f7"
            ],
            [
             0.6,
             "#e6f5d0"
            ],
            [
             0.7,
             "#b8e186"
            ],
            [
             0.8,
             "#7fbc41"
            ],
            [
             0.9,
             "#4d9221"
            ],
            [
             1,
             "#276419"
            ]
           ],
           "sequential": [
            [
             0,
             "#0d0887"
            ],
            [
             0.1111111111111111,
             "#46039f"
            ],
            [
             0.2222222222222222,
             "#7201a8"
            ],
            [
             0.3333333333333333,
             "#9c179e"
            ],
            [
             0.4444444444444444,
             "#bd3786"
            ],
            [
             0.5555555555555556,
             "#d8576b"
            ],
            [
             0.6666666666666666,
             "#ed7953"
            ],
            [
             0.7777777777777778,
             "#fb9f3a"
            ],
            [
             0.8888888888888888,
             "#fdca26"
            ],
            [
             1,
             "#f0f921"
            ]
           ],
           "sequentialminus": [
            [
             0,
             "#0d0887"
            ],
            [
             0.1111111111111111,
             "#46039f"
            ],
            [
             0.2222222222222222,
             "#7201a8"
            ],
            [
             0.3333333333333333,
             "#9c179e"
            ],
            [
             0.4444444444444444,
             "#bd3786"
            ],
            [
             0.5555555555555556,
             "#d8576b"
            ],
            [
             0.6666666666666666,
             "#ed7953"
            ],
            [
             0.7777777777777778,
             "#fb9f3a"
            ],
            [
             0.8888888888888888,
             "#fdca26"
            ],
            [
             1,
             "#f0f921"
            ]
           ]
          },
          "colorway": [
           "#636efa",
           "#EF553B",
           "#00cc96",
           "#ab63fa",
           "#FFA15A",
           "#19d3f3",
           "#FF6692",
           "#B6E880",
           "#FF97FF",
           "#FECB52"
          ],
          "font": {
           "color": "#2a3f5f"
          },
          "geo": {
           "bgcolor": "white",
           "lakecolor": "white",
           "landcolor": "#E5ECF6",
           "showlakes": true,
           "showland": true,
           "subunitcolor": "white"
          },
          "hoverlabel": {
           "align": "left"
          },
          "hovermode": "closest",
          "mapbox": {
           "style": "light"
          },
          "paper_bgcolor": "white",
          "plot_bgcolor": "#E5ECF6",
          "polar": {
           "angularaxis": {
            "gridcolor": "white",
            "linecolor": "white",
            "ticks": ""
           },
           "bgcolor": "#E5ECF6",
           "radialaxis": {
            "gridcolor": "white",
            "linecolor": "white",
            "ticks": ""
           }
          },
          "scene": {
           "xaxis": {
            "backgroundcolor": "#E5ECF6",
            "gridcolor": "white",
            "gridwidth": 2,
            "linecolor": "white",
            "showbackground": true,
            "ticks": "",
            "zerolinecolor": "white"
           },
           "yaxis": {
            "backgroundcolor": "#E5ECF6",
            "gridcolor": "white",
            "gridwidth": 2,
            "linecolor": "white",
            "showbackground": true,
            "ticks": "",
            "zerolinecolor": "white"
           },
           "zaxis": {
            "backgroundcolor": "#E5ECF6",
            "gridcolor": "white",
            "gridwidth": 2,
            "linecolor": "white",
            "showbackground": true,
            "ticks": "",
            "zerolinecolor": "white"
           }
          },
          "shapedefaults": {
           "line": {
            "color": "#2a3f5f"
           }
          },
          "ternary": {
           "aaxis": {
            "gridcolor": "white",
            "linecolor": "white",
            "ticks": ""
           },
           "baxis": {
            "gridcolor": "white",
            "linecolor": "white",
            "ticks": ""
           },
           "bgcolor": "#E5ECF6",
           "caxis": {
            "gridcolor": "white",
            "linecolor": "white",
            "ticks": ""
           }
          },
          "title": {
           "x": 0.05
          },
          "xaxis": {
           "automargin": true,
           "gridcolor": "white",
           "linecolor": "white",
           "ticks": "",
           "title": {
            "standoff": 15
           },
           "zerolinecolor": "white",
           "zerolinewidth": 2
          },
          "yaxis": {
           "automargin": true,
           "gridcolor": "white",
           "linecolor": "white",
           "ticks": "",
           "title": {
            "standoff": 15
           },
           "zerolinecolor": "white",
           "zerolinewidth": 2
          }
         }
        },
        "title": {
         "text": "Top 10 Variables Influencing Goals"
        },
        "xaxis": {
         "anchor": "y",
         "domain": [
          0,
          1
         ],
         "title": {
          "text": "Feature"
         }
        },
        "yaxis": {
         "anchor": "x",
         "domain": [
          0,
          1
         ],
         "title": {
          "text": "Coefficient Value"
         }
        }
       }
      }
     },
     "metadata": {},
     "output_type": "display_data"
    }
   ],
   "source": [
    "# Create a bar graph of the top coefficients\n",
    "top_coef_df = coef_df.head(N)\n",
    "\n",
    "fig = px.bar(\n",
    "    top_coef_df,\n",
    "    x='Feature',\n",
    "    y='Coefficient',\n",
    "    title=f'Top {N} Variables Influencing Goals',\n",
    "    labels={'Coefficient': 'Coefficient Value', 'Feature': 'Feature'}\n",
    ")\n",
    "\n",
    "fig.show()"
   ]
  },
  {
   "cell_type": "markdown",
   "id": "b10d3452",
   "metadata": {},
   "source": [
    "## Linear Regression based on Points"
   ]
  },
  {
   "cell_type": "code",
   "execution_count": 19,
   "id": "ebf3c4f3",
   "metadata": {},
   "outputs": [
    {
     "name": "stdout",
     "output_type": "stream",
     "text": [
      "CV mean MSE: 0.0059\n",
      "Coefficients: {'Shirt number': -0.00012640324571202405, 'Games played': 0.0001773379743115046, 'All shifts': 0.011285246962939866, 'Scoring chances': 0.04400840324457036, 'Penalties drawn': -0.08003262177780558, 'Faceoffs': 0.0010510800429999658, 'Faceoffs won': -0.01850288785048332, 'Faceoffs won, %': 0.01205557064270658, 'Hits': -0.01982885122598564, 'Shots': 0.014188287756333512, 'Shots on goal': 0.02118022556000999, 'Blocked shots': -0.05447805209072096, 'Power play shots': -0.005494501114913758, 'Short-handed shots': -0.0005416789711540533, 'Faceoffs in DZ': 0.025891187971613987, 'Faceoffs won in DZ': -0.00967873993292426, 'Faceoffs won in DZ, %': 0.015809076271973782, 'Faceoffs in NZ': -0.028745748150210398, 'Faceoffs won in NZ': 0.006838111960141955, 'Faceoffs won in NZ, %': -0.02615792912914041, 'Faceoffs in OZ': -0.0041008332676301905, 'Faceoffs won in OZ': -0.0031104355878269607, 'Faceoffs won in OZ, %': 0.008604076759542511, 'Puck touches': 0.009140996078235973, 'Minus': -0.015719079250721486, 'Penalties': 0.021429281895484983, 'Faceoffs lost': -0.0013695056748880274, 'Hits against': 0.02458409216615555, 'Error leading to goal': -0.0065011374466319855, 'Dump ins': -0.015995204975044516, 'Dump outs': -0.038424695825515005, \"Opponent's goals when on ice\": 0.04319891504328503, 'Power play': 0.04064945977096755, 'Successful power play': -0.02108584262008299, 'Short-handed': 0.001735754422252397, 'Penalty killing': -0.012692904796148577, 'Missed shots': 0.028042559509222874, '% shots on goal': 0.015716189814395203, 'Slapshot': 0.03736869973375574, 'Wrist shot': -0.000298869194007485, 'Shootouts': 0.0038426316963740986, 'Shootouts scored': 0.0014848391027591586, 'Shootouts missed': 0.00235779259361401, '1-on-1 shots': 0.017841738962918442, '1-on-1 goals': 0.002969678205518086, 'Positional attack shots': -0.029198661380895115, 'Shots 5 v 5': 0.020916938688384883, 'Counter-attack shots': -0.002174155507233593, 'xG per shot': 0.008621958378323379, 'xG (Expected goals)': 0.00881587850686611, \"Net xG (xG player on - opp. team's xG)\": 0.019303541346601446, 'Team xG when on ice': -0.0037089830319465577, \"Opponent's xG when on ice\": 0.021145784035131728, 'xG conversion': 0.02460039646159671, 'CORSI': 0.015324161930163144, 'CORSI-': -0.012258741283034544, 'CORSI+': 0.006921414241310958, 'CORSI for, %': 0.011677237956379212, 'Fenwick for': 0.010559945609519839, 'Fenwick against': 0.004234753707359186, 'Fenwick for, %': 0.016028177485537237, 'Puck battles': -0.0077267260611964496, 'Puck battles won': -0.008154472495946644, 'Puck battles won, %': -0.0017496528012662625, 'Puck battles in DZ': 0.011854058202668424, 'Puck battles in NZ': -0.02488375076472875, 'Puck battles in OZ': 0.052329880045824895, 'Shots blocking': -0.008061856691797408, 'Dekes': -0.03638156984002938, 'Dekes successful': -0.030908792354273046, 'Dekes unsuccessful': 0.001851953666917352, 'Dekes successful, %': -0.010177032465541101, 'Passes': 0.022233906107124633, 'Pass receptions': -0.006227750576797322, 'Scoring chances - total': 0.01507136342947181, 'Scoring chances missed': -0.007933772108616411, 'Scoring chances saved': -0.004659854529054349, 'Scoring Chances, %': 0.08457305424807049, 'Inner slot shots - total': 0.04400840324457039, 'Inner slot shots - missed': 0.005326231846236823, 'Inner slot shots - saved': 0.017044344140610575, 'Inner slot shots, %': -0.036218778754302954, 'Outer slot shots - total': -0.027402244306144134, 'Outer slot shots - missed': -0.011491556309748659, 'Outer slot shots - saved': -0.02856153122905901, 'Outer slot shots, %': 0.0426628023255317, 'Blocked shots from the slot': -0.005089015869727708, 'Blocked shots outside of the slot': -0.04754705941433493, 'Takeaways': -0.01925245212321849, 'Puck retrievals after shots': 0.009697756986604127, 'Opponent’s dump-in retrievals': -0.01347138446387635, 'Takeaways in DZ': 0.038752300104541795, 'Loose puck recovery': 0.02066365670122674, 'Takeaways in NZ': -0.024645303631126998, 'Takeaways in OZ': 0.10246328623666137, 'EV DZ retrievals': -0.028480354825252917, 'Puck losses': -0.03110922615256059, 'Puck losses in DZ': 0.03690732412063965, 'EV OZ retrievals': 0.026208438216564656, 'Puck losses in NZ': -0.008880146641772698, 'Power play retrievals': -0.010858280022021261, 'Penalty kill retrievals': 0.014193565818384001, 'Puck losses in OZ': -0.00036471706027251503, 'Entries': 0.02789156677422164, 'Entries via pass': -0.03978427142798816, 'Entries via dump in': 0.015452994862229027, 'Entries via stickhandling': 0.0331018599559691, 'Breakouts': -0.016445578509930503, 'Breakouts via pass': -0.015901703661516824, 'Breakouts via dump out': -0.0069095331105613195, 'Breakouts via stickhandling': -0.03854406366125991, 'National team ': 0.0, 'Height': -0.0011007227055189195, 'Weight': 0.004431037773204813, 'Time on ice (Minutes)': -0.02892140328635786, 'Time on ice (Seconds)': -0.0005185825430076979, 'Penalty time (Minutes)': -0.015506810812542259, 'Penalty time (Seconds)': -7.460904968575877e-05, 'Puck control time (Minutes)': 0.0, 'Puck control time (Seconds)': -0.007250984849212355, 'Power play time (Minutes)': -0.04826652663920252, 'Power play time (Seconds)': -0.0015033448376638957, 'Short-handed time (Minutes)': 0.01260759641398959, 'Short-handed time (Seconds)': -8.790531338187871e-05, 'Playing in attack (Minutes)': -0.02293458588676642, 'Playing in attack (Seconds)': -0.00029119998418647777, 'Playing in defense (Minutes)': -0.00010698677703693208, 'Playing in defense (Seconds)': -0.00010685325682840106, 'OZ possession (Minutes)': -0.02728995837778169, 'OZ possession (Seconds)': -4.9000625374037276e-05, 'NZ possession (Minutes)': 0.004296990078410619, 'NZ possession (Seconds)': 0.0003752728981553273, 'DZ possession (Minutes)': 0.027427886071989736, 'DZ possession (Seconds)': 3.030747462515887e-05, 'Position_D': -0.0004934369216509065, 'Position_F': 0.0004934369216509065, 'Active hand_Left': 0.0021822188040058893, 'Active hand_Right': -0.0021822188040063594, 'Type_Even Strength': 0.03782489664792367, 'Type_Penalty Kill': -0.007679829434630024, 'Type_Power Play': -0.029812276049645422, 'Type_Total': -0.00033279116364860663}\n"
     ]
    }
   ],
   "source": [
    "# Prepare data for linear regression\n",
    "# Define target and columns to drop\n",
    "point_target = \"Points\"\n",
    "drop_cols = [\n",
    "    point_target,\n",
    "    \"Goals\",\n",
    "    \"Assists\",\n",
    "    \"First assist\",\n",
    "    \"Second assist\",\n",
    "    \"Scoring chances - scored\",\n",
    "    \"Inner slot shots - scored\",\n",
    "    \"Outer slot shots - scored\",\n",
    "    \"Shots conversion 1 on 1, %\",\n",
    "    \"xG per goal\",\n",
    "    \"Passes to the slot\",\n",
    "    \"Pre-shots passes\",\n",
    "    \"Accurate passes\",\n",
    "    \"Accurate passes, %\",\n",
    "    \"+/-\",\n",
    "    \"Team goals when on ice\",\n",
    "    \"Plus\"\n",
    "]\n",
    "\n",
    "# Features and target\n",
    "X = skaters_df.drop(columns=drop_cols, errors=\"ignore\")\n",
    "y = skaters_df[point_target]\n",
    "\n",
    "# Set up cross‐validation and model\n",
    "kf = KFold(n_splits=5, shuffle=True, random_state=42)\n",
    "model = LinearRegression()\n",
    "\n",
    "# Evaluate with MSE\n",
    "mse_scores = -cross_val_score(model, X, y, cv=kf, scoring=\"neg_mean_squared_error\")\n",
    "print(f\"CV mean MSE: {mse_scores.mean():.4f}\")\n",
    "\n",
    "# Train final model on all data\n",
    "model.fit(X, y)\n",
    "print(\"Coefficients:\", dict(zip(X.columns, model.coef_)))"
   ]
  },
  {
   "cell_type": "code",
   "execution_count": 14,
   "id": "e857e0ab",
   "metadata": {},
   "outputs": [
    {
     "name": "stdout",
     "output_type": "stream",
     "text": [
      "Top 10 coefficients:\n",
      "                          Feature  Coefficient\n",
      "48        Positional attack shots    -0.083702\n",
      "101               Takeaways in OZ     0.072780\n",
      "127     Power play time (Minutes)    -0.065636\n",
      "81       Scoring chances - scored     0.060813\n",
      "42                     Wrist shot     0.050856\n",
      "80        Scoring chances - total     0.049697\n",
      "106             Puck losses in NZ    -0.048496\n",
      "34   Opponent's goals when on ice     0.048391\n",
      "114                     Breakouts     0.047157\n",
      "85       Inner slot shots - total     0.045439\n"
     ]
    }
   ],
   "source": [
    "# Get coefficients and their corresponding column names\n",
    "coefficients = model.coef_\n",
    "column_names = X.columns\n",
    "\n",
    "# Create a DataFrame to display coefficients\n",
    "points_coef_df = pd.DataFrame({'Feature': column_names, 'Coefficient': coefficients})\n",
    "\n",
    "# Sort the DataFrame by absolute coefficient value\n",
    "points_coef_df['Absolute Coefficient'] = abs(coef_df['Coefficient'])\n",
    "points_coef_df = coef_df.sort_values(by='Absolute Coefficient', ascending=False)\n",
    "\n",
    "# Print the top N coefficients\n",
    "N = 10  # Number of top coefficients to display\n",
    "print(f\"Top {N} coefficients:\")\n",
    "print(points_coef_df[['Feature', 'Coefficient']].head(N))"
   ]
  },
  {
   "cell_type": "code",
   "execution_count": 15,
   "id": "7c687bea",
   "metadata": {},
   "outputs": [
    {
     "data": {
      "application/vnd.plotly.v1+json": {
       "config": {
        "plotlyServerURL": "https://plot.ly"
       },
       "data": [
        {
         "hovertemplate": "Actual Points=%{x}<br>Predicted Points=%{y}<extra></extra>",
         "legendgroup": "",
         "marker": {
          "color": "#636efa",
          "symbol": "circle"
         },
         "mode": "markers",
         "name": "",
         "orientation": "v",
         "showlegend": false,
         "type": "scatter",
         "x": {
          "bdata": "AAAAAAAAAAB7FK5H4XqkP3sUrkfherQ/AAAAAAAAAAAAAAAAAAAAAAAAAAAAAAAAAAAAAAAAAAAAAAAAAAAAAKRwPQrXo8A/AAAAAAAAAAAAAAAAAAAAAAAAAAAAAAAACtejcD0Ktz8AAAAAAAAAAHsUrkfherQ/exSuR+F6pD8=",
          "dtype": "f8"
         },
         "xaxis": "x",
         "y": {
          "bdata": "uvNoYlDrZb9sV+CenDesPzpoYN6EhLI/4BTp0na4Yr/daq9CyIJwP68H+92PBGO/CFumceFbYD+aHEShYix8P9W98HGpvr8/xCQQrdiiTj82hv3I97lnP+AU6dJ2uGK/ciK9i4KJuT/XjLGf729Rvxezoc2VQbc/qskf6IcMgz8=",
          "dtype": "f8"
         },
         "yaxis": "y"
        },
        {
         "hovertemplate": "x=%{x}<br>y=%{y}<extra></extra>",
         "legendgroup": "",
         "line": {
          "color": "#636efa",
          "dash": "solid"
         },
         "marker": {
          "symbol": "circle"
         },
         "mode": "lines",
         "name": "",
         "orientation": "v",
         "showlegend": false,
         "type": "scatter",
         "x": {
          "bdata": "AAAAAAAAAACkcD0K16PAPw==",
          "dtype": "f8"
         },
         "xaxis": "x",
         "y": {
          "bdata": "AAAAAAAAAACkcD0K16PAPw==",
          "dtype": "f8"
         },
         "yaxis": "y"
        }
       ],
       "layout": {
        "legend": {
         "tracegroupgap": 0
        },
        "template": {
         "data": {
          "bar": [
           {
            "error_x": {
             "color": "#2a3f5f"
            },
            "error_y": {
             "color": "#2a3f5f"
            },
            "marker": {
             "line": {
              "color": "#E5ECF6",
              "width": 0.5
             },
             "pattern": {
              "fillmode": "overlay",
              "size": 10,
              "solidity": 0.2
             }
            },
            "type": "bar"
           }
          ],
          "barpolar": [
           {
            "marker": {
             "line": {
              "color": "#E5ECF6",
              "width": 0.5
             },
             "pattern": {
              "fillmode": "overlay",
              "size": 10,
              "solidity": 0.2
             }
            },
            "type": "barpolar"
           }
          ],
          "carpet": [
           {
            "aaxis": {
             "endlinecolor": "#2a3f5f",
             "gridcolor": "white",
             "linecolor": "white",
             "minorgridcolor": "white",
             "startlinecolor": "#2a3f5f"
            },
            "baxis": {
             "endlinecolor": "#2a3f5f",
             "gridcolor": "white",
             "linecolor": "white",
             "minorgridcolor": "white",
             "startlinecolor": "#2a3f5f"
            },
            "type": "carpet"
           }
          ],
          "choropleth": [
           {
            "colorbar": {
             "outlinewidth": 0,
             "ticks": ""
            },
            "type": "choropleth"
           }
          ],
          "contour": [
           {
            "colorbar": {
             "outlinewidth": 0,
             "ticks": ""
            },
            "colorscale": [
             [
              0,
              "#0d0887"
             ],
             [
              0.1111111111111111,
              "#46039f"
             ],
             [
              0.2222222222222222,
              "#7201a8"
             ],
             [
              0.3333333333333333,
              "#9c179e"
             ],
             [
              0.4444444444444444,
              "#bd3786"
             ],
             [
              0.5555555555555556,
              "#d8576b"
             ],
             [
              0.6666666666666666,
              "#ed7953"
             ],
             [
              0.7777777777777778,
              "#fb9f3a"
             ],
             [
              0.8888888888888888,
              "#fdca26"
             ],
             [
              1,
              "#f0f921"
             ]
            ],
            "type": "contour"
           }
          ],
          "contourcarpet": [
           {
            "colorbar": {
             "outlinewidth": 0,
             "ticks": ""
            },
            "type": "contourcarpet"
           }
          ],
          "heatmap": [
           {
            "colorbar": {
             "outlinewidth": 0,
             "ticks": ""
            },
            "colorscale": [
             [
              0,
              "#0d0887"
             ],
             [
              0.1111111111111111,
              "#46039f"
             ],
             [
              0.2222222222222222,
              "#7201a8"
             ],
             [
              0.3333333333333333,
              "#9c179e"
             ],
             [
              0.4444444444444444,
              "#bd3786"
             ],
             [
              0.5555555555555556,
              "#d8576b"
             ],
             [
              0.6666666666666666,
              "#ed7953"
             ],
             [
              0.7777777777777778,
              "#fb9f3a"
             ],
             [
              0.8888888888888888,
              "#fdca26"
             ],
             [
              1,
              "#f0f921"
             ]
            ],
            "type": "heatmap"
           }
          ],
          "histogram": [
           {
            "marker": {
             "pattern": {
              "fillmode": "overlay",
              "size": 10,
              "solidity": 0.2
             }
            },
            "type": "histogram"
           }
          ],
          "histogram2d": [
           {
            "colorbar": {
             "outlinewidth": 0,
             "ticks": ""
            },
            "colorscale": [
             [
              0,
              "#0d0887"
             ],
             [
              0.1111111111111111,
              "#46039f"
             ],
             [
              0.2222222222222222,
              "#7201a8"
             ],
             [
              0.3333333333333333,
              "#9c179e"
             ],
             [
              0.4444444444444444,
              "#bd3786"
             ],
             [
              0.5555555555555556,
              "#d8576b"
             ],
             [
              0.6666666666666666,
              "#ed7953"
             ],
             [
              0.7777777777777778,
              "#fb9f3a"
             ],
             [
              0.8888888888888888,
              "#fdca26"
             ],
             [
              1,
              "#f0f921"
             ]
            ],
            "type": "histogram2d"
           }
          ],
          "histogram2dcontour": [
           {
            "colorbar": {
             "outlinewidth": 0,
             "ticks": ""
            },
            "colorscale": [
             [
              0,
              "#0d0887"
             ],
             [
              0.1111111111111111,
              "#46039f"
             ],
             [
              0.2222222222222222,
              "#7201a8"
             ],
             [
              0.3333333333333333,
              "#9c179e"
             ],
             [
              0.4444444444444444,
              "#bd3786"
             ],
             [
              0.5555555555555556,
              "#d8576b"
             ],
             [
              0.6666666666666666,
              "#ed7953"
             ],
             [
              0.7777777777777778,
              "#fb9f3a"
             ],
             [
              0.8888888888888888,
              "#fdca26"
             ],
             [
              1,
              "#f0f921"
             ]
            ],
            "type": "histogram2dcontour"
           }
          ],
          "mesh3d": [
           {
            "colorbar": {
             "outlinewidth": 0,
             "ticks": ""
            },
            "type": "mesh3d"
           }
          ],
          "parcoords": [
           {
            "line": {
             "colorbar": {
              "outlinewidth": 0,
              "ticks": ""
             }
            },
            "type": "parcoords"
           }
          ],
          "pie": [
           {
            "automargin": true,
            "type": "pie"
           }
          ],
          "scatter": [
           {
            "fillpattern": {
             "fillmode": "overlay",
             "size": 10,
             "solidity": 0.2
            },
            "type": "scatter"
           }
          ],
          "scatter3d": [
           {
            "line": {
             "colorbar": {
              "outlinewidth": 0,
              "ticks": ""
             }
            },
            "marker": {
             "colorbar": {
              "outlinewidth": 0,
              "ticks": ""
             }
            },
            "type": "scatter3d"
           }
          ],
          "scattercarpet": [
           {
            "marker": {
             "colorbar": {
              "outlinewidth": 0,
              "ticks": ""
             }
            },
            "type": "scattercarpet"
           }
          ],
          "scattergeo": [
           {
            "marker": {
             "colorbar": {
              "outlinewidth": 0,
              "ticks": ""
             }
            },
            "type": "scattergeo"
           }
          ],
          "scattergl": [
           {
            "marker": {
             "colorbar": {
              "outlinewidth": 0,
              "ticks": ""
             }
            },
            "type": "scattergl"
           }
          ],
          "scattermap": [
           {
            "marker": {
             "colorbar": {
              "outlinewidth": 0,
              "ticks": ""
             }
            },
            "type": "scattermap"
           }
          ],
          "scattermapbox": [
           {
            "marker": {
             "colorbar": {
              "outlinewidth": 0,
              "ticks": ""
             }
            },
            "type": "scattermapbox"
           }
          ],
          "scatterpolar": [
           {
            "marker": {
             "colorbar": {
              "outlinewidth": 0,
              "ticks": ""
             }
            },
            "type": "scatterpolar"
           }
          ],
          "scatterpolargl": [
           {
            "marker": {
             "colorbar": {
              "outlinewidth": 0,
              "ticks": ""
             }
            },
            "type": "scatterpolargl"
           }
          ],
          "scatterternary": [
           {
            "marker": {
             "colorbar": {
              "outlinewidth": 0,
              "ticks": ""
             }
            },
            "type": "scatterternary"
           }
          ],
          "surface": [
           {
            "colorbar": {
             "outlinewidth": 0,
             "ticks": ""
            },
            "colorscale": [
             [
              0,
              "#0d0887"
             ],
             [
              0.1111111111111111,
              "#46039f"
             ],
             [
              0.2222222222222222,
              "#7201a8"
             ],
             [
              0.3333333333333333,
              "#9c179e"
             ],
             [
              0.4444444444444444,
              "#bd3786"
             ],
             [
              0.5555555555555556,
              "#d8576b"
             ],
             [
              0.6666666666666666,
              "#ed7953"
             ],
             [
              0.7777777777777778,
              "#fb9f3a"
             ],
             [
              0.8888888888888888,
              "#fdca26"
             ],
             [
              1,
              "#f0f921"
             ]
            ],
            "type": "surface"
           }
          ],
          "table": [
           {
            "cells": {
             "fill": {
              "color": "#EBF0F8"
             },
             "line": {
              "color": "white"
             }
            },
            "header": {
             "fill": {
              "color": "#C8D4E3"
             },
             "line": {
              "color": "white"
             }
            },
            "type": "table"
           }
          ]
         },
         "layout": {
          "annotationdefaults": {
           "arrowcolor": "#2a3f5f",
           "arrowhead": 0,
           "arrowwidth": 1
          },
          "autotypenumbers": "strict",
          "coloraxis": {
           "colorbar": {
            "outlinewidth": 0,
            "ticks": ""
           }
          },
          "colorscale": {
           "diverging": [
            [
             0,
             "#8e0152"
            ],
            [
             0.1,
             "#c51b7d"
            ],
            [
             0.2,
             "#de77ae"
            ],
            [
             0.3,
             "#f1b6da"
            ],
            [
             0.4,
             "#fde0ef"
            ],
            [
             0.5,
             "#f7f7f7"
            ],
            [
             0.6,
             "#e6f5d0"
            ],
            [
             0.7,
             "#b8e186"
            ],
            [
             0.8,
             "#7fbc41"
            ],
            [
             0.9,
             "#4d9221"
            ],
            [
             1,
             "#276419"
            ]
           ],
           "sequential": [
            [
             0,
             "#0d0887"
            ],
            [
             0.1111111111111111,
             "#46039f"
            ],
            [
             0.2222222222222222,
             "#7201a8"
            ],
            [
             0.3333333333333333,
             "#9c179e"
            ],
            [
             0.4444444444444444,
             "#bd3786"
            ],
            [
             0.5555555555555556,
             "#d8576b"
            ],
            [
             0.6666666666666666,
             "#ed7953"
            ],
            [
             0.7777777777777778,
             "#fb9f3a"
            ],
            [
             0.8888888888888888,
             "#fdca26"
            ],
            [
             1,
             "#f0f921"
            ]
           ],
           "sequentialminus": [
            [
             0,
             "#0d0887"
            ],
            [
             0.1111111111111111,
             "#46039f"
            ],
            [
             0.2222222222222222,
             "#7201a8"
            ],
            [
             0.3333333333333333,
             "#9c179e"
            ],
            [
             0.4444444444444444,
             "#bd3786"
            ],
            [
             0.5555555555555556,
             "#d8576b"
            ],
            [
             0.6666666666666666,
             "#ed7953"
            ],
            [
             0.7777777777777778,
             "#fb9f3a"
            ],
            [
             0.8888888888888888,
             "#fdca26"
            ],
            [
             1,
             "#f0f921"
            ]
           ]
          },
          "colorway": [
           "#636efa",
           "#EF553B",
           "#00cc96",
           "#ab63fa",
           "#FFA15A",
           "#19d3f3",
           "#FF6692",
           "#B6E880",
           "#FF97FF",
           "#FECB52"
          ],
          "font": {
           "color": "#2a3f5f"
          },
          "geo": {
           "bgcolor": "white",
           "lakecolor": "white",
           "landcolor": "#E5ECF6",
           "showlakes": true,
           "showland": true,
           "subunitcolor": "white"
          },
          "hoverlabel": {
           "align": "left"
          },
          "hovermode": "closest",
          "mapbox": {
           "style": "light"
          },
          "paper_bgcolor": "white",
          "plot_bgcolor": "#E5ECF6",
          "polar": {
           "angularaxis": {
            "gridcolor": "white",
            "linecolor": "white",
            "ticks": ""
           },
           "bgcolor": "#E5ECF6",
           "radialaxis": {
            "gridcolor": "white",
            "linecolor": "white",
            "ticks": ""
           }
          },
          "scene": {
           "xaxis": {
            "backgroundcolor": "#E5ECF6",
            "gridcolor": "white",
            "gridwidth": 2,
            "linecolor": "white",
            "showbackground": true,
            "ticks": "",
            "zerolinecolor": "white"
           },
           "yaxis": {
            "backgroundcolor": "#E5ECF6",
            "gridcolor": "white",
            "gridwidth": 2,
            "linecolor": "white",
            "showbackground": true,
            "ticks": "",
            "zerolinecolor": "white"
           },
           "zaxis": {
            "backgroundcolor": "#E5ECF6",
            "gridcolor": "white",
            "gridwidth": 2,
            "linecolor": "white",
            "showbackground": true,
            "ticks": "",
            "zerolinecolor": "white"
           }
          },
          "shapedefaults": {
           "line": {
            "color": "#2a3f5f"
           }
          },
          "ternary": {
           "aaxis": {
            "gridcolor": "white",
            "linecolor": "white",
            "ticks": ""
           },
           "baxis": {
            "gridcolor": "white",
            "linecolor": "white",
            "ticks": ""
           },
           "bgcolor": "#E5ECF6",
           "caxis": {
            "gridcolor": "white",
            "linecolor": "white",
            "ticks": ""
           }
          },
          "title": {
           "x": 0.05
          },
          "xaxis": {
           "automargin": true,
           "gridcolor": "white",
           "linecolor": "white",
           "ticks": "",
           "title": {
            "standoff": 15
           },
           "zerolinecolor": "white",
           "zerolinewidth": 2
          },
          "yaxis": {
           "automargin": true,
           "gridcolor": "white",
           "linecolor": "white",
           "ticks": "",
           "title": {
            "standoff": 15
           },
           "zerolinecolor": "white",
           "zerolinewidth": 2
          }
         }
        },
        "title": {
         "text": "Actual vs Predicted Points Per Game"
        },
        "xaxis": {
         "anchor": "y",
         "domain": [
          0,
          1
         ],
         "title": {
          "text": "Actual Points"
         }
        },
        "yaxis": {
         "anchor": "x",
         "domain": [
          0,
          1
         ],
         "title": {
          "text": "Predicted Points"
         }
        }
       }
      }
     },
     "metadata": {},
     "output_type": "display_data"
    }
   ],
   "source": [
    "\n",
    "# Create a DataFrame for actual vs predicted values\n",
    "points_predictions_df = pd.DataFrame({'Actual': y_test, 'Predicted': y_pred})\n",
    "\n",
    "# Plotting actual vs predicted values using Plotly\n",
    "fig = px.scatter(\n",
    "    points_predictions_df,\n",
    "    x='Actual',\n",
    "    y='Predicted',\n",
    "    title='Actual vs Predicted Points Per Game',\n",
    "    labels={'Actual': 'Actual Points', 'Predicted': 'Predicted Points'}\n",
    ")\n",
    "\n",
    "# Add a diagonal line representing perfect predictions\n",
    "fig.add_trace(\n",
    "    px.line(\n",
    "        x=[points_predictions_df['Actual'].min(), points_predictions_df['Actual'].max()],\n",
    "        y=[points_predictions_df['Actual'].min(), points_predictions_df['Actual'].max()]\n",
    "    ).data[0]\n",
    ")\n",
    "\n",
    "fig.show()"
   ]
  },
  {
   "cell_type": "markdown",
   "id": "caa2aeb6",
   "metadata": {},
   "source": [
    "## Linear Regression of Assists"
   ]
  },
  {
   "cell_type": "code",
   "execution_count": 16,
   "id": "fa657196",
   "metadata": {},
   "outputs": [
    {
     "name": "stdout",
     "output_type": "stream",
     "text": [
      "CV mean MSE: 0.0022\n",
      "Coefficients: {'Games played': -0.00025281700897590104, 'All shifts': -0.0012734204298302156, 'Goals': -0.03444002596613438, 'First assist': 0.043361111980582144, 'Second assist': 0.04348859447334944, 'Scoring chances': -0.007898287807405056, 'Penalties drawn': -0.031034114723228534, 'Faceoffs': 0.041998361705233564, 'Faceoffs won': -0.0468864009595131, 'Faceoffs won, %': 0.022689915408114273, 'Hits': 0.007758025254839252, 'Shots': 0.01766824455202605, 'Shots on goal': 0.02456513790871337, 'Blocked shots': -0.05610469101932829, 'Power play shots': -0.00789694398563821, 'Short-handed shots': 0.03767697713333591, 'Passes to the slot': 0.004872864145091551, 'Faceoffs in DZ': -0.021283661158730854, 'Faceoffs won in DZ': -0.029327650683256892, 'Faceoffs won in DZ, %': -0.0001261121243340789, 'Faceoffs in NZ': -0.026516823902031833, 'Faceoffs won in NZ': 0.0006847182264845542, 'Faceoffs won in NZ, %': -0.0019754262777716136, 'Faceoffs in OZ': 0.0016344877683284083, 'Faceoffs won in OZ': -0.0011810712010354631, 'Faceoffs won in OZ, %': -0.034875238511704695, 'Puck touches': 0.00959089595577077, 'Minus': 0.010195037827895131, 'Penalties': -0.011412652082427718, 'Faceoffs lost': -0.002850622880608193, 'Hits against': -0.006897214379861771, 'Error leading to goal': -0.0007055791023486413, 'Dump ins': -0.005686841092487453, 'Dump outs': -0.01778896329237537, \"Opponent's goals when on ice\": -0.006655378116763658, 'Power play': 0.004464962189598618, 'Successful power play': -0.00023243038030489095, 'Short-handed': 0.006158470473237037, 'Penalty killing': -0.015705816845911443, 'Missed shots': 0.03886943113447357, '% shots on goal': 0.009715940217150972, 'Slapshot': 0.02837678088453234, 'Wrist shot': -0.04177278891972378, 'Shootouts': -0.001286546015556941, 'Shootouts scored': 0.00022743660231866074, 'Shootouts missed': -0.0015139826178756305, '1-on-1 shots': 0.01797990342947647, '1-on-1 goals': 0.00045487320463705996, 'Shots conversion 1 on 1, %': -0.014477273946237603, 'Positional attack shots': 0.04968166926218722, 'Shots 5 v 5': 0.0012899331656215044, 'Counter-attack shots': -0.008417913425975584, 'xG per shot': 0.023269440132004958, 'xG (Expected goals)': 0.002560727151093158, 'xG per goal': 0.01901052577065128, \"Net xG (xG player on - opp. team's xG)\": 0.00016042187178129125, 'Team xG when on ice': 0.002671936265643575, \"Opponent's xG when on ice\": 0.0032376870153745583, 'xG conversion': -0.0213183356924486, 'CORSI': 0.05776516215222317, 'CORSI-': 0.021067100681828408, 'CORSI+': -0.03893084938145393, 'CORSI for, %': 0.020314245554265056, 'Fenwick for': 0.00041973623448590116, 'Fenwick against': 0.023239213461998198, 'Fenwick for, %': 0.019298417578517954, 'Puck battles': -0.004094373939728925, 'Puck battles won': -0.00998950933215945, 'Puck battles won, %': -0.0022236363892539513, 'Puck battles in DZ': 0.016857911858620032, 'Puck battles in NZ': 0.0270862806307052, 'Puck battles in OZ': 0.031891997699743116, 'Shots blocking': 0.007620854668101451, 'Dekes': -0.04485720024924632, 'Dekes successful': -0.02190730588719622, 'Dekes unsuccessful': -0.01923163121600924, 'Dekes successful, %': -0.00047322489716581685, 'Pre-shots passes': 0.01709754681242936, 'Pass receptions': 0.007528802806034128, 'Scoring chances - total': -0.04839053474451553, 'Scoring chances - scored': -0.02774526727337103, 'Scoring chances missed': -0.010641662912034229, 'Scoring chances saved': -0.015145223391312935, 'Scoring Chances, %': 0.0655563294476482, 'Inner slot shots - total': -0.007898287807396001, 'Inner slot shots - scored': -0.01573017437498553, 'Inner slot shots - missed': 0.012184989116823504, 'Inner slot shots - saved': -0.006300446000909278, 'Inner slot shots, %': -0.04322377177271907, 'Outer slot shots - total': -0.04479590738561079, 'Outer slot shots - scored': -0.01066186938151462, 'Outer slot shots - missed': -0.023580393122370494, 'Outer slot shots - saved': -0.01242563357747994, 'Outer slot shots, %': 0.007943482781384709, 'Blocked shots from the slot': -0.0020866800021296056, 'Blocked shots outside of the slot': -0.04497019244864155, 'Takeaways': 0.0069601047877219605, 'Puck retrievals after shots': -0.02689582338676873, 'Opponent’s dump-in retrievals': -0.06402757172536798, 'Takeaways in DZ': 0.03885074508186118, 'Loose puck recovery': 0.017257188820599578, 'Takeaways in NZ': -0.05864263804454105, 'Takeaways in OZ': -0.009210775680219366, 'EV DZ retrievals': -0.010618288695491926, 'Puck losses': -0.013977392349042954, 'Puck losses in DZ': 0.011148039039609809, 'EV OZ retrievals': -0.011321227597164236, 'Puck losses in NZ': 0.029544044848082446, 'Power play retrievals': -0.0272343339776706, 'Penalty kill retrievals': 0.0247224623107833, 'Puck losses in OZ': -0.0011517135620892661, 'Entries': 0.023296398114321923, 'Entries via pass': -0.010436892465696198, 'Entries via dump in': 0.05694377393993514, 'Entries via stickhandling': 0.005354774941770862, 'Breakouts': -0.07658970016345747, 'Breakouts via pass': -0.013634176900956415, 'Breakouts via dump out': -0.00332771007064598, 'Breakouts via stickhandling': -0.03953883003121204, 'National team ': 0.0, 'Height': 0.000424041970046923, 'Weight': -0.0012171022938345824, 'Time on ice (Minutes)': -0.009535684663151973, 'Time on ice (Seconds)': -0.00020231477115747673, 'Penalty time (Minutes)': -0.01736253986015736, 'Penalty time (Seconds)': -0.0002007388204052548, 'Puck control time (Minutes)': 0.0, 'Puck control time (Seconds)': 0.0053342780971619205, 'Power play time (Minutes)': 0.0067713607775347065, 'Power play time (Seconds)': 0.0003175766696247315, 'Short-handed time (Minutes)': 0.012700649106453172, 'Playing in attack (Minutes)': -0.028208983075543134, 'Playing in attack (Seconds)': -0.00041029581798614906, 'Playing in defense (Minutes)': 0.012717349551456893, 'Playing in defense (Seconds)': 7.929253852288418e-05, 'OZ possession (Minutes)': -0.02434268658366084, 'OZ possession (Seconds)': -0.0003597403834778093, 'NZ possession (Minutes)': -0.022391800188210097, 'DZ possession (Minutes)': -0.0015247298205038652, 'Position_D': 0.002946481842684215, 'Position_F': -0.002946481842684215, 'Active hand_Left': -0.004146615334370333, 'Active hand_Right': 0.004146615334370243, 'Type_Even Strength': 0.04163121317408824, 'Type_Penalty Kill': -0.02129677126308483, 'Type_Power Play': -0.031414076892094085, 'Type_Total': 0.011079634981091416}\n"
     ]
    }
   ],
   "source": [
    "# Prepare data for linear regression\n",
    "# Define target and columns to drop\n",
    "assists_target = \"Assists\"\n",
    "drop_cols = [\n",
    "    assists_target,\n",
    "    \"First assists\",\n",
    "    \"Second assists\",\n",
    "    \"Points\",\n",
    "    \"Passes\",\n",
    "    \"Accurate passes\",\n",
    "    \"+/-\",\n",
    "    \"Team goals when on ice\",\n",
    "    \"Plus\",\n",
    "    \"Accurate passes, %\",\n",
    "    \"Shirt number\",\n",
    "    \"Player\"\n",
    "    \"OZ possession (Seconds)\",\n",
    "    \"NZ possession (Seconds)\",\n",
    "    \"DZ possession (Seconds)\",\n",
    "    \"Short-handed time (Seconds)\"\n",
    "]\n",
    "\n",
    "# Features and target\n",
    "X = skaters_df.drop(columns=drop_cols, errors=\"ignore\")\n",
    "y = skaters_df[assists_target]\n",
    "\n",
    "# Set up cross‐validation and model\n",
    "kf = KFold(n_splits=5, shuffle=True, random_state=42)\n",
    "model = LinearRegression()\n",
    "\n",
    "# Evaluate with MSE\n",
    "mse_scores = -cross_val_score(model, X, y, cv=kf, scoring=\"neg_mean_squared_error\")\n",
    "print(f\"CV mean MSE: {mse_scores.mean():.4f}\")\n",
    "\n",
    "# Train final model on all data\n",
    "model.fit(X, y)\n",
    "print(\"Coefficients:\", dict(zip(X.columns, model.coef_)))"
   ]
  },
  {
   "cell_type": "code",
   "execution_count": 17,
   "id": "b5e08fd6",
   "metadata": {},
   "outputs": [
    {
     "data": {
      "application/vnd.plotly.v1+json": {
       "config": {
        "plotlyServerURL": "https://plot.ly"
       },
       "data": [
        {
         "hovertemplate": "Actual Assists=%{x}<br>Predicted Assists=%{y}<extra></extra>",
         "legendgroup": "",
         "marker": {
          "color": "#636efa",
          "symbol": "circle"
         },
         "mode": "markers",
         "name": "",
         "orientation": "v",
         "showlegend": false,
         "type": "scatter",
         "x": {
          "bdata": "AAAAAAAAAAB7FK5H4XqkP3sUrkfherQ/AAAAAAAAAAAAAAAAAAAAAAAAAAAAAAAAAAAAAAAAAAAAAAAAAAAAAKRwPQrXo8A/AAAAAAAAAAAAAAAAAAAAAAAAAAAAAAAACtejcD0Ktz8AAAAAAAAAAHsUrkfherQ/exSuR+F6pD8=",
          "dtype": "f8"
         },
         "xaxis": "x",
         "y": {
          "bdata": "uvNoYlDrZb9sV+CenDesPzpoYN6EhLI/4BTp0na4Yr/daq9CyIJwP68H+92PBGO/CFumceFbYD+aHEShYix8P9W98HGpvr8/xCQQrdiiTj82hv3I97lnP+AU6dJ2uGK/ciK9i4KJuT/XjLGf729Rvxezoc2VQbc/qskf6IcMgz8=",
          "dtype": "f8"
         },
         "yaxis": "y"
        },
        {
         "hovertemplate": "x=%{x}<br>y=%{y}<extra></extra>",
         "legendgroup": "",
         "line": {
          "color": "#636efa",
          "dash": "solid"
         },
         "marker": {
          "symbol": "circle"
         },
         "mode": "lines",
         "name": "",
         "orientation": "v",
         "showlegend": false,
         "type": "scatter",
         "x": {
          "bdata": "AAAAAAAAAACkcD0K16PAPw==",
          "dtype": "f8"
         },
         "xaxis": "x",
         "y": {
          "bdata": "AAAAAAAAAACkcD0K16PAPw==",
          "dtype": "f8"
         },
         "yaxis": "y"
        }
       ],
       "layout": {
        "legend": {
         "tracegroupgap": 0
        },
        "template": {
         "data": {
          "bar": [
           {
            "error_x": {
             "color": "#2a3f5f"
            },
            "error_y": {
             "color": "#2a3f5f"
            },
            "marker": {
             "line": {
              "color": "#E5ECF6",
              "width": 0.5
             },
             "pattern": {
              "fillmode": "overlay",
              "size": 10,
              "solidity": 0.2
             }
            },
            "type": "bar"
           }
          ],
          "barpolar": [
           {
            "marker": {
             "line": {
              "color": "#E5ECF6",
              "width": 0.5
             },
             "pattern": {
              "fillmode": "overlay",
              "size": 10,
              "solidity": 0.2
             }
            },
            "type": "barpolar"
           }
          ],
          "carpet": [
           {
            "aaxis": {
             "endlinecolor": "#2a3f5f",
             "gridcolor": "white",
             "linecolor": "white",
             "minorgridcolor": "white",
             "startlinecolor": "#2a3f5f"
            },
            "baxis": {
             "endlinecolor": "#2a3f5f",
             "gridcolor": "white",
             "linecolor": "white",
             "minorgridcolor": "white",
             "startlinecolor": "#2a3f5f"
            },
            "type": "carpet"
           }
          ],
          "choropleth": [
           {
            "colorbar": {
             "outlinewidth": 0,
             "ticks": ""
            },
            "type": "choropleth"
           }
          ],
          "contour": [
           {
            "colorbar": {
             "outlinewidth": 0,
             "ticks": ""
            },
            "colorscale": [
             [
              0,
              "#0d0887"
             ],
             [
              0.1111111111111111,
              "#46039f"
             ],
             [
              0.2222222222222222,
              "#7201a8"
             ],
             [
              0.3333333333333333,
              "#9c179e"
             ],
             [
              0.4444444444444444,
              "#bd3786"
             ],
             [
              0.5555555555555556,
              "#d8576b"
             ],
             [
              0.6666666666666666,
              "#ed7953"
             ],
             [
              0.7777777777777778,
              "#fb9f3a"
             ],
             [
              0.8888888888888888,
              "#fdca26"
             ],
             [
              1,
              "#f0f921"
             ]
            ],
            "type": "contour"
           }
          ],
          "contourcarpet": [
           {
            "colorbar": {
             "outlinewidth": 0,
             "ticks": ""
            },
            "type": "contourcarpet"
           }
          ],
          "heatmap": [
           {
            "colorbar": {
             "outlinewidth": 0,
             "ticks": ""
            },
            "colorscale": [
             [
              0,
              "#0d0887"
             ],
             [
              0.1111111111111111,
              "#46039f"
             ],
             [
              0.2222222222222222,
              "#7201a8"
             ],
             [
              0.3333333333333333,
              "#9c179e"
             ],
             [
              0.4444444444444444,
              "#bd3786"
             ],
             [
              0.5555555555555556,
              "#d8576b"
             ],
             [
              0.6666666666666666,
              "#ed7953"
             ],
             [
              0.7777777777777778,
              "#fb9f3a"
             ],
             [
              0.8888888888888888,
              "#fdca26"
             ],
             [
              1,
              "#f0f921"
             ]
            ],
            "type": "heatmap"
           }
          ],
          "histogram": [
           {
            "marker": {
             "pattern": {
              "fillmode": "overlay",
              "size": 10,
              "solidity": 0.2
             }
            },
            "type": "histogram"
           }
          ],
          "histogram2d": [
           {
            "colorbar": {
             "outlinewidth": 0,
             "ticks": ""
            },
            "colorscale": [
             [
              0,
              "#0d0887"
             ],
             [
              0.1111111111111111,
              "#46039f"
             ],
             [
              0.2222222222222222,
              "#7201a8"
             ],
             [
              0.3333333333333333,
              "#9c179e"
             ],
             [
              0.4444444444444444,
              "#bd3786"
             ],
             [
              0.5555555555555556,
              "#d8576b"
             ],
             [
              0.6666666666666666,
              "#ed7953"
             ],
             [
              0.7777777777777778,
              "#fb9f3a"
             ],
             [
              0.8888888888888888,
              "#fdca26"
             ],
             [
              1,
              "#f0f921"
             ]
            ],
            "type": "histogram2d"
           }
          ],
          "histogram2dcontour": [
           {
            "colorbar": {
             "outlinewidth": 0,
             "ticks": ""
            },
            "colorscale": [
             [
              0,
              "#0d0887"
             ],
             [
              0.1111111111111111,
              "#46039f"
             ],
             [
              0.2222222222222222,
              "#7201a8"
             ],
             [
              0.3333333333333333,
              "#9c179e"
             ],
             [
              0.4444444444444444,
              "#bd3786"
             ],
             [
              0.5555555555555556,
              "#d8576b"
             ],
             [
              0.6666666666666666,
              "#ed7953"
             ],
             [
              0.7777777777777778,
              "#fb9f3a"
             ],
             [
              0.8888888888888888,
              "#fdca26"
             ],
             [
              1,
              "#f0f921"
             ]
            ],
            "type": "histogram2dcontour"
           }
          ],
          "mesh3d": [
           {
            "colorbar": {
             "outlinewidth": 0,
             "ticks": ""
            },
            "type": "mesh3d"
           }
          ],
          "parcoords": [
           {
            "line": {
             "colorbar": {
              "outlinewidth": 0,
              "ticks": ""
             }
            },
            "type": "parcoords"
           }
          ],
          "pie": [
           {
            "automargin": true,
            "type": "pie"
           }
          ],
          "scatter": [
           {
            "fillpattern": {
             "fillmode": "overlay",
             "size": 10,
             "solidity": 0.2
            },
            "type": "scatter"
           }
          ],
          "scatter3d": [
           {
            "line": {
             "colorbar": {
              "outlinewidth": 0,
              "ticks": ""
             }
            },
            "marker": {
             "colorbar": {
              "outlinewidth": 0,
              "ticks": ""
             }
            },
            "type": "scatter3d"
           }
          ],
          "scattercarpet": [
           {
            "marker": {
             "colorbar": {
              "outlinewidth": 0,
              "ticks": ""
             }
            },
            "type": "scattercarpet"
           }
          ],
          "scattergeo": [
           {
            "marker": {
             "colorbar": {
              "outlinewidth": 0,
              "ticks": ""
             }
            },
            "type": "scattergeo"
           }
          ],
          "scattergl": [
           {
            "marker": {
             "colorbar": {
              "outlinewidth": 0,
              "ticks": ""
             }
            },
            "type": "scattergl"
           }
          ],
          "scattermap": [
           {
            "marker": {
             "colorbar": {
              "outlinewidth": 0,
              "ticks": ""
             }
            },
            "type": "scattermap"
           }
          ],
          "scattermapbox": [
           {
            "marker": {
             "colorbar": {
              "outlinewidth": 0,
              "ticks": ""
             }
            },
            "type": "scattermapbox"
           }
          ],
          "scatterpolar": [
           {
            "marker": {
             "colorbar": {
              "outlinewidth": 0,
              "ticks": ""
             }
            },
            "type": "scatterpolar"
           }
          ],
          "scatterpolargl": [
           {
            "marker": {
             "colorbar": {
              "outlinewidth": 0,
              "ticks": ""
             }
            },
            "type": "scatterpolargl"
           }
          ],
          "scatterternary": [
           {
            "marker": {
             "colorbar": {
              "outlinewidth": 0,
              "ticks": ""
             }
            },
            "type": "scatterternary"
           }
          ],
          "surface": [
           {
            "colorbar": {
             "outlinewidth": 0,
             "ticks": ""
            },
            "colorscale": [
             [
              0,
              "#0d0887"
             ],
             [
              0.1111111111111111,
              "#46039f"
             ],
             [
              0.2222222222222222,
              "#7201a8"
             ],
             [
              0.3333333333333333,
              "#9c179e"
             ],
             [
              0.4444444444444444,
              "#bd3786"
             ],
             [
              0.5555555555555556,
              "#d8576b"
             ],
             [
              0.6666666666666666,
              "#ed7953"
             ],
             [
              0.7777777777777778,
              "#fb9f3a"
             ],
             [
              0.8888888888888888,
              "#fdca26"
             ],
             [
              1,
              "#f0f921"
             ]
            ],
            "type": "surface"
           }
          ],
          "table": [
           {
            "cells": {
             "fill": {
              "color": "#EBF0F8"
             },
             "line": {
              "color": "white"
             }
            },
            "header": {
             "fill": {
              "color": "#C8D4E3"
             },
             "line": {
              "color": "white"
             }
            },
            "type": "table"
           }
          ]
         },
         "layout": {
          "annotationdefaults": {
           "arrowcolor": "#2a3f5f",
           "arrowhead": 0,
           "arrowwidth": 1
          },
          "autotypenumbers": "strict",
          "coloraxis": {
           "colorbar": {
            "outlinewidth": 0,
            "ticks": ""
           }
          },
          "colorscale": {
           "diverging": [
            [
             0,
             "#8e0152"
            ],
            [
             0.1,
             "#c51b7d"
            ],
            [
             0.2,
             "#de77ae"
            ],
            [
             0.3,
             "#f1b6da"
            ],
            [
             0.4,
             "#fde0ef"
            ],
            [
             0.5,
             "#f7f7f7"
            ],
            [
             0.6,
             "#e6f5d0"
            ],
            [
             0.7,
             "#b8e186"
            ],
            [
             0.8,
             "#7fbc41"
            ],
            [
             0.9,
             "#4d9221"
            ],
            [
             1,
             "#276419"
            ]
           ],
           "sequential": [
            [
             0,
             "#0d0887"
            ],
            [
             0.1111111111111111,
             "#46039f"
            ],
            [
             0.2222222222222222,
             "#7201a8"
            ],
            [
             0.3333333333333333,
             "#9c179e"
            ],
            [
             0.4444444444444444,
             "#bd3786"
            ],
            [
             0.5555555555555556,
             "#d8576b"
            ],
            [
             0.6666666666666666,
             "#ed7953"
            ],
            [
             0.7777777777777778,
             "#fb9f3a"
            ],
            [
             0.8888888888888888,
             "#fdca26"
            ],
            [
             1,
             "#f0f921"
            ]
           ],
           "sequentialminus": [
            [
             0,
             "#0d0887"
            ],
            [
             0.1111111111111111,
             "#46039f"
            ],
            [
             0.2222222222222222,
             "#7201a8"
            ],
            [
             0.3333333333333333,
             "#9c179e"
            ],
            [
             0.4444444444444444,
             "#bd3786"
            ],
            [
             0.5555555555555556,
             "#d8576b"
            ],
            [
             0.6666666666666666,
             "#ed7953"
            ],
            [
             0.7777777777777778,
             "#fb9f3a"
            ],
            [
             0.8888888888888888,
             "#fdca26"
            ],
            [
             1,
             "#f0f921"
            ]
           ]
          },
          "colorway": [
           "#636efa",
           "#EF553B",
           "#00cc96",
           "#ab63fa",
           "#FFA15A",
           "#19d3f3",
           "#FF6692",
           "#B6E880",
           "#FF97FF",
           "#FECB52"
          ],
          "font": {
           "color": "#2a3f5f"
          },
          "geo": {
           "bgcolor": "white",
           "lakecolor": "white",
           "landcolor": "#E5ECF6",
           "showlakes": true,
           "showland": true,
           "subunitcolor": "white"
          },
          "hoverlabel": {
           "align": "left"
          },
          "hovermode": "closest",
          "mapbox": {
           "style": "light"
          },
          "paper_bgcolor": "white",
          "plot_bgcolor": "#E5ECF6",
          "polar": {
           "angularaxis": {
            "gridcolor": "white",
            "linecolor": "white",
            "ticks": ""
           },
           "bgcolor": "#E5ECF6",
           "radialaxis": {
            "gridcolor": "white",
            "linecolor": "white",
            "ticks": ""
           }
          },
          "scene": {
           "xaxis": {
            "backgroundcolor": "#E5ECF6",
            "gridcolor": "white",
            "gridwidth": 2,
            "linecolor": "white",
            "showbackground": true,
            "ticks": "",
            "zerolinecolor": "white"
           },
           "yaxis": {
            "backgroundcolor": "#E5ECF6",
            "gridcolor": "white",
            "gridwidth": 2,
            "linecolor": "white",
            "showbackground": true,
            "ticks": "",
            "zerolinecolor": "white"
           },
           "zaxis": {
            "backgroundcolor": "#E5ECF6",
            "gridcolor": "white",
            "gridwidth": 2,
            "linecolor": "white",
            "showbackground": true,
            "ticks": "",
            "zerolinecolor": "white"
           }
          },
          "shapedefaults": {
           "line": {
            "color": "#2a3f5f"
           }
          },
          "ternary": {
           "aaxis": {
            "gridcolor": "white",
            "linecolor": "white",
            "ticks": ""
           },
           "baxis": {
            "gridcolor": "white",
            "linecolor": "white",
            "ticks": ""
           },
           "bgcolor": "#E5ECF6",
           "caxis": {
            "gridcolor": "white",
            "linecolor": "white",
            "ticks": ""
           }
          },
          "title": {
           "x": 0.05
          },
          "xaxis": {
           "automargin": true,
           "gridcolor": "white",
           "linecolor": "white",
           "ticks": "",
           "title": {
            "standoff": 15
           },
           "zerolinecolor": "white",
           "zerolinewidth": 2
          },
          "yaxis": {
           "automargin": true,
           "gridcolor": "white",
           "linecolor": "white",
           "ticks": "",
           "title": {
            "standoff": 15
           },
           "zerolinecolor": "white",
           "zerolinewidth": 2
          }
         }
        },
        "title": {
         "text": "Actual vs Predicted Assists Per Game"
        },
        "xaxis": {
         "anchor": "y",
         "domain": [
          0,
          1
         ],
         "title": {
          "text": "Actual Assists"
         }
        },
        "yaxis": {
         "anchor": "x",
         "domain": [
          0,
          1
         ],
         "title": {
          "text": "Predicted Assists"
         }
        }
       }
      }
     },
     "metadata": {},
     "output_type": "display_data"
    }
   ],
   "source": [
    "\n",
    "\n",
    "# Create a DataFrame for actual vs predicted values\n",
    "assists_predictions_df = pd.DataFrame({'Actual': y_test, 'Predicted': y_pred})\n",
    "\n",
    "# Plotting actual vs predicted values using Plotly\n",
    "fig = px.scatter(\n",
    "    assists_predictions_df,\n",
    "    x='Actual',\n",
    "    y='Predicted',\n",
    "    title='Actual vs Predicted Assists Per Game',\n",
    "    labels={'Actual': 'Actual Assists', 'Predicted': 'Predicted Assists'}\n",
    ")\n",
    "\n",
    "# Add a diagonal line representing perfect predictions\n",
    "fig.add_trace(\n",
    "    px.line(\n",
    "        x=[assists_predictions_df['Actual'].min(), assists_predictions_df['Actual'].max()],\n",
    "        y=[assists_predictions_df['Actual'].min(), assists_predictions_df['Actual'].max()]\n",
    "    ).data[0]\n",
    ")\n",
    "\n",
    "fig.show()"
   ]
  },
  {
   "cell_type": "markdown",
   "id": "1a2f8578",
   "metadata": {},
   "source": [
    "## Linear Regression on Scoring chances"
   ]
  },
  {
   "cell_type": "code",
   "execution_count": 55,
   "id": "fd84bc5a",
   "metadata": {},
   "outputs": [
    {
     "data": {
      "text/plain": [
       "['Shirt number',\n",
       " 'Games played',\n",
       " 'All shifts',\n",
       " 'Goals',\n",
       " 'First assist',\n",
       " 'Second assist',\n",
       " 'Assists',\n",
       " 'Points',\n",
       " '+/-',\n",
       " 'Scoring chances',\n",
       " 'Penalties drawn',\n",
       " 'Faceoffs',\n",
       " 'Faceoffs won',\n",
       " 'Faceoffs won, %',\n",
       " 'Hits',\n",
       " 'Shots',\n",
       " 'Shots on goal',\n",
       " 'Blocked shots',\n",
       " 'Power play shots',\n",
       " 'Short-handed shots',\n",
       " 'Passes to the slot',\n",
       " 'Faceoffs in DZ',\n",
       " 'Faceoffs won in DZ',\n",
       " 'Faceoffs won in DZ, %',\n",
       " 'Faceoffs in NZ',\n",
       " 'Faceoffs won in NZ',\n",
       " 'Faceoffs won in NZ, %',\n",
       " 'Faceoffs in OZ',\n",
       " 'Faceoffs won in OZ',\n",
       " 'Faceoffs won in OZ, %',\n",
       " 'Puck touches',\n",
       " 'Plus',\n",
       " 'Minus',\n",
       " 'Penalties',\n",
       " 'Faceoffs lost',\n",
       " 'Hits against',\n",
       " 'Error leading to goal',\n",
       " 'Dump ins',\n",
       " 'Dump outs',\n",
       " 'Team goals when on ice',\n",
       " \"Opponent's goals when on ice\",\n",
       " 'Power play',\n",
       " 'Successful power play',\n",
       " 'Short-handed',\n",
       " 'Penalty killing',\n",
       " 'Missed shots',\n",
       " '% shots on goal',\n",
       " 'Slapshot',\n",
       " 'Wrist shot',\n",
       " 'Shootouts',\n",
       " 'Shootouts scored',\n",
       " 'Shootouts missed',\n",
       " '1-on-1 shots',\n",
       " '1-on-1 goals',\n",
       " 'Shots conversion 1 on 1, %',\n",
       " 'Positional attack shots',\n",
       " 'Shots 5 v 5',\n",
       " 'Counter-attack shots',\n",
       " 'xG per shot',\n",
       " 'xG (Expected goals)',\n",
       " 'xG per goal',\n",
       " \"Net xG (xG player on - opp. team's xG)\",\n",
       " 'Team xG when on ice',\n",
       " \"Opponent's xG when on ice\",\n",
       " 'xG conversion',\n",
       " 'CORSI',\n",
       " 'CORSI-',\n",
       " 'CORSI+',\n",
       " 'CORSI for, %',\n",
       " 'Fenwick for',\n",
       " 'Fenwick against',\n",
       " 'Fenwick for, %',\n",
       " 'Puck battles',\n",
       " 'Puck battles won',\n",
       " 'Puck battles won, %',\n",
       " 'Puck battles in DZ',\n",
       " 'Puck battles in NZ',\n",
       " 'Puck battles in OZ',\n",
       " 'Shots blocking',\n",
       " 'Dekes',\n",
       " 'Dekes successful',\n",
       " 'Dekes unsuccessful',\n",
       " 'Dekes successful, %',\n",
       " 'Passes',\n",
       " 'Accurate passes',\n",
       " 'Accurate passes, %',\n",
       " 'Pre-shots passes',\n",
       " 'Pass receptions',\n",
       " 'Scoring chances - total',\n",
       " 'Scoring chances - scored',\n",
       " 'Scoring chances missed',\n",
       " 'Scoring chances saved',\n",
       " 'Scoring Chances, %',\n",
       " 'Inner slot shots - total',\n",
       " 'Inner slot shots - scored',\n",
       " 'Inner slot shots - missed',\n",
       " 'Inner slot shots - saved',\n",
       " 'Inner slot shots, %',\n",
       " 'Outer slot shots - total',\n",
       " 'Outer slot shots - scored',\n",
       " 'Outer slot shots - missed',\n",
       " 'Outer slot shots - saved',\n",
       " 'Outer slot shots, %',\n",
       " 'Blocked shots from the slot',\n",
       " 'Blocked shots outside of the slot',\n",
       " 'Takeaways',\n",
       " 'Puck retrievals after shots',\n",
       " 'Opponent’s dump-in retrievals',\n",
       " 'Takeaways in DZ',\n",
       " 'Loose puck recovery',\n",
       " 'Takeaways in NZ',\n",
       " 'Takeaways in OZ',\n",
       " 'EV DZ retrievals',\n",
       " 'Puck losses',\n",
       " 'Puck losses in DZ',\n",
       " 'EV OZ retrievals',\n",
       " 'Puck losses in NZ',\n",
       " 'Power play retrievals',\n",
       " 'Penalty kill retrievals',\n",
       " 'Puck losses in OZ',\n",
       " 'Entries',\n",
       " 'Entries via pass',\n",
       " 'Entries via dump in',\n",
       " 'Entries via stickhandling',\n",
       " 'Breakouts',\n",
       " 'Breakouts via pass',\n",
       " 'Breakouts via dump out',\n",
       " 'Breakouts via stickhandling',\n",
       " 'National team ',\n",
       " 'Height',\n",
       " 'Weight',\n",
       " 'Time on ice (Minutes)',\n",
       " 'Time on ice (Seconds)',\n",
       " 'Penalty time (Minutes)',\n",
       " 'Penalty time (Seconds)',\n",
       " 'Puck control time (Minutes)',\n",
       " 'Puck control time (Seconds)',\n",
       " 'Power play time (Minutes)',\n",
       " 'Power play time (Seconds)',\n",
       " 'Short-handed time (Minutes)',\n",
       " 'Short-handed time (Seconds)',\n",
       " 'Playing in attack (Minutes)',\n",
       " 'Playing in attack (Seconds)',\n",
       " 'Playing in defense (Minutes)',\n",
       " 'Playing in defense (Seconds)',\n",
       " 'OZ possession (Minutes)',\n",
       " 'OZ possession (Seconds)',\n",
       " 'NZ possession (Minutes)',\n",
       " 'NZ possession (Seconds)',\n",
       " 'DZ possession (Minutes)',\n",
       " 'DZ possession (Seconds)',\n",
       " 'Position_D',\n",
       " 'Position_F',\n",
       " 'Active hand_Left',\n",
       " 'Active hand_Right',\n",
       " 'Type_Even Strength',\n",
       " 'Type_Penalty Kill',\n",
       " 'Type_Power Play',\n",
       " 'Type_Total']"
      ]
     },
     "execution_count": 55,
     "metadata": {},
     "output_type": "execute_result"
    }
   ],
   "source": [
    "skaters_df.columns.tolist()"
   ]
  },
  {
   "cell_type": "code",
   "execution_count": 56,
   "id": "22ac03a3",
   "metadata": {},
   "outputs": [
    {
     "name": "stdout",
     "output_type": "stream",
     "text": [
      "CV mean MSE: 0.0061\n",
      "Coefficients: {'Games played': 0.0005391087841089893, 'All shifts': 0.0010478952494591513, 'Goals': 0.060216643235750426, 'First assist': -0.005548611390783817, 'Second assist': -0.02104721379676543, 'Assists': -0.02447978740918578, 'Points': 0.03680474904215518, '+/-': -0.0027199353254385482, 'Penalties drawn': 0.0005172545597186655, 'Faceoffs': 0.03302136399983441, 'Faceoffs won': -0.00593678787682474, 'Faceoffs won, %': -0.014675858392432115, 'Hits': -0.023372088163285874, 'Shots': 0.014338225921819697, 'Shots on goal': 0.050413256810525664, 'Blocked shots': -0.04785692917357224, 'Power play shots': 0.03966305602029688, 'Short-handed shots': 0.002935372005187991, 'Passes to the slot': -0.05659218017564237, 'Faceoffs in DZ': -0.0675027639135742, 'Faceoffs won in DZ': 0.030792791548342666, 'Faceoffs won in DZ, %': 0.027840772856245474, 'Faceoffs in NZ': -0.03421859378485903, 'Faceoffs won in NZ': 0.005699737723694439, 'Faceoffs won in NZ, %': -0.008349428843112235, 'Faceoffs in OZ': 0.08035292751777587, 'Faceoffs won in OZ': -0.058960764623724946, 'Faceoffs won in OZ, %': -0.013336678945966865, 'Puck touches': -0.003235444461400963, 'Plus': 0.007087103661475712, 'Minus': 0.010150729314592854, 'Penalties': -0.012340508698756495, 'Faceoffs lost': 0.0070235815593693955, 'Hits against': 0.025821337791603758, 'Error leading to goal': -0.004082071730562067, 'Dump ins': -0.05455871026078819, 'Dump outs': -0.0427754303851128, 'Team goals when on ice': -0.010542497107008941, \"Opponent's goals when on ice\": 0.015407196423991456, 'Power play': -0.005036641404941377, 'Successful power play': -0.0005204115360707931, 'Short-handed': -0.04424739040216757, 'Penalty killing': 0.041989930983160256, 'Missed shots': -0.006893339862077028, '% shots on goal': -0.006069296378729187, 'Slapshot': -0.03821673174298074, 'Wrist shot': 0.004602637570379887, 'Shootouts': 0.004947751971364892, 'Shootouts scored': 0.0026013310883121446, 'Shootouts missed': 0.0023464208830530388, '1-on-1 shots': 0.031102140394249297, '1-on-1 goals': 0.005202662176623571, 'Shots conversion 1 on 1, %': 0.05412619880837962, 'Positional attack shots': -0.007130534850769782, 'Shots 5 v 5': -0.027629656882674634, 'Counter-attack shots': -0.0024171321926166646, 'xG per shot': -0.01927846013542117, 'xG (Expected goals)': -0.000187751540006635, 'xG per goal': 0.0553732830445445, \"Net xG (xG player on - opp. team's xG)\": 0.010563856129953024, 'Team xG when on ice': -0.027708272214443032, \"Opponent's xG when on ice\": 0.019799356902528552, 'xG conversion': -0.06960978644094222, 'CORSI': 0.007749566049203706, 'CORSI-': 0.008415055288540564, 'CORSI+': -0.010027716760688522, 'CORSI for, %': -0.018469231762027312, 'Fenwick for': -0.01627422079202528, 'Fenwick against': -0.00485887306259114, 'Fenwick for, %': -0.022443120886974498, 'Puck battles': 0.035676233759288384, 'Puck battles won': 0.04825987356200934, 'Puck battles won, %': -0.005907498453827636, 'Puck battles in DZ': -0.024238725680437084, 'Puck battles in NZ': 0.004833475113630147, 'Puck battles in OZ': -0.050043697538044093, 'Shots blocking': 0.018525527650937523, 'Dekes': -0.0380064140791212, 'Dekes successful': -0.019646919776038836, 'Dekes unsuccessful': -0.01924766646877156, 'Dekes successful, %': 0.01948282651990317, 'Passes': 0.009137305374577591, 'Accurate passes': -0.027845326314298553, 'Accurate passes, %': -0.010931934404069784, 'Pre-shots passes': 0.032542882737576384, 'Pass receptions': 0.011210958380907972, 'Scoring chances - scored': 0.05404887368275622, 'Scoring Chances, %': 0.019517557184915976, 'Inner slot shots - scored': 0.02306680705691541, 'Inner slot shots - missed': 0.07287926241865905, 'Inner slot shots - saved': 0.05372772542435427, 'Inner slot shots, %': -0.009542432454738452, 'Outer slot shots - scored': 0.02974447059387054, 'Outer slot shots - missed': 0.05399233388505934, 'Outer slot shots - saved': 0.11492450620866651, 'Outer slot shots, %': 0.07477750990873015, 'Blocked shots from the slot': -0.0515987685799739, 'Blocked shots outside of the slot': -0.00010183163774988462, 'Takeaways': -0.06367922211198523, 'Puck retrievals after shots': -0.03882412986388771, 'Opponent’s dump-in retrievals': -0.0062855828435406155, 'Takeaways in DZ': 0.06686913885563228, 'Loose puck recovery': -0.006982822635160767, 'Takeaways in NZ': 0.11826050654273418, 'Takeaways in OZ': 0.08551703869821323, 'EV DZ retrievals': 0.011751661721630943, 'Puck losses': 0.04198940264729437, 'Puck losses in DZ': 0.014413548584519022, 'EV OZ retrievals': -0.06105627877636053, 'Puck losses in NZ': -0.03260233532227911, 'Power play retrievals': 0.002513075494127908, 'Penalty kill retrievals': -0.011977469518466758, 'Puck losses in OZ': 0.025936940471507873, 'Entries': 0.018123152085655937, 'Entries via pass': 0.015269356549207542, 'Entries via dump in': -0.008965965251975617, 'Entries via stickhandling': 0.012215524496913259, 'Breakouts': 0.03331203258183742, 'Breakouts via pass': -0.022989299682297053, 'Breakouts via dump out': -1.8429821457902062e-05, 'Breakouts via stickhandling': -0.0022607845261761912, 'National team ': 0.0, 'Height': 0.00028812165068770393, 'Weight': -0.0014050266725178714, 'Time on ice (Minutes)': 0.011079453644229879, 'Penalty time (Minutes)': 0.018122198411318312, 'Puck control time (Minutes)': 0.0, 'Power play time (Minutes)': -0.01132714485586215, 'Short-handed time (Minutes)': 0.012867556248532697, 'Playing in attack (Minutes)': -0.015107080347853758, 'Playing in defense (Minutes)': -0.016706780218196, 'OZ possession (Minutes)': 0.013171895316925452, 'NZ possession (Minutes)': 0.0024482822577253337, 'DZ possession (Minutes)': -0.0031294545466552734, 'Position_D': -0.002846615903151578, 'Position_F': 0.002846615903151578, 'Active hand_Left': 0.0014078387809792065, 'Active hand_Right': -0.0014078387809792967, 'Type_Even Strength': -0.025450954698232314, 'Type_Penalty Kill': 0.010845679203951075, 'Type_Power Play': 0.02722128834696428, 'Type_Total': -0.012616012852683838}\n"
     ]
    }
   ],
   "source": [
    "# Prepare data for linear regression\n",
    "# Define target and columns to drop\n",
    "target = \"Scoring chances\"\n",
    "drop_cols = [\n",
    "    target,\n",
    "    \"Shirt number\",\n",
    "    \"Player\",\n",
    "    \"Position\",\n",
    "    \"Nationality\",\n",
    "    \"Time on ice (Seconds)\",\n",
    "    \"Time on ice per game (Seconds)\",\n",
    "    \"Penalty time (Seconds)\",\n",
    "    \"Puck control time (Seconds)\",\n",
    "    \"Power play time (Seconds)\",\n",
    "    \"Short-handed time (Seconds)\",\n",
    "    \"Playing in attack (Seconds)\",\n",
    "    \"Playing in defense (Seconds)\",\n",
    "    \"OZ possession (Seconds)\",\n",
    "    \"NZ possession (Seconds)\",\n",
    "    \"DZ possession (Seconds)\",\n",
    "    \"Scoring chances missed\",\n",
    "    \"Scoring chances saved\",\n",
    "    \"Scoring chances - total\",\n",
    "    \"Inner slot shots - total\",\n",
    "    \"Outer slot shots - total\"\n",
    "]\n",
    "\n",
    "# Features and target\n",
    "X = skaters_df.drop(columns=drop_cols, errors=\"ignore\")\n",
    "y = skaters_df[target]\n",
    "\n",
    "# Set up cross‐validation and model\n",
    "kf = KFold(n_splits=5, shuffle=True, random_state=42)\n",
    "model = LinearRegression()\n",
    "\n",
    "# Evaluate with MSE\n",
    "mse_scores = -cross_val_score(model, X, y, cv=kf, scoring=\"neg_mean_squared_error\")\n",
    "print(f\"CV mean MSE: {mse_scores.mean():.4f}\")\n",
    "\n",
    "# Train final model on all data\n",
    "model.fit(X, y)\n",
    "print(\"Coefficients:\", dict(zip(X.columns, model.coef_)))"
   ]
  },
  {
   "cell_type": "code",
   "execution_count": 57,
   "id": "0771034b",
   "metadata": {},
   "outputs": [
    {
     "data": {
      "application/vnd.plotly.v1+json": {
       "config": {
        "plotlyServerURL": "https://plot.ly"
       },
       "data": [
        {
         "hovertemplate": "Actual Scoring Chances=%{x}<br>Predicted Scoring Chances=%{y}<extra></extra>",
         "legendgroup": "",
         "marker": {
          "color": "#636efa",
          "symbol": "circle"
         },
         "mode": "markers",
         "name": "",
         "orientation": "v",
         "showlegend": false,
         "type": "scatter",
         "x": {
          "bdata": "AAAAAAAAAAB7FK5H4XqkP3sUrkfherQ/AAAAAAAAAAAAAAAAAAAAAAAAAAAAAAAAAAAAAAAAAAAAAAAAAAAAAKRwPQrXo8A/AAAAAAAAAAAAAAAAAAAAAAAAAAAAAAAACtejcD0Ktz8AAAAAAAAAAHsUrkfherQ/exSuR+F6pD8=",
          "dtype": "f8"
         },
         "xaxis": "x",
         "y": {
          "bdata": "uvNoYlDrZb9sV+CenDesPzpoYN6EhLI/4BTp0na4Yr/daq9CyIJwP68H+92PBGO/CFumceFbYD+aHEShYix8P9W98HGpvr8/xCQQrdiiTj82hv3I97lnP+AU6dJ2uGK/ciK9i4KJuT/XjLGf729Rvxezoc2VQbc/qskf6IcMgz8=",
          "dtype": "f8"
         },
         "yaxis": "y"
        },
        {
         "hovertemplate": "x=%{x}<br>y=%{y}<extra></extra>",
         "legendgroup": "",
         "line": {
          "color": "#636efa",
          "dash": "solid"
         },
         "marker": {
          "symbol": "circle"
         },
         "mode": "lines",
         "name": "",
         "orientation": "v",
         "showlegend": false,
         "type": "scatter",
         "x": {
          "bdata": "AAAAAAAAAACkcD0K16PAPw==",
          "dtype": "f8"
         },
         "xaxis": "x",
         "y": {
          "bdata": "AAAAAAAAAACkcD0K16PAPw==",
          "dtype": "f8"
         },
         "yaxis": "y"
        }
       ],
       "layout": {
        "legend": {
         "tracegroupgap": 0
        },
        "template": {
         "data": {
          "bar": [
           {
            "error_x": {
             "color": "#2a3f5f"
            },
            "error_y": {
             "color": "#2a3f5f"
            },
            "marker": {
             "line": {
              "color": "#E5ECF6",
              "width": 0.5
             },
             "pattern": {
              "fillmode": "overlay",
              "size": 10,
              "solidity": 0.2
             }
            },
            "type": "bar"
           }
          ],
          "barpolar": [
           {
            "marker": {
             "line": {
              "color": "#E5ECF6",
              "width": 0.5
             },
             "pattern": {
              "fillmode": "overlay",
              "size": 10,
              "solidity": 0.2
             }
            },
            "type": "barpolar"
           }
          ],
          "carpet": [
           {
            "aaxis": {
             "endlinecolor": "#2a3f5f",
             "gridcolor": "white",
             "linecolor": "white",
             "minorgridcolor": "white",
             "startlinecolor": "#2a3f5f"
            },
            "baxis": {
             "endlinecolor": "#2a3f5f",
             "gridcolor": "white",
             "linecolor": "white",
             "minorgridcolor": "white",
             "startlinecolor": "#2a3f5f"
            },
            "type": "carpet"
           }
          ],
          "choropleth": [
           {
            "colorbar": {
             "outlinewidth": 0,
             "ticks": ""
            },
            "type": "choropleth"
           }
          ],
          "contour": [
           {
            "colorbar": {
             "outlinewidth": 0,
             "ticks": ""
            },
            "colorscale": [
             [
              0,
              "#0d0887"
             ],
             [
              0.1111111111111111,
              "#46039f"
             ],
             [
              0.2222222222222222,
              "#7201a8"
             ],
             [
              0.3333333333333333,
              "#9c179e"
             ],
             [
              0.4444444444444444,
              "#bd3786"
             ],
             [
              0.5555555555555556,
              "#d8576b"
             ],
             [
              0.6666666666666666,
              "#ed7953"
             ],
             [
              0.7777777777777778,
              "#fb9f3a"
             ],
             [
              0.8888888888888888,
              "#fdca26"
             ],
             [
              1,
              "#f0f921"
             ]
            ],
            "type": "contour"
           }
          ],
          "contourcarpet": [
           {
            "colorbar": {
             "outlinewidth": 0,
             "ticks": ""
            },
            "type": "contourcarpet"
           }
          ],
          "heatmap": [
           {
            "colorbar": {
             "outlinewidth": 0,
             "ticks": ""
            },
            "colorscale": [
             [
              0,
              "#0d0887"
             ],
             [
              0.1111111111111111,
              "#46039f"
             ],
             [
              0.2222222222222222,
              "#7201a8"
             ],
             [
              0.3333333333333333,
              "#9c179e"
             ],
             [
              0.4444444444444444,
              "#bd3786"
             ],
             [
              0.5555555555555556,
              "#d8576b"
             ],
             [
              0.6666666666666666,
              "#ed7953"
             ],
             [
              0.7777777777777778,
              "#fb9f3a"
             ],
             [
              0.8888888888888888,
              "#fdca26"
             ],
             [
              1,
              "#f0f921"
             ]
            ],
            "type": "heatmap"
           }
          ],
          "histogram": [
           {
            "marker": {
             "pattern": {
              "fillmode": "overlay",
              "size": 10,
              "solidity": 0.2
             }
            },
            "type": "histogram"
           }
          ],
          "histogram2d": [
           {
            "colorbar": {
             "outlinewidth": 0,
             "ticks": ""
            },
            "colorscale": [
             [
              0,
              "#0d0887"
             ],
             [
              0.1111111111111111,
              "#46039f"
             ],
             [
              0.2222222222222222,
              "#7201a8"
             ],
             [
              0.3333333333333333,
              "#9c179e"
             ],
             [
              0.4444444444444444,
              "#bd3786"
             ],
             [
              0.5555555555555556,
              "#d8576b"
             ],
             [
              0.6666666666666666,
              "#ed7953"
             ],
             [
              0.7777777777777778,
              "#fb9f3a"
             ],
             [
              0.8888888888888888,
              "#fdca26"
             ],
             [
              1,
              "#f0f921"
             ]
            ],
            "type": "histogram2d"
           }
          ],
          "histogram2dcontour": [
           {
            "colorbar": {
             "outlinewidth": 0,
             "ticks": ""
            },
            "colorscale": [
             [
              0,
              "#0d0887"
             ],
             [
              0.1111111111111111,
              "#46039f"
             ],
             [
              0.2222222222222222,
              "#7201a8"
             ],
             [
              0.3333333333333333,
              "#9c179e"
             ],
             [
              0.4444444444444444,
              "#bd3786"
             ],
             [
              0.5555555555555556,
              "#d8576b"
             ],
             [
              0.6666666666666666,
              "#ed7953"
             ],
             [
              0.7777777777777778,
              "#fb9f3a"
             ],
             [
              0.8888888888888888,
              "#fdca26"
             ],
             [
              1,
              "#f0f921"
             ]
            ],
            "type": "histogram2dcontour"
           }
          ],
          "mesh3d": [
           {
            "colorbar": {
             "outlinewidth": 0,
             "ticks": ""
            },
            "type": "mesh3d"
           }
          ],
          "parcoords": [
           {
            "line": {
             "colorbar": {
              "outlinewidth": 0,
              "ticks": ""
             }
            },
            "type": "parcoords"
           }
          ],
          "pie": [
           {
            "automargin": true,
            "type": "pie"
           }
          ],
          "scatter": [
           {
            "fillpattern": {
             "fillmode": "overlay",
             "size": 10,
             "solidity": 0.2
            },
            "type": "scatter"
           }
          ],
          "scatter3d": [
           {
            "line": {
             "colorbar": {
              "outlinewidth": 0,
              "ticks": ""
             }
            },
            "marker": {
             "colorbar": {
              "outlinewidth": 0,
              "ticks": ""
             }
            },
            "type": "scatter3d"
           }
          ],
          "scattercarpet": [
           {
            "marker": {
             "colorbar": {
              "outlinewidth": 0,
              "ticks": ""
             }
            },
            "type": "scattercarpet"
           }
          ],
          "scattergeo": [
           {
            "marker": {
             "colorbar": {
              "outlinewidth": 0,
              "ticks": ""
             }
            },
            "type": "scattergeo"
           }
          ],
          "scattergl": [
           {
            "marker": {
             "colorbar": {
              "outlinewidth": 0,
              "ticks": ""
             }
            },
            "type": "scattergl"
           }
          ],
          "scattermap": [
           {
            "marker": {
             "colorbar": {
              "outlinewidth": 0,
              "ticks": ""
             }
            },
            "type": "scattermap"
           }
          ],
          "scattermapbox": [
           {
            "marker": {
             "colorbar": {
              "outlinewidth": 0,
              "ticks": ""
             }
            },
            "type": "scattermapbox"
           }
          ],
          "scatterpolar": [
           {
            "marker": {
             "colorbar": {
              "outlinewidth": 0,
              "ticks": ""
             }
            },
            "type": "scatterpolar"
           }
          ],
          "scatterpolargl": [
           {
            "marker": {
             "colorbar": {
              "outlinewidth": 0,
              "ticks": ""
             }
            },
            "type": "scatterpolargl"
           }
          ],
          "scatterternary": [
           {
            "marker": {
             "colorbar": {
              "outlinewidth": 0,
              "ticks": ""
             }
            },
            "type": "scatterternary"
           }
          ],
          "surface": [
           {
            "colorbar": {
             "outlinewidth": 0,
             "ticks": ""
            },
            "colorscale": [
             [
              0,
              "#0d0887"
             ],
             [
              0.1111111111111111,
              "#46039f"
             ],
             [
              0.2222222222222222,
              "#7201a8"
             ],
             [
              0.3333333333333333,
              "#9c179e"
             ],
             [
              0.4444444444444444,
              "#bd3786"
             ],
             [
              0.5555555555555556,
              "#d8576b"
             ],
             [
              0.6666666666666666,
              "#ed7953"
             ],
             [
              0.7777777777777778,
              "#fb9f3a"
             ],
             [
              0.8888888888888888,
              "#fdca26"
             ],
             [
              1,
              "#f0f921"
             ]
            ],
            "type": "surface"
           }
          ],
          "table": [
           {
            "cells": {
             "fill": {
              "color": "#EBF0F8"
             },
             "line": {
              "color": "white"
             }
            },
            "header": {
             "fill": {
              "color": "#C8D4E3"
             },
             "line": {
              "color": "white"
             }
            },
            "type": "table"
           }
          ]
         },
         "layout": {
          "annotationdefaults": {
           "arrowcolor": "#2a3f5f",
           "arrowhead": 0,
           "arrowwidth": 1
          },
          "autotypenumbers": "strict",
          "coloraxis": {
           "colorbar": {
            "outlinewidth": 0,
            "ticks": ""
           }
          },
          "colorscale": {
           "diverging": [
            [
             0,
             "#8e0152"
            ],
            [
             0.1,
             "#c51b7d"
            ],
            [
             0.2,
             "#de77ae"
            ],
            [
             0.3,
             "#f1b6da"
            ],
            [
             0.4,
             "#fde0ef"
            ],
            [
             0.5,
             "#f7f7f7"
            ],
            [
             0.6,
             "#e6f5d0"
            ],
            [
             0.7,
             "#b8e186"
            ],
            [
             0.8,
             "#7fbc41"
            ],
            [
             0.9,
             "#4d9221"
            ],
            [
             1,
             "#276419"
            ]
           ],
           "sequential": [
            [
             0,
             "#0d0887"
            ],
            [
             0.1111111111111111,
             "#46039f"
            ],
            [
             0.2222222222222222,
             "#7201a8"
            ],
            [
             0.3333333333333333,
             "#9c179e"
            ],
            [
             0.4444444444444444,
             "#bd3786"
            ],
            [
             0.5555555555555556,
             "#d8576b"
            ],
            [
             0.6666666666666666,
             "#ed7953"
            ],
            [
             0.7777777777777778,
             "#fb9f3a"
            ],
            [
             0.8888888888888888,
             "#fdca26"
            ],
            [
             1,
             "#f0f921"
            ]
           ],
           "sequentialminus": [
            [
             0,
             "#0d0887"
            ],
            [
             0.1111111111111111,
             "#46039f"
            ],
            [
             0.2222222222222222,
             "#7201a8"
            ],
            [
             0.3333333333333333,
             "#9c179e"
            ],
            [
             0.4444444444444444,
             "#bd3786"
            ],
            [
             0.5555555555555556,
             "#d8576b"
            ],
            [
             0.6666666666666666,
             "#ed7953"
            ],
            [
             0.7777777777777778,
             "#fb9f3a"
            ],
            [
             0.8888888888888888,
             "#fdca26"
            ],
            [
             1,
             "#f0f921"
            ]
           ]
          },
          "colorway": [
           "#636efa",
           "#EF553B",
           "#00cc96",
           "#ab63fa",
           "#FFA15A",
           "#19d3f3",
           "#FF6692",
           "#B6E880",
           "#FF97FF",
           "#FECB52"
          ],
          "font": {
           "color": "#2a3f5f"
          },
          "geo": {
           "bgcolor": "white",
           "lakecolor": "white",
           "landcolor": "#E5ECF6",
           "showlakes": true,
           "showland": true,
           "subunitcolor": "white"
          },
          "hoverlabel": {
           "align": "left"
          },
          "hovermode": "closest",
          "mapbox": {
           "style": "light"
          },
          "paper_bgcolor": "white",
          "plot_bgcolor": "#E5ECF6",
          "polar": {
           "angularaxis": {
            "gridcolor": "white",
            "linecolor": "white",
            "ticks": ""
           },
           "bgcolor": "#E5ECF6",
           "radialaxis": {
            "gridcolor": "white",
            "linecolor": "white",
            "ticks": ""
           }
          },
          "scene": {
           "xaxis": {
            "backgroundcolor": "#E5ECF6",
            "gridcolor": "white",
            "gridwidth": 2,
            "linecolor": "white",
            "showbackground": true,
            "ticks": "",
            "zerolinecolor": "white"
           },
           "yaxis": {
            "backgroundcolor": "#E5ECF6",
            "gridcolor": "white",
            "gridwidth": 2,
            "linecolor": "white",
            "showbackground": true,
            "ticks": "",
            "zerolinecolor": "white"
           },
           "zaxis": {
            "backgroundcolor": "#E5ECF6",
            "gridcolor": "white",
            "gridwidth": 2,
            "linecolor": "white",
            "showbackground": true,
            "ticks": "",
            "zerolinecolor": "white"
           }
          },
          "shapedefaults": {
           "line": {
            "color": "#2a3f5f"
           }
          },
          "ternary": {
           "aaxis": {
            "gridcolor": "white",
            "linecolor": "white",
            "ticks": ""
           },
           "baxis": {
            "gridcolor": "white",
            "linecolor": "white",
            "ticks": ""
           },
           "bgcolor": "#E5ECF6",
           "caxis": {
            "gridcolor": "white",
            "linecolor": "white",
            "ticks": ""
           }
          },
          "title": {
           "x": 0.05
          },
          "xaxis": {
           "automargin": true,
           "gridcolor": "white",
           "linecolor": "white",
           "ticks": "",
           "title": {
            "standoff": 15
           },
           "zerolinecolor": "white",
           "zerolinewidth": 2
          },
          "yaxis": {
           "automargin": true,
           "gridcolor": "white",
           "linecolor": "white",
           "ticks": "",
           "title": {
            "standoff": 15
           },
           "zerolinecolor": "white",
           "zerolinewidth": 2
          }
         }
        },
        "title": {
         "text": "Actual vs Predicted Scoring Chances Per Game"
        },
        "xaxis": {
         "anchor": "y",
         "domain": [
          0,
          1
         ],
         "title": {
          "text": "Actual Scoring Chances"
         }
        },
        "yaxis": {
         "anchor": "x",
         "domain": [
          0,
          1
         ],
         "title": {
          "text": "Predicted Scoring Chances"
         }
        }
       }
      }
     },
     "metadata": {},
     "output_type": "display_data"
    }
   ],
   "source": [
    "# Create a DataFrame for actual vs predicted values\n",
    "predictions_df = pd.DataFrame({'Actual': y_test, 'Predicted': y_pred})\n",
    "\n",
    "# Plotting actual vs predicted values using Plotly\n",
    "fig = px.scatter(\n",
    "    predictions_df,\n",
    "    x='Actual',\n",
    "    y='Predicted',\n",
    "    title='Actual vs Predicted Scoring Chances Per Game',\n",
    "    labels={'Actual': 'Actual Scoring Chances', 'Predicted': 'Predicted Scoring Chances'}\n",
    ")\n",
    "\n",
    "# Add a diagonal line representing perfect predictions\n",
    "fig.add_trace(\n",
    "    px.line(\n",
    "        x=[predictions_df['Actual'].min(), predictions_df['Actual'].max()],\n",
    "        y=[predictions_df['Actual'].min(), predictions_df['Actual'].max()]\n",
    "    ).data[0]\n",
    ")\n",
    "\n",
    "fig.show()"
   ]
  }
 ],
 "metadata": {
  "kernelspec": {
   "display_name": "working",
   "language": "python",
   "name": "python3"
  },
  "language_info": {
   "codemirror_mode": {
    "name": "ipython",
    "version": 3
   },
   "file_extension": ".py",
   "mimetype": "text/x-python",
   "name": "python",
   "nbconvert_exporter": "python",
   "pygments_lexer": "ipython3",
   "version": "3.11.11"
  }
 },
 "nbformat": 4,
 "nbformat_minor": 5
}
