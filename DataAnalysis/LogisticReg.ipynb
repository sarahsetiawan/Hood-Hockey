{
 "cells": [
  {
   "cell_type": "code",
   "execution_count": 21,
   "id": "8a8e60b3",
   "metadata": {},
   "outputs": [],
   "source": [
    "import pandas as pd\n",
    "import numpy as np\n",
    "\n",
    "from sklearn.linear_model import LogisticRegression\n",
    "from sklearn.model_selection import KFold, cross_val_score\n",
    "from sklearn.metrics import accuracy_score, confusion_matrix\n"
   ]
  },
  {
   "cell_type": "code",
   "execution_count": 22,
   "id": "92a8f0dc",
   "metadata": {},
   "outputs": [
    {
     "data": {
      "text/html": [
       "<div>\n",
       "<style scoped>\n",
       "    .dataframe tbody tr th:only-of-type {\n",
       "        vertical-align: middle;\n",
       "    }\n",
       "\n",
       "    .dataframe tbody tr th {\n",
       "        vertical-align: top;\n",
       "    }\n",
       "\n",
       "    .dataframe thead th {\n",
       "        text-align: right;\n",
       "    }\n",
       "</style>\n",
       "<table border=\"1\" class=\"dataframe\">\n",
       "  <thead>\n",
       "    <tr style=\"text-align: right;\">\n",
       "      <th></th>\n",
       "      <th>Date</th>\n",
       "      <th>Opponent</th>\n",
       "      <th>Goals</th>\n",
       "      <th>Penalties</th>\n",
       "      <th>Penalties drawn</th>\n",
       "      <th>Faceoffs</th>\n",
       "      <th>Faceoffs won</th>\n",
       "      <th>Faceoffs won, %</th>\n",
       "      <th>Hits</th>\n",
       "      <th>Faceoffs in DZ</th>\n",
       "      <th>...</th>\n",
       "      <th>OZ possession (Minutes)</th>\n",
       "      <th>OZ possession (Seconds)</th>\n",
       "      <th>NZ possession (Minutes)</th>\n",
       "      <th>NZ possession (Seconds)</th>\n",
       "      <th>DZ possession (Minutes)</th>\n",
       "      <th>DZ possession (Seconds)</th>\n",
       "      <th>isOpponent</th>\n",
       "      <th>isAway</th>\n",
       "      <th>Outcome</th>\n",
       "      <th>OpponentScore</th>\n",
       "    </tr>\n",
       "  </thead>\n",
       "  <tbody>\n",
       "    <tr>\n",
       "      <th>0</th>\n",
       "      <td>2025-02-22</td>\n",
       "      <td>Neumann Knights</td>\n",
       "      <td>3</td>\n",
       "      <td>5</td>\n",
       "      <td>4</td>\n",
       "      <td>40</td>\n",
       "      <td>22</td>\n",
       "      <td>0.55</td>\n",
       "      <td>3</td>\n",
       "      <td>13</td>\n",
       "      <td>...</td>\n",
       "      <td>11</td>\n",
       "      <td>3</td>\n",
       "      <td>4</td>\n",
       "      <td>28</td>\n",
       "      <td>5</td>\n",
       "      <td>54</td>\n",
       "      <td>False</td>\n",
       "      <td>True</td>\n",
       "      <td>Win</td>\n",
       "      <td>2</td>\n",
       "    </tr>\n",
       "    <tr>\n",
       "      <th>1</th>\n",
       "      <td>2025-02-22</td>\n",
       "      <td>Hood</td>\n",
       "      <td>0</td>\n",
       "      <td>4</td>\n",
       "      <td>5</td>\n",
       "      <td>40</td>\n",
       "      <td>18</td>\n",
       "      <td>0.45</td>\n",
       "      <td>4</td>\n",
       "      <td>15</td>\n",
       "      <td>...</td>\n",
       "      <td>5</td>\n",
       "      <td>31</td>\n",
       "      <td>3</td>\n",
       "      <td>45</td>\n",
       "      <td>7</td>\n",
       "      <td>0</td>\n",
       "      <td>True</td>\n",
       "      <td>False</td>\n",
       "      <td>Loss</td>\n",
       "      <td>4</td>\n",
       "    </tr>\n",
       "    <tr>\n",
       "      <th>2</th>\n",
       "      <td>2025-02-21</td>\n",
       "      <td>Wilkes Colonels</td>\n",
       "      <td>1</td>\n",
       "      <td>1</td>\n",
       "      <td>2</td>\n",
       "      <td>56</td>\n",
       "      <td>23</td>\n",
       "      <td>0.41</td>\n",
       "      <td>0</td>\n",
       "      <td>30</td>\n",
       "      <td>...</td>\n",
       "      <td>2</td>\n",
       "      <td>29</td>\n",
       "      <td>3</td>\n",
       "      <td>7</td>\n",
       "      <td>9</td>\n",
       "      <td>50</td>\n",
       "      <td>False</td>\n",
       "      <td>False</td>\n",
       "      <td>Loss</td>\n",
       "      <td>7</td>\n",
       "    </tr>\n",
       "    <tr>\n",
       "      <th>3</th>\n",
       "      <td>2025-02-21</td>\n",
       "      <td>Hood</td>\n",
       "      <td>6</td>\n",
       "      <td>2</td>\n",
       "      <td>1</td>\n",
       "      <td>56</td>\n",
       "      <td>33</td>\n",
       "      <td>0.59</td>\n",
       "      <td>1</td>\n",
       "      <td>8</td>\n",
       "      <td>...</td>\n",
       "      <td>19</td>\n",
       "      <td>54</td>\n",
       "      <td>5</td>\n",
       "      <td>12</td>\n",
       "      <td>7</td>\n",
       "      <td>4</td>\n",
       "      <td>True</td>\n",
       "      <td>True</td>\n",
       "      <td>Win</td>\n",
       "      <td>1</td>\n",
       "    </tr>\n",
       "    <tr>\n",
       "      <th>4</th>\n",
       "      <td>2025-02-14</td>\n",
       "      <td>Arcadia University Knights</td>\n",
       "      <td>1</td>\n",
       "      <td>3</td>\n",
       "      <td>3</td>\n",
       "      <td>40</td>\n",
       "      <td>17</td>\n",
       "      <td>0.43</td>\n",
       "      <td>0</td>\n",
       "      <td>24</td>\n",
       "      <td>...</td>\n",
       "      <td>3</td>\n",
       "      <td>42</td>\n",
       "      <td>3</td>\n",
       "      <td>50</td>\n",
       "      <td>10</td>\n",
       "      <td>1</td>\n",
       "      <td>False</td>\n",
       "      <td>False</td>\n",
       "      <td>Loss</td>\n",
       "      <td>4</td>\n",
       "    </tr>\n",
       "  </tbody>\n",
       "</table>\n",
       "<p>5 rows × 114 columns</p>\n",
       "</div>"
      ],
      "text/plain": [
       "        Date                    Opponent  Goals  Penalties  Penalties drawn  \\\n",
       "0 2025-02-22             Neumann Knights      3          5                4   \n",
       "1 2025-02-22                        Hood      0          4                5   \n",
       "2 2025-02-21             Wilkes Colonels      1          1                2   \n",
       "3 2025-02-21                        Hood      6          2                1   \n",
       "4 2025-02-14  Arcadia University Knights      1          3                3   \n",
       "\n",
       "   Faceoffs  Faceoffs won  Faceoffs won, %  Hits  Faceoffs in DZ  ...  \\\n",
       "0        40            22             0.55     3              13  ...   \n",
       "1        40            18             0.45     4              15  ...   \n",
       "2        56            23             0.41     0              30  ...   \n",
       "3        56            33             0.59     1               8  ...   \n",
       "4        40            17             0.43     0              24  ...   \n",
       "\n",
       "   OZ possession (Minutes)  OZ possession (Seconds)  NZ possession (Minutes)  \\\n",
       "0                       11                        3                        4   \n",
       "1                        5                       31                        3   \n",
       "2                        2                       29                        3   \n",
       "3                       19                       54                        5   \n",
       "4                        3                       42                        3   \n",
       "\n",
       "   NZ possession (Seconds)  DZ possession (Minutes)  DZ possession (Seconds)  \\\n",
       "0                       28                        5                       54   \n",
       "1                       45                        7                        0   \n",
       "2                        7                        9                       50   \n",
       "3                       12                        7                        4   \n",
       "4                       50                       10                        1   \n",
       "\n",
       "   isOpponent  isAway  Outcome  OpponentScore  \n",
       "0       False    True      Win              2  \n",
       "1        True   False     Loss              4  \n",
       "2       False   False     Loss              7  \n",
       "3        True    True      Win              1  \n",
       "4       False   False     Loss              4  \n",
       "\n",
       "[5 rows x 114 columns]"
      ]
     },
     "execution_count": 22,
     "metadata": {},
     "output_type": "execute_result"
    }
   ],
   "source": [
    "# Load the data\n",
    "file_path = r\"../DataCleaning/Instat_DataCleaning/GamesCleaned.xlsx\"\n",
    "data = pd.read_excel(file_path)\n",
    "\n",
    "# Display the first few rows of the data\n",
    "data.head()"
   ]
  },
  {
   "cell_type": "code",
   "execution_count": 23,
   "id": "95b520f9",
   "metadata": {},
   "outputs": [
    {
     "data": {
      "text/html": [
       "<div>\n",
       "<style scoped>\n",
       "    .dataframe tbody tr th:only-of-type {\n",
       "        vertical-align: middle;\n",
       "    }\n",
       "\n",
       "    .dataframe tbody tr th {\n",
       "        vertical-align: top;\n",
       "    }\n",
       "\n",
       "    .dataframe thead th {\n",
       "        text-align: right;\n",
       "    }\n",
       "</style>\n",
       "<table border=\"1\" class=\"dataframe\">\n",
       "  <thead>\n",
       "    <tr style=\"text-align: right;\">\n",
       "      <th></th>\n",
       "      <th>Date</th>\n",
       "      <th>Opponent</th>\n",
       "      <th>Goals</th>\n",
       "      <th>Penalties</th>\n",
       "      <th>Penalties drawn</th>\n",
       "      <th>Faceoffs</th>\n",
       "      <th>Faceoffs won</th>\n",
       "      <th>Faceoffs won, %</th>\n",
       "      <th>Hits</th>\n",
       "      <th>Faceoffs in DZ</th>\n",
       "      <th>...</th>\n",
       "      <th>OZ possession (Minutes)</th>\n",
       "      <th>OZ possession (Seconds)</th>\n",
       "      <th>NZ possession (Minutes)</th>\n",
       "      <th>NZ possession (Seconds)</th>\n",
       "      <th>DZ possession (Minutes)</th>\n",
       "      <th>DZ possession (Seconds)</th>\n",
       "      <th>isOpponent</th>\n",
       "      <th>isAway</th>\n",
       "      <th>Outcome</th>\n",
       "      <th>OpponentScore</th>\n",
       "    </tr>\n",
       "  </thead>\n",
       "  <tbody>\n",
       "    <tr>\n",
       "      <th>144</th>\n",
       "      <td>2025-02-22</td>\n",
       "      <td>Neumann Knights</td>\n",
       "      <td>4</td>\n",
       "      <td>6</td>\n",
       "      <td>4</td>\n",
       "      <td>61</td>\n",
       "      <td>32</td>\n",
       "      <td>0.52</td>\n",
       "      <td>3</td>\n",
       "      <td>29</td>\n",
       "      <td>...</td>\n",
       "      <td>14</td>\n",
       "      <td>41</td>\n",
       "      <td>5</td>\n",
       "      <td>17</td>\n",
       "      <td>7</td>\n",
       "      <td>16</td>\n",
       "      <td>False</td>\n",
       "      <td>True</td>\n",
       "      <td>Win</td>\n",
       "      <td>2</td>\n",
       "    </tr>\n",
       "    <tr>\n",
       "      <th>146</th>\n",
       "      <td>2025-02-21</td>\n",
       "      <td>Wilkes Colonels</td>\n",
       "      <td>1</td>\n",
       "      <td>3</td>\n",
       "      <td>2</td>\n",
       "      <td>64</td>\n",
       "      <td>26</td>\n",
       "      <td>0.41</td>\n",
       "      <td>0</td>\n",
       "      <td>32</td>\n",
       "      <td>...</td>\n",
       "      <td>3</td>\n",
       "      <td>24</td>\n",
       "      <td>3</td>\n",
       "      <td>24</td>\n",
       "      <td>10</td>\n",
       "      <td>31</td>\n",
       "      <td>False</td>\n",
       "      <td>False</td>\n",
       "      <td>Loss</td>\n",
       "      <td>7</td>\n",
       "    </tr>\n",
       "    <tr>\n",
       "      <th>148</th>\n",
       "      <td>2025-02-14</td>\n",
       "      <td>Arcadia University Knights</td>\n",
       "      <td>1</td>\n",
       "      <td>4</td>\n",
       "      <td>4</td>\n",
       "      <td>52</td>\n",
       "      <td>22</td>\n",
       "      <td>0.42</td>\n",
       "      <td>0</td>\n",
       "      <td>31</td>\n",
       "      <td>...</td>\n",
       "      <td>5</td>\n",
       "      <td>25</td>\n",
       "      <td>4</td>\n",
       "      <td>40</td>\n",
       "      <td>11</td>\n",
       "      <td>48</td>\n",
       "      <td>False</td>\n",
       "      <td>False</td>\n",
       "      <td>Loss</td>\n",
       "      <td>4</td>\n",
       "    </tr>\n",
       "    <tr>\n",
       "      <th>150</th>\n",
       "      <td>2025-02-08</td>\n",
       "      <td>Alvernia Wolves</td>\n",
       "      <td>0</td>\n",
       "      <td>7</td>\n",
       "      <td>3</td>\n",
       "      <td>46</td>\n",
       "      <td>21</td>\n",
       "      <td>0.46</td>\n",
       "      <td>2</td>\n",
       "      <td>23</td>\n",
       "      <td>...</td>\n",
       "      <td>5</td>\n",
       "      <td>14</td>\n",
       "      <td>4</td>\n",
       "      <td>3</td>\n",
       "      <td>7</td>\n",
       "      <td>18</td>\n",
       "      <td>False</td>\n",
       "      <td>True</td>\n",
       "      <td>Loss</td>\n",
       "      <td>4</td>\n",
       "    </tr>\n",
       "    <tr>\n",
       "      <th>152</th>\n",
       "      <td>2025-02-07</td>\n",
       "      <td>Stevenson Mustangs</td>\n",
       "      <td>4</td>\n",
       "      <td>2</td>\n",
       "      <td>4</td>\n",
       "      <td>51</td>\n",
       "      <td>26</td>\n",
       "      <td>0.51</td>\n",
       "      <td>1</td>\n",
       "      <td>16</td>\n",
       "      <td>...</td>\n",
       "      <td>12</td>\n",
       "      <td>3</td>\n",
       "      <td>4</td>\n",
       "      <td>24</td>\n",
       "      <td>8</td>\n",
       "      <td>52</td>\n",
       "      <td>False</td>\n",
       "      <td>False</td>\n",
       "      <td>Loss</td>\n",
       "      <td>7</td>\n",
       "    </tr>\n",
       "  </tbody>\n",
       "</table>\n",
       "<p>5 rows × 114 columns</p>\n",
       "</div>"
      ],
      "text/plain": [
       "          Date                    Opponent  Goals  Penalties  Penalties drawn  \\\n",
       "144 2025-02-22             Neumann Knights      4          6                4   \n",
       "146 2025-02-21             Wilkes Colonels      1          3                2   \n",
       "148 2025-02-14  Arcadia University Knights      1          4                4   \n",
       "150 2025-02-08             Alvernia Wolves      0          7                3   \n",
       "152 2025-02-07          Stevenson Mustangs      4          2                4   \n",
       "\n",
       "     Faceoffs  Faceoffs won  Faceoffs won, %  Hits  Faceoffs in DZ  ...  \\\n",
       "144        61            32             0.52     3              29  ...   \n",
       "146        64            26             0.41     0              32  ...   \n",
       "148        52            22             0.42     0              31  ...   \n",
       "150        46            21             0.46     2              23  ...   \n",
       "152        51            26             0.51     1              16  ...   \n",
       "\n",
       "     OZ possession (Minutes)  OZ possession (Seconds)  \\\n",
       "144                       14                       41   \n",
       "146                        3                       24   \n",
       "148                        5                       25   \n",
       "150                        5                       14   \n",
       "152                       12                        3   \n",
       "\n",
       "     NZ possession (Minutes)  NZ possession (Seconds)  \\\n",
       "144                        5                       17   \n",
       "146                        3                       24   \n",
       "148                        4                       40   \n",
       "150                        4                        3   \n",
       "152                        4                       24   \n",
       "\n",
       "     DZ possession (Minutes)  DZ possession (Seconds)  isOpponent  isAway  \\\n",
       "144                        7                       16       False    True   \n",
       "146                       10                       31       False   False   \n",
       "148                       11                       48       False   False   \n",
       "150                        7                       18       False    True   \n",
       "152                        8                       52       False   False   \n",
       "\n",
       "     Outcome  OpponentScore  \n",
       "144      Win              2  \n",
       "146     Loss              7  \n",
       "148     Loss              4  \n",
       "150     Loss              4  \n",
       "152     Loss              7  \n",
       "\n",
       "[5 rows x 114 columns]"
      ]
     },
     "execution_count": 23,
     "metadata": {},
     "output_type": "execute_result"
    }
   ],
   "source": [
    "data = data[(data['Type'] == 'Total') & (~data['isOpponent'])]\n",
    "data.head()"
   ]
  },
  {
   "cell_type": "code",
   "execution_count": 24,
   "id": "fee5f127",
   "metadata": {
    "vscode": {
     "languageId": "javascript"
    }
   },
   "outputs": [
    {
     "name": "stderr",
     "output_type": "stream",
     "text": [
      "C:\\Users\\03dng\\AppData\\Local\\Temp\\ipykernel_44676\\3869001729.py:1: FutureWarning:\n",
      "\n",
      "Downcasting behavior in `replace` is deprecated and will be removed in a future version. To retain the old behavior, explicitly call `result.infer_objects(copy=False)`. To opt-in to the future behavior, set `pd.set_option('future.no_silent_downcasting', True)`\n",
      "\n"
     ]
    },
    {
     "data": {
      "text/html": [
       "<div>\n",
       "<style scoped>\n",
       "    .dataframe tbody tr th:only-of-type {\n",
       "        vertical-align: middle;\n",
       "    }\n",
       "\n",
       "    .dataframe tbody tr th {\n",
       "        vertical-align: top;\n",
       "    }\n",
       "\n",
       "    .dataframe thead th {\n",
       "        text-align: right;\n",
       "    }\n",
       "</style>\n",
       "<table border=\"1\" class=\"dataframe\">\n",
       "  <thead>\n",
       "    <tr style=\"text-align: right;\">\n",
       "      <th></th>\n",
       "      <th>Date</th>\n",
       "      <th>Opponent</th>\n",
       "      <th>Goals</th>\n",
       "      <th>Penalties</th>\n",
       "      <th>Penalties drawn</th>\n",
       "      <th>Faceoffs</th>\n",
       "      <th>Faceoffs won</th>\n",
       "      <th>Faceoffs won, %</th>\n",
       "      <th>Hits</th>\n",
       "      <th>Faceoffs in DZ</th>\n",
       "      <th>...</th>\n",
       "      <th>OZ possession (Minutes)</th>\n",
       "      <th>OZ possession (Seconds)</th>\n",
       "      <th>NZ possession (Minutes)</th>\n",
       "      <th>NZ possession (Seconds)</th>\n",
       "      <th>DZ possession (Minutes)</th>\n",
       "      <th>DZ possession (Seconds)</th>\n",
       "      <th>isOpponent</th>\n",
       "      <th>isAway</th>\n",
       "      <th>Outcome</th>\n",
       "      <th>OpponentScore</th>\n",
       "    </tr>\n",
       "  </thead>\n",
       "  <tbody>\n",
       "    <tr>\n",
       "      <th>144</th>\n",
       "      <td>2025-02-22</td>\n",
       "      <td>Neumann Knights</td>\n",
       "      <td>4</td>\n",
       "      <td>6</td>\n",
       "      <td>4</td>\n",
       "      <td>61</td>\n",
       "      <td>32</td>\n",
       "      <td>0.52</td>\n",
       "      <td>3</td>\n",
       "      <td>29</td>\n",
       "      <td>...</td>\n",
       "      <td>14</td>\n",
       "      <td>41</td>\n",
       "      <td>5</td>\n",
       "      <td>17</td>\n",
       "      <td>7</td>\n",
       "      <td>16</td>\n",
       "      <td>False</td>\n",
       "      <td>True</td>\n",
       "      <td>1</td>\n",
       "      <td>2</td>\n",
       "    </tr>\n",
       "    <tr>\n",
       "      <th>146</th>\n",
       "      <td>2025-02-21</td>\n",
       "      <td>Wilkes Colonels</td>\n",
       "      <td>1</td>\n",
       "      <td>3</td>\n",
       "      <td>2</td>\n",
       "      <td>64</td>\n",
       "      <td>26</td>\n",
       "      <td>0.41</td>\n",
       "      <td>0</td>\n",
       "      <td>32</td>\n",
       "      <td>...</td>\n",
       "      <td>3</td>\n",
       "      <td>24</td>\n",
       "      <td>3</td>\n",
       "      <td>24</td>\n",
       "      <td>10</td>\n",
       "      <td>31</td>\n",
       "      <td>False</td>\n",
       "      <td>False</td>\n",
       "      <td>0</td>\n",
       "      <td>7</td>\n",
       "    </tr>\n",
       "    <tr>\n",
       "      <th>148</th>\n",
       "      <td>2025-02-14</td>\n",
       "      <td>Arcadia University Knights</td>\n",
       "      <td>1</td>\n",
       "      <td>4</td>\n",
       "      <td>4</td>\n",
       "      <td>52</td>\n",
       "      <td>22</td>\n",
       "      <td>0.42</td>\n",
       "      <td>0</td>\n",
       "      <td>31</td>\n",
       "      <td>...</td>\n",
       "      <td>5</td>\n",
       "      <td>25</td>\n",
       "      <td>4</td>\n",
       "      <td>40</td>\n",
       "      <td>11</td>\n",
       "      <td>48</td>\n",
       "      <td>False</td>\n",
       "      <td>False</td>\n",
       "      <td>0</td>\n",
       "      <td>4</td>\n",
       "    </tr>\n",
       "    <tr>\n",
       "      <th>150</th>\n",
       "      <td>2025-02-08</td>\n",
       "      <td>Alvernia Wolves</td>\n",
       "      <td>0</td>\n",
       "      <td>7</td>\n",
       "      <td>3</td>\n",
       "      <td>46</td>\n",
       "      <td>21</td>\n",
       "      <td>0.46</td>\n",
       "      <td>2</td>\n",
       "      <td>23</td>\n",
       "      <td>...</td>\n",
       "      <td>5</td>\n",
       "      <td>14</td>\n",
       "      <td>4</td>\n",
       "      <td>3</td>\n",
       "      <td>7</td>\n",
       "      <td>18</td>\n",
       "      <td>False</td>\n",
       "      <td>True</td>\n",
       "      <td>0</td>\n",
       "      <td>4</td>\n",
       "    </tr>\n",
       "    <tr>\n",
       "      <th>152</th>\n",
       "      <td>2025-02-07</td>\n",
       "      <td>Stevenson Mustangs</td>\n",
       "      <td>4</td>\n",
       "      <td>2</td>\n",
       "      <td>4</td>\n",
       "      <td>51</td>\n",
       "      <td>26</td>\n",
       "      <td>0.51</td>\n",
       "      <td>1</td>\n",
       "      <td>16</td>\n",
       "      <td>...</td>\n",
       "      <td>12</td>\n",
       "      <td>3</td>\n",
       "      <td>4</td>\n",
       "      <td>24</td>\n",
       "      <td>8</td>\n",
       "      <td>52</td>\n",
       "      <td>False</td>\n",
       "      <td>False</td>\n",
       "      <td>0</td>\n",
       "      <td>7</td>\n",
       "    </tr>\n",
       "  </tbody>\n",
       "</table>\n",
       "<p>5 rows × 114 columns</p>\n",
       "</div>"
      ],
      "text/plain": [
       "          Date                    Opponent  Goals  Penalties  Penalties drawn  \\\n",
       "144 2025-02-22             Neumann Knights      4          6                4   \n",
       "146 2025-02-21             Wilkes Colonels      1          3                2   \n",
       "148 2025-02-14  Arcadia University Knights      1          4                4   \n",
       "150 2025-02-08             Alvernia Wolves      0          7                3   \n",
       "152 2025-02-07          Stevenson Mustangs      4          2                4   \n",
       "\n",
       "     Faceoffs  Faceoffs won  Faceoffs won, %  Hits  Faceoffs in DZ  ...  \\\n",
       "144        61            32             0.52     3              29  ...   \n",
       "146        64            26             0.41     0              32  ...   \n",
       "148        52            22             0.42     0              31  ...   \n",
       "150        46            21             0.46     2              23  ...   \n",
       "152        51            26             0.51     1              16  ...   \n",
       "\n",
       "     OZ possession (Minutes)  OZ possession (Seconds)  \\\n",
       "144                       14                       41   \n",
       "146                        3                       24   \n",
       "148                        5                       25   \n",
       "150                        5                       14   \n",
       "152                       12                        3   \n",
       "\n",
       "     NZ possession (Minutes)  NZ possession (Seconds)  \\\n",
       "144                        5                       17   \n",
       "146                        3                       24   \n",
       "148                        4                       40   \n",
       "150                        4                        3   \n",
       "152                        4                       24   \n",
       "\n",
       "     DZ possession (Minutes)  DZ possession (Seconds)  isOpponent  isAway  \\\n",
       "144                        7                       16       False    True   \n",
       "146                       10                       31       False   False   \n",
       "148                       11                       48       False   False   \n",
       "150                        7                       18       False    True   \n",
       "152                        8                       52       False   False   \n",
       "\n",
       "     Outcome  OpponentScore  \n",
       "144        1              2  \n",
       "146        0              7  \n",
       "148        0              4  \n",
       "150        0              4  \n",
       "152        0              7  \n",
       "\n",
       "[5 rows x 114 columns]"
      ]
     },
     "execution_count": 24,
     "metadata": {},
     "output_type": "execute_result"
    }
   ],
   "source": [
    "data['Outcome'] = data['Outcome'].replace({'Win': 1, 'Loss': 0})\n",
    "data.head()"
   ]
  },
  {
   "cell_type": "code",
   "execution_count": 25,
   "id": "70109d04",
   "metadata": {
    "vscode": {
     "languageId": "javascript"
    }
   },
   "outputs": [],
   "source": [
    "data = data.drop(columns=['Goals', 'Date', 'isOpponent', 'OpponentScore'], errors='ignore')"
   ]
  },
  {
   "cell_type": "code",
   "execution_count": 26,
   "id": "9b4f2081",
   "metadata": {},
   "outputs": [
    {
     "name": "stdout",
     "output_type": "stream",
     "text": [
      "CV accuracy scores: [0.8  1.   1.   1.   0.75]\n",
      "Mean CV accuracy: 0.9099999999999999\n",
      "Train accuracy: 1.0\n",
      "Confusion matrix:\n",
      " [[19  0]\n",
      " [ 0  5]]\n"
     ]
    }
   ],
   "source": [
    "# Prepare features and target\n",
    "X = data.select_dtypes(include=[np.number]).drop('Outcome', axis=1)\n",
    "y = data['Outcome']\n",
    "\n",
    "# Set up cross‐validation and model\n",
    "kf = KFold(n_splits=5, shuffle=True, random_state=42)\n",
    "model = LogisticRegression(max_iter=1000)\n",
    "\n",
    "# Evaluate with cross‐validation\n",
    "scores = cross_val_score(model, X, y, cv=kf, scoring='accuracy')\n",
    "print(\"CV accuracy scores:\", scores)\n",
    "print(\"Mean CV accuracy:\", scores.mean())\n",
    "\n",
    "# (Optional) Train on full data and inspect performance\n",
    "model.fit(X, y)\n",
    "y_pred = model.predict(X)\n",
    "print(\"Train accuracy:\", accuracy_score(y, y_pred))\n",
    "print(\"Confusion matrix:\\n\", confusion_matrix(y, y_pred))"
   ]
  },
  {
   "cell_type": "code",
   "execution_count": 27,
   "id": "aa45bdb1",
   "metadata": {},
   "outputs": [
    {
     "name": "stdout",
     "output_type": "stream",
     "text": [
      "Top 10 features by importance (absolute coefficient):\n",
      "Shots                       0.110006\n",
      "Shots on goal               0.079670\n",
      "Passes total                0.071386\n",
      "Puck battles in DZ          0.064423\n",
      "Offensive play (Seconds)    0.060463\n",
      "Scoring chances             0.057169\n",
      "Puck losses                 0.054571\n",
      "Slapshot                    0.053529\n",
      "OZ possession (Seconds)     0.052906\n",
      "DZ possession (Seconds)     0.050816\n",
      "dtype: float64\n",
      "\n",
      "Signed coefficients:\n",
      "Shots                       0.110006\n",
      "Shots on goal               0.079670\n",
      "Passes total               -0.071386\n",
      "Puck battles in DZ         -0.064423\n",
      "Offensive play (Seconds)    0.060463\n",
      "Scoring chances             0.057169\n",
      "Puck losses                -0.054571\n",
      "Slapshot                    0.053529\n",
      "OZ possession (Seconds)     0.052906\n",
      "DZ possession (Seconds)    -0.050816\n",
      "dtype: float64\n"
     ]
    }
   ],
   "source": [
    "# Determine the most important features from the trained logistic regression\n",
    "coef_series = pd.Series(model.coef_[0], index=X.columns)\n",
    "# Rank by absolute value and show top 10\n",
    "top_feats = coef_series.abs().sort_values(ascending=False).head(10)\n",
    "print(\"Top 10 features by importance (absolute coefficient):\")\n",
    "print(top_feats)\n",
    "# If you want the signed coefficients too:\n",
    "print(\"\\nSigned coefficients:\")\n",
    "print(coef_series[top_feats.index])"
   ]
  },
  {
   "cell_type": "code",
   "execution_count": 28,
   "id": "3e2dfa72",
   "metadata": {},
   "outputs": [
    {
     "data": {
      "application/vnd.plotly.v1+json": {
       "config": {
        "plotlyServerURL": "https://plot.ly"
       },
       "data": [
        {
         "hovertemplate": "Feature=%{x}<br>Coefficient=%{y}<extra></extra>",
         "legendgroup": "",
         "marker": {
          "color": "#636efa",
          "pattern": {
           "shape": ""
          }
         },
         "name": "",
         "orientation": "v",
         "showlegend": false,
         "textposition": "auto",
         "type": "bar",
         "x": [
          "Shots",
          "Shots on goal",
          "Passes total",
          "Puck battles in DZ",
          "Offensive play (Seconds)",
          "Scoring chances",
          "Puck losses",
          "Slapshot",
          "OZ possession (Seconds)",
          "DZ possession (Seconds)"
         ],
         "xaxis": "x",
         "y": {
          "bdata": "OcDL4V8pvD/qF0oCRGW0P3oiFJphRrK/7e9tTAp+sL/u04ca8vSuP3zMprA6Ra0/QYkUi7Xwq79oqPKYHWirP+j6UoGAFqs/6eDdiYYEqr8=",
          "dtype": "f8"
         },
         "yaxis": "y"
        }
       ],
       "layout": {
        "barmode": "relative",
        "legend": {
         "tracegroupgap": 0
        },
        "template": {
         "data": {
          "bar": [
           {
            "error_x": {
             "color": "#2a3f5f"
            },
            "error_y": {
             "color": "#2a3f5f"
            },
            "marker": {
             "line": {
              "color": "#E5ECF6",
              "width": 0.5
             },
             "pattern": {
              "fillmode": "overlay",
              "size": 10,
              "solidity": 0.2
             }
            },
            "type": "bar"
           }
          ],
          "barpolar": [
           {
            "marker": {
             "line": {
              "color": "#E5ECF6",
              "width": 0.5
             },
             "pattern": {
              "fillmode": "overlay",
              "size": 10,
              "solidity": 0.2
             }
            },
            "type": "barpolar"
           }
          ],
          "carpet": [
           {
            "aaxis": {
             "endlinecolor": "#2a3f5f",
             "gridcolor": "white",
             "linecolor": "white",
             "minorgridcolor": "white",
             "startlinecolor": "#2a3f5f"
            },
            "baxis": {
             "endlinecolor": "#2a3f5f",
             "gridcolor": "white",
             "linecolor": "white",
             "minorgridcolor": "white",
             "startlinecolor": "#2a3f5f"
            },
            "type": "carpet"
           }
          ],
          "choropleth": [
           {
            "colorbar": {
             "outlinewidth": 0,
             "ticks": ""
            },
            "type": "choropleth"
           }
          ],
          "contour": [
           {
            "colorbar": {
             "outlinewidth": 0,
             "ticks": ""
            },
            "colorscale": [
             [
              0,
              "#0d0887"
             ],
             [
              0.1111111111111111,
              "#46039f"
             ],
             [
              0.2222222222222222,
              "#7201a8"
             ],
             [
              0.3333333333333333,
              "#9c179e"
             ],
             [
              0.4444444444444444,
              "#bd3786"
             ],
             [
              0.5555555555555556,
              "#d8576b"
             ],
             [
              0.6666666666666666,
              "#ed7953"
             ],
             [
              0.7777777777777778,
              "#fb9f3a"
             ],
             [
              0.8888888888888888,
              "#fdca26"
             ],
             [
              1,
              "#f0f921"
             ]
            ],
            "type": "contour"
           }
          ],
          "contourcarpet": [
           {
            "colorbar": {
             "outlinewidth": 0,
             "ticks": ""
            },
            "type": "contourcarpet"
           }
          ],
          "heatmap": [
           {
            "colorbar": {
             "outlinewidth": 0,
             "ticks": ""
            },
            "colorscale": [
             [
              0,
              "#0d0887"
             ],
             [
              0.1111111111111111,
              "#46039f"
             ],
             [
              0.2222222222222222,
              "#7201a8"
             ],
             [
              0.3333333333333333,
              "#9c179e"
             ],
             [
              0.4444444444444444,
              "#bd3786"
             ],
             [
              0.5555555555555556,
              "#d8576b"
             ],
             [
              0.6666666666666666,
              "#ed7953"
             ],
             [
              0.7777777777777778,
              "#fb9f3a"
             ],
             [
              0.8888888888888888,
              "#fdca26"
             ],
             [
              1,
              "#f0f921"
             ]
            ],
            "type": "heatmap"
           }
          ],
          "histogram": [
           {
            "marker": {
             "pattern": {
              "fillmode": "overlay",
              "size": 10,
              "solidity": 0.2
             }
            },
            "type": "histogram"
           }
          ],
          "histogram2d": [
           {
            "colorbar": {
             "outlinewidth": 0,
             "ticks": ""
            },
            "colorscale": [
             [
              0,
              "#0d0887"
             ],
             [
              0.1111111111111111,
              "#46039f"
             ],
             [
              0.2222222222222222,
              "#7201a8"
             ],
             [
              0.3333333333333333,
              "#9c179e"
             ],
             [
              0.4444444444444444,
              "#bd3786"
             ],
             [
              0.5555555555555556,
              "#d8576b"
             ],
             [
              0.6666666666666666,
              "#ed7953"
             ],
             [
              0.7777777777777778,
              "#fb9f3a"
             ],
             [
              0.8888888888888888,
              "#fdca26"
             ],
             [
              1,
              "#f0f921"
             ]
            ],
            "type": "histogram2d"
           }
          ],
          "histogram2dcontour": [
           {
            "colorbar": {
             "outlinewidth": 0,
             "ticks": ""
            },
            "colorscale": [
             [
              0,
              "#0d0887"
             ],
             [
              0.1111111111111111,
              "#46039f"
             ],
             [
              0.2222222222222222,
              "#7201a8"
             ],
             [
              0.3333333333333333,
              "#9c179e"
             ],
             [
              0.4444444444444444,
              "#bd3786"
             ],
             [
              0.5555555555555556,
              "#d8576b"
             ],
             [
              0.6666666666666666,
              "#ed7953"
             ],
             [
              0.7777777777777778,
              "#fb9f3a"
             ],
             [
              0.8888888888888888,
              "#fdca26"
             ],
             [
              1,
              "#f0f921"
             ]
            ],
            "type": "histogram2dcontour"
           }
          ],
          "mesh3d": [
           {
            "colorbar": {
             "outlinewidth": 0,
             "ticks": ""
            },
            "type": "mesh3d"
           }
          ],
          "parcoords": [
           {
            "line": {
             "colorbar": {
              "outlinewidth": 0,
              "ticks": ""
             }
            },
            "type": "parcoords"
           }
          ],
          "pie": [
           {
            "automargin": true,
            "type": "pie"
           }
          ],
          "scatter": [
           {
            "fillpattern": {
             "fillmode": "overlay",
             "size": 10,
             "solidity": 0.2
            },
            "type": "scatter"
           }
          ],
          "scatter3d": [
           {
            "line": {
             "colorbar": {
              "outlinewidth": 0,
              "ticks": ""
             }
            },
            "marker": {
             "colorbar": {
              "outlinewidth": 0,
              "ticks": ""
             }
            },
            "type": "scatter3d"
           }
          ],
          "scattercarpet": [
           {
            "marker": {
             "colorbar": {
              "outlinewidth": 0,
              "ticks": ""
             }
            },
            "type": "scattercarpet"
           }
          ],
          "scattergeo": [
           {
            "marker": {
             "colorbar": {
              "outlinewidth": 0,
              "ticks": ""
             }
            },
            "type": "scattergeo"
           }
          ],
          "scattergl": [
           {
            "marker": {
             "colorbar": {
              "outlinewidth": 0,
              "ticks": ""
             }
            },
            "type": "scattergl"
           }
          ],
          "scattermap": [
           {
            "marker": {
             "colorbar": {
              "outlinewidth": 0,
              "ticks": ""
             }
            },
            "type": "scattermap"
           }
          ],
          "scattermapbox": [
           {
            "marker": {
             "colorbar": {
              "outlinewidth": 0,
              "ticks": ""
             }
            },
            "type": "scattermapbox"
           }
          ],
          "scatterpolar": [
           {
            "marker": {
             "colorbar": {
              "outlinewidth": 0,
              "ticks": ""
             }
            },
            "type": "scatterpolar"
           }
          ],
          "scatterpolargl": [
           {
            "marker": {
             "colorbar": {
              "outlinewidth": 0,
              "ticks": ""
             }
            },
            "type": "scatterpolargl"
           }
          ],
          "scatterternary": [
           {
            "marker": {
             "colorbar": {
              "outlinewidth": 0,
              "ticks": ""
             }
            },
            "type": "scatterternary"
           }
          ],
          "surface": [
           {
            "colorbar": {
             "outlinewidth": 0,
             "ticks": ""
            },
            "colorscale": [
             [
              0,
              "#0d0887"
             ],
             [
              0.1111111111111111,
              "#46039f"
             ],
             [
              0.2222222222222222,
              "#7201a8"
             ],
             [
              0.3333333333333333,
              "#9c179e"
             ],
             [
              0.4444444444444444,
              "#bd3786"
             ],
             [
              0.5555555555555556,
              "#d8576b"
             ],
             [
              0.6666666666666666,
              "#ed7953"
             ],
             [
              0.7777777777777778,
              "#fb9f3a"
             ],
             [
              0.8888888888888888,
              "#fdca26"
             ],
             [
              1,
              "#f0f921"
             ]
            ],
            "type": "surface"
           }
          ],
          "table": [
           {
            "cells": {
             "fill": {
              "color": "#EBF0F8"
             },
             "line": {
              "color": "white"
             }
            },
            "header": {
             "fill": {
              "color": "#C8D4E3"
             },
             "line": {
              "color": "white"
             }
            },
            "type": "table"
           }
          ]
         },
         "layout": {
          "annotationdefaults": {
           "arrowcolor": "#2a3f5f",
           "arrowhead": 0,
           "arrowwidth": 1
          },
          "autotypenumbers": "strict",
          "coloraxis": {
           "colorbar": {
            "outlinewidth": 0,
            "ticks": ""
           }
          },
          "colorscale": {
           "diverging": [
            [
             0,
             "#8e0152"
            ],
            [
             0.1,
             "#c51b7d"
            ],
            [
             0.2,
             "#de77ae"
            ],
            [
             0.3,
             "#f1b6da"
            ],
            [
             0.4,
             "#fde0ef"
            ],
            [
             0.5,
             "#f7f7f7"
            ],
            [
             0.6,
             "#e6f5d0"
            ],
            [
             0.7,
             "#b8e186"
            ],
            [
             0.8,
             "#7fbc41"
            ],
            [
             0.9,
             "#4d9221"
            ],
            [
             1,
             "#276419"
            ]
           ],
           "sequential": [
            [
             0,
             "#0d0887"
            ],
            [
             0.1111111111111111,
             "#46039f"
            ],
            [
             0.2222222222222222,
             "#7201a8"
            ],
            [
             0.3333333333333333,
             "#9c179e"
            ],
            [
             0.4444444444444444,
             "#bd3786"
            ],
            [
             0.5555555555555556,
             "#d8576b"
            ],
            [
             0.6666666666666666,
             "#ed7953"
            ],
            [
             0.7777777777777778,
             "#fb9f3a"
            ],
            [
             0.8888888888888888,
             "#fdca26"
            ],
            [
             1,
             "#f0f921"
            ]
           ],
           "sequentialminus": [
            [
             0,
             "#0d0887"
            ],
            [
             0.1111111111111111,
             "#46039f"
            ],
            [
             0.2222222222222222,
             "#7201a8"
            ],
            [
             0.3333333333333333,
             "#9c179e"
            ],
            [
             0.4444444444444444,
             "#bd3786"
            ],
            [
             0.5555555555555556,
             "#d8576b"
            ],
            [
             0.6666666666666666,
             "#ed7953"
            ],
            [
             0.7777777777777778,
             "#fb9f3a"
            ],
            [
             0.8888888888888888,
             "#fdca26"
            ],
            [
             1,
             "#f0f921"
            ]
           ]
          },
          "colorway": [
           "#636efa",
           "#EF553B",
           "#00cc96",
           "#ab63fa",
           "#FFA15A",
           "#19d3f3",
           "#FF6692",
           "#B6E880",
           "#FF97FF",
           "#FECB52"
          ],
          "font": {
           "color": "#2a3f5f"
          },
          "geo": {
           "bgcolor": "white",
           "lakecolor": "white",
           "landcolor": "#E5ECF6",
           "showlakes": true,
           "showland": true,
           "subunitcolor": "white"
          },
          "hoverlabel": {
           "align": "left"
          },
          "hovermode": "closest",
          "mapbox": {
           "style": "light"
          },
          "paper_bgcolor": "white",
          "plot_bgcolor": "#E5ECF6",
          "polar": {
           "angularaxis": {
            "gridcolor": "white",
            "linecolor": "white",
            "ticks": ""
           },
           "bgcolor": "#E5ECF6",
           "radialaxis": {
            "gridcolor": "white",
            "linecolor": "white",
            "ticks": ""
           }
          },
          "scene": {
           "xaxis": {
            "backgroundcolor": "#E5ECF6",
            "gridcolor": "white",
            "gridwidth": 2,
            "linecolor": "white",
            "showbackground": true,
            "ticks": "",
            "zerolinecolor": "white"
           },
           "yaxis": {
            "backgroundcolor": "#E5ECF6",
            "gridcolor": "white",
            "gridwidth": 2,
            "linecolor": "white",
            "showbackground": true,
            "ticks": "",
            "zerolinecolor": "white"
           },
           "zaxis": {
            "backgroundcolor": "#E5ECF6",
            "gridcolor": "white",
            "gridwidth": 2,
            "linecolor": "white",
            "showbackground": true,
            "ticks": "",
            "zerolinecolor": "white"
           }
          },
          "shapedefaults": {
           "line": {
            "color": "#2a3f5f"
           }
          },
          "ternary": {
           "aaxis": {
            "gridcolor": "white",
            "linecolor": "white",
            "ticks": ""
           },
           "baxis": {
            "gridcolor": "white",
            "linecolor": "white",
            "ticks": ""
           },
           "bgcolor": "#E5ECF6",
           "caxis": {
            "gridcolor": "white",
            "linecolor": "white",
            "ticks": ""
           }
          },
          "title": {
           "x": 0.05
          },
          "xaxis": {
           "automargin": true,
           "gridcolor": "white",
           "linecolor": "white",
           "ticks": "",
           "title": {
            "standoff": 15
           },
           "zerolinecolor": "white",
           "zerolinewidth": 2
          },
          "yaxis": {
           "automargin": true,
           "gridcolor": "white",
           "linecolor": "white",
           "ticks": "",
           "title": {
            "standoff": 15
           },
           "zerolinecolor": "white",
           "zerolinewidth": 2
          }
         }
        },
        "title": {
         "text": "Top 10 Feature Coefficients in Logistic Regression"
        },
        "xaxis": {
         "anchor": "y",
         "domain": [
          0,
          1
         ],
         "tickangle": 45,
         "title": {
          "text": "Feature"
         }
        },
        "yaxis": {
         "anchor": "x",
         "domain": [
          0,
          1
         ],
         "title": {
          "text": "Coefficient"
         }
        }
       }
      }
     },
     "metadata": {},
     "output_type": "display_data"
    },
    {
     "data": {
      "application/vnd.plotly.v1+json": {
       "config": {
        "plotlyServerURL": "https://plot.ly"
       },
       "data": [
        {
         "alignmentgroup": "True",
         "box": {
          "visible": true
         },
         "hovertemplate": "Outcome=1<br>feature=%{x}<br>value=%{y}<extra></extra>",
         "legendgroup": "1",
         "marker": {
          "color": "#636efa"
         },
         "name": "1",
         "offsetgroup": "1",
         "orientation": "v",
         "points": "all",
         "scalegroup": "True",
         "showlegend": true,
         "type": "violin",
         "x": [
          "Shots",
          "Shots",
          "Shots",
          "Shots",
          "Shots",
          "Shots on goal",
          "Shots on goal",
          "Shots on goal",
          "Shots on goal",
          "Shots on goal",
          "Passes total",
          "Passes total",
          "Passes total",
          "Passes total",
          "Passes total",
          "Puck battles in DZ",
          "Puck battles in DZ",
          "Puck battles in DZ",
          "Puck battles in DZ",
          "Puck battles in DZ",
          "Offensive play (Seconds)",
          "Offensive play (Seconds)",
          "Offensive play (Seconds)",
          "Offensive play (Seconds)",
          "Offensive play (Seconds)",
          "Scoring chances",
          "Scoring chances",
          "Scoring chances",
          "Scoring chances",
          "Scoring chances",
          "Puck losses",
          "Puck losses",
          "Puck losses",
          "Puck losses",
          "Puck losses",
          "Slapshot",
          "Slapshot",
          "Slapshot",
          "Slapshot",
          "Slapshot",
          "OZ possession (Seconds)",
          "OZ possession (Seconds)",
          "OZ possession (Seconds)",
          "OZ possession (Seconds)",
          "OZ possession (Seconds)",
          "DZ possession (Seconds)",
          "DZ possession (Seconds)",
          "DZ possession (Seconds)",
          "DZ possession (Seconds)",
          "DZ possession (Seconds)"
         ],
         "x0": " ",
         "xaxis": "x",
         "y": {
          "bdata": "OgBSAD4AMgBLACMAIgAdAB4AMwCbAMwAsQCKAPgAPABYAEsAPgBfAA4AHQA2ACkAMAAQABQAEAARABoAUAA8AE4AKABSACwAPwAOABsABwApADYAFAAgAAMAEAACAAoAOwAEAA==",
          "dtype": "i2"
         },
         "y0": " ",
         "yaxis": "y"
        },
        {
         "alignmentgroup": "True",
         "box": {
          "visible": true
         },
         "hovertemplate": "Outcome=0<br>feature=%{x}<br>value=%{y}<extra></extra>",
         "legendgroup": "0",
         "marker": {
          "color": "#EF553B"
         },
         "name": "0",
         "offsetgroup": "0",
         "orientation": "v",
         "points": "all",
         "scalegroup": "True",
         "showlegend": true,
         "type": "violin",
         "x": [
          "Shots",
          "Shots",
          "Shots",
          "Shots",
          "Shots",
          "Shots",
          "Shots",
          "Shots",
          "Shots",
          "Shots",
          "Shots",
          "Shots",
          "Shots",
          "Shots",
          "Shots",
          "Shots",
          "Shots",
          "Shots",
          "Shots",
          "Shots on goal",
          "Shots on goal",
          "Shots on goal",
          "Shots on goal",
          "Shots on goal",
          "Shots on goal",
          "Shots on goal",
          "Shots on goal",
          "Shots on goal",
          "Shots on goal",
          "Shots on goal",
          "Shots on goal",
          "Shots on goal",
          "Shots on goal",
          "Shots on goal",
          "Shots on goal",
          "Shots on goal",
          "Shots on goal",
          "Shots on goal",
          "Passes total",
          "Passes total",
          "Passes total",
          "Passes total",
          "Passes total",
          "Passes total",
          "Passes total",
          "Passes total",
          "Passes total",
          "Passes total",
          "Passes total",
          "Passes total",
          "Passes total",
          "Passes total",
          "Passes total",
          "Passes total",
          "Passes total",
          "Passes total",
          "Passes total",
          "Puck battles in DZ",
          "Puck battles in DZ",
          "Puck battles in DZ",
          "Puck battles in DZ",
          "Puck battles in DZ",
          "Puck battles in DZ",
          "Puck battles in DZ",
          "Puck battles in DZ",
          "Puck battles in DZ",
          "Puck battles in DZ",
          "Puck battles in DZ",
          "Puck battles in DZ",
          "Puck battles in DZ",
          "Puck battles in DZ",
          "Puck battles in DZ",
          "Puck battles in DZ",
          "Puck battles in DZ",
          "Puck battles in DZ",
          "Puck battles in DZ",
          "Offensive play (Seconds)",
          "Offensive play (Seconds)",
          "Offensive play (Seconds)",
          "Offensive play (Seconds)",
          "Offensive play (Seconds)",
          "Offensive play (Seconds)",
          "Offensive play (Seconds)",
          "Offensive play (Seconds)",
          "Offensive play (Seconds)",
          "Offensive play (Seconds)",
          "Offensive play (Seconds)",
          "Offensive play (Seconds)",
          "Offensive play (Seconds)",
          "Offensive play (Seconds)",
          "Offensive play (Seconds)",
          "Offensive play (Seconds)",
          "Offensive play (Seconds)",
          "Offensive play (Seconds)",
          "Offensive play (Seconds)",
          "Scoring chances",
          "Scoring chances",
          "Scoring chances",
          "Scoring chances",
          "Scoring chances",
          "Scoring chances",
          "Scoring chances",
          "Scoring chances",
          "Scoring chances",
          "Scoring chances",
          "Scoring chances",
          "Scoring chances",
          "Scoring chances",
          "Scoring chances",
          "Scoring chances",
          "Scoring chances",
          "Scoring chances",
          "Scoring chances",
          "Scoring chances",
          "Puck losses",
          "Puck losses",
          "Puck losses",
          "Puck losses",
          "Puck losses",
          "Puck losses",
          "Puck losses",
          "Puck losses",
          "Puck losses",
          "Puck losses",
          "Puck losses",
          "Puck losses",
          "Puck losses",
          "Puck losses",
          "Puck losses",
          "Puck losses",
          "Puck losses",
          "Puck losses",
          "Puck losses",
          "Slapshot",
          "Slapshot",
          "Slapshot",
          "Slapshot",
          "Slapshot",
          "Slapshot",
          "Slapshot",
          "Slapshot",
          "Slapshot",
          "Slapshot",
          "Slapshot",
          "Slapshot",
          "Slapshot",
          "Slapshot",
          "Slapshot",
          "Slapshot",
          "Slapshot",
          "Slapshot",
          "Slapshot",
          "OZ possession (Seconds)",
          "OZ possession (Seconds)",
          "OZ possession (Seconds)",
          "OZ possession (Seconds)",
          "OZ possession (Seconds)",
          "OZ possession (Seconds)",
          "OZ possession (Seconds)",
          "OZ possession (Seconds)",
          "OZ possession (Seconds)",
          "OZ possession (Seconds)",
          "OZ possession (Seconds)",
          "OZ possession (Seconds)",
          "OZ possession (Seconds)",
          "OZ possession (Seconds)",
          "OZ possession (Seconds)",
          "OZ possession (Seconds)",
          "OZ possession (Seconds)",
          "OZ possession (Seconds)",
          "OZ possession (Seconds)",
          "DZ possession (Seconds)",
          "DZ possession (Seconds)",
          "DZ possession (Seconds)",
          "DZ possession (Seconds)",
          "DZ possession (Seconds)",
          "DZ possession (Seconds)",
          "DZ possession (Seconds)",
          "DZ possession (Seconds)",
          "DZ possession (Seconds)",
          "DZ possession (Seconds)",
          "DZ possession (Seconds)",
          "DZ possession (Seconds)",
          "DZ possession (Seconds)",
          "DZ possession (Seconds)",
          "DZ possession (Seconds)",
          "DZ possession (Seconds)",
          "DZ possession (Seconds)",
          "DZ possession (Seconds)",
          "DZ possession (Seconds)"
         ],
         "x0": " ",
         "xaxis": "x",
         "y": {
          "bdata": "EQAYABoALgAuACkAOgAoABoAGAAkACIALAA0ABMADwAuABYAJQAOAA0AEQAfABQAEwAZAAoAEAAPAA0ACwAXAB0ADwAIABgACgASAKoAwQCBANEA6ADVAA0B1gC/ALAAogDSAOIAsgCyAN0AvACrALYAnwBwAF8AMgBfAFIAXQBQAHIAcgCFAEMAbwBLAFoA4wBoAHgAfAAUADUAIwATAAYAHAAWACkADQAeACMAEAAFABEAGwA3ABkAJwAJAAQACgACAA4AEwAKAAwABwAHAAgABwAKAAkABgAHAAMACAAGAAoAWgBrAFgAYABRAE8ASwBYAFUAUABiAF0AUQBaAF8AZgBXAE4AVwANAA4AFwAHABUAGgATABQAEAABABUAGQAFABMAAQAKABkADwAMABgAGQAOAAMAIgAZABQAIAADACwAAgAQAA0AFgAdAA0ADQAsAA0AHwAwABIANAA0ADgAJQAyACQAHwAKACQAOwAEADEACgAYACMADwA=",
          "dtype": "i2"
         },
         "y0": " ",
         "yaxis": "y"
        }
       ],
       "layout": {
        "legend": {
         "title": {
          "text": "Outcome"
         },
         "tracegroupgap": 0
        },
        "template": {
         "data": {
          "bar": [
           {
            "error_x": {
             "color": "#2a3f5f"
            },
            "error_y": {
             "color": "#2a3f5f"
            },
            "marker": {
             "line": {
              "color": "#E5ECF6",
              "width": 0.5
             },
             "pattern": {
              "fillmode": "overlay",
              "size": 10,
              "solidity": 0.2
             }
            },
            "type": "bar"
           }
          ],
          "barpolar": [
           {
            "marker": {
             "line": {
              "color": "#E5ECF6",
              "width": 0.5
             },
             "pattern": {
              "fillmode": "overlay",
              "size": 10,
              "solidity": 0.2
             }
            },
            "type": "barpolar"
           }
          ],
          "carpet": [
           {
            "aaxis": {
             "endlinecolor": "#2a3f5f",
             "gridcolor": "white",
             "linecolor": "white",
             "minorgridcolor": "white",
             "startlinecolor": "#2a3f5f"
            },
            "baxis": {
             "endlinecolor": "#2a3f5f",
             "gridcolor": "white",
             "linecolor": "white",
             "minorgridcolor": "white",
             "startlinecolor": "#2a3f5f"
            },
            "type": "carpet"
           }
          ],
          "choropleth": [
           {
            "colorbar": {
             "outlinewidth": 0,
             "ticks": ""
            },
            "type": "choropleth"
           }
          ],
          "contour": [
           {
            "colorbar": {
             "outlinewidth": 0,
             "ticks": ""
            },
            "colorscale": [
             [
              0,
              "#0d0887"
             ],
             [
              0.1111111111111111,
              "#46039f"
             ],
             [
              0.2222222222222222,
              "#7201a8"
             ],
             [
              0.3333333333333333,
              "#9c179e"
             ],
             [
              0.4444444444444444,
              "#bd3786"
             ],
             [
              0.5555555555555556,
              "#d8576b"
             ],
             [
              0.6666666666666666,
              "#ed7953"
             ],
             [
              0.7777777777777778,
              "#fb9f3a"
             ],
             [
              0.8888888888888888,
              "#fdca26"
             ],
             [
              1,
              "#f0f921"
             ]
            ],
            "type": "contour"
           }
          ],
          "contourcarpet": [
           {
            "colorbar": {
             "outlinewidth": 0,
             "ticks": ""
            },
            "type": "contourcarpet"
           }
          ],
          "heatmap": [
           {
            "colorbar": {
             "outlinewidth": 0,
             "ticks": ""
            },
            "colorscale": [
             [
              0,
              "#0d0887"
             ],
             [
              0.1111111111111111,
              "#46039f"
             ],
             [
              0.2222222222222222,
              "#7201a8"
             ],
             [
              0.3333333333333333,
              "#9c179e"
             ],
             [
              0.4444444444444444,
              "#bd3786"
             ],
             [
              0.5555555555555556,
              "#d8576b"
             ],
             [
              0.6666666666666666,
              "#ed7953"
             ],
             [
              0.7777777777777778,
              "#fb9f3a"
             ],
             [
              0.8888888888888888,
              "#fdca26"
             ],
             [
              1,
              "#f0f921"
             ]
            ],
            "type": "heatmap"
           }
          ],
          "histogram": [
           {
            "marker": {
             "pattern": {
              "fillmode": "overlay",
              "size": 10,
              "solidity": 0.2
             }
            },
            "type": "histogram"
           }
          ],
          "histogram2d": [
           {
            "colorbar": {
             "outlinewidth": 0,
             "ticks": ""
            },
            "colorscale": [
             [
              0,
              "#0d0887"
             ],
             [
              0.1111111111111111,
              "#46039f"
             ],
             [
              0.2222222222222222,
              "#7201a8"
             ],
             [
              0.3333333333333333,
              "#9c179e"
             ],
             [
              0.4444444444444444,
              "#bd3786"
             ],
             [
              0.5555555555555556,
              "#d8576b"
             ],
             [
              0.6666666666666666,
              "#ed7953"
             ],
             [
              0.7777777777777778,
              "#fb9f3a"
             ],
             [
              0.8888888888888888,
              "#fdca26"
             ],
             [
              1,
              "#f0f921"
             ]
            ],
            "type": "histogram2d"
           }
          ],
          "histogram2dcontour": [
           {
            "colorbar": {
             "outlinewidth": 0,
             "ticks": ""
            },
            "colorscale": [
             [
              0,
              "#0d0887"
             ],
             [
              0.1111111111111111,
              "#46039f"
             ],
             [
              0.2222222222222222,
              "#7201a8"
             ],
             [
              0.3333333333333333,
              "#9c179e"
             ],
             [
              0.4444444444444444,
              "#bd3786"
             ],
             [
              0.5555555555555556,
              "#d8576b"
             ],
             [
              0.6666666666666666,
              "#ed7953"
             ],
             [
              0.7777777777777778,
              "#fb9f3a"
             ],
             [
              0.8888888888888888,
              "#fdca26"
             ],
             [
              1,
              "#f0f921"
             ]
            ],
            "type": "histogram2dcontour"
           }
          ],
          "mesh3d": [
           {
            "colorbar": {
             "outlinewidth": 0,
             "ticks": ""
            },
            "type": "mesh3d"
           }
          ],
          "parcoords": [
           {
            "line": {
             "colorbar": {
              "outlinewidth": 0,
              "ticks": ""
             }
            },
            "type": "parcoords"
           }
          ],
          "pie": [
           {
            "automargin": true,
            "type": "pie"
           }
          ],
          "scatter": [
           {
            "fillpattern": {
             "fillmode": "overlay",
             "size": 10,
             "solidity": 0.2
            },
            "type": "scatter"
           }
          ],
          "scatter3d": [
           {
            "line": {
             "colorbar": {
              "outlinewidth": 0,
              "ticks": ""
             }
            },
            "marker": {
             "colorbar": {
              "outlinewidth": 0,
              "ticks": ""
             }
            },
            "type": "scatter3d"
           }
          ],
          "scattercarpet": [
           {
            "marker": {
             "colorbar": {
              "outlinewidth": 0,
              "ticks": ""
             }
            },
            "type": "scattercarpet"
           }
          ],
          "scattergeo": [
           {
            "marker": {
             "colorbar": {
              "outlinewidth": 0,
              "ticks": ""
             }
            },
            "type": "scattergeo"
           }
          ],
          "scattergl": [
           {
            "marker": {
             "colorbar": {
              "outlinewidth": 0,
              "ticks": ""
             }
            },
            "type": "scattergl"
           }
          ],
          "scattermap": [
           {
            "marker": {
             "colorbar": {
              "outlinewidth": 0,
              "ticks": ""
             }
            },
            "type": "scattermap"
           }
          ],
          "scattermapbox": [
           {
            "marker": {
             "colorbar": {
              "outlinewidth": 0,
              "ticks": ""
             }
            },
            "type": "scattermapbox"
           }
          ],
          "scatterpolar": [
           {
            "marker": {
             "colorbar": {
              "outlinewidth": 0,
              "ticks": ""
             }
            },
            "type": "scatterpolar"
           }
          ],
          "scatterpolargl": [
           {
            "marker": {
             "colorbar": {
              "outlinewidth": 0,
              "ticks": ""
             }
            },
            "type": "scatterpolargl"
           }
          ],
          "scatterternary": [
           {
            "marker": {
             "colorbar": {
              "outlinewidth": 0,
              "ticks": ""
             }
            },
            "type": "scatterternary"
           }
          ],
          "surface": [
           {
            "colorbar": {
             "outlinewidth": 0,
             "ticks": ""
            },
            "colorscale": [
             [
              0,
              "#0d0887"
             ],
             [
              0.1111111111111111,
              "#46039f"
             ],
             [
              0.2222222222222222,
              "#7201a8"
             ],
             [
              0.3333333333333333,
              "#9c179e"
             ],
             [
              0.4444444444444444,
              "#bd3786"
             ],
             [
              0.5555555555555556,
              "#d8576b"
             ],
             [
              0.6666666666666666,
              "#ed7953"
             ],
             [
              0.7777777777777778,
              "#fb9f3a"
             ],
             [
              0.8888888888888888,
              "#fdca26"
             ],
             [
              1,
              "#f0f921"
             ]
            ],
            "type": "surface"
           }
          ],
          "table": [
           {
            "cells": {
             "fill": {
              "color": "#EBF0F8"
             },
             "line": {
              "color": "white"
             }
            },
            "header": {
             "fill": {
              "color": "#C8D4E3"
             },
             "line": {
              "color": "white"
             }
            },
            "type": "table"
           }
          ]
         },
         "layout": {
          "annotationdefaults": {
           "arrowcolor": "#2a3f5f",
           "arrowhead": 0,
           "arrowwidth": 1
          },
          "autotypenumbers": "strict",
          "coloraxis": {
           "colorbar": {
            "outlinewidth": 0,
            "ticks": ""
           }
          },
          "colorscale": {
           "diverging": [
            [
             0,
             "#8e0152"
            ],
            [
             0.1,
             "#c51b7d"
            ],
            [
             0.2,
             "#de77ae"
            ],
            [
             0.3,
             "#f1b6da"
            ],
            [
             0.4,
             "#fde0ef"
            ],
            [
             0.5,
             "#f7f7f7"
            ],
            [
             0.6,
             "#e6f5d0"
            ],
            [
             0.7,
             "#b8e186"
            ],
            [
             0.8,
             "#7fbc41"
            ],
            [
             0.9,
             "#4d9221"
            ],
            [
             1,
             "#276419"
            ]
           ],
           "sequential": [
            [
             0,
             "#0d0887"
            ],
            [
             0.1111111111111111,
             "#46039f"
            ],
            [
             0.2222222222222222,
             "#7201a8"
            ],
            [
             0.3333333333333333,
             "#9c179e"
            ],
            [
             0.4444444444444444,
             "#bd3786"
            ],
            [
             0.5555555555555556,
             "#d8576b"
            ],
            [
             0.6666666666666666,
             "#ed7953"
            ],
            [
             0.7777777777777778,
             "#fb9f3a"
            ],
            [
             0.8888888888888888,
             "#fdca26"
            ],
            [
             1,
             "#f0f921"
            ]
           ],
           "sequentialminus": [
            [
             0,
             "#0d0887"
            ],
            [
             0.1111111111111111,
             "#46039f"
            ],
            [
             0.2222222222222222,
             "#7201a8"
            ],
            [
             0.3333333333333333,
             "#9c179e"
            ],
            [
             0.4444444444444444,
             "#bd3786"
            ],
            [
             0.5555555555555556,
             "#d8576b"
            ],
            [
             0.6666666666666666,
             "#ed7953"
            ],
            [
             0.7777777777777778,
             "#fb9f3a"
            ],
            [
             0.8888888888888888,
             "#fdca26"
            ],
            [
             1,
             "#f0f921"
            ]
           ]
          },
          "colorway": [
           "#636efa",
           "#EF553B",
           "#00cc96",
           "#ab63fa",
           "#FFA15A",
           "#19d3f3",
           "#FF6692",
           "#B6E880",
           "#FF97FF",
           "#FECB52"
          ],
          "font": {
           "color": "#2a3f5f"
          },
          "geo": {
           "bgcolor": "white",
           "lakecolor": "white",
           "landcolor": "#E5ECF6",
           "showlakes": true,
           "showland": true,
           "subunitcolor": "white"
          },
          "hoverlabel": {
           "align": "left"
          },
          "hovermode": "closest",
          "mapbox": {
           "style": "light"
          },
          "paper_bgcolor": "white",
          "plot_bgcolor": "#E5ECF6",
          "polar": {
           "angularaxis": {
            "gridcolor": "white",
            "linecolor": "white",
            "ticks": ""
           },
           "bgcolor": "#E5ECF6",
           "radialaxis": {
            "gridcolor": "white",
            "linecolor": "white",
            "ticks": ""
           }
          },
          "scene": {
           "xaxis": {
            "backgroundcolor": "#E5ECF6",
            "gridcolor": "white",
            "gridwidth": 2,
            "linecolor": "white",
            "showbackground": true,
            "ticks": "",
            "zerolinecolor": "white"
           },
           "yaxis": {
            "backgroundcolor": "#E5ECF6",
            "gridcolor": "white",
            "gridwidth": 2,
            "linecolor": "white",
            "showbackground": true,
            "ticks": "",
            "zerolinecolor": "white"
           },
           "zaxis": {
            "backgroundcolor": "#E5ECF6",
            "gridcolor": "white",
            "gridwidth": 2,
            "linecolor": "white",
            "showbackground": true,
            "ticks": "",
            "zerolinecolor": "white"
           }
          },
          "shapedefaults": {
           "line": {
            "color": "#2a3f5f"
           }
          },
          "ternary": {
           "aaxis": {
            "gridcolor": "white",
            "linecolor": "white",
            "ticks": ""
           },
           "baxis": {
            "gridcolor": "white",
            "linecolor": "white",
            "ticks": ""
           },
           "bgcolor": "#E5ECF6",
           "caxis": {
            "gridcolor": "white",
            "linecolor": "white",
            "ticks": ""
           }
          },
          "title": {
           "x": 0.05
          },
          "xaxis": {
           "automargin": true,
           "gridcolor": "white",
           "linecolor": "white",
           "ticks": "",
           "title": {
            "standoff": 15
           },
           "zerolinecolor": "white",
           "zerolinewidth": 2
          },
          "yaxis": {
           "automargin": true,
           "gridcolor": "white",
           "linecolor": "white",
           "ticks": "",
           "title": {
            "standoff": 15
           },
           "zerolinecolor": "white",
           "zerolinewidth": 2
          }
         }
        },
        "title": {
         "text": "Distribution of Top Features by Outcome"
        },
        "violinmode": "group",
        "xaxis": {
         "anchor": "y",
         "domain": [
          0,
          1
         ],
         "tickangle": 45,
         "title": {
          "text": "feature"
         }
        },
        "yaxis": {
         "anchor": "x",
         "domain": [
          0,
          1
         ],
         "title": {
          "text": "value"
         }
        }
       }
      }
     },
     "metadata": {},
     "output_type": "display_data"
    }
   ],
   "source": [
    "import plotly.express as px\n",
    "\n",
    "# 1) Bar chart of the top feature coefficients (signed)\n",
    "signed_coefs = coef_series[top_feats.index]\n",
    "coef_df = signed_coefs.reset_index()\n",
    "coef_df.columns = ['feature', 'coefficient']\n",
    "\n",
    "fig_coefs = px.bar(\n",
    "    coef_df,\n",
    "    x='feature',\n",
    "    y='coefficient',\n",
    "    title='Top 10 Feature Coefficients in Logistic Regression',\n",
    "    labels={'feature':'Feature', 'coefficient':'Coefficient'}\n",
    ")\n",
    "fig_coefs.update_layout(xaxis_tickangle=45)\n",
    "fig_coefs.show()\n",
    "\n",
    "# 2) Violin plots of each top feature by Outcome\n",
    "melt_df = data[top_feats.index.tolist() + ['Outcome']] \\\n",
    "    .melt(id_vars='Outcome', var_name='feature', value_name='value')\n",
    "\n",
    "fig_violin = px.violin(\n",
    "    melt_df,\n",
    "    x='feature',\n",
    "    y='value',\n",
    "    color='Outcome',\n",
    "    box=True,\n",
    "    points='all',\n",
    "    title='Distribution of Top Features by Outcome'\n",
    ")\n",
    "fig_violin.update_xaxes(tickangle=45)\n",
    "fig_violin.show()"
   ]
  },
  {
   "cell_type": "code",
   "execution_count": 29,
   "id": "9acb174f",
   "metadata": {},
   "outputs": [
    {
     "name": "stdout",
     "output_type": "stream",
     "text": [
      "Model saved to logistic_regression_model.joblib\n"
     ]
    }
   ],
   "source": [
    "import joblib\n",
    "\n",
    "# Save the trained logistic regression model to disk\n",
    "model_filename = 'logistic_regression_model.joblib'\n",
    "joblib.dump(model, model_filename)\n",
    "print(f\"Model saved to {model_filename}\")"
   ]
  },
  {
   "cell_type": "code",
   "execution_count": 30,
   "id": "00ed9880",
   "metadata": {},
   "outputs": [
    {
     "name": "stdout",
     "output_type": "stream",
     "text": [
      "Predicted outcome: Win\n",
      "Probability of win: 0.61\n"
     ]
    }
   ],
   "source": [
    "# Create a synthetic game with the same feature set as X\n",
    "# Start with zeros for all numeric features\n",
    "synthetic_game = pd.DataFrame(\n",
    "    np.zeros((1, X.shape[1])),\n",
    "    columns=X.columns\n",
    ")\n",
    "\n",
    "# Assign some example values to key features\n",
    "synthetic_game.loc[0, 'Shots'] = 45\n",
    "synthetic_game.loc[0, 'Shots on goal'] = 35\n",
    "synthetic_game.loc[0, 'Passes total'] = 300\n",
    "synthetic_game.loc[0, 'Puck battles in DZ'] = 75\n",
    "synthetic_game.loc[0, 'Offensive play (Seconds)'] = 40\n",
    "synthetic_game.loc[0, 'Scoring chances'] = 30\n",
    "synthetic_game.loc[0, 'Puck losses'] = 20\n",
    "synthetic_game.loc[0, 'Slapshot'] = 20\n",
    "synthetic_game.loc[0, 'OZ possession (Seconds)'] = 300\n",
    "synthetic_game.loc[0, 'DZ possession (Seconds)'] = 20\n",
    "\n",
    "# Predict outcome\n",
    "pred = model.predict(synthetic_game)[0]\n",
    "pred_proba = model.predict_proba(synthetic_game)[0, 1]\n",
    "\n",
    "print(f\"Predicted outcome: {'Win' if pred==1 else 'Loss'}\")\n",
    "print(f\"Probability of win: {pred_proba:.2f}\")"
   ]
  }
 ],
 "metadata": {
  "kernelspec": {
   "display_name": "venv",
   "language": "python",
   "name": "python3"
  },
  "language_info": {
   "codemirror_mode": {
    "name": "ipython",
    "version": 3
   },
   "file_extension": ".py",
   "mimetype": "text/x-python",
   "name": "python",
   "nbconvert_exporter": "python",
   "pygments_lexer": "ipython3",
   "version": "3.13.2"
  }
 },
 "nbformat": 4,
 "nbformat_minor": 5
}
