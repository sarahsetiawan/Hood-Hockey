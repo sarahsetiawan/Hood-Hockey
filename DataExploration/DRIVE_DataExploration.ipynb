{
 "cells": [
  {
   "cell_type": "markdown",
   "metadata": {},
   "source": [
    "# DRIVE DATA EXPLORATION"
   ]
  },
  {
   "cell_type": "code",
   "execution_count": 1,
   "metadata": {},
   "outputs": [],
   "source": [
    "import os\n",
    "import pandas as pd\n",
    "import json"
   ]
  },
  {
   "cell_type": "code",
   "execution_count": null,
   "metadata": {},
   "outputs": [],
   "source": [
    "json_file_path = '/Users/sarahsetiawan/Desktop/CSCAPSTONE/HOCKEYDATA/tracking_data/SC700002NCAHOPUN240930SK.json'\n",
    "\n",
    "if os.path.exists(json_file_path):\n",
    "    with open(json_file_path, 'r') as file:\n",
    "        data = json.load(file)\n",
    "        df = pd.DataFrame(data)\n",
    "        df.head()\n",
    "else:\n",
    "    print(f\"File not found: {json_file_path}\")"
   ]
  },
  {
   "cell_type": "code",
   "execution_count": 4,
   "metadata": {},
   "outputs": [
    {
     "name": "stdout",
     "output_type": "stream",
     "text": [
      "DataFrame has been successfully saved to /Users/sarahsetiawan/Desktop/CSCAPSTONE/HOCKEYDATA/tracking_data/output.xlsx\n"
     ]
    }
   ],
   "source": [
    "output_file_path = '/Users/sarahsetiawan/Desktop/CSCAPSTONE/HOCKEYDATA/tracking_data/output.xlsx'\n",
    "df.to_excel(output_file_path, index=False)\n",
    "print(f\"DataFrame has been successfully saved to {output_file_path}\")"
   ]
  },
  {
   "cell_type": "code",
   "execution_count": null,
   "metadata": {},
   "outputs": [
    {
     "data": {
      "text/plain": [
       "tagId                object\n",
       "timestamp             int64\n",
       "x                   float64\n",
       "y                   float64\n",
       "vx                  float64\n",
       "vy                  float64\n",
       "q                     int64\n",
       "superframe            int64\n",
       "speed               float64\n",
       "acceleration        float64\n",
       "ax                  float64\n",
       "ay                  float64\n",
       "totalDistance       float64\n",
       "displacement        float64\n",
       "playerId             object\n",
       "gameStatus           object\n",
       "skatingAngle        float64\n",
       "speedUp                bool\n",
       "zone                 object\n",
       "playingPosition      object\n",
       "speedDown_end          bool\n",
       "speedUp_start          bool\n",
       "team                 object\n",
       "gap                    bool\n",
       "curvature           float64\n",
       "radius_curvature    float64\n",
       "a_tot               float64\n",
       "a_centripetal       float64\n",
       "g_force             float64\n",
       "lean                float64\n",
       "skatingEdge          object\n",
       "g_force_avg         float64\n",
       "g_force_peak           bool\n",
       "deaccel                bool\n",
       "sustained_speed     float64\n",
       "anomaly               int64\n",
       "playerShift          object\n",
       "playerShiftNum        int64\n",
       "toi                 float64\n",
       "dtype: object"
      ]
     },
     "execution_count": 9,
     "metadata": {},
     "output_type": "execute_result"
    }
   ],
   "source": [
    "df.dtypes"
   ]
  },
  {
   "cell_type": "code",
   "execution_count": 3,
   "metadata": {},
   "outputs": [
    {
     "name": "stdout",
     "output_type": "stream",
     "text": [
      "DataFrame for /Users/sarahsetiawan/Desktop/CSCAPSTONE/HOCKEYDATA/tracking_data/SC700002NCAHOPUN240930SK.json:\n",
      "DataFrame for /Users/sarahsetiawan/Desktop/CSCAPSTONE/HOCKEYDATA/tracking_data/SC700003NCAHOPUN241002SK.json:\n",
      "DataFrame for /Users/sarahsetiawan/Desktop/CSCAPSTONE/HOCKEYDATA/tracking_data/SC700005NCAHOPUN241008SK.json:\n",
      "DataFrame for /Users/sarahsetiawan/Desktop/CSCAPSTONE/HOCKEYDATA/tracking_data/SC700006NCAHOCUN241008SK.json:\n",
      "DataFrame for /Users/sarahsetiawan/Desktop/CSCAPSTONE/HOCKEYDATA/tracking_data/SC700008NCAHOPUN241015SK.json:\n",
      "DataFrame for /Users/sarahsetiawan/Desktop/CSCAPSTONE/HOCKEYDATA/tracking_data/SC700009NCAHOPUN241022SK.json:\n",
      "DataFrame for /Users/sarahsetiawan/Desktop/CSCAPSTONE/HOCKEYDATA/tracking_data/SC700010NCAUSGHO241026MC.json:\n",
      "DataFrame for /Users/sarahsetiawan/Desktop/CSCAPSTONE/HOCKEYDATA/tracking_data/SC700011NCAHOPUN241204HA.json:\n"
     ]
    }
   ],
   "source": [
    "# Update the json_files list to include files from the tracking_data folder\n",
    "json_files = ['/Users/sarahsetiawan/Desktop/CSCAPSTONE/HOCKEYDATA/tracking_data/SC700002NCAHOPUN240930SK.json', \n",
    "              '/Users/sarahsetiawan/Desktop/CSCAPSTONE/HOCKEYDATA/tracking_data/SC700003NCAHOPUN241002SK.json', \n",
    "              '/Users/sarahsetiawan/Desktop/CSCAPSTONE/HOCKEYDATA/tracking_data/SC700005NCAHOPUN241008SK.json', \n",
    "              '/Users/sarahsetiawan/Desktop/CSCAPSTONE/HOCKEYDATA/tracking_data/SC700006NCAHOCUN241008SK.json',\n",
    "              '/Users/sarahsetiawan/Desktop/CSCAPSTONE/HOCKEYDATA/tracking_data/SC700008NCAHOPUN241015SK.json',\n",
    "              '/Users/sarahsetiawan/Desktop/CSCAPSTONE/HOCKEYDATA/tracking_data/SC700009NCAHOPUN241022SK.json',\n",
    "              '/Users/sarahsetiawan/Desktop/CSCAPSTONE/HOCKEYDATA/tracking_data/SC700010NCAUSGHO241026MC.json',\n",
    "              '/Users/sarahsetiawan/Desktop/CSCAPSTONE/HOCKEYDATA/tracking_data/SC700011NCAHOPUN241204HA.json']\n",
    "\n",
    "# Create a dictionary to store DataFrames\n",
    "dataframes = {}\n",
    "\n",
    "# Read each JSON file and create a DataFrame\n",
    "for json_file in json_files:\n",
    "    if os.path.exists(json_file):\n",
    "        with open(json_file, 'r') as file:\n",
    "            data = json.load(file)\n",
    "            drive = pd.DataFrame(data)\n",
    "            dataframes[json_file] = df\n",
    "    else:\n",
    "        print(f\"File not found: {json_file}\")\n",
    "\n",
    "# Print the DataFrames\n",
    "for file_name, drive in dataframes.items():\n",
    "    print(f\"DataFrame for {file_name}:\")\n",
    "    drive.head()"
   ]
  },
  {
   "cell_type": "code",
   "execution_count": 4,
   "metadata": {},
   "outputs": [
    {
     "data": {
      "text/html": [
       "<div>\n",
       "<style scoped>\n",
       "    .dataframe tbody tr th:only-of-type {\n",
       "        vertical-align: middle;\n",
       "    }\n",
       "\n",
       "    .dataframe tbody tr th {\n",
       "        vertical-align: top;\n",
       "    }\n",
       "\n",
       "    .dataframe thead th {\n",
       "        text-align: right;\n",
       "    }\n",
       "</style>\n",
       "<table border=\"1\" class=\"dataframe\">\n",
       "  <thead>\n",
       "    <tr style=\"text-align: right;\">\n",
       "      <th></th>\n",
       "      <th>tagId</th>\n",
       "      <th>timestamp</th>\n",
       "      <th>x</th>\n",
       "      <th>y</th>\n",
       "      <th>vx</th>\n",
       "      <th>vy</th>\n",
       "      <th>q</th>\n",
       "      <th>superframe</th>\n",
       "      <th>speed</th>\n",
       "      <th>acceleration</th>\n",
       "      <th>...</th>\n",
       "      <th>lean</th>\n",
       "      <th>skatingEdge</th>\n",
       "      <th>g_force_avg</th>\n",
       "      <th>g_force_peak</th>\n",
       "      <th>deaccel</th>\n",
       "      <th>sustained_speed</th>\n",
       "      <th>anomaly</th>\n",
       "      <th>playerShift</th>\n",
       "      <th>playerShiftNum</th>\n",
       "      <th>toi</th>\n",
       "    </tr>\n",
       "  </thead>\n",
       "  <tbody>\n",
       "    <tr>\n",
       "      <th>0</th>\n",
       "      <td>0012</td>\n",
       "      <td>1733317525800</td>\n",
       "      <td>19.658475</td>\n",
       "      <td>-0.447094</td>\n",
       "      <td>0.134737</td>\n",
       "      <td>0.747618</td>\n",
       "      <td>0</td>\n",
       "      <td>0</td>\n",
       "      <td>0.759662</td>\n",
       "      <td>0.085458</td>\n",
       "      <td>...</td>\n",
       "      <td>1.564215</td>\n",
       "      <td>linear</td>\n",
       "      <td>1.011</td>\n",
       "      <td>True</td>\n",
       "      <td>False</td>\n",
       "      <td>0.759662</td>\n",
       "      <td>1</td>\n",
       "      <td>entered</td>\n",
       "      <td>0</td>\n",
       "      <td>0.1</td>\n",
       "    </tr>\n",
       "    <tr>\n",
       "      <th>1</th>\n",
       "      <td>0012</td>\n",
       "      <td>1733317525900</td>\n",
       "      <td>19.672316</td>\n",
       "      <td>-0.372115</td>\n",
       "      <td>0.142086</td>\n",
       "      <td>0.751957</td>\n",
       "      <td>0</td>\n",
       "      <td>0</td>\n",
       "      <td>0.765263</td>\n",
       "      <td>0.085341</td>\n",
       "      <td>...</td>\n",
       "      <td>1.564257</td>\n",
       "      <td>linear</td>\n",
       "      <td>1.011</td>\n",
       "      <td>False</td>\n",
       "      <td>False</td>\n",
       "      <td>0.759662</td>\n",
       "      <td>1</td>\n",
       "      <td>entered</td>\n",
       "      <td>0</td>\n",
       "      <td>0.2</td>\n",
       "    </tr>\n",
       "    <tr>\n",
       "      <th>2</th>\n",
       "      <td>0012</td>\n",
       "      <td>1733317526000</td>\n",
       "      <td>19.686892</td>\n",
       "      <td>-0.296705</td>\n",
       "      <td>0.149430</td>\n",
       "      <td>0.756244</td>\n",
       "      <td>0</td>\n",
       "      <td>0</td>\n",
       "      <td>0.770866</td>\n",
       "      <td>0.085042</td>\n",
       "      <td>...</td>\n",
       "      <td>1.564299</td>\n",
       "      <td>linear</td>\n",
       "      <td>1.011</td>\n",
       "      <td>False</td>\n",
       "      <td>False</td>\n",
       "      <td>0.759662</td>\n",
       "      <td>1</td>\n",
       "      <td>entered</td>\n",
       "      <td>0</td>\n",
       "      <td>0.3</td>\n",
       "    </tr>\n",
       "    <tr>\n",
       "      <th>3</th>\n",
       "      <td>0012</td>\n",
       "      <td>1733317526100</td>\n",
       "      <td>19.702201</td>\n",
       "      <td>-0.220870</td>\n",
       "      <td>0.156761</td>\n",
       "      <td>0.760450</td>\n",
       "      <td>0</td>\n",
       "      <td>0</td>\n",
       "      <td>0.776440</td>\n",
       "      <td>0.084514</td>\n",
       "      <td>...</td>\n",
       "      <td>1.564343</td>\n",
       "      <td>linear</td>\n",
       "      <td>1.011</td>\n",
       "      <td>False</td>\n",
       "      <td>False</td>\n",
       "      <td>0.759662</td>\n",
       "      <td>1</td>\n",
       "      <td>entered</td>\n",
       "      <td>0</td>\n",
       "      <td>0.4</td>\n",
       "    </tr>\n",
       "    <tr>\n",
       "      <th>4</th>\n",
       "      <td>0012</td>\n",
       "      <td>1733317526200</td>\n",
       "      <td>19.718243</td>\n",
       "      <td>-0.144621</td>\n",
       "      <td>0.164067</td>\n",
       "      <td>0.764536</td>\n",
       "      <td>0</td>\n",
       "      <td>0</td>\n",
       "      <td>0.781942</td>\n",
       "      <td>0.083709</td>\n",
       "      <td>...</td>\n",
       "      <td>1.564388</td>\n",
       "      <td>linear</td>\n",
       "      <td>1.011</td>\n",
       "      <td>False</td>\n",
       "      <td>False</td>\n",
       "      <td>0.759662</td>\n",
       "      <td>1</td>\n",
       "      <td>entered</td>\n",
       "      <td>0</td>\n",
       "      <td>0.5</td>\n",
       "    </tr>\n",
       "  </tbody>\n",
       "</table>\n",
       "<p>5 rows × 39 columns</p>\n",
       "</div>"
      ],
      "text/plain": [
       "  tagId      timestamp          x         y        vx        vy  q  \\\n",
       "0  0012  1733317525800  19.658475 -0.447094  0.134737  0.747618  0   \n",
       "1  0012  1733317525900  19.672316 -0.372115  0.142086  0.751957  0   \n",
       "2  0012  1733317526000  19.686892 -0.296705  0.149430  0.756244  0   \n",
       "3  0012  1733317526100  19.702201 -0.220870  0.156761  0.760450  0   \n",
       "4  0012  1733317526200  19.718243 -0.144621  0.164067  0.764536  0   \n",
       "\n",
       "   superframe     speed  acceleration  ...      lean  skatingEdge  \\\n",
       "0           0  0.759662      0.085458  ...  1.564215       linear   \n",
       "1           0  0.765263      0.085341  ...  1.564257       linear   \n",
       "2           0  0.770866      0.085042  ...  1.564299       linear   \n",
       "3           0  0.776440      0.084514  ...  1.564343       linear   \n",
       "4           0  0.781942      0.083709  ...  1.564388       linear   \n",
       "\n",
       "   g_force_avg  g_force_peak deaccel sustained_speed  anomaly  playerShift  \\\n",
       "0        1.011          True   False        0.759662        1      entered   \n",
       "1        1.011         False   False        0.759662        1      entered   \n",
       "2        1.011         False   False        0.759662        1      entered   \n",
       "3        1.011         False   False        0.759662        1      entered   \n",
       "4        1.011         False   False        0.759662        1      entered   \n",
       "\n",
       "  playerShiftNum  toi  \n",
       "0              0  0.1  \n",
       "1              0  0.2  \n",
       "2              0  0.3  \n",
       "3              0  0.4  \n",
       "4              0  0.5  \n",
       "\n",
       "[5 rows x 39 columns]"
      ]
     },
     "execution_count": 4,
     "metadata": {},
     "output_type": "execute_result"
    }
   ],
   "source": [
    "drive.head()"
   ]
  },
  {
   "cell_type": "code",
   "execution_count": 5,
   "metadata": {},
   "outputs": [
    {
     "name": "stderr",
     "output_type": "stream",
     "text": [
      "/Users/sarahsetiawan/anaconda3/envs/working/lib/python3.11/site-packages/tqdm/auto.py:21: TqdmWarning: IProgress not found. Please update jupyter and ipywidgets. See https://ipywidgets.readthedocs.io/en/stable/user_install.html\n",
      "  from .autonotebook import tqdm as notebook_tqdm\n"
     ]
    }
   ],
   "source": [
    "from ydata_profiling import ProfileReport"
   ]
  },
  {
   "cell_type": "code",
   "execution_count": 6,
   "metadata": {},
   "outputs": [
    {
     "name": "stderr",
     "output_type": "stream",
     "text": [
      "Summarize dataset: 100%|██████████| 625/625 [05:59<00:00,  1.74it/s, Completed]                                 \n",
      "Generate report structure: 100%|██████████| 1/1 [00:03<00:00,  3.39s/it]\n",
      "Render HTML: 100%|██████████| 1/1 [00:06<00:00,  6.05s/it]\n",
      "Export report to file: 100%|██████████| 1/1 [00:00<00:00, 35.16it/s]\n"
     ]
    }
   ],
   "source": [
    "# Generate the profile report for df\n",
    "profile = ProfileReport(drive, title=\"DRIVE Data\", explorative=True)\n",
    "\n",
    "profile.to_file('DRIVE.html')"
   ]
  }
 ],
 "metadata": {
  "kernelspec": {
   "display_name": "working",
   "language": "python",
   "name": "python3"
  },
  "language_info": {
   "codemirror_mode": {
    "name": "ipython",
    "version": 3
   },
   "file_extension": ".py",
   "mimetype": "text/x-python",
   "name": "python",
   "nbconvert_exporter": "python",
   "pygments_lexer": "ipython3",
   "version": "3.11.11"
  }
 },
 "nbformat": 4,
 "nbformat_minor": 2
}
