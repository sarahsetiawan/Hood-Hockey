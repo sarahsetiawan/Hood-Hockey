{
 "cells": [
  {
   "cell_type": "code",
   "execution_count": null,
   "metadata": {},
   "outputs": [],
   "source": [
    "# Define a function to rank lines based on a specific column\n",
    "def rank_lines(df, situation, column, ascending=False):\n",
    "    # Filter the dataframe for the specific situation\n",
    "    filtered_df = df[df['Type'] == situation]\n",
    "    # Rank the lines based on the specified column\n",
    "    ranked_df = filtered_df.sort_values(by=column, ascending=ascending)\n",
    "    return ranked_df\n",
    "\n",
    "# Rank lines for Even Strength (EV)\n",
    "ranked_lines_ev = rank_lines(lines_df, 'EV', 'CORSI+')\n",
    "print(\"Top 5 Even Strength Lines based on CORSI+:\\n\", ranked_lines_ev.head())\n",
    "\n",
    "# Rank lines for Power Play (PP)\n",
    "ranked_lines_pp = rank_lines(lines_df, 'PP', 'Goals')\n",
    "print(\"\\nTop 5 Power Play Lines based on Goals:\\n\", ranked_lines_pp.head())\n",
    "\n",
    "# Rank lines for Penalty Kill (PK)\n",
    "ranked_lines_pk = rank_lines(lines_df, 'PK', 'Shots on goal against', ascending=True)\n",
    "print(\"\\nTop 5 Penalty Kill Lines based on least Shots on goal against:\\n\", ranked_lines_pk.head())\n",
    "\n",
    "# Rank defensemen lines\n",
    "ranked_lines_d = rank_lines(lines_df, 'D', 'CORSI+')\n",
    "print(\"\\nTop 5 Defensemen Lines based on CORSI+:\\n\", ranked_lines_d.head())\n",
    "\n",
    "# Rank forwards lines\n",
    "ranked_lines_f = rank_lines(lines_df, 'F', 'CORSI+')\n",
    "print(\"\\nTop 5 Forwards Lines based on CORSI+:\\n\", ranked_lines_f.head())\n",
    "\n",
    "# Rank Basic Lines\n",
    "ranked_lines_basic = rank_lines(lines_df, 'Basic', 'CORSI+')\n",
    "print(\"\\nTop 5 Basic Lines based on CORSI+:\\n\", ranked_lines_basic.head())"
   ]
  }
 ],
 "metadata": {
  "language_info": {
   "name": "python"
  }
 },
 "nbformat": 4,
 "nbformat_minor": 2
}
