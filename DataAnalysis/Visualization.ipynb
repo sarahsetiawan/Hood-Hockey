{
 "cells": [
  {
   "cell_type": "markdown",
   "metadata": {},
   "source": [
    "# Drive and Instat Visualization"
   ]
  },
  {
   "cell_type": "code",
   "execution_count": 3,
   "metadata": {},
   "outputs": [
    {
     "ename": "ModuleNotFoundError",
     "evalue": "No module named 'matplotlib'",
     "output_type": "error",
     "traceback": [
      "\u001b[31m---------------------------------------------------------------------------\u001b[39m",
      "\u001b[31mModuleNotFoundError\u001b[39m                       Traceback (most recent call last)",
      "\u001b[36mCell\u001b[39m\u001b[36m \u001b[39m\u001b[32mIn[3]\u001b[39m\u001b[32m, line 4\u001b[39m\n\u001b[32m      2\u001b[39m \u001b[38;5;28;01mimport\u001b[39;00m\u001b[38;5;250m \u001b[39m\u001b[34;01mpandas\u001b[39;00m\u001b[38;5;250m \u001b[39m\u001b[38;5;28;01mas\u001b[39;00m\u001b[38;5;250m \u001b[39m\u001b[34;01mpd\u001b[39;00m\n\u001b[32m      3\u001b[39m \u001b[38;5;28;01mimport\u001b[39;00m\u001b[38;5;250m \u001b[39m\u001b[34;01mjson\u001b[39;00m\n\u001b[32m----> \u001b[39m\u001b[32m4\u001b[39m \u001b[38;5;28;01mimport\u001b[39;00m\u001b[38;5;250m \u001b[39m\u001b[34;01mmatplotlib\u001b[39;00m\u001b[34;01m.\u001b[39;00m\u001b[34;01mpyplot\u001b[39;00m\u001b[38;5;250m \u001b[39m\u001b[38;5;28;01mas\u001b[39;00m\u001b[38;5;250m \u001b[39m\u001b[34;01mplt\u001b[39;00m\n\u001b[32m      5\u001b[39m \u001b[38;5;28;01mimport\u001b[39;00m\u001b[38;5;250m \u001b[39m\u001b[34;01mseaborn\u001b[39;00m\u001b[38;5;250m \u001b[39m\u001b[38;5;28;01mas\u001b[39;00m\u001b[38;5;250m \u001b[39m\u001b[34;01msns\u001b[39;00m\n",
      "\u001b[31mModuleNotFoundError\u001b[39m: No module named 'matplotlib'"
     ]
    }
   ],
   "source": [
    "import os\n",
    "import pandas as pd\n",
    "import json\n",
    "import matplotlib.pyplot as plt\n",
    "import seaborn as sns"
   ]
  },
  {
   "cell_type": "code",
   "execution_count": null,
   "metadata": {},
   "outputs": [],
   "source": [
    "json_files = ['../../data/drive/SC700002NCAHOPUN240930SK.json',\n",
    "              '../../data/drive/SC700003NCAHOPUN241002SK.json',\n",
    "              '../../data/drive/SC700005NCAHOPUN241008SK.json',\n",
    "              '../../data/drive/SC700006NCAHOCUN241008SK.json',\n",
    "              '../../data/drive/SC700008NCAHOPUN241015SK.json',\n",
    "              '../../data/drive/SC700009NCAHOPUN241022SK.json',\n",
    "              '../../data/drive/SC700010NCAUSGHO241026MC.json',\n",
    "              '../../data/drive/SC700011NCAHOPUN241204HA.json']\n",
    "\n",
    "# Create a dictionary to store DataFrames\n",
    "dataframes = {}\n",
    "\n",
    "# Read each JSON file and create a DataFrame\n",
    "for json_file in json_files:\n",
    "    if os.path.exists(json_file):\n",
    "        with open(json_file, 'r') as file:\n",
    "            data = json.load(file)\n",
    "            df = pd.DataFrame(data)\n",
    "           # dataframes[json_file] = drive\n",
    "    else:\n",
    "        print(f\"File not found: {json_file}\")\n",
    "\n",
    "# Print the DataFrames\n",
    "for file_name, drive in dataframes.items():\n",
    "    print(f\"DataFrame for {file_name}:\")\n",
    "    df.head()"
   ]
  },
  {
   "cell_type": "code",
   "execution_count": null,
   "metadata": {},
   "outputs": [],
   "source": [
    "# Examine Data Structure\n",
    "print(df.info())\n",
    "print(f\"Number of rows: {df.shape[0]}, Number of columns: {df.shape[1]}\")\n",
    "\n",
    "# Identify Missing Values\n",
    "print(\"\\nMissing Values per Column:\\n\", df.isnull().sum())\n",
    "\n",
    "# Check for Inconsistencies and Outliers (Descriptive Statistics and Visualization)\n",
    "performance_metrics = ['goals', 'assists', 'shots', 'ice time', 'speed', 'acceleration']\n",
    "# Filter for numerical columns in performance_metrics and check if they exist in dataframe\n",
    "numerical_performance_metrics = [col for col in performance_metrics if col in df.columns and pd.api.types.is_numeric_dtype(df[col])]\n",
    "\n",
    "if numerical_performance_metrics:\n",
    "    print(\"\\nDescriptive Statistics for Performance Metrics:\\n\", df[numerical_performance_metrics].describe())\n",
    "    import matplotlib.pyplot as plt\n",
    "    df[numerical_performance_metrics].hist(figsize=(10, 6), bins=30)\n",
    "    plt.tight_layout()\n",
    "    plt.show()\n",
    "    df.boxplot(column=numerical_performance_metrics, figsize=(10, 6))\n",
    "    plt.tight_layout()\n",
    "    plt.show()\n",
    "else:\n",
    "    print(\"\\nNo numerical performance metrics found or all the performance metrics are not numerical.\")\n",
    "\n",
    "\n",
    "# Data Type Analysis\n",
    "print(\"\\nData Types:\\n\", df.dtypes)"
   ]
  },
  {
   "cell_type": "code",
   "execution_count": null,
   "metadata": {},
   "outputs": [],
   "source": [
    "# Impute missing 'sustained_speed' with the median\n",
    "if 'sustained_speed' in df.columns:\n",
    "    df['sustained_speed'].fillna(0, inplace=True)\n",
    "\n",
    "# Address inconsistencies: Remove rows with non-numeric values in 'speed' and 'acceleration'\n",
    "for col in ['speed', 'acceleration']:\n",
    "    if col in df.columns:\n",
    "        df = df[pd.to_numeric(df[col], errors='coerce').notnull()]\n",
    "        df[col] = pd.to_numeric(df[col])\n",
    "\n",
    "# Remove duplicates\n",
    "df.drop_duplicates(inplace=True)\n",
    "\n",
    "# Handle outliers using IQR for 'speed' and 'acceleration'\n",
    "for col in ['speed', 'acceleration']:\n",
    "    if col in df.columns:\n",
    "        Q1 = df[col].quantile(0.25)\n",
    "        Q3 = df[col].quantile(0.75)\n",
    "        IQR = Q3 - Q1\n",
    "        lower_bound = Q1 - 1.5 * IQR\n",
    "        upper_bound = Q3 + 1.5 * IQR\n",
    "        df = df[(df[col] >= lower_bound) & (df[col] <= upper_bound)]\n",
    "\n",
    "display(df.head())\n",
    "display(df.info())"
   ]
  },
  {
   "cell_type": "code",
   "execution_count": null,
   "metadata": {},
   "outputs": [],
   "source": [
    "# Check data types\n",
    "print(df.dtypes)\n",
    "\n",
    "# Convert columns to numerical types, handling errors\n",
    "columns_to_convert = ['speed', 'acceleration', 'ax', 'ay', 'totalDistance', 'displacement', 'skatingAngle', 'speedUp', 'endurance', 'endurance_on', 'speedDown_end', 'speedUp_start', 'gap', 'curvature', 'radius_curvature', 'a_tot', 'a_centripetal', 'g_force', 'g_force_avg', 'g_force_peak', 'sustained_speed', 'toi', 'playerShiftNum']\n",
    "for col in columns_to_convert:\n",
    "    if col in df.columns:\n",
    "        df[col] = pd.to_numeric(df[col], errors='coerce')\n",
    "\n",
    "# Print info to confirm data types\n",
    "print(df.info())"
   ]
  }
 ],
 "metadata": {
  "kernelspec": {
   "display_name": "venv",
   "language": "python",
   "name": "python3"
  },
  "language_info": {
   "codemirror_mode": {
    "name": "ipython",
    "version": 3
   },
   "file_extension": ".py",
   "mimetype": "text/x-python",
   "name": "python",
   "nbconvert_exporter": "python",
   "pygments_lexer": "ipython3",
   "version": "3.13.2"
  }
 },
 "nbformat": 4,
 "nbformat_minor": 2
}
